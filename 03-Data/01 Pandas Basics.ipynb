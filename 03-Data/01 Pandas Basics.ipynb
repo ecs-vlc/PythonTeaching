{
 "cells": [
  {
   "cell_type": "markdown",
   "metadata": {},
   "source": [
    "# 1. Introduction\n",
    "\n",
    "Welcome to the 2nd part of this course - now that (presumably) you have a solid grasp of the principles surrounding Numerical computing in NumPy, we will move on to data management in Python. The most common way to do this is in **tabular** format (i.e in a table) with relational databases. The most commonly used powerful library which provides in-memory database-like data handling is **Pandas**. Pandas is well suited for:\n",
    "\n",
    "* **Tabular** data with heterogeneously-typed columns, such as in an SQL database or Excel spreadsheet.\n",
    "* Ordered and unordered **time-series** data.\n",
    "* Arbitrary **matrix** data with row and column labels.\n",
    "\n",
    "Some of the interesting features include:\n",
    "\n",
    "* Handling missing data fluently\n",
    "* Size mutability\n",
    "* Easy-to-use *data alignment*\n",
    "* Label-based *slicing*, *fancy indexing* and *subsetting*\n",
    "* Intuitive *merging* and *joining* of datasets by label\n",
    "* Hierarchical labelling of axes\n",
    "* Decent IO tools for importing from an array of different formats\n",
    "* Flexible reshaping and *pivoting* of tables"
   ]
  },
  {
   "cell_type": "code",
   "execution_count": 1,
   "metadata": {},
   "outputs": [],
   "source": [
    "import pandas as pd"
   ]
  },
  {
   "cell_type": "markdown",
   "metadata": {},
   "source": [
    "**Pandas** is broken down into two primary classes:\n",
    "\n",
    "1. **Series**: think of this as an any-type (templated) unordered array with an index. A generalized *numpy array*.\n",
    "2. **DataFrame**: think of this as a 2-D heterogeneous table with a *Series* for each column.\n",
    "\n",
    "## Series"
   ]
  },
  {
   "cell_type": "code",
   "execution_count": 2,
   "metadata": {},
   "outputs": [
    {
     "data": {
      "text/plain": [
       "0     644\n",
       "1    1276\n",
       "2    3554\n",
       "3     154\n",
       "dtype: int64"
      ]
     },
     "execution_count": 2,
     "metadata": {},
     "output_type": "execute_result"
    }
   ],
   "source": [
    "counts = pd.Series([644, 1276, 3554, 154])\n",
    "counts"
   ]
  },
  {
   "cell_type": "markdown",
   "metadata": {},
   "source": [
    "If we don't specify an index, a default sequence of integers (from `np.arange()`) is assigned as the index. A numpy array comprises the values of the *Series*, which the index is another *Pandas* object: "
   ]
  },
  {
   "cell_type": "code",
   "execution_count": 3,
   "metadata": {},
   "outputs": [
    {
     "data": {
      "text/plain": [
       "array([ 644, 1276, 3554,  154])"
      ]
     },
     "execution_count": 3,
     "metadata": {},
     "output_type": "execute_result"
    }
   ],
   "source": [
    "counts.values"
   ]
  },
  {
   "cell_type": "code",
   "execution_count": 4,
   "metadata": {},
   "outputs": [
    {
     "data": {
      "text/plain": [
       "RangeIndex(start=0, stop=4, step=1)"
      ]
     },
     "execution_count": 4,
     "metadata": {},
     "output_type": "execute_result"
    }
   ],
   "source": [
    "counts.index"
   ]
  },
  {
   "cell_type": "markdown",
   "metadata": {},
   "source": [
    "We can assign meaningful labels to the series, as:"
   ]
  },
  {
   "cell_type": "code",
   "execution_count": 5,
   "metadata": {},
   "outputs": [
    {
     "data": {
      "text/plain": [
       "Oranges      644\n",
       "Apples      1276\n",
       "Melons      3554\n",
       "Pumpkins     154\n",
       "dtype: int64"
      ]
     },
     "execution_count": 5,
     "metadata": {},
     "output_type": "execute_result"
    }
   ],
   "source": [
    "foods = pd.Series([644, 1276, 3554, 154], index=['Oranges', 'Apples', 'Melons', 'Pumpkins'])\n",
    "foods"
   ]
  },
  {
   "cell_type": "markdown",
   "metadata": {},
   "source": [
    "A useful way to think of a *Series* is to use **key-value** pairs, i.e input using a dictionary:"
   ]
  },
  {
   "cell_type": "code",
   "execution_count": 6,
   "metadata": {},
   "outputs": [
    {
     "data": {
      "text/plain": [
       "Apples      1276\n",
       "Melons      3554\n",
       "Oranges      644\n",
       "Pumpkins     154\n",
       "dtype: int64"
      ]
     },
     "execution_count": 6,
     "metadata": {},
     "output_type": "execute_result"
    }
   ],
   "source": [
    "food_d = {\n",
    "    'Oranges': 644,\n",
    "    'Apples': 1276,\n",
    "    'Melons': 3554,\n",
    "    'Pumpkins': 154\n",
    "}\n",
    "\n",
    "pd.Series(food_d)"
   ]
  },
  {
   "cell_type": "markdown",
   "metadata": {},
   "source": [
    "This can also be achieved via separate lists:"
   ]
  },
  {
   "cell_type": "code",
   "execution_count": 7,
   "metadata": {},
   "outputs": [
    {
     "data": {
      "text/plain": [
       "Apples      1276\n",
       "Melons      3554\n",
       "Oranges      644\n",
       "Pumpkins     154\n",
       "dtype: int64"
      ]
     },
     "execution_count": 7,
     "metadata": {},
     "output_type": "execute_result"
    }
   ],
   "source": [
    "labels = ['Oranges', 'Apples', 'Melons', 'Pumpkins']\n",
    "counts = [644, 1276, 3554, 154]\n",
    "pd.Series(dict(zip(labels,counts)))"
   ]
  },
  {
   "cell_type": "markdown",
   "metadata": {},
   "source": [
    "## DataFrame\n",
    "\n",
    "One of the really nice aspects about Dataframes, particularly in Jupyter notebook, is the automatic HTML/Javascript generated when visualizing tables:"
   ]
  },
  {
   "cell_type": "code",
   "execution_count": 8,
   "metadata": {},
   "outputs": [
    {
     "data": {
      "text/html": [
       "<div>\n",
       "<style scoped>\n",
       "    .dataframe tbody tr th:only-of-type {\n",
       "        vertical-align: middle;\n",
       "    }\n",
       "\n",
       "    .dataframe tbody tr th {\n",
       "        vertical-align: top;\n",
       "    }\n",
       "\n",
       "    .dataframe thead th {\n",
       "        text-align: right;\n",
       "    }\n",
       "</style>\n",
       "<table border=\"1\" class=\"dataframe\">\n",
       "  <thead>\n",
       "    <tr style=\"text-align: right;\">\n",
       "      <th></th>\n",
       "      <th>patient</th>\n",
       "      <th>phylum</th>\n",
       "      <th>value</th>\n",
       "    </tr>\n",
       "  </thead>\n",
       "  <tbody>\n",
       "    <tr>\n",
       "      <th>0</th>\n",
       "      <td>1</td>\n",
       "      <td>Firmicutes</td>\n",
       "      <td>632</td>\n",
       "    </tr>\n",
       "    <tr>\n",
       "      <th>1</th>\n",
       "      <td>1</td>\n",
       "      <td>Proteobacteria</td>\n",
       "      <td>1638</td>\n",
       "    </tr>\n",
       "    <tr>\n",
       "      <th>2</th>\n",
       "      <td>1</td>\n",
       "      <td>Actinobacteria</td>\n",
       "      <td>569</td>\n",
       "    </tr>\n",
       "    <tr>\n",
       "      <th>3</th>\n",
       "      <td>1</td>\n",
       "      <td>Bacteroidetes</td>\n",
       "      <td>115</td>\n",
       "    </tr>\n",
       "    <tr>\n",
       "      <th>4</th>\n",
       "      <td>2</td>\n",
       "      <td>Firmicutes</td>\n",
       "      <td>433</td>\n",
       "    </tr>\n",
       "    <tr>\n",
       "      <th>5</th>\n",
       "      <td>2</td>\n",
       "      <td>Proteobacteria</td>\n",
       "      <td>1130</td>\n",
       "    </tr>\n",
       "    <tr>\n",
       "      <th>6</th>\n",
       "      <td>2</td>\n",
       "      <td>Actinobacteria</td>\n",
       "      <td>754</td>\n",
       "    </tr>\n",
       "    <tr>\n",
       "      <th>7</th>\n",
       "      <td>2</td>\n",
       "      <td>Bacteroidetes</td>\n",
       "      <td>555</td>\n",
       "    </tr>\n",
       "  </tbody>\n",
       "</table>\n",
       "</div>"
      ],
      "text/plain": [
       "   patient          phylum  value\n",
       "0        1      Firmicutes    632\n",
       "1        1  Proteobacteria   1638\n",
       "2        1  Actinobacteria    569\n",
       "3        1   Bacteroidetes    115\n",
       "4        2      Firmicutes    433\n",
       "5        2  Proteobacteria   1130\n",
       "6        2  Actinobacteria    754\n",
       "7        2   Bacteroidetes    555"
      ]
     },
     "execution_count": 8,
     "metadata": {},
     "output_type": "execute_result"
    }
   ],
   "source": [
    "data = pd.DataFrame({'value': [632, 1638, 569, 115, 433, 1130, 754, 555],\n",
    "                     'patient': [1, 1, 1, 1, 2, 2, 2, 2],\n",
    "                     'phylum': ['Firmicutes', 'Proteobacteria', 'Actinobacteria', \n",
    "                                'Bacteroidetes', 'Firmicutes', 'Proteobacteria',\n",
    "                                'Actinobacteria', 'Bacteroidetes']})\n",
    "data"
   ]
  },
  {
   "cell_type": "markdown",
   "metadata": {},
   "source": [
    "For most datasets it is impractical to display all the values, there are methods to only view the first $n$ rows: head by default only views the first 5 rows."
   ]
  },
  {
   "cell_type": "code",
   "execution_count": 9,
   "metadata": {},
   "outputs": [
    {
     "data": {
      "text/html": [
       "<div>\n",
       "<style scoped>\n",
       "    .dataframe tbody tr th:only-of-type {\n",
       "        vertical-align: middle;\n",
       "    }\n",
       "\n",
       "    .dataframe tbody tr th {\n",
       "        vertical-align: top;\n",
       "    }\n",
       "\n",
       "    .dataframe thead th {\n",
       "        text-align: right;\n",
       "    }\n",
       "</style>\n",
       "<table border=\"1\" class=\"dataframe\">\n",
       "  <thead>\n",
       "    <tr style=\"text-align: right;\">\n",
       "      <th></th>\n",
       "      <th>patient</th>\n",
       "      <th>phylum</th>\n",
       "      <th>value</th>\n",
       "    </tr>\n",
       "  </thead>\n",
       "  <tbody>\n",
       "    <tr>\n",
       "      <th>0</th>\n",
       "      <td>1</td>\n",
       "      <td>Firmicutes</td>\n",
       "      <td>632</td>\n",
       "    </tr>\n",
       "    <tr>\n",
       "      <th>1</th>\n",
       "      <td>1</td>\n",
       "      <td>Proteobacteria</td>\n",
       "      <td>1638</td>\n",
       "    </tr>\n",
       "    <tr>\n",
       "      <th>2</th>\n",
       "      <td>1</td>\n",
       "      <td>Actinobacteria</td>\n",
       "      <td>569</td>\n",
       "    </tr>\n",
       "    <tr>\n",
       "      <th>3</th>\n",
       "      <td>1</td>\n",
       "      <td>Bacteroidetes</td>\n",
       "      <td>115</td>\n",
       "    </tr>\n",
       "    <tr>\n",
       "      <th>4</th>\n",
       "      <td>2</td>\n",
       "      <td>Firmicutes</td>\n",
       "      <td>433</td>\n",
       "    </tr>\n",
       "  </tbody>\n",
       "</table>\n",
       "</div>"
      ],
      "text/plain": [
       "   patient          phylum  value\n",
       "0        1      Firmicutes    632\n",
       "1        1  Proteobacteria   1638\n",
       "2        1  Actinobacteria    569\n",
       "3        1   Bacteroidetes    115\n",
       "4        2      Firmicutes    433"
      ]
     },
     "execution_count": 9,
     "metadata": {},
     "output_type": "execute_result"
    }
   ],
   "source": [
    "data.head()"
   ]
  },
  {
   "cell_type": "markdown",
   "metadata": {},
   "source": [
    "We can extract the column names as:"
   ]
  },
  {
   "cell_type": "code",
   "execution_count": 10,
   "metadata": {},
   "outputs": [
    {
     "data": {
      "text/plain": [
       "Index(['patient', 'phylum', 'value'], dtype='object')"
      ]
     },
     "execution_count": 10,
     "metadata": {},
     "output_type": "execute_result"
    }
   ],
   "source": [
    "data.columns"
   ]
  },
  {
   "cell_type": "markdown",
   "metadata": {},
   "source": [
    "### Reading and Writing Files\n",
    "\n",
    "There are a number of powerful functions that can achieve this, for instance if our data is in excel:"
   ]
  },
  {
   "cell_type": "code",
   "execution_count": 11,
   "metadata": {},
   "outputs": [
    {
     "data": {
      "text/html": [
       "<div>\n",
       "<style scoped>\n",
       "    .dataframe tbody tr th:only-of-type {\n",
       "        vertical-align: middle;\n",
       "    }\n",
       "\n",
       "    .dataframe tbody tr th {\n",
       "        vertical-align: top;\n",
       "    }\n",
       "\n",
       "    .dataframe thead th {\n",
       "        text-align: right;\n",
       "    }\n",
       "</style>\n",
       "<table border=\"1\" class=\"dataframe\">\n",
       "  <thead>\n",
       "    <tr style=\"text-align: right;\">\n",
       "      <th></th>\n",
       "      <th>PassengerId</th>\n",
       "      <th>Age</th>\n",
       "      <th>Cabin</th>\n",
       "      <th>Port Embarked</th>\n",
       "      <th>Fare</th>\n",
       "      <th>Name</th>\n",
       "      <th>n_parents</th>\n",
       "      <th>Pclass</th>\n",
       "      <th>Sex</th>\n",
       "      <th>n_siblings</th>\n",
       "      <th>Survived</th>\n",
       "      <th>Ticket</th>\n",
       "    </tr>\n",
       "  </thead>\n",
       "  <tbody>\n",
       "    <tr>\n",
       "      <th>0</th>\n",
       "      <td>1</td>\n",
       "      <td>22.0</td>\n",
       "      <td>NaN</td>\n",
       "      <td>Southampton</td>\n",
       "      <td>7.2500</td>\n",
       "      <td>Braund, Mr. Owen Harris</td>\n",
       "      <td>0</td>\n",
       "      <td>3rd class</td>\n",
       "      <td>male</td>\n",
       "      <td>1</td>\n",
       "      <td>0</td>\n",
       "      <td>A/5 21171</td>\n",
       "    </tr>\n",
       "    <tr>\n",
       "      <th>1</th>\n",
       "      <td>2</td>\n",
       "      <td>38.0</td>\n",
       "      <td>C85</td>\n",
       "      <td>Cherbourg</td>\n",
       "      <td>71.2833</td>\n",
       "      <td>Cumings, Mrs. John Bradley (Florence Briggs Th...</td>\n",
       "      <td>0</td>\n",
       "      <td>1st class</td>\n",
       "      <td>female</td>\n",
       "      <td>1</td>\n",
       "      <td>1</td>\n",
       "      <td>PC 17599</td>\n",
       "    </tr>\n",
       "    <tr>\n",
       "      <th>2</th>\n",
       "      <td>3</td>\n",
       "      <td>26.0</td>\n",
       "      <td>NaN</td>\n",
       "      <td>Southampton</td>\n",
       "      <td>7.9250</td>\n",
       "      <td>Heikkinen, Miss. Laina</td>\n",
       "      <td>0</td>\n",
       "      <td>3rd class</td>\n",
       "      <td>female</td>\n",
       "      <td>0</td>\n",
       "      <td>1</td>\n",
       "      <td>STON/O2. 3101282</td>\n",
       "    </tr>\n",
       "    <tr>\n",
       "      <th>3</th>\n",
       "      <td>4</td>\n",
       "      <td>35.0</td>\n",
       "      <td>C123</td>\n",
       "      <td>Southampton</td>\n",
       "      <td>53.1000</td>\n",
       "      <td>Futrelle, Mrs. Jacques Heath (Lily May Peel)</td>\n",
       "      <td>0</td>\n",
       "      <td>1st class</td>\n",
       "      <td>female</td>\n",
       "      <td>1</td>\n",
       "      <td>1</td>\n",
       "      <td>113803</td>\n",
       "    </tr>\n",
       "    <tr>\n",
       "      <th>4</th>\n",
       "      <td>5</td>\n",
       "      <td>35.0</td>\n",
       "      <td>NaN</td>\n",
       "      <td>Southampton</td>\n",
       "      <td>8.0500</td>\n",
       "      <td>Allen, Mr. William Henry</td>\n",
       "      <td>0</td>\n",
       "      <td>3rd class</td>\n",
       "      <td>male</td>\n",
       "      <td>0</td>\n",
       "      <td>0</td>\n",
       "      <td>373450</td>\n",
       "    </tr>\n",
       "  </tbody>\n",
       "</table>\n",
       "</div>"
      ],
      "text/plain": [
       "   PassengerId   Age Cabin Port Embarked     Fare  \\\n",
       "0            1  22.0   NaN   Southampton   7.2500   \n",
       "1            2  38.0   C85     Cherbourg  71.2833   \n",
       "2            3  26.0   NaN   Southampton   7.9250   \n",
       "3            4  35.0  C123   Southampton  53.1000   \n",
       "4            5  35.0   NaN   Southampton   8.0500   \n",
       "\n",
       "                                                Name  n_parents     Pclass  \\\n",
       "0                            Braund, Mr. Owen Harris          0  3rd class   \n",
       "1  Cumings, Mrs. John Bradley (Florence Briggs Th...          0  1st class   \n",
       "2                             Heikkinen, Miss. Laina          0  3rd class   \n",
       "3       Futrelle, Mrs. Jacques Heath (Lily May Peel)          0  1st class   \n",
       "4                           Allen, Mr. William Henry          0  3rd class   \n",
       "\n",
       "      Sex  n_siblings  Survived            Ticket  \n",
       "0    male           1         0         A/5 21171  \n",
       "1  female           1         1          PC 17599  \n",
       "2  female           0         1  STON/O2. 3101282  \n",
       "3  female           1         1            113803  \n",
       "4    male           0         0            373450  "
      ]
     },
     "execution_count": 11,
     "metadata": {},
     "output_type": "execute_result"
    }
   ],
   "source": [
    "titanic = pd.read_excel(\"titanic.xlsx\")\n",
    "titanic.head()"
   ]
  },
  {
   "cell_type": "markdown",
   "metadata": {},
   "source": [
    "We can also extract from csv or any other flat-file k-delimited style format. This can be specified in the 'sep' argument within a call to `read_csv` or `read_table`.\n",
    "\n",
    "Checking the size of the dataset is a priority:"
   ]
  },
  {
   "cell_type": "code",
   "execution_count": 12,
   "metadata": {},
   "outputs": [
    {
     "data": {
      "text/plain": [
       "(1309, 12)"
      ]
     },
     "execution_count": 12,
     "metadata": {},
     "output_type": "execute_result"
    }
   ],
   "source": [
    "titanic.shape"
   ]
  },
  {
   "cell_type": "markdown",
   "metadata": {},
   "source": [
    "As well as determining the number of missing values from each column:"
   ]
  },
  {
   "cell_type": "code",
   "execution_count": 13,
   "metadata": {},
   "outputs": [
    {
     "data": {
      "text/plain": [
       "PassengerId         0\n",
       "Age               263\n",
       "Cabin            1014\n",
       "Port Embarked       2\n",
       "Fare                1\n",
       "Name                0\n",
       "n_parents           0\n",
       "Pclass              0\n",
       "Sex                 0\n",
       "n_siblings          0\n",
       "Survived            0\n",
       "Ticket              0\n",
       "dtype: int64"
      ]
     },
     "execution_count": 13,
     "metadata": {},
     "output_type": "execute_result"
    }
   ],
   "source": [
    "titanic.isnull().sum()"
   ]
  },
  {
   "cell_type": "markdown",
   "metadata": {},
   "source": [
    "We can select a column using the square-bracket notation [] or using direct.dot notation:"
   ]
  },
  {
   "cell_type": "code",
   "execution_count": 14,
   "metadata": {},
   "outputs": [
    {
     "data": {
      "text/plain": [
       "0    22.0\n",
       "1    38.0\n",
       "2    26.0\n",
       "3    35.0\n",
       "4    35.0\n",
       "Name: Age, dtype: float64"
      ]
     },
     "execution_count": 14,
     "metadata": {},
     "output_type": "execute_result"
    }
   ],
   "source": [
    "titanic.Age\n",
    "titanic['Age'].head()"
   ]
  },
  {
   "cell_type": "markdown",
   "metadata": {},
   "source": [
    "Like NumPy, we can index and select using similar methods:"
   ]
  },
  {
   "cell_type": "code",
   "execution_count": 15,
   "metadata": {},
   "outputs": [
    {
     "data": {
      "text/plain": [
       "0    22.0\n",
       "1    38.0\n",
       "2    26.0\n",
       "3    35.0\n",
       "4    35.0\n",
       "Name: Age, dtype: float64"
      ]
     },
     "execution_count": 15,
     "metadata": {},
     "output_type": "execute_result"
    }
   ],
   "source": [
    "titanic.Age[:5]"
   ]
  },
  {
   "cell_type": "code",
   "execution_count": 16,
   "metadata": {},
   "outputs": [
    {
     "data": {
      "text/html": [
       "<div>\n",
       "<style scoped>\n",
       "    .dataframe tbody tr th:only-of-type {\n",
       "        vertical-align: middle;\n",
       "    }\n",
       "\n",
       "    .dataframe tbody tr th {\n",
       "        vertical-align: top;\n",
       "    }\n",
       "\n",
       "    .dataframe thead th {\n",
       "        text-align: right;\n",
       "    }\n",
       "</style>\n",
       "<table border=\"1\" class=\"dataframe\">\n",
       "  <thead>\n",
       "    <tr style=\"text-align: right;\">\n",
       "      <th></th>\n",
       "      <th>PassengerId</th>\n",
       "      <th>Age</th>\n",
       "      <th>Cabin</th>\n",
       "      <th>Port Embarked</th>\n",
       "      <th>Fare</th>\n",
       "      <th>Name</th>\n",
       "      <th>n_parents</th>\n",
       "      <th>Pclass</th>\n",
       "      <th>Sex</th>\n",
       "      <th>n_siblings</th>\n",
       "      <th>Survived</th>\n",
       "      <th>Ticket</th>\n",
       "    </tr>\n",
       "  </thead>\n",
       "  <tbody>\n",
       "    <tr>\n",
       "      <th>2</th>\n",
       "      <td>3</td>\n",
       "      <td>26.0</td>\n",
       "      <td>NaN</td>\n",
       "      <td>Southampton</td>\n",
       "      <td>7.9250</td>\n",
       "      <td>Heikkinen, Miss. Laina</td>\n",
       "      <td>0</td>\n",
       "      <td>3rd class</td>\n",
       "      <td>female</td>\n",
       "      <td>0</td>\n",
       "      <td>1</td>\n",
       "      <td>STON/O2. 3101282</td>\n",
       "    </tr>\n",
       "    <tr>\n",
       "      <th>4</th>\n",
       "      <td>5</td>\n",
       "      <td>35.0</td>\n",
       "      <td>NaN</td>\n",
       "      <td>Southampton</td>\n",
       "      <td>8.0500</td>\n",
       "      <td>Allen, Mr. William Henry</td>\n",
       "      <td>0</td>\n",
       "      <td>3rd class</td>\n",
       "      <td>male</td>\n",
       "      <td>0</td>\n",
       "      <td>0</td>\n",
       "      <td>373450</td>\n",
       "    </tr>\n",
       "    <tr>\n",
       "      <th>6</th>\n",
       "      <td>7</td>\n",
       "      <td>54.0</td>\n",
       "      <td>E46</td>\n",
       "      <td>Southampton</td>\n",
       "      <td>51.8625</td>\n",
       "      <td>McCarthy, Mr. Timothy J</td>\n",
       "      <td>0</td>\n",
       "      <td>1st class</td>\n",
       "      <td>male</td>\n",
       "      <td>0</td>\n",
       "      <td>0</td>\n",
       "      <td>17463</td>\n",
       "    </tr>\n",
       "    <tr>\n",
       "      <th>8</th>\n",
       "      <td>9</td>\n",
       "      <td>27.0</td>\n",
       "      <td>NaN</td>\n",
       "      <td>Southampton</td>\n",
       "      <td>11.1333</td>\n",
       "      <td>Johnson, Mrs. Oscar W (Elisabeth Vilhelmina Berg)</td>\n",
       "      <td>2</td>\n",
       "      <td>3rd class</td>\n",
       "      <td>female</td>\n",
       "      <td>0</td>\n",
       "      <td>1</td>\n",
       "      <td>347742</td>\n",
       "    </tr>\n",
       "  </tbody>\n",
       "</table>\n",
       "</div>"
      ],
      "text/plain": [
       "   PassengerId   Age Cabin Port Embarked     Fare  \\\n",
       "2            3  26.0   NaN   Southampton   7.9250   \n",
       "4            5  35.0   NaN   Southampton   8.0500   \n",
       "6            7  54.0   E46   Southampton  51.8625   \n",
       "8            9  27.0   NaN   Southampton  11.1333   \n",
       "\n",
       "                                                Name  n_parents     Pclass  \\\n",
       "2                             Heikkinen, Miss. Laina          0  3rd class   \n",
       "4                           Allen, Mr. William Henry          0  3rd class   \n",
       "6                            McCarthy, Mr. Timothy J          0  1st class   \n",
       "8  Johnson, Mrs. Oscar W (Elisabeth Vilhelmina Berg)          2  3rd class   \n",
       "\n",
       "      Sex  n_siblings  Survived            Ticket  \n",
       "2  female           0         1  STON/O2. 3101282  \n",
       "4    male           0         0            373450  \n",
       "6    male           0         0             17463  \n",
       "8  female           0         1            347742  "
      ]
     },
     "execution_count": 16,
     "metadata": {},
     "output_type": "execute_result"
    }
   ],
   "source": [
    "titanic[2:10:2]"
   ]
  },
  {
   "cell_type": "markdown",
   "metadata": {},
   "source": [
    "Given that this dataset is by passengers, it would be wise to set PassengerID as the index, as such:"
   ]
  },
  {
   "cell_type": "code",
   "execution_count": 17,
   "metadata": {},
   "outputs": [
    {
     "data": {
      "text/html": [
       "<div>\n",
       "<style scoped>\n",
       "    .dataframe tbody tr th:only-of-type {\n",
       "        vertical-align: middle;\n",
       "    }\n",
       "\n",
       "    .dataframe tbody tr th {\n",
       "        vertical-align: top;\n",
       "    }\n",
       "\n",
       "    .dataframe thead th {\n",
       "        text-align: right;\n",
       "    }\n",
       "</style>\n",
       "<table border=\"1\" class=\"dataframe\">\n",
       "  <thead>\n",
       "    <tr style=\"text-align: right;\">\n",
       "      <th></th>\n",
       "      <th>Age</th>\n",
       "      <th>Cabin</th>\n",
       "      <th>Port Embarked</th>\n",
       "      <th>Fare</th>\n",
       "      <th>Name</th>\n",
       "      <th>n_parents</th>\n",
       "      <th>Pclass</th>\n",
       "      <th>Sex</th>\n",
       "      <th>n_siblings</th>\n",
       "      <th>Survived</th>\n",
       "      <th>Ticket</th>\n",
       "    </tr>\n",
       "    <tr>\n",
       "      <th>PassengerId</th>\n",
       "      <th></th>\n",
       "      <th></th>\n",
       "      <th></th>\n",
       "      <th></th>\n",
       "      <th></th>\n",
       "      <th></th>\n",
       "      <th></th>\n",
       "      <th></th>\n",
       "      <th></th>\n",
       "      <th></th>\n",
       "      <th></th>\n",
       "    </tr>\n",
       "  </thead>\n",
       "  <tbody>\n",
       "    <tr>\n",
       "      <th>1</th>\n",
       "      <td>22.0</td>\n",
       "      <td>NaN</td>\n",
       "      <td>Southampton</td>\n",
       "      <td>7.2500</td>\n",
       "      <td>Braund, Mr. Owen Harris</td>\n",
       "      <td>0</td>\n",
       "      <td>3rd class</td>\n",
       "      <td>male</td>\n",
       "      <td>1</td>\n",
       "      <td>0</td>\n",
       "      <td>A/5 21171</td>\n",
       "    </tr>\n",
       "    <tr>\n",
       "      <th>2</th>\n",
       "      <td>38.0</td>\n",
       "      <td>C85</td>\n",
       "      <td>Cherbourg</td>\n",
       "      <td>71.2833</td>\n",
       "      <td>Cumings, Mrs. John Bradley (Florence Briggs Th...</td>\n",
       "      <td>0</td>\n",
       "      <td>1st class</td>\n",
       "      <td>female</td>\n",
       "      <td>1</td>\n",
       "      <td>1</td>\n",
       "      <td>PC 17599</td>\n",
       "    </tr>\n",
       "    <tr>\n",
       "      <th>3</th>\n",
       "      <td>26.0</td>\n",
       "      <td>NaN</td>\n",
       "      <td>Southampton</td>\n",
       "      <td>7.9250</td>\n",
       "      <td>Heikkinen, Miss. Laina</td>\n",
       "      <td>0</td>\n",
       "      <td>3rd class</td>\n",
       "      <td>female</td>\n",
       "      <td>0</td>\n",
       "      <td>1</td>\n",
       "      <td>STON/O2. 3101282</td>\n",
       "    </tr>\n",
       "    <tr>\n",
       "      <th>4</th>\n",
       "      <td>35.0</td>\n",
       "      <td>C123</td>\n",
       "      <td>Southampton</td>\n",
       "      <td>53.1000</td>\n",
       "      <td>Futrelle, Mrs. Jacques Heath (Lily May Peel)</td>\n",
       "      <td>0</td>\n",
       "      <td>1st class</td>\n",
       "      <td>female</td>\n",
       "      <td>1</td>\n",
       "      <td>1</td>\n",
       "      <td>113803</td>\n",
       "    </tr>\n",
       "    <tr>\n",
       "      <th>5</th>\n",
       "      <td>35.0</td>\n",
       "      <td>NaN</td>\n",
       "      <td>Southampton</td>\n",
       "      <td>8.0500</td>\n",
       "      <td>Allen, Mr. William Henry</td>\n",
       "      <td>0</td>\n",
       "      <td>3rd class</td>\n",
       "      <td>male</td>\n",
       "      <td>0</td>\n",
       "      <td>0</td>\n",
       "      <td>373450</td>\n",
       "    </tr>\n",
       "  </tbody>\n",
       "</table>\n",
       "</div>"
      ],
      "text/plain": [
       "              Age Cabin Port Embarked     Fare  \\\n",
       "PassengerId                                      \n",
       "1            22.0   NaN   Southampton   7.2500   \n",
       "2            38.0   C85     Cherbourg  71.2833   \n",
       "3            26.0   NaN   Southampton   7.9250   \n",
       "4            35.0  C123   Southampton  53.1000   \n",
       "5            35.0   NaN   Southampton   8.0500   \n",
       "\n",
       "                                                          Name  n_parents  \\\n",
       "PassengerId                                                                 \n",
       "1                                      Braund, Mr. Owen Harris          0   \n",
       "2            Cumings, Mrs. John Bradley (Florence Briggs Th...          0   \n",
       "3                                       Heikkinen, Miss. Laina          0   \n",
       "4                 Futrelle, Mrs. Jacques Heath (Lily May Peel)          0   \n",
       "5                                     Allen, Mr. William Henry          0   \n",
       "\n",
       "                Pclass     Sex  n_siblings  Survived            Ticket  \n",
       "PassengerId                                                             \n",
       "1            3rd class    male           1         0         A/5 21171  \n",
       "2            1st class  female           1         1          PC 17599  \n",
       "3            3rd class  female           0         1  STON/O2. 3101282  \n",
       "4            1st class  female           1         1            113803  \n",
       "5            3rd class    male           0         0            373450  "
      ]
     },
     "execution_count": 17,
     "metadata": {},
     "output_type": "execute_result"
    }
   ],
   "source": [
    "titanic = titanic.set_index(\"PassengerId\")\n",
    "titanic.head()"
   ]
  },
  {
   "cell_type": "markdown",
   "metadata": {},
   "source": [
    "### Querying, Selection\n",
    "\n",
    "We can select passengers by the row, using `.loc[]`. Loc can also give us a dataframe and is multidimensional."
   ]
  },
  {
   "cell_type": "code",
   "execution_count": 18,
   "metadata": {},
   "outputs": [
    {
     "data": {
      "text/plain": [
       "Age                                  26\n",
       "Cabin                               NaN\n",
       "Port Embarked               Southampton\n",
       "Fare                              7.925\n",
       "Name             Heikkinen, Miss. Laina\n",
       "n_parents                             0\n",
       "Pclass                        3rd class\n",
       "Sex                              female\n",
       "n_siblings                            0\n",
       "Survived                              1\n",
       "Ticket                 STON/O2. 3101282\n",
       "Name: 3, dtype: object"
      ]
     },
     "execution_count": 18,
     "metadata": {},
     "output_type": "execute_result"
    }
   ],
   "source": [
    "titanic.loc[3]"
   ]
  },
  {
   "cell_type": "markdown",
   "metadata": {},
   "source": [
    "Or values by including a column term"
   ]
  },
  {
   "cell_type": "code",
   "execution_count": 19,
   "metadata": {},
   "outputs": [
    {
     "data": {
      "text/plain": [
       "26.0"
      ]
     },
     "execution_count": 19,
     "metadata": {},
     "output_type": "execute_result"
    }
   ],
   "source": [
    "titanic.loc[3, 'Age']"
   ]
  },
  {
   "cell_type": "markdown",
   "metadata": {},
   "source": [
    "We can quickly subset the dataset using boolean operators:\n",
    "\n",
    "These can be done directly, such as:\n",
    "\n",
    "    [pandas.Series] < $value\n",
    "    \n",
    "Or function-chained using pre-defined functions:\n",
    "\n",
    "    - pandas.Series.lt (less than)\n",
    "    - pandas.Series.gt (greater than)\n",
    "    - pandas.Series.eq (equals)\n",
    "    - pandas.Series.neq (not equal to)\n",
    "    - pandas.Series.lte (less than or equal to)\n",
    "    - pandas.Series.gte (greater than or equal to)"
   ]
  },
  {
   "cell_type": "code",
   "execution_count": 22,
   "metadata": {
    "scrolled": true
   },
   "outputs": [
    {
     "data": {
      "text/plain": [
       "array([ True, False,  True, ..., False, False, False])"
      ]
     },
     "execution_count": 22,
     "metadata": {},
     "output_type": "execute_result"
    }
   ],
   "source": [
    "titanic.Age.lt(30).values"
   ]
  },
  {
   "cell_type": "code",
   "execution_count": 20,
   "metadata": {},
   "outputs": [
    {
     "data": {
      "text/html": [
       "<div>\n",
       "<style scoped>\n",
       "    .dataframe tbody tr th:only-of-type {\n",
       "        vertical-align: middle;\n",
       "    }\n",
       "\n",
       "    .dataframe tbody tr th {\n",
       "        vertical-align: top;\n",
       "    }\n",
       "\n",
       "    .dataframe thead th {\n",
       "        text-align: right;\n",
       "    }\n",
       "</style>\n",
       "<table border=\"1\" class=\"dataframe\">\n",
       "  <thead>\n",
       "    <tr style=\"text-align: right;\">\n",
       "      <th></th>\n",
       "      <th>Age</th>\n",
       "      <th>Cabin</th>\n",
       "      <th>Port Embarked</th>\n",
       "      <th>Fare</th>\n",
       "      <th>Name</th>\n",
       "      <th>n_parents</th>\n",
       "      <th>Pclass</th>\n",
       "      <th>Sex</th>\n",
       "      <th>n_siblings</th>\n",
       "      <th>Survived</th>\n",
       "      <th>Ticket</th>\n",
       "    </tr>\n",
       "    <tr>\n",
       "      <th>PassengerId</th>\n",
       "      <th></th>\n",
       "      <th></th>\n",
       "      <th></th>\n",
       "      <th></th>\n",
       "      <th></th>\n",
       "      <th></th>\n",
       "      <th></th>\n",
       "      <th></th>\n",
       "      <th></th>\n",
       "      <th></th>\n",
       "      <th></th>\n",
       "    </tr>\n",
       "  </thead>\n",
       "  <tbody>\n",
       "    <tr>\n",
       "      <th>2</th>\n",
       "      <td>38.0</td>\n",
       "      <td>C85</td>\n",
       "      <td>Cherbourg</td>\n",
       "      <td>71.2833</td>\n",
       "      <td>Cumings, Mrs. John Bradley (Florence Briggs Th...</td>\n",
       "      <td>0</td>\n",
       "      <td>1st class</td>\n",
       "      <td>female</td>\n",
       "      <td>1</td>\n",
       "      <td>1</td>\n",
       "      <td>PC 17599</td>\n",
       "    </tr>\n",
       "    <tr>\n",
       "      <th>4</th>\n",
       "      <td>35.0</td>\n",
       "      <td>C123</td>\n",
       "      <td>Southampton</td>\n",
       "      <td>53.1000</td>\n",
       "      <td>Futrelle, Mrs. Jacques Heath (Lily May Peel)</td>\n",
       "      <td>0</td>\n",
       "      <td>1st class</td>\n",
       "      <td>female</td>\n",
       "      <td>1</td>\n",
       "      <td>1</td>\n",
       "      <td>113803</td>\n",
       "    </tr>\n",
       "    <tr>\n",
       "      <th>5</th>\n",
       "      <td>35.0</td>\n",
       "      <td>NaN</td>\n",
       "      <td>Southampton</td>\n",
       "      <td>8.0500</td>\n",
       "      <td>Allen, Mr. William Henry</td>\n",
       "      <td>0</td>\n",
       "      <td>3rd class</td>\n",
       "      <td>male</td>\n",
       "      <td>0</td>\n",
       "      <td>0</td>\n",
       "      <td>373450</td>\n",
       "    </tr>\n",
       "    <tr>\n",
       "      <th>7</th>\n",
       "      <td>54.0</td>\n",
       "      <td>E46</td>\n",
       "      <td>Southampton</td>\n",
       "      <td>51.8625</td>\n",
       "      <td>McCarthy, Mr. Timothy J</td>\n",
       "      <td>0</td>\n",
       "      <td>1st class</td>\n",
       "      <td>male</td>\n",
       "      <td>0</td>\n",
       "      <td>0</td>\n",
       "      <td>17463</td>\n",
       "    </tr>\n",
       "    <tr>\n",
       "      <th>12</th>\n",
       "      <td>58.0</td>\n",
       "      <td>C103</td>\n",
       "      <td>Southampton</td>\n",
       "      <td>26.5500</td>\n",
       "      <td>Bonnell, Miss. Elizabeth</td>\n",
       "      <td>0</td>\n",
       "      <td>1st class</td>\n",
       "      <td>female</td>\n",
       "      <td>0</td>\n",
       "      <td>1</td>\n",
       "      <td>113783</td>\n",
       "    </tr>\n",
       "  </tbody>\n",
       "</table>\n",
       "</div>"
      ],
      "text/plain": [
       "              Age Cabin Port Embarked     Fare  \\\n",
       "PassengerId                                      \n",
       "2            38.0   C85     Cherbourg  71.2833   \n",
       "4            35.0  C123   Southampton  53.1000   \n",
       "5            35.0   NaN   Southampton   8.0500   \n",
       "7            54.0   E46   Southampton  51.8625   \n",
       "12           58.0  C103   Southampton  26.5500   \n",
       "\n",
       "                                                          Name  n_parents  \\\n",
       "PassengerId                                                                 \n",
       "2            Cumings, Mrs. John Bradley (Florence Briggs Th...          0   \n",
       "4                 Futrelle, Mrs. Jacques Heath (Lily May Peel)          0   \n",
       "5                                     Allen, Mr. William Henry          0   \n",
       "7                                      McCarthy, Mr. Timothy J          0   \n",
       "12                                    Bonnell, Miss. Elizabeth          0   \n",
       "\n",
       "                Pclass     Sex  n_siblings  Survived    Ticket  \n",
       "PassengerId                                                     \n",
       "2            1st class  female           1         1  PC 17599  \n",
       "4            1st class  female           1         1    113803  \n",
       "5            3rd class    male           0         0    373450  \n",
       "7            1st class    male           0         0     17463  \n",
       "12           1st class  female           0         1    113783  "
      ]
     },
     "execution_count": 20,
     "metadata": {},
     "output_type": "execute_result"
    }
   ],
   "source": [
    "titanic[titanic.Age > 30].head()"
   ]
  },
  {
   "cell_type": "markdown",
   "metadata": {},
   "source": [
    "Or select columns between two identified as:"
   ]
  },
  {
   "cell_type": "code",
   "execution_count": 23,
   "metadata": {},
   "outputs": [
    {
     "data": {
      "text/html": [
       "<div>\n",
       "<style scoped>\n",
       "    .dataframe tbody tr th:only-of-type {\n",
       "        vertical-align: middle;\n",
       "    }\n",
       "\n",
       "    .dataframe tbody tr th {\n",
       "        vertical-align: top;\n",
       "    }\n",
       "\n",
       "    .dataframe thead th {\n",
       "        text-align: right;\n",
       "    }\n",
       "</style>\n",
       "<table border=\"1\" class=\"dataframe\">\n",
       "  <thead>\n",
       "    <tr style=\"text-align: right;\">\n",
       "      <th></th>\n",
       "      <th>Cabin</th>\n",
       "      <th>Port Embarked</th>\n",
       "      <th>Fare</th>\n",
       "    </tr>\n",
       "    <tr>\n",
       "      <th>PassengerId</th>\n",
       "      <th></th>\n",
       "      <th></th>\n",
       "      <th></th>\n",
       "    </tr>\n",
       "  </thead>\n",
       "  <tbody>\n",
       "    <tr>\n",
       "      <th>1</th>\n",
       "      <td>NaN</td>\n",
       "      <td>Southampton</td>\n",
       "      <td>7.2500</td>\n",
       "    </tr>\n",
       "    <tr>\n",
       "      <th>2</th>\n",
       "      <td>C85</td>\n",
       "      <td>Cherbourg</td>\n",
       "      <td>71.2833</td>\n",
       "    </tr>\n",
       "    <tr>\n",
       "      <th>3</th>\n",
       "      <td>NaN</td>\n",
       "      <td>Southampton</td>\n",
       "      <td>7.9250</td>\n",
       "    </tr>\n",
       "  </tbody>\n",
       "</table>\n",
       "</div>"
      ],
      "text/plain": [
       "            Cabin Port Embarked     Fare\n",
       "PassengerId                             \n",
       "1             NaN   Southampton   7.2500\n",
       "2             C85     Cherbourg  71.2833\n",
       "3             NaN   Southampton   7.9250"
      ]
     },
     "execution_count": 23,
     "metadata": {},
     "output_type": "execute_result"
    }
   ],
   "source": [
    "titanic.loc[:3, \"Cabin\":\"Fare\"]"
   ]
  },
  {
   "cell_type": "markdown",
   "metadata": {},
   "source": [
    "Alternatively, we can index using the absolute *position* using `iloc[]`."
   ]
  },
  {
   "cell_type": "code",
   "execution_count": 24,
   "metadata": {},
   "outputs": [
    {
     "data": {
      "text/plain": [
       "'Cherbourg'"
      ]
     },
     "execution_count": 24,
     "metadata": {},
     "output_type": "execute_result"
    }
   ],
   "source": [
    "titanic.iloc[1, 2]"
   ]
  },
  {
   "cell_type": "code",
   "execution_count": 25,
   "metadata": {},
   "outputs": [
    {
     "data": {
      "text/plain": [
       "Age                                                             38\n",
       "Cabin                                                          C85\n",
       "Port Embarked                                            Cherbourg\n",
       "Fare                                                       71.2833\n",
       "Name             Cumings, Mrs. John Bradley (Florence Briggs Th...\n",
       "n_parents                                                        0\n",
       "Pclass                                                   1st class\n",
       "Sex                                                         female\n",
       "n_siblings                                                       1\n",
       "Survived                                                         1\n",
       "Ticket                                                    PC 17599\n",
       "Name: 2, dtype: object"
      ]
     },
     "execution_count": 25,
     "metadata": {},
     "output_type": "execute_result"
    }
   ],
   "source": [
    "titanic.iloc[1]"
   ]
  },
  {
   "cell_type": "markdown",
   "metadata": {},
   "source": [
    "We can use the `isin()` method to search if a value or values exist within a Series:"
   ]
  },
  {
   "cell_type": "code",
   "execution_count": 26,
   "metadata": {},
   "outputs": [
    {
     "data": {
      "text/plain": [
       "PassengerId\n",
       "1    False\n",
       "2     True\n",
       "3    False\n",
       "4    False\n",
       "5    False\n",
       "Name: Port Embarked, dtype: bool"
      ]
     },
     "execution_count": 26,
     "metadata": {},
     "output_type": "execute_result"
    }
   ],
   "source": [
    "titanic['Port Embarked'].isin(['Cherbourg']).head()"
   ]
  },
  {
   "cell_type": "markdown",
   "metadata": {},
   "source": [
    "We can find all the indices where the condition is met, and returns the values that satisfy the condition but retains the shape of the original dataframe, which is crucial when alignment is required:"
   ]
  },
  {
   "cell_type": "code",
   "execution_count": 27,
   "metadata": {},
   "outputs": [
    {
     "data": {
      "text/html": [
       "<div>\n",
       "<style scoped>\n",
       "    .dataframe tbody tr th:only-of-type {\n",
       "        vertical-align: middle;\n",
       "    }\n",
       "\n",
       "    .dataframe tbody tr th {\n",
       "        vertical-align: top;\n",
       "    }\n",
       "\n",
       "    .dataframe thead th {\n",
       "        text-align: right;\n",
       "    }\n",
       "</style>\n",
       "<table border=\"1\" class=\"dataframe\">\n",
       "  <thead>\n",
       "    <tr style=\"text-align: right;\">\n",
       "      <th></th>\n",
       "      <th>0</th>\n",
       "      <th>1</th>\n",
       "      <th>2</th>\n",
       "      <th>3</th>\n",
       "      <th>4</th>\n",
       "      <th>5</th>\n",
       "      <th>6</th>\n",
       "    </tr>\n",
       "  </thead>\n",
       "  <tbody>\n",
       "    <tr>\n",
       "      <th>0</th>\n",
       "      <td>0.489699</td>\n",
       "      <td>0.276745</td>\n",
       "      <td>NaN</td>\n",
       "      <td>0.078895</td>\n",
       "      <td>0.302194</td>\n",
       "      <td>0.129713</td>\n",
       "      <td>NaN</td>\n",
       "    </tr>\n",
       "    <tr>\n",
       "      <th>1</th>\n",
       "      <td>NaN</td>\n",
       "      <td>NaN</td>\n",
       "      <td>NaN</td>\n",
       "      <td>NaN</td>\n",
       "      <td>0.212922</td>\n",
       "      <td>NaN</td>\n",
       "      <td>NaN</td>\n",
       "    </tr>\n",
       "    <tr>\n",
       "      <th>2</th>\n",
       "      <td>NaN</td>\n",
       "      <td>0.022741</td>\n",
       "      <td>NaN</td>\n",
       "      <td>0.437566</td>\n",
       "      <td>NaN</td>\n",
       "      <td>0.288840</td>\n",
       "      <td>NaN</td>\n",
       "    </tr>\n",
       "    <tr>\n",
       "      <th>3</th>\n",
       "      <td>NaN</td>\n",
       "      <td>0.291442</td>\n",
       "      <td>0.229133</td>\n",
       "      <td>0.395242</td>\n",
       "      <td>NaN</td>\n",
       "      <td>NaN</td>\n",
       "      <td>NaN</td>\n",
       "    </tr>\n",
       "    <tr>\n",
       "      <th>4</th>\n",
       "      <td>NaN</td>\n",
       "      <td>0.024332</td>\n",
       "      <td>0.332566</td>\n",
       "      <td>0.469705</td>\n",
       "      <td>NaN</td>\n",
       "      <td>NaN</td>\n",
       "      <td>0.318429</td>\n",
       "    </tr>\n",
       "  </tbody>\n",
       "</table>\n",
       "</div>"
      ],
      "text/plain": [
       "          0         1         2         3         4         5         6\n",
       "0  0.489699  0.276745       NaN  0.078895  0.302194  0.129713       NaN\n",
       "1       NaN       NaN       NaN       NaN  0.212922       NaN       NaN\n",
       "2       NaN  0.022741       NaN  0.437566       NaN  0.288840       NaN\n",
       "3       NaN  0.291442  0.229133  0.395242       NaN       NaN       NaN\n",
       "4       NaN  0.024332  0.332566  0.469705       NaN       NaN  0.318429"
      ]
     },
     "execution_count": 27,
     "metadata": {},
     "output_type": "execute_result"
    }
   ],
   "source": [
    "import numpy as np\n",
    "x = pd.DataFrame(np.random.rand(5,7))\n",
    "x.where(x < 0.5)"
   ]
  },
  {
   "cell_type": "markdown",
   "metadata": {},
   "source": [
    "Alternatively, instead of just getting NaNs, we could place a value or an array into the 'other' argument of `where`."
   ]
  },
  {
   "cell_type": "code",
   "execution_count": 28,
   "metadata": {},
   "outputs": [
    {
     "data": {
      "text/html": [
       "<div>\n",
       "<style scoped>\n",
       "    .dataframe tbody tr th:only-of-type {\n",
       "        vertical-align: middle;\n",
       "    }\n",
       "\n",
       "    .dataframe tbody tr th {\n",
       "        vertical-align: top;\n",
       "    }\n",
       "\n",
       "    .dataframe thead th {\n",
       "        text-align: right;\n",
       "    }\n",
       "</style>\n",
       "<table border=\"1\" class=\"dataframe\">\n",
       "  <thead>\n",
       "    <tr style=\"text-align: right;\">\n",
       "      <th></th>\n",
       "      <th>0</th>\n",
       "      <th>1</th>\n",
       "      <th>2</th>\n",
       "      <th>3</th>\n",
       "      <th>4</th>\n",
       "      <th>5</th>\n",
       "      <th>6</th>\n",
       "    </tr>\n",
       "  </thead>\n",
       "  <tbody>\n",
       "    <tr>\n",
       "      <th>0</th>\n",
       "      <td>0.489699</td>\n",
       "      <td>0.276745</td>\n",
       "      <td>-0.579479</td>\n",
       "      <td>0.078895</td>\n",
       "      <td>0.302194</td>\n",
       "      <td>0.129713</td>\n",
       "      <td>-0.854664</td>\n",
       "    </tr>\n",
       "    <tr>\n",
       "      <th>1</th>\n",
       "      <td>-0.631276</td>\n",
       "      <td>-0.804616</td>\n",
       "      <td>-0.591556</td>\n",
       "      <td>-0.871399</td>\n",
       "      <td>0.212922</td>\n",
       "      <td>-0.673123</td>\n",
       "      <td>-0.985896</td>\n",
       "    </tr>\n",
       "    <tr>\n",
       "      <th>2</th>\n",
       "      <td>-0.518755</td>\n",
       "      <td>0.022741</td>\n",
       "      <td>-0.816800</td>\n",
       "      <td>0.437566</td>\n",
       "      <td>-0.590415</td>\n",
       "      <td>0.288840</td>\n",
       "      <td>-0.589929</td>\n",
       "    </tr>\n",
       "    <tr>\n",
       "      <th>3</th>\n",
       "      <td>-0.650238</td>\n",
       "      <td>0.291442</td>\n",
       "      <td>0.229133</td>\n",
       "      <td>0.395242</td>\n",
       "      <td>-0.572140</td>\n",
       "      <td>-0.539013</td>\n",
       "      <td>-0.667999</td>\n",
       "    </tr>\n",
       "    <tr>\n",
       "      <th>4</th>\n",
       "      <td>-0.615861</td>\n",
       "      <td>0.024332</td>\n",
       "      <td>0.332566</td>\n",
       "      <td>0.469705</td>\n",
       "      <td>-0.760968</td>\n",
       "      <td>-0.814236</td>\n",
       "      <td>0.318429</td>\n",
       "    </tr>\n",
       "  </tbody>\n",
       "</table>\n",
       "</div>"
      ],
      "text/plain": [
       "          0         1         2         3         4         5         6\n",
       "0  0.489699  0.276745 -0.579479  0.078895  0.302194  0.129713 -0.854664\n",
       "1 -0.631276 -0.804616 -0.591556 -0.871399  0.212922 -0.673123 -0.985896\n",
       "2 -0.518755  0.022741 -0.816800  0.437566 -0.590415  0.288840 -0.589929\n",
       "3 -0.650238  0.291442  0.229133  0.395242 -0.572140 -0.539013 -0.667999\n",
       "4 -0.615861  0.024332  0.332566  0.469705 -0.760968 -0.814236  0.318429"
      ]
     },
     "execution_count": 28,
     "metadata": {},
     "output_type": "execute_result"
    }
   ],
   "source": [
    "x.where(x < 0.5, other=-x)"
   ]
  },
  {
   "cell_type": "code",
   "execution_count": 29,
   "metadata": {},
   "outputs": [
    {
     "data": {
      "text/html": [
       "<div>\n",
       "<style scoped>\n",
       "    .dataframe tbody tr th:only-of-type {\n",
       "        vertical-align: middle;\n",
       "    }\n",
       "\n",
       "    .dataframe tbody tr th {\n",
       "        vertical-align: top;\n",
       "    }\n",
       "\n",
       "    .dataframe thead th {\n",
       "        text-align: right;\n",
       "    }\n",
       "</style>\n",
       "<table border=\"1\" class=\"dataframe\">\n",
       "  <thead>\n",
       "    <tr style=\"text-align: right;\">\n",
       "      <th></th>\n",
       "      <th>0</th>\n",
       "      <th>1</th>\n",
       "      <th>2</th>\n",
       "      <th>3</th>\n",
       "      <th>4</th>\n",
       "      <th>5</th>\n",
       "      <th>6</th>\n",
       "    </tr>\n",
       "  </thead>\n",
       "  <tbody>\n",
       "    <tr>\n",
       "      <th>0</th>\n",
       "      <td>-0.882568</td>\n",
       "      <td>-0.978805</td>\n",
       "      <td>0.579479</td>\n",
       "      <td>-0.999509</td>\n",
       "      <td>-0.972403</td>\n",
       "      <td>-0.997818</td>\n",
       "      <td>0.854664</td>\n",
       "    </tr>\n",
       "    <tr>\n",
       "      <th>1</th>\n",
       "      <td>0.631276</td>\n",
       "      <td>0.804616</td>\n",
       "      <td>0.591556</td>\n",
       "      <td>0.871399</td>\n",
       "      <td>-0.990347</td>\n",
       "      <td>0.673123</td>\n",
       "      <td>0.985896</td>\n",
       "    </tr>\n",
       "    <tr>\n",
       "      <th>2</th>\n",
       "      <td>0.518755</td>\n",
       "      <td>-0.999988</td>\n",
       "      <td>0.816800</td>\n",
       "      <td>-0.916222</td>\n",
       "      <td>0.590415</td>\n",
       "      <td>-0.975903</td>\n",
       "      <td>0.589929</td>\n",
       "    </tr>\n",
       "    <tr>\n",
       "      <th>3</th>\n",
       "      <td>0.650238</td>\n",
       "      <td>-0.975245</td>\n",
       "      <td>-0.987970</td>\n",
       "      <td>-0.938257</td>\n",
       "      <td>0.572140</td>\n",
       "      <td>0.539013</td>\n",
       "      <td>0.667999</td>\n",
       "    </tr>\n",
       "    <tr>\n",
       "      <th>4</th>\n",
       "      <td>0.615861</td>\n",
       "      <td>-0.999986</td>\n",
       "      <td>-0.963218</td>\n",
       "      <td>-0.896373</td>\n",
       "      <td>0.760968</td>\n",
       "      <td>0.814236</td>\n",
       "      <td>-0.967712</td>\n",
       "    </tr>\n",
       "  </tbody>\n",
       "</table>\n",
       "</div>"
      ],
      "text/plain": [
       "          0         1         2         3         4         5         6\n",
       "0 -0.882568 -0.978805  0.579479 -0.999509 -0.972403 -0.997818  0.854664\n",
       "1  0.631276  0.804616  0.591556  0.871399 -0.990347  0.673123  0.985896\n",
       "2  0.518755 -0.999988  0.816800 -0.916222  0.590415 -0.975903  0.589929\n",
       "3  0.650238 -0.975245 -0.987970 -0.938257  0.572140  0.539013  0.667999\n",
       "4  0.615861 -0.999986 -0.963218 -0.896373  0.760968  0.814236 -0.967712"
      ]
     },
     "execution_count": 29,
     "metadata": {},
     "output_type": "execute_result"
    }
   ],
   "source": [
    "x.where(x > 0.5, other=lambda y: y**3-1)"
   ]
  },
  {
   "cell_type": "markdown",
   "metadata": {},
   "source": [
    "Selection using `query()` feels an awful lot like SQL, which can take raw variables as part of it using @"
   ]
  },
  {
   "cell_type": "code",
   "execution_count": 30,
   "metadata": {},
   "outputs": [
    {
     "data": {
      "text/html": [
       "<div>\n",
       "<style scoped>\n",
       "    .dataframe tbody tr th:only-of-type {\n",
       "        vertical-align: middle;\n",
       "    }\n",
       "\n",
       "    .dataframe tbody tr th {\n",
       "        vertical-align: top;\n",
       "    }\n",
       "\n",
       "    .dataframe thead th {\n",
       "        text-align: right;\n",
       "    }\n",
       "</style>\n",
       "<table border=\"1\" class=\"dataframe\">\n",
       "  <thead>\n",
       "    <tr style=\"text-align: right;\">\n",
       "      <th></th>\n",
       "      <th>Age</th>\n",
       "      <th>Cabin</th>\n",
       "      <th>Port Embarked</th>\n",
       "      <th>Fare</th>\n",
       "      <th>Name</th>\n",
       "      <th>n_parents</th>\n",
       "      <th>Pclass</th>\n",
       "      <th>Sex</th>\n",
       "      <th>n_siblings</th>\n",
       "      <th>Survived</th>\n",
       "      <th>Ticket</th>\n",
       "    </tr>\n",
       "    <tr>\n",
       "      <th>PassengerId</th>\n",
       "      <th></th>\n",
       "      <th></th>\n",
       "      <th></th>\n",
       "      <th></th>\n",
       "      <th></th>\n",
       "      <th></th>\n",
       "      <th></th>\n",
       "      <th></th>\n",
       "      <th></th>\n",
       "      <th></th>\n",
       "      <th></th>\n",
       "    </tr>\n",
       "  </thead>\n",
       "  <tbody>\n",
       "    <tr>\n",
       "      <th>28</th>\n",
       "      <td>19.0</td>\n",
       "      <td>C23 C25 C27</td>\n",
       "      <td>Southampton</td>\n",
       "      <td>263.0000</td>\n",
       "      <td>Fortune, Mr. Charles Alexander</td>\n",
       "      <td>2</td>\n",
       "      <td>1st class</td>\n",
       "      <td>male</td>\n",
       "      <td>3</td>\n",
       "      <td>0</td>\n",
       "      <td>19950</td>\n",
       "    </tr>\n",
       "    <tr>\n",
       "      <th>44</th>\n",
       "      <td>3.0</td>\n",
       "      <td>NaN</td>\n",
       "      <td>Cherbourg</td>\n",
       "      <td>41.5792</td>\n",
       "      <td>Laroche, Miss. Simonne Marie Anne Andree</td>\n",
       "      <td>2</td>\n",
       "      <td>2nd class</td>\n",
       "      <td>female</td>\n",
       "      <td>1</td>\n",
       "      <td>1</td>\n",
       "      <td>SC/Paris 2123</td>\n",
       "    </tr>\n",
       "    <tr>\n",
       "      <th>59</th>\n",
       "      <td>5.0</td>\n",
       "      <td>NaN</td>\n",
       "      <td>Southampton</td>\n",
       "      <td>27.7500</td>\n",
       "      <td>West, Miss. Constance Mirium</td>\n",
       "      <td>2</td>\n",
       "      <td>2nd class</td>\n",
       "      <td>female</td>\n",
       "      <td>1</td>\n",
       "      <td>1</td>\n",
       "      <td>C.A. 34651</td>\n",
       "    </tr>\n",
       "    <tr>\n",
       "      <th>60</th>\n",
       "      <td>11.0</td>\n",
       "      <td>NaN</td>\n",
       "      <td>Southampton</td>\n",
       "      <td>46.9000</td>\n",
       "      <td>Goodwin, Master. William Frederick</td>\n",
       "      <td>2</td>\n",
       "      <td>3rd class</td>\n",
       "      <td>male</td>\n",
       "      <td>5</td>\n",
       "      <td>0</td>\n",
       "      <td>CA 2144</td>\n",
       "    </tr>\n",
       "    <tr>\n",
       "      <th>64</th>\n",
       "      <td>4.0</td>\n",
       "      <td>NaN</td>\n",
       "      <td>Southampton</td>\n",
       "      <td>27.9000</td>\n",
       "      <td>Skoog, Master. Harald</td>\n",
       "      <td>2</td>\n",
       "      <td>3rd class</td>\n",
       "      <td>male</td>\n",
       "      <td>3</td>\n",
       "      <td>0</td>\n",
       "      <td>347088</td>\n",
       "    </tr>\n",
       "  </tbody>\n",
       "</table>\n",
       "</div>"
      ],
      "text/plain": [
       "              Age        Cabin Port Embarked      Fare  \\\n",
       "PassengerId                                              \n",
       "28           19.0  C23 C25 C27   Southampton  263.0000   \n",
       "44            3.0          NaN     Cherbourg   41.5792   \n",
       "59            5.0          NaN   Southampton   27.7500   \n",
       "60           11.0          NaN   Southampton   46.9000   \n",
       "64            4.0          NaN   Southampton   27.9000   \n",
       "\n",
       "                                                 Name  n_parents     Pclass  \\\n",
       "PassengerId                                                                   \n",
       "28                     Fortune, Mr. Charles Alexander          2  1st class   \n",
       "44           Laroche, Miss. Simonne Marie Anne Andree          2  2nd class   \n",
       "59                       West, Miss. Constance Mirium          2  2nd class   \n",
       "60                 Goodwin, Master. William Frederick          2  3rd class   \n",
       "64                              Skoog, Master. Harald          2  3rd class   \n",
       "\n",
       "                Sex  n_siblings  Survived         Ticket  \n",
       "PassengerId                                               \n",
       "28             male           3         0          19950  \n",
       "44           female           1         1  SC/Paris 2123  \n",
       "59           female           1         1     C.A. 34651  \n",
       "60             male           5         0        CA 2144  \n",
       "64             male           3         0         347088  "
      ]
     },
     "execution_count": 30,
     "metadata": {},
     "output_type": "execute_result"
    }
   ],
   "source": [
    "n_parents = 2\n",
    "titanic.query(\"(Age < 25) & ((Pclass == '1st class') | (n_parents == @n_parents))\").head()"
   ]
  },
  {
   "cell_type": "markdown",
   "metadata": {},
   "source": [
    "#### Aggregation\n",
    "\n",
    "The toys of NumPy are back in a similar form: max, min, mean, sum etc."
   ]
  },
  {
   "cell_type": "code",
   "execution_count": 31,
   "metadata": {},
   "outputs": [
    {
     "data": {
      "text/plain": [
       "Age                                                     31255.7\n",
       "Fare                                                    43550.5\n",
       "Name          Braund, Mr. Owen HarrisCumings, Mrs. John Brad...\n",
       "n_parents                                                   504\n",
       "Pclass        3rd class1st class3rd class1st class3rd class3...\n",
       "Sex           malefemalefemalefemalemalemalemalemalefemalefe...\n",
       "n_siblings                                                  653\n",
       "Survived                                                    494\n",
       "Ticket        A/5 21171PC 17599STON/O2. 31012821138033734503...\n",
       "dtype: object"
      ]
     },
     "execution_count": 31,
     "metadata": {},
     "output_type": "execute_result"
    }
   ],
   "source": [
    "titanic.sum()"
   ]
  },
  {
   "cell_type": "code",
   "execution_count": 32,
   "metadata": {},
   "outputs": [
    {
     "data": {
      "text/plain": [
       "29.881137667304014"
      ]
     },
     "execution_count": 32,
     "metadata": {},
     "output_type": "execute_result"
    }
   ],
   "source": [
    "titanic.Age.mean()"
   ]
  },
  {
   "cell_type": "code",
   "execution_count": 33,
   "metadata": {},
   "outputs": [
    {
     "data": {
      "text/html": [
       "<div>\n",
       "<style scoped>\n",
       "    .dataframe tbody tr th:only-of-type {\n",
       "        vertical-align: middle;\n",
       "    }\n",
       "\n",
       "    .dataframe tbody tr th {\n",
       "        vertical-align: top;\n",
       "    }\n",
       "\n",
       "    .dataframe thead th {\n",
       "        text-align: right;\n",
       "    }\n",
       "</style>\n",
       "<table border=\"1\" class=\"dataframe\">\n",
       "  <thead>\n",
       "    <tr style=\"text-align: right;\">\n",
       "      <th></th>\n",
       "      <th>Age</th>\n",
       "      <th>Fare</th>\n",
       "      <th>n_parents</th>\n",
       "      <th>n_siblings</th>\n",
       "      <th>Survived</th>\n",
       "    </tr>\n",
       "  </thead>\n",
       "  <tbody>\n",
       "    <tr>\n",
       "      <th>count</th>\n",
       "      <td>1046.000000</td>\n",
       "      <td>1308.000000</td>\n",
       "      <td>1309.000000</td>\n",
       "      <td>1309.000000</td>\n",
       "      <td>1309.000000</td>\n",
       "    </tr>\n",
       "    <tr>\n",
       "      <th>mean</th>\n",
       "      <td>29.881138</td>\n",
       "      <td>33.295479</td>\n",
       "      <td>0.385027</td>\n",
       "      <td>0.498854</td>\n",
       "      <td>0.377387</td>\n",
       "    </tr>\n",
       "    <tr>\n",
       "      <th>std</th>\n",
       "      <td>14.413493</td>\n",
       "      <td>51.758668</td>\n",
       "      <td>0.865560</td>\n",
       "      <td>1.041658</td>\n",
       "      <td>0.484918</td>\n",
       "    </tr>\n",
       "    <tr>\n",
       "      <th>min</th>\n",
       "      <td>0.170000</td>\n",
       "      <td>0.000000</td>\n",
       "      <td>0.000000</td>\n",
       "      <td>0.000000</td>\n",
       "      <td>0.000000</td>\n",
       "    </tr>\n",
       "    <tr>\n",
       "      <th>25%</th>\n",
       "      <td>21.000000</td>\n",
       "      <td>7.895800</td>\n",
       "      <td>0.000000</td>\n",
       "      <td>0.000000</td>\n",
       "      <td>0.000000</td>\n",
       "    </tr>\n",
       "    <tr>\n",
       "      <th>50%</th>\n",
       "      <td>28.000000</td>\n",
       "      <td>14.454200</td>\n",
       "      <td>0.000000</td>\n",
       "      <td>0.000000</td>\n",
       "      <td>0.000000</td>\n",
       "    </tr>\n",
       "    <tr>\n",
       "      <th>75%</th>\n",
       "      <td>39.000000</td>\n",
       "      <td>31.275000</td>\n",
       "      <td>0.000000</td>\n",
       "      <td>1.000000</td>\n",
       "      <td>1.000000</td>\n",
       "    </tr>\n",
       "    <tr>\n",
       "      <th>max</th>\n",
       "      <td>80.000000</td>\n",
       "      <td>512.329200</td>\n",
       "      <td>9.000000</td>\n",
       "      <td>8.000000</td>\n",
       "      <td>1.000000</td>\n",
       "    </tr>\n",
       "  </tbody>\n",
       "</table>\n",
       "</div>"
      ],
      "text/plain": [
       "               Age         Fare    n_parents   n_siblings     Survived\n",
       "count  1046.000000  1308.000000  1309.000000  1309.000000  1309.000000\n",
       "mean     29.881138    33.295479     0.385027     0.498854     0.377387\n",
       "std      14.413493    51.758668     0.865560     1.041658     0.484918\n",
       "min       0.170000     0.000000     0.000000     0.000000     0.000000\n",
       "25%      21.000000     7.895800     0.000000     0.000000     0.000000\n",
       "50%      28.000000    14.454200     0.000000     0.000000     0.000000\n",
       "75%      39.000000    31.275000     0.000000     1.000000     1.000000\n",
       "max      80.000000   512.329200     9.000000     8.000000     1.000000"
      ]
     },
     "execution_count": 33,
     "metadata": {},
     "output_type": "execute_result"
    }
   ],
   "source": [
    "titanic.describe()"
   ]
  },
  {
   "cell_type": "markdown",
   "metadata": {},
   "source": [
    "We could check the correlation between two factors."
   ]
  },
  {
   "cell_type": "code",
   "execution_count": 34,
   "metadata": {},
   "outputs": [
    {
     "data": {
      "text/plain": [
       "0.17873985599964118"
      ]
     },
     "execution_count": 34,
     "metadata": {},
     "output_type": "execute_result"
    }
   ],
   "source": [
    "titanic.Fare.corr(titanic.Age)"
   ]
  },
  {
   "cell_type": "markdown",
   "metadata": {},
   "source": [
    "Or generate the correlation matrix, with variance as the diagonal (=1)."
   ]
  },
  {
   "cell_type": "code",
   "execution_count": 35,
   "metadata": {},
   "outputs": [
    {
     "data": {
      "text/html": [
       "<div>\n",
       "<style scoped>\n",
       "    .dataframe tbody tr th:only-of-type {\n",
       "        vertical-align: middle;\n",
       "    }\n",
       "\n",
       "    .dataframe tbody tr th {\n",
       "        vertical-align: top;\n",
       "    }\n",
       "\n",
       "    .dataframe thead th {\n",
       "        text-align: right;\n",
       "    }\n",
       "</style>\n",
       "<table border=\"1\" class=\"dataframe\">\n",
       "  <thead>\n",
       "    <tr style=\"text-align: right;\">\n",
       "      <th></th>\n",
       "      <th>Age</th>\n",
       "      <th>Fare</th>\n",
       "      <th>n_parents</th>\n",
       "      <th>n_siblings</th>\n",
       "      <th>Survived</th>\n",
       "    </tr>\n",
       "  </thead>\n",
       "  <tbody>\n",
       "    <tr>\n",
       "      <th>Age</th>\n",
       "      <td>1.000000</td>\n",
       "      <td>0.178740</td>\n",
       "      <td>-0.150917</td>\n",
       "      <td>-0.243699</td>\n",
       "      <td>-0.053695</td>\n",
       "    </tr>\n",
       "    <tr>\n",
       "      <th>Fare</th>\n",
       "      <td>0.178740</td>\n",
       "      <td>1.000000</td>\n",
       "      <td>0.221539</td>\n",
       "      <td>0.160238</td>\n",
       "      <td>0.233622</td>\n",
       "    </tr>\n",
       "    <tr>\n",
       "      <th>n_parents</th>\n",
       "      <td>-0.150917</td>\n",
       "      <td>0.221539</td>\n",
       "      <td>1.000000</td>\n",
       "      <td>0.373587</td>\n",
       "      <td>0.108919</td>\n",
       "    </tr>\n",
       "    <tr>\n",
       "      <th>n_siblings</th>\n",
       "      <td>-0.243699</td>\n",
       "      <td>0.160238</td>\n",
       "      <td>0.373587</td>\n",
       "      <td>1.000000</td>\n",
       "      <td>0.002370</td>\n",
       "    </tr>\n",
       "    <tr>\n",
       "      <th>Survived</th>\n",
       "      <td>-0.053695</td>\n",
       "      <td>0.233622</td>\n",
       "      <td>0.108919</td>\n",
       "      <td>0.002370</td>\n",
       "      <td>1.000000</td>\n",
       "    </tr>\n",
       "  </tbody>\n",
       "</table>\n",
       "</div>"
      ],
      "text/plain": [
       "                 Age      Fare  n_parents  n_siblings  Survived\n",
       "Age         1.000000  0.178740  -0.150917   -0.243699 -0.053695\n",
       "Fare        0.178740  1.000000   0.221539    0.160238  0.233622\n",
       "n_parents  -0.150917  0.221539   1.000000    0.373587  0.108919\n",
       "n_siblings -0.243699  0.160238   0.373587    1.000000  0.002370\n",
       "Survived   -0.053695  0.233622   0.108919    0.002370  1.000000"
      ]
     },
     "execution_count": 35,
     "metadata": {},
     "output_type": "execute_result"
    }
   ],
   "source": [
    "titanic.corr()"
   ]
  },
  {
   "cell_type": "code",
   "execution_count": 36,
   "metadata": {},
   "outputs": [
    {
     "data": {
      "text/html": [
       "<div>\n",
       "<style scoped>\n",
       "    .dataframe tbody tr th:only-of-type {\n",
       "        vertical-align: middle;\n",
       "    }\n",
       "\n",
       "    .dataframe tbody tr th {\n",
       "        vertical-align: top;\n",
       "    }\n",
       "\n",
       "    .dataframe thead th {\n",
       "        text-align: right;\n",
       "    }\n",
       "</style>\n",
       "<table border=\"1\" class=\"dataframe\">\n",
       "  <thead>\n",
       "    <tr style=\"text-align: right;\">\n",
       "      <th></th>\n",
       "      <th>Age</th>\n",
       "      <th>Fare</th>\n",
       "      <th>Name</th>\n",
       "      <th>n_parents</th>\n",
       "      <th>Pclass</th>\n",
       "      <th>Sex</th>\n",
       "      <th>n_siblings</th>\n",
       "      <th>Survived</th>\n",
       "      <th>Ticket</th>\n",
       "    </tr>\n",
       "  </thead>\n",
       "  <tbody>\n",
       "    <tr>\n",
       "      <th>min</th>\n",
       "      <td>0.17</td>\n",
       "      <td>0.0000</td>\n",
       "      <td>Abbing, Mr. Anthony</td>\n",
       "      <td>0</td>\n",
       "      <td>1st class</td>\n",
       "      <td>female</td>\n",
       "      <td>0</td>\n",
       "      <td>0</td>\n",
       "      <td>110152</td>\n",
       "    </tr>\n",
       "    <tr>\n",
       "      <th>max</th>\n",
       "      <td>80.00</td>\n",
       "      <td>512.3292</td>\n",
       "      <td>van Melkebeke, Mr. Philemon</td>\n",
       "      <td>9</td>\n",
       "      <td>3rd class</td>\n",
       "      <td>male</td>\n",
       "      <td>8</td>\n",
       "      <td>1</td>\n",
       "      <td>WE/P 5735</td>\n",
       "    </tr>\n",
       "  </tbody>\n",
       "</table>\n",
       "</div>"
      ],
      "text/plain": [
       "       Age      Fare                         Name  n_parents     Pclass  \\\n",
       "min   0.17    0.0000          Abbing, Mr. Anthony          0  1st class   \n",
       "max  80.00  512.3292  van Melkebeke, Mr. Philemon          9  3rd class   \n",
       "\n",
       "        Sex  n_siblings  Survived     Ticket  \n",
       "min  female           0         0     110152  \n",
       "max    male           8         1  WE/P 5735  "
      ]
     },
     "execution_count": 36,
     "metadata": {},
     "output_type": "execute_result"
    }
   ],
   "source": [
    "titanic.agg(['min','max'])"
   ]
  },
  {
   "cell_type": "code",
   "execution_count": 37,
   "metadata": {},
   "outputs": [
    {
     "data": {
      "text/html": [
       "<div>\n",
       "<style scoped>\n",
       "    .dataframe tbody tr th:only-of-type {\n",
       "        vertical-align: middle;\n",
       "    }\n",
       "\n",
       "    .dataframe tbody tr th {\n",
       "        vertical-align: top;\n",
       "    }\n",
       "\n",
       "    .dataframe thead th {\n",
       "        text-align: right;\n",
       "    }\n",
       "</style>\n",
       "<table border=\"1\" class=\"dataframe\">\n",
       "  <thead>\n",
       "    <tr style=\"text-align: right;\">\n",
       "      <th></th>\n",
       "      <th>Fare</th>\n",
       "      <th>Age</th>\n",
       "    </tr>\n",
       "  </thead>\n",
       "  <tbody>\n",
       "    <tr>\n",
       "      <th>max</th>\n",
       "      <td>NaN</td>\n",
       "      <td>80.00</td>\n",
       "    </tr>\n",
       "    <tr>\n",
       "      <th>mean</th>\n",
       "      <td>33.295479</td>\n",
       "      <td>NaN</td>\n",
       "    </tr>\n",
       "    <tr>\n",
       "      <th>min</th>\n",
       "      <td>NaN</td>\n",
       "      <td>0.17</td>\n",
       "    </tr>\n",
       "    <tr>\n",
       "      <th>std</th>\n",
       "      <td>51.758668</td>\n",
       "      <td>NaN</td>\n",
       "    </tr>\n",
       "  </tbody>\n",
       "</table>\n",
       "</div>"
      ],
      "text/plain": [
       "           Fare    Age\n",
       "max         NaN  80.00\n",
       "mean  33.295479    NaN\n",
       "min         NaN   0.17\n",
       "std   51.758668    NaN"
      ]
     },
     "execution_count": 37,
     "metadata": {},
     "output_type": "execute_result"
    }
   ],
   "source": [
    "titanic.agg({'Fare': ['mean','std'], 'Age': ['min', 'max']})"
   ]
  },
  {
   "cell_type": "markdown",
   "metadata": {},
   "source": [
    "Or we can apply another operation not found in Pandas but in NumPy, or our own, as:"
   ]
  },
  {
   "cell_type": "code",
   "execution_count": 38,
   "metadata": {},
   "outputs": [
    {
     "data": {
      "text/plain": [
       "Age           28.00\n",
       "Fare          15.75\n",
       "n_parents      0.00\n",
       "n_siblings     0.00\n",
       "dtype: float64"
      ]
     },
     "execution_count": 38,
     "metadata": {},
     "output_type": "execute_result"
    }
   ],
   "source": [
    "titanic[['Age','Fare','n_parents','n_siblings']].dropna().apply(np.median)"
   ]
  },
  {
   "cell_type": "code",
   "execution_count": 39,
   "metadata": {},
   "outputs": [
    {
     "data": {
      "text/html": [
       "<div>\n",
       "<style scoped>\n",
       "    .dataframe tbody tr th:only-of-type {\n",
       "        vertical-align: middle;\n",
       "    }\n",
       "\n",
       "    .dataframe tbody tr th {\n",
       "        vertical-align: top;\n",
       "    }\n",
       "\n",
       "    .dataframe thead th {\n",
       "        text-align: right;\n",
       "    }\n",
       "</style>\n",
       "<table border=\"1\" class=\"dataframe\">\n",
       "  <thead>\n",
       "    <tr style=\"text-align: right;\">\n",
       "      <th></th>\n",
       "      <th>Age</th>\n",
       "      <th>Cabin</th>\n",
       "      <th>Port Embarked</th>\n",
       "      <th>Fare</th>\n",
       "      <th>Name</th>\n",
       "      <th>n_parents</th>\n",
       "      <th>Pclass</th>\n",
       "      <th>Sex</th>\n",
       "      <th>n_siblings</th>\n",
       "      <th>Survived</th>\n",
       "      <th>Ticket</th>\n",
       "      <th>Age_Fare_rat</th>\n",
       "    </tr>\n",
       "    <tr>\n",
       "      <th>PassengerId</th>\n",
       "      <th></th>\n",
       "      <th></th>\n",
       "      <th></th>\n",
       "      <th></th>\n",
       "      <th></th>\n",
       "      <th></th>\n",
       "      <th></th>\n",
       "      <th></th>\n",
       "      <th></th>\n",
       "      <th></th>\n",
       "      <th></th>\n",
       "      <th></th>\n",
       "    </tr>\n",
       "  </thead>\n",
       "  <tbody>\n",
       "    <tr>\n",
       "      <th>1</th>\n",
       "      <td>22.0</td>\n",
       "      <td>NaN</td>\n",
       "      <td>Southampton</td>\n",
       "      <td>7.2500</td>\n",
       "      <td>Braund, Mr. Owen Harris</td>\n",
       "      <td>0</td>\n",
       "      <td>3rd class</td>\n",
       "      <td>male</td>\n",
       "      <td>1</td>\n",
       "      <td>0</td>\n",
       "      <td>A/5 21171</td>\n",
       "      <td>3.034483</td>\n",
       "    </tr>\n",
       "    <tr>\n",
       "      <th>2</th>\n",
       "      <td>38.0</td>\n",
       "      <td>C85</td>\n",
       "      <td>Cherbourg</td>\n",
       "      <td>71.2833</td>\n",
       "      <td>Cumings, Mrs. John Bradley (Florence Briggs Th...</td>\n",
       "      <td>0</td>\n",
       "      <td>1st class</td>\n",
       "      <td>female</td>\n",
       "      <td>1</td>\n",
       "      <td>1</td>\n",
       "      <td>PC 17599</td>\n",
       "      <td>0.533084</td>\n",
       "    </tr>\n",
       "    <tr>\n",
       "      <th>3</th>\n",
       "      <td>26.0</td>\n",
       "      <td>NaN</td>\n",
       "      <td>Southampton</td>\n",
       "      <td>7.9250</td>\n",
       "      <td>Heikkinen, Miss. Laina</td>\n",
       "      <td>0</td>\n",
       "      <td>3rd class</td>\n",
       "      <td>female</td>\n",
       "      <td>0</td>\n",
       "      <td>1</td>\n",
       "      <td>STON/O2. 3101282</td>\n",
       "      <td>3.280757</td>\n",
       "    </tr>\n",
       "    <tr>\n",
       "      <th>4</th>\n",
       "      <td>35.0</td>\n",
       "      <td>C123</td>\n",
       "      <td>Southampton</td>\n",
       "      <td>53.1000</td>\n",
       "      <td>Futrelle, Mrs. Jacques Heath (Lily May Peel)</td>\n",
       "      <td>0</td>\n",
       "      <td>1st class</td>\n",
       "      <td>female</td>\n",
       "      <td>1</td>\n",
       "      <td>1</td>\n",
       "      <td>113803</td>\n",
       "      <td>0.659134</td>\n",
       "    </tr>\n",
       "    <tr>\n",
       "      <th>5</th>\n",
       "      <td>35.0</td>\n",
       "      <td>NaN</td>\n",
       "      <td>Southampton</td>\n",
       "      <td>8.0500</td>\n",
       "      <td>Allen, Mr. William Henry</td>\n",
       "      <td>0</td>\n",
       "      <td>3rd class</td>\n",
       "      <td>male</td>\n",
       "      <td>0</td>\n",
       "      <td>0</td>\n",
       "      <td>373450</td>\n",
       "      <td>4.347826</td>\n",
       "    </tr>\n",
       "  </tbody>\n",
       "</table>\n",
       "</div>"
      ],
      "text/plain": [
       "              Age Cabin Port Embarked     Fare  \\\n",
       "PassengerId                                      \n",
       "1            22.0   NaN   Southampton   7.2500   \n",
       "2            38.0   C85     Cherbourg  71.2833   \n",
       "3            26.0   NaN   Southampton   7.9250   \n",
       "4            35.0  C123   Southampton  53.1000   \n",
       "5            35.0   NaN   Southampton   8.0500   \n",
       "\n",
       "                                                          Name  n_parents  \\\n",
       "PassengerId                                                                 \n",
       "1                                      Braund, Mr. Owen Harris          0   \n",
       "2            Cumings, Mrs. John Bradley (Florence Briggs Th...          0   \n",
       "3                                       Heikkinen, Miss. Laina          0   \n",
       "4                 Futrelle, Mrs. Jacques Heath (Lily May Peel)          0   \n",
       "5                                     Allen, Mr. William Henry          0   \n",
       "\n",
       "                Pclass     Sex  n_siblings  Survived            Ticket  \\\n",
       "PassengerId                                                              \n",
       "1            3rd class    male           1         0         A/5 21171   \n",
       "2            1st class  female           1         1          PC 17599   \n",
       "3            3rd class  female           0         1  STON/O2. 3101282   \n",
       "4            1st class  female           1         1            113803   \n",
       "5            3rd class    male           0         0            373450   \n",
       "\n",
       "             Age_Fare_rat  \n",
       "PassengerId                \n",
       "1                3.034483  \n",
       "2                0.533084  \n",
       "3                3.280757  \n",
       "4                0.659134  \n",
       "5                4.347826  "
      ]
     },
     "execution_count": 39,
     "metadata": {},
     "output_type": "execute_result"
    }
   ],
   "source": [
    "def age_fare_ratio(x):\n",
    "    if (x.Fare > 0.):\n",
    "        return x.Age / x.Fare\n",
    "    else:\n",
    "        return 0.\n",
    "\n",
    "titanic['Age_Fare_rat'] = titanic.apply(age_fare_ratio, axis=1)\n",
    "titanic.head()"
   ]
  },
  {
   "cell_type": "markdown",
   "metadata": {},
   "source": [
    "One of the most powerful forms of aggregation is **groupby**. This allows us to perform an aggregation function not *only on one column*, but on multiple ones, allowing us to control for different factors:"
   ]
  },
  {
   "cell_type": "code",
   "execution_count": 40,
   "metadata": {},
   "outputs": [
    {
     "data": {
      "text/html": [
       "<div>\n",
       "<style scoped>\n",
       "    .dataframe tbody tr th:only-of-type {\n",
       "        vertical-align: middle;\n",
       "    }\n",
       "\n",
       "    .dataframe tbody tr th {\n",
       "        vertical-align: top;\n",
       "    }\n",
       "\n",
       "    .dataframe thead tr th {\n",
       "        text-align: left;\n",
       "    }\n",
       "\n",
       "    .dataframe thead tr:last-of-type th {\n",
       "        text-align: right;\n",
       "    }\n",
       "</style>\n",
       "<table border=\"1\" class=\"dataframe\">\n",
       "  <thead>\n",
       "    <tr>\n",
       "      <th></th>\n",
       "      <th></th>\n",
       "      <th colspan=\"2\" halign=\"left\">Age</th>\n",
       "      <th colspan=\"2\" halign=\"left\">Fare</th>\n",
       "      <th colspan=\"2\" halign=\"left\">n_parents</th>\n",
       "      <th colspan=\"2\" halign=\"left\">n_siblings</th>\n",
       "      <th colspan=\"2\" halign=\"left\">Survived</th>\n",
       "      <th colspan=\"2\" halign=\"left\">Age_Fare_rat</th>\n",
       "    </tr>\n",
       "    <tr>\n",
       "      <th></th>\n",
       "      <th></th>\n",
       "      <th>mean</th>\n",
       "      <th>std</th>\n",
       "      <th>mean</th>\n",
       "      <th>std</th>\n",
       "      <th>mean</th>\n",
       "      <th>std</th>\n",
       "      <th>mean</th>\n",
       "      <th>std</th>\n",
       "      <th>mean</th>\n",
       "      <th>std</th>\n",
       "      <th>mean</th>\n",
       "      <th>std</th>\n",
       "    </tr>\n",
       "    <tr>\n",
       "      <th>Sex</th>\n",
       "      <th>Pclass</th>\n",
       "      <th></th>\n",
       "      <th></th>\n",
       "      <th></th>\n",
       "      <th></th>\n",
       "      <th></th>\n",
       "      <th></th>\n",
       "      <th></th>\n",
       "      <th></th>\n",
       "      <th></th>\n",
       "      <th></th>\n",
       "      <th></th>\n",
       "      <th></th>\n",
       "    </tr>\n",
       "  </thead>\n",
       "  <tbody>\n",
       "    <tr>\n",
       "      <th rowspan=\"3\" valign=\"top\">female</th>\n",
       "      <th>1st class</th>\n",
       "      <td>37.037594</td>\n",
       "      <td>14.272460</td>\n",
       "      <td>109.412385</td>\n",
       "      <td>82.885854</td>\n",
       "      <td>0.472222</td>\n",
       "      <td>0.774998</td>\n",
       "      <td>0.555556</td>\n",
       "      <td>0.666667</td>\n",
       "      <td>0.979167</td>\n",
       "      <td>0.143325</td>\n",
       "      <td>0.537688</td>\n",
       "      <td>0.479183</td>\n",
       "    </tr>\n",
       "    <tr>\n",
       "      <th>2nd class</th>\n",
       "      <td>27.499223</td>\n",
       "      <td>12.911747</td>\n",
       "      <td>23.234827</td>\n",
       "      <td>11.239817</td>\n",
       "      <td>0.650943</td>\n",
       "      <td>0.862361</td>\n",
       "      <td>0.500000</td>\n",
       "      <td>0.636209</td>\n",
       "      <td>0.943396</td>\n",
       "      <td>0.232182</td>\n",
       "      <td>1.508919</td>\n",
       "      <td>1.040279</td>\n",
       "    </tr>\n",
       "    <tr>\n",
       "      <th>3rd class</th>\n",
       "      <td>22.185329</td>\n",
       "      <td>12.205254</td>\n",
       "      <td>15.324250</td>\n",
       "      <td>11.786512</td>\n",
       "      <td>0.731481</td>\n",
       "      <td>1.262014</td>\n",
       "      <td>0.791667</td>\n",
       "      <td>1.446126</td>\n",
       "      <td>0.666667</td>\n",
       "      <td>0.472500</td>\n",
       "      <td>2.036906</td>\n",
       "      <td>1.404201</td>\n",
       "    </tr>\n",
       "    <tr>\n",
       "      <th rowspan=\"3\" valign=\"top\">male</th>\n",
       "      <th>1st class</th>\n",
       "      <td>41.029272</td>\n",
       "      <td>14.578529</td>\n",
       "      <td>69.888385</td>\n",
       "      <td>74.079427</td>\n",
       "      <td>0.279330</td>\n",
       "      <td>0.653571</td>\n",
       "      <td>0.340782</td>\n",
       "      <td>0.541597</td>\n",
       "      <td>0.251397</td>\n",
       "      <td>0.435033</td>\n",
       "      <td>0.903206</td>\n",
       "      <td>0.792811</td>\n",
       "    </tr>\n",
       "    <tr>\n",
       "      <th>2nd class</th>\n",
       "      <td>30.815380</td>\n",
       "      <td>13.977400</td>\n",
       "      <td>19.904946</td>\n",
       "      <td>14.775149</td>\n",
       "      <td>0.192982</td>\n",
       "      <td>0.488886</td>\n",
       "      <td>0.327485</td>\n",
       "      <td>0.551260</td>\n",
       "      <td>0.099415</td>\n",
       "      <td>0.300097</td>\n",
       "      <td>1.920682</td>\n",
       "      <td>1.301327</td>\n",
       "    </tr>\n",
       "    <tr>\n",
       "      <th>3rd class</th>\n",
       "      <td>25.962264</td>\n",
       "      <td>11.682415</td>\n",
       "      <td>12.415462</td>\n",
       "      <td>11.261638</td>\n",
       "      <td>0.255578</td>\n",
       "      <td>0.788377</td>\n",
       "      <td>0.470588</td>\n",
       "      <td>1.218775</td>\n",
       "      <td>0.095335</td>\n",
       "      <td>0.293975</td>\n",
       "      <td>2.883671</td>\n",
       "      <td>1.709359</td>\n",
       "    </tr>\n",
       "  </tbody>\n",
       "</table>\n",
       "</div>"
      ],
      "text/plain": [
       "                        Age                   Fare            n_parents  \\\n",
       "                       mean        std        mean        std      mean   \n",
       "Sex    Pclass                                                             \n",
       "female 1st class  37.037594  14.272460  109.412385  82.885854  0.472222   \n",
       "       2nd class  27.499223  12.911747   23.234827  11.239817  0.650943   \n",
       "       3rd class  22.185329  12.205254   15.324250  11.786512  0.731481   \n",
       "male   1st class  41.029272  14.578529   69.888385  74.079427  0.279330   \n",
       "       2nd class  30.815380  13.977400   19.904946  14.775149  0.192982   \n",
       "       3rd class  25.962264  11.682415   12.415462  11.261638  0.255578   \n",
       "\n",
       "                           n_siblings            Survived            \\\n",
       "                       std       mean       std      mean       std   \n",
       "Sex    Pclass                                                         \n",
       "female 1st class  0.774998   0.555556  0.666667  0.979167  0.143325   \n",
       "       2nd class  0.862361   0.500000  0.636209  0.943396  0.232182   \n",
       "       3rd class  1.262014   0.791667  1.446126  0.666667  0.472500   \n",
       "male   1st class  0.653571   0.340782  0.541597  0.251397  0.435033   \n",
       "       2nd class  0.488886   0.327485  0.551260  0.099415  0.300097   \n",
       "       3rd class  0.788377   0.470588  1.218775  0.095335  0.293975   \n",
       "\n",
       "                 Age_Fare_rat            \n",
       "                         mean       std  \n",
       "Sex    Pclass                            \n",
       "female 1st class     0.537688  0.479183  \n",
       "       2nd class     1.508919  1.040279  \n",
       "       3rd class     2.036906  1.404201  \n",
       "male   1st class     0.903206  0.792811  \n",
       "       2nd class     1.920682  1.301327  \n",
       "       3rd class     2.883671  1.709359  "
      ]
     },
     "execution_count": 40,
     "metadata": {},
     "output_type": "execute_result"
    }
   ],
   "source": [
    "titanic.groupby(['Sex',\"Pclass\"]).agg(['mean', 'std'])"
   ]
  },
  {
   "cell_type": "markdown",
   "metadata": {},
   "source": [
    "#### Sorting, Ranking"
   ]
  },
  {
   "cell_type": "code",
   "execution_count": 41,
   "metadata": {},
   "outputs": [
    {
     "data": {
      "text/html": [
       "<div>\n",
       "<style scoped>\n",
       "    .dataframe tbody tr th:only-of-type {\n",
       "        vertical-align: middle;\n",
       "    }\n",
       "\n",
       "    .dataframe tbody tr th {\n",
       "        vertical-align: top;\n",
       "    }\n",
       "\n",
       "    .dataframe thead th {\n",
       "        text-align: right;\n",
       "    }\n",
       "</style>\n",
       "<table border=\"1\" class=\"dataframe\">\n",
       "  <thead>\n",
       "    <tr style=\"text-align: right;\">\n",
       "      <th></th>\n",
       "      <th>Age</th>\n",
       "      <th>Cabin</th>\n",
       "      <th>Port Embarked</th>\n",
       "      <th>Fare</th>\n",
       "      <th>Name</th>\n",
       "      <th>n_parents</th>\n",
       "      <th>Pclass</th>\n",
       "      <th>Sex</th>\n",
       "      <th>n_siblings</th>\n",
       "      <th>Survived</th>\n",
       "      <th>Ticket</th>\n",
       "      <th>Age_Fare_rat</th>\n",
       "    </tr>\n",
       "    <tr>\n",
       "      <th>PassengerId</th>\n",
       "      <th></th>\n",
       "      <th></th>\n",
       "      <th></th>\n",
       "      <th></th>\n",
       "      <th></th>\n",
       "      <th></th>\n",
       "      <th></th>\n",
       "      <th></th>\n",
       "      <th></th>\n",
       "      <th></th>\n",
       "      <th></th>\n",
       "      <th></th>\n",
       "    </tr>\n",
       "  </thead>\n",
       "  <tbody>\n",
       "    <tr>\n",
       "      <th>631</th>\n",
       "      <td>80.0</td>\n",
       "      <td>A23</td>\n",
       "      <td>Southampton</td>\n",
       "      <td>30.000</td>\n",
       "      <td>Barkworth, Mr. Algernon Henry Wilson</td>\n",
       "      <td>0</td>\n",
       "      <td>1st class</td>\n",
       "      <td>male</td>\n",
       "      <td>0</td>\n",
       "      <td>1</td>\n",
       "      <td>27042</td>\n",
       "      <td>2.666667</td>\n",
       "    </tr>\n",
       "    <tr>\n",
       "      <th>988</th>\n",
       "      <td>76.0</td>\n",
       "      <td>C46</td>\n",
       "      <td>Southampton</td>\n",
       "      <td>78.850</td>\n",
       "      <td>Cavendish, Mrs. Tyrell William (Julia Florence...</td>\n",
       "      <td>0</td>\n",
       "      <td>1st class</td>\n",
       "      <td>female</td>\n",
       "      <td>1</td>\n",
       "      <td>1</td>\n",
       "      <td>19877</td>\n",
       "      <td>0.963855</td>\n",
       "    </tr>\n",
       "    <tr>\n",
       "      <th>852</th>\n",
       "      <td>74.0</td>\n",
       "      <td>NaN</td>\n",
       "      <td>Southampton</td>\n",
       "      <td>7.775</td>\n",
       "      <td>Svensson, Mr. Johan</td>\n",
       "      <td>0</td>\n",
       "      <td>3rd class</td>\n",
       "      <td>male</td>\n",
       "      <td>0</td>\n",
       "      <td>0</td>\n",
       "      <td>347060</td>\n",
       "      <td>9.517685</td>\n",
       "    </tr>\n",
       "  </tbody>\n",
       "</table>\n",
       "</div>"
      ],
      "text/plain": [
       "              Age Cabin Port Embarked    Fare  \\\n",
       "PassengerId                                     \n",
       "631          80.0   A23   Southampton  30.000   \n",
       "988          76.0   C46   Southampton  78.850   \n",
       "852          74.0   NaN   Southampton   7.775   \n",
       "\n",
       "                                                          Name  n_parents  \\\n",
       "PassengerId                                                                 \n",
       "631                       Barkworth, Mr. Algernon Henry Wilson          0   \n",
       "988          Cavendish, Mrs. Tyrell William (Julia Florence...          0   \n",
       "852                                        Svensson, Mr. Johan          0   \n",
       "\n",
       "                Pclass     Sex  n_siblings  Survived  Ticket  Age_Fare_rat  \n",
       "PassengerId                                                                 \n",
       "631          1st class    male           0         1   27042      2.666667  \n",
       "988          1st class  female           1         1   19877      0.963855  \n",
       "852          3rd class    male           0         0  347060      9.517685  "
      ]
     },
     "execution_count": 41,
     "metadata": {},
     "output_type": "execute_result"
    }
   ],
   "source": [
    "titanic.sort_values(by='Age', ascending=False).head(3)"
   ]
  },
  {
   "cell_type": "code",
   "execution_count": 42,
   "metadata": {},
   "outputs": [
    {
     "data": {
      "text/html": [
       "<div>\n",
       "<style scoped>\n",
       "    .dataframe tbody tr th:only-of-type {\n",
       "        vertical-align: middle;\n",
       "    }\n",
       "\n",
       "    .dataframe tbody tr th {\n",
       "        vertical-align: top;\n",
       "    }\n",
       "\n",
       "    .dataframe thead th {\n",
       "        text-align: right;\n",
       "    }\n",
       "</style>\n",
       "<table border=\"1\" class=\"dataframe\">\n",
       "  <thead>\n",
       "    <tr style=\"text-align: right;\">\n",
       "      <th></th>\n",
       "      <th>Age</th>\n",
       "      <th>Cabin</th>\n",
       "      <th>Port Embarked</th>\n",
       "      <th>Fare</th>\n",
       "      <th>Name</th>\n",
       "      <th>n_parents</th>\n",
       "      <th>Pclass</th>\n",
       "      <th>Sex</th>\n",
       "      <th>n_siblings</th>\n",
       "      <th>Survived</th>\n",
       "      <th>Ticket</th>\n",
       "      <th>Age_Fare_rat</th>\n",
       "    </tr>\n",
       "    <tr>\n",
       "      <th>PassengerId</th>\n",
       "      <th></th>\n",
       "      <th></th>\n",
       "      <th></th>\n",
       "      <th></th>\n",
       "      <th></th>\n",
       "      <th></th>\n",
       "      <th></th>\n",
       "      <th></th>\n",
       "      <th></th>\n",
       "      <th></th>\n",
       "      <th></th>\n",
       "      <th></th>\n",
       "    </tr>\n",
       "  </thead>\n",
       "  <tbody>\n",
       "    <tr>\n",
       "      <th>1309</th>\n",
       "      <td>NaN</td>\n",
       "      <td>NaN</td>\n",
       "      <td>Cherbourg</td>\n",
       "      <td>22.3583</td>\n",
       "      <td>Peter, Master. Michael J</td>\n",
       "      <td>1</td>\n",
       "      <td>3rd class</td>\n",
       "      <td>male</td>\n",
       "      <td>1</td>\n",
       "      <td>0</td>\n",
       "      <td>2668</td>\n",
       "      <td>NaN</td>\n",
       "    </tr>\n",
       "    <tr>\n",
       "      <th>1308</th>\n",
       "      <td>NaN</td>\n",
       "      <td>NaN</td>\n",
       "      <td>Southampton</td>\n",
       "      <td>8.0500</td>\n",
       "      <td>Ware, Mr. Frederick</td>\n",
       "      <td>0</td>\n",
       "      <td>3rd class</td>\n",
       "      <td>male</td>\n",
       "      <td>0</td>\n",
       "      <td>0</td>\n",
       "      <td>359309</td>\n",
       "      <td>NaN</td>\n",
       "    </tr>\n",
       "    <tr>\n",
       "      <th>1307</th>\n",
       "      <td>38.5</td>\n",
       "      <td>NaN</td>\n",
       "      <td>Southampton</td>\n",
       "      <td>7.2500</td>\n",
       "      <td>Saether, Mr. Simon Sivertsen</td>\n",
       "      <td>0</td>\n",
       "      <td>3rd class</td>\n",
       "      <td>male</td>\n",
       "      <td>0</td>\n",
       "      <td>0</td>\n",
       "      <td>SOTON/O.Q. 3101262</td>\n",
       "      <td>5.310345</td>\n",
       "    </tr>\n",
       "  </tbody>\n",
       "</table>\n",
       "</div>"
      ],
      "text/plain": [
       "              Age Cabin Port Embarked     Fare                          Name  \\\n",
       "PassengerId                                                                    \n",
       "1309          NaN   NaN     Cherbourg  22.3583      Peter, Master. Michael J   \n",
       "1308          NaN   NaN   Southampton   8.0500           Ware, Mr. Frederick   \n",
       "1307         38.5   NaN   Southampton   7.2500  Saether, Mr. Simon Sivertsen   \n",
       "\n",
       "             n_parents     Pclass   Sex  n_siblings  Survived  \\\n",
       "PassengerId                                                     \n",
       "1309                 1  3rd class  male           1         0   \n",
       "1308                 0  3rd class  male           0         0   \n",
       "1307                 0  3rd class  male           0         0   \n",
       "\n",
       "                         Ticket  Age_Fare_rat  \n",
       "PassengerId                                    \n",
       "1309                       2668           NaN  \n",
       "1308                     359309           NaN  \n",
       "1307         SOTON/O.Q. 3101262      5.310345  "
      ]
     },
     "execution_count": 42,
     "metadata": {},
     "output_type": "execute_result"
    }
   ],
   "source": [
    "titanic.sort_index(ascending=False).head(3)"
   ]
  },
  {
   "cell_type": "code",
   "execution_count": 43,
   "metadata": {},
   "outputs": [
    {
     "data": {
      "text/html": [
       "<div>\n",
       "<style scoped>\n",
       "    .dataframe tbody tr th:only-of-type {\n",
       "        vertical-align: middle;\n",
       "    }\n",
       "\n",
       "    .dataframe tbody tr th {\n",
       "        vertical-align: top;\n",
       "    }\n",
       "\n",
       "    .dataframe thead th {\n",
       "        text-align: right;\n",
       "    }\n",
       "</style>\n",
       "<table border=\"1\" class=\"dataframe\">\n",
       "  <thead>\n",
       "    <tr style=\"text-align: right;\">\n",
       "      <th></th>\n",
       "      <th>Age</th>\n",
       "      <th>Cabin</th>\n",
       "      <th>Port Embarked</th>\n",
       "      <th>Fare</th>\n",
       "      <th>Name</th>\n",
       "      <th>n_parents</th>\n",
       "      <th>Pclass</th>\n",
       "      <th>Sex</th>\n",
       "      <th>n_siblings</th>\n",
       "      <th>Survived</th>\n",
       "      <th>Ticket</th>\n",
       "      <th>Age_Fare_rat</th>\n",
       "    </tr>\n",
       "    <tr>\n",
       "      <th>PassengerId</th>\n",
       "      <th></th>\n",
       "      <th></th>\n",
       "      <th></th>\n",
       "      <th></th>\n",
       "      <th></th>\n",
       "      <th></th>\n",
       "      <th></th>\n",
       "      <th></th>\n",
       "      <th></th>\n",
       "      <th></th>\n",
       "      <th></th>\n",
       "      <th></th>\n",
       "    </tr>\n",
       "  </thead>\n",
       "  <tbody>\n",
       "    <tr>\n",
       "      <th>1234</th>\n",
       "      <td>NaN</td>\n",
       "      <td>NaN</td>\n",
       "      <td>Southampton</td>\n",
       "      <td>69.550</td>\n",
       "      <td>Sage, Mr. John George</td>\n",
       "      <td>9</td>\n",
       "      <td>3rd class</td>\n",
       "      <td>male</td>\n",
       "      <td>1</td>\n",
       "      <td>0</td>\n",
       "      <td>CA. 2343</td>\n",
       "      <td>NaN</td>\n",
       "    </tr>\n",
       "    <tr>\n",
       "      <th>1257</th>\n",
       "      <td>NaN</td>\n",
       "      <td>NaN</td>\n",
       "      <td>Southampton</td>\n",
       "      <td>69.550</td>\n",
       "      <td>Sage, Mrs. John (Annie Bullen)</td>\n",
       "      <td>9</td>\n",
       "      <td>3rd class</td>\n",
       "      <td>female</td>\n",
       "      <td>1</td>\n",
       "      <td>1</td>\n",
       "      <td>CA. 2343</td>\n",
       "      <td>NaN</td>\n",
       "    </tr>\n",
       "    <tr>\n",
       "      <th>679</th>\n",
       "      <td>43.0</td>\n",
       "      <td>NaN</td>\n",
       "      <td>Southampton</td>\n",
       "      <td>46.900</td>\n",
       "      <td>Goodwin, Mrs. Frederick (Augusta Tyler)</td>\n",
       "      <td>6</td>\n",
       "      <td>3rd class</td>\n",
       "      <td>female</td>\n",
       "      <td>1</td>\n",
       "      <td>0</td>\n",
       "      <td>CA 2144</td>\n",
       "      <td>0.916844</td>\n",
       "    </tr>\n",
       "    <tr>\n",
       "      <th>1031</th>\n",
       "      <td>40.0</td>\n",
       "      <td>NaN</td>\n",
       "      <td>Southampton</td>\n",
       "      <td>46.900</td>\n",
       "      <td>Goodwin, Mr. Charles Frederick</td>\n",
       "      <td>6</td>\n",
       "      <td>3rd class</td>\n",
       "      <td>male</td>\n",
       "      <td>1</td>\n",
       "      <td>0</td>\n",
       "      <td>CA 2144</td>\n",
       "      <td>0.852878</td>\n",
       "    </tr>\n",
       "    <tr>\n",
       "      <th>886</th>\n",
       "      <td>39.0</td>\n",
       "      <td>NaN</td>\n",
       "      <td>Queenstown</td>\n",
       "      <td>29.125</td>\n",
       "      <td>Rice, Mrs. William (Margaret Norton)</td>\n",
       "      <td>5</td>\n",
       "      <td>3rd class</td>\n",
       "      <td>female</td>\n",
       "      <td>0</td>\n",
       "      <td>0</td>\n",
       "      <td>382652</td>\n",
       "      <td>1.339056</td>\n",
       "    </tr>\n",
       "  </tbody>\n",
       "</table>\n",
       "</div>"
      ],
      "text/plain": [
       "              Age Cabin Port Embarked    Fare  \\\n",
       "PassengerId                                     \n",
       "1234          NaN   NaN   Southampton  69.550   \n",
       "1257          NaN   NaN   Southampton  69.550   \n",
       "679          43.0   NaN   Southampton  46.900   \n",
       "1031         40.0   NaN   Southampton  46.900   \n",
       "886          39.0   NaN    Queenstown  29.125   \n",
       "\n",
       "                                                Name  n_parents     Pclass  \\\n",
       "PassengerId                                                                  \n",
       "1234                           Sage, Mr. John George          9  3rd class   \n",
       "1257                  Sage, Mrs. John (Annie Bullen)          9  3rd class   \n",
       "679          Goodwin, Mrs. Frederick (Augusta Tyler)          6  3rd class   \n",
       "1031                  Goodwin, Mr. Charles Frederick          6  3rd class   \n",
       "886             Rice, Mrs. William (Margaret Norton)          5  3rd class   \n",
       "\n",
       "                Sex  n_siblings  Survived    Ticket  Age_Fare_rat  \n",
       "PassengerId                                                        \n",
       "1234           male           1         0  CA. 2343           NaN  \n",
       "1257         female           1         1  CA. 2343           NaN  \n",
       "679          female           1         0   CA 2144      0.916844  \n",
       "1031           male           1         0   CA 2144      0.852878  \n",
       "886          female           0         0    382652      1.339056  "
      ]
     },
     "execution_count": 43,
     "metadata": {},
     "output_type": "execute_result"
    }
   ],
   "source": [
    "titanic.sort_values(by=['n_parents','Fare'], ascending=[False,True]).head()"
   ]
  },
  {
   "cell_type": "markdown",
   "metadata": {},
   "source": [
    "We can `rank()` each value relative to the others if desired:"
   ]
  },
  {
   "cell_type": "code",
   "execution_count": 44,
   "metadata": {},
   "outputs": [
    {
     "data": {
      "text/plain": [
       "PassengerId\n",
       "1     108.5\n",
       "2    1155.5\n",
       "3     349.0\n",
       "4    1091.5\n",
       "5     391.5\n",
       "Name: Fare, dtype: float64"
      ]
     },
     "execution_count": 44,
     "metadata": {},
     "output_type": "execute_result"
    }
   ],
   "source": [
    "titanic.Fare.rank().head()"
   ]
  },
  {
   "cell_type": "markdown",
   "metadata": {},
   "source": [
    "### Counts\n",
    "\n",
    "We can count the number of unique values in a column with `value_counts()` - incredibly useful!"
   ]
  },
  {
   "cell_type": "code",
   "execution_count": 45,
   "metadata": {},
   "outputs": [
    {
     "data": {
      "text/plain": [
       "0    815\n",
       "1    494\n",
       "Name: Survived, dtype: int64"
      ]
     },
     "execution_count": 45,
     "metadata": {},
     "output_type": "execute_result"
    }
   ],
   "source": [
    "titanic.Survived.value_counts()"
   ]
  },
  {
   "cell_type": "code",
   "execution_count": 46,
   "metadata": {},
   "outputs": [
    {
     "data": {
      "text/plain": [
       "male      843\n",
       "female    466\n",
       "Name: Sex, dtype: int64"
      ]
     },
     "execution_count": 46,
     "metadata": {},
     "output_type": "execute_result"
    }
   ],
   "source": [
    "titanic.Sex.value_counts()"
   ]
  },
  {
   "cell_type": "markdown",
   "metadata": {},
   "source": [
    "### Handling Complex String columns\n",
    "\n",
    "We may wish to break down the 'name' category into title, first and last names."
   ]
  },
  {
   "cell_type": "code",
   "execution_count": 47,
   "metadata": {},
   "outputs": [
    {
     "data": {
      "text/plain": [
       "PassengerId\n",
       "1                              Braund, Mr. Owen Harris\n",
       "2    Cumings, Mrs. John Bradley (Florence Briggs Th...\n",
       "3                               Heikkinen, Miss. Laina\n",
       "4         Futrelle, Mrs. Jacques Heath (Lily May Peel)\n",
       "5                             Allen, Mr. William Henry\n",
       "Name: Name, dtype: object"
      ]
     },
     "execution_count": 47,
     "metadata": {},
     "output_type": "execute_result"
    }
   ],
   "source": [
    "titanic.Name.head()"
   ]
  },
  {
   "cell_type": "code",
   "execution_count": 48,
   "metadata": {},
   "outputs": [
    {
     "data": {
      "text/html": [
       "<div>\n",
       "<style scoped>\n",
       "    .dataframe tbody tr th:only-of-type {\n",
       "        vertical-align: middle;\n",
       "    }\n",
       "\n",
       "    .dataframe tbody tr th {\n",
       "        vertical-align: top;\n",
       "    }\n",
       "\n",
       "    .dataframe thead th {\n",
       "        text-align: right;\n",
       "    }\n",
       "</style>\n",
       "<table border=\"1\" class=\"dataframe\">\n",
       "  <thead>\n",
       "    <tr style=\"text-align: right;\">\n",
       "      <th></th>\n",
       "      <th>Surname</th>\n",
       "      <th>Title</th>\n",
       "      <th>Forename</th>\n",
       "    </tr>\n",
       "    <tr>\n",
       "      <th>PassengerId</th>\n",
       "      <th></th>\n",
       "      <th></th>\n",
       "      <th></th>\n",
       "    </tr>\n",
       "  </thead>\n",
       "  <tbody>\n",
       "    <tr>\n",
       "      <th>1</th>\n",
       "      <td>Braund</td>\n",
       "      <td>Mr</td>\n",
       "      <td>Owen</td>\n",
       "    </tr>\n",
       "    <tr>\n",
       "      <th>2</th>\n",
       "      <td>Cumings</td>\n",
       "      <td>Mrs</td>\n",
       "      <td>John</td>\n",
       "    </tr>\n",
       "    <tr>\n",
       "      <th>3</th>\n",
       "      <td>Heikkinen</td>\n",
       "      <td>Miss</td>\n",
       "      <td>Laina</td>\n",
       "    </tr>\n",
       "    <tr>\n",
       "      <th>4</th>\n",
       "      <td>Futrelle</td>\n",
       "      <td>Mrs</td>\n",
       "      <td>Jacques</td>\n",
       "    </tr>\n",
       "    <tr>\n",
       "      <th>5</th>\n",
       "      <td>Allen</td>\n",
       "      <td>Mr</td>\n",
       "      <td>William</td>\n",
       "    </tr>\n",
       "  </tbody>\n",
       "</table>\n",
       "</div>"
      ],
      "text/plain": [
       "               Surname Title Forename\n",
       "PassengerId                          \n",
       "1               Braund    Mr     Owen\n",
       "2              Cumings   Mrs     John\n",
       "3            Heikkinen  Miss    Laina\n",
       "4             Futrelle   Mrs  Jacques\n",
       "5                Allen    Mr  William"
      ]
     },
     "execution_count": 48,
     "metadata": {},
     "output_type": "execute_result"
    }
   ],
   "source": [
    "complex_names = titanic.Name.str.extract(\"(?P<Surname>[a-zA-Z]+),\\s(?P<Title>[a-zA-Z]+).\\s(?P<Forename>[a-zA-Z]+)\",\n",
    "                         expand=True)\n",
    "complex_names.head()"
   ]
  },
  {
   "cell_type": "code",
   "execution_count": 49,
   "metadata": {},
   "outputs": [
    {
     "data": {
      "text/html": [
       "<div>\n",
       "<style scoped>\n",
       "    .dataframe tbody tr th:only-of-type {\n",
       "        vertical-align: middle;\n",
       "    }\n",
       "\n",
       "    .dataframe tbody tr th {\n",
       "        vertical-align: top;\n",
       "    }\n",
       "\n",
       "    .dataframe thead th {\n",
       "        text-align: right;\n",
       "    }\n",
       "</style>\n",
       "<table border=\"1\" class=\"dataframe\">\n",
       "  <thead>\n",
       "    <tr style=\"text-align: right;\">\n",
       "      <th></th>\n",
       "      <th>0</th>\n",
       "      <th>1</th>\n",
       "      <th>2</th>\n",
       "      <th>3</th>\n",
       "      <th>4</th>\n",
       "      <th>5</th>\n",
       "      <th>6</th>\n",
       "      <th>7</th>\n",
       "      <th>8</th>\n",
       "      <th>9</th>\n",
       "      <th>10</th>\n",
       "      <th>11</th>\n",
       "      <th>12</th>\n",
       "      <th>13</th>\n",
       "    </tr>\n",
       "    <tr>\n",
       "      <th>PassengerId</th>\n",
       "      <th></th>\n",
       "      <th></th>\n",
       "      <th></th>\n",
       "      <th></th>\n",
       "      <th></th>\n",
       "      <th></th>\n",
       "      <th></th>\n",
       "      <th></th>\n",
       "      <th></th>\n",
       "      <th></th>\n",
       "      <th></th>\n",
       "      <th></th>\n",
       "      <th></th>\n",
       "      <th></th>\n",
       "    </tr>\n",
       "  </thead>\n",
       "  <tbody>\n",
       "    <tr>\n",
       "      <th>1</th>\n",
       "      <td>Braund,</td>\n",
       "      <td>Mr.</td>\n",
       "      <td>Owen</td>\n",
       "      <td>Harris</td>\n",
       "      <td>None</td>\n",
       "      <td>None</td>\n",
       "      <td>None</td>\n",
       "      <td>None</td>\n",
       "      <td>None</td>\n",
       "      <td>None</td>\n",
       "      <td>None</td>\n",
       "      <td>None</td>\n",
       "      <td>None</td>\n",
       "      <td>None</td>\n",
       "    </tr>\n",
       "    <tr>\n",
       "      <th>2</th>\n",
       "      <td>Cumings,</td>\n",
       "      <td>Mrs.</td>\n",
       "      <td>John</td>\n",
       "      <td>Bradley</td>\n",
       "      <td>(Florence</td>\n",
       "      <td>Briggs</td>\n",
       "      <td>Thayer)</td>\n",
       "      <td>None</td>\n",
       "      <td>None</td>\n",
       "      <td>None</td>\n",
       "      <td>None</td>\n",
       "      <td>None</td>\n",
       "      <td>None</td>\n",
       "      <td>None</td>\n",
       "    </tr>\n",
       "    <tr>\n",
       "      <th>3</th>\n",
       "      <td>Heikkinen,</td>\n",
       "      <td>Miss.</td>\n",
       "      <td>Laina</td>\n",
       "      <td>None</td>\n",
       "      <td>None</td>\n",
       "      <td>None</td>\n",
       "      <td>None</td>\n",
       "      <td>None</td>\n",
       "      <td>None</td>\n",
       "      <td>None</td>\n",
       "      <td>None</td>\n",
       "      <td>None</td>\n",
       "      <td>None</td>\n",
       "      <td>None</td>\n",
       "    </tr>\n",
       "    <tr>\n",
       "      <th>4</th>\n",
       "      <td>Futrelle,</td>\n",
       "      <td>Mrs.</td>\n",
       "      <td>Jacques</td>\n",
       "      <td>Heath</td>\n",
       "      <td>(Lily</td>\n",
       "      <td>May</td>\n",
       "      <td>Peel)</td>\n",
       "      <td>None</td>\n",
       "      <td>None</td>\n",
       "      <td>None</td>\n",
       "      <td>None</td>\n",
       "      <td>None</td>\n",
       "      <td>None</td>\n",
       "      <td>None</td>\n",
       "    </tr>\n",
       "    <tr>\n",
       "      <th>5</th>\n",
       "      <td>Allen,</td>\n",
       "      <td>Mr.</td>\n",
       "      <td>William</td>\n",
       "      <td>Henry</td>\n",
       "      <td>None</td>\n",
       "      <td>None</td>\n",
       "      <td>None</td>\n",
       "      <td>None</td>\n",
       "      <td>None</td>\n",
       "      <td>None</td>\n",
       "      <td>None</td>\n",
       "      <td>None</td>\n",
       "      <td>None</td>\n",
       "      <td>None</td>\n",
       "    </tr>\n",
       "  </tbody>\n",
       "</table>\n",
       "</div>"
      ],
      "text/plain": [
       "                     0      1        2        3          4       5        6   \\\n",
       "PassengerId                                                                    \n",
       "1               Braund,    Mr.     Owen   Harris       None    None     None   \n",
       "2              Cumings,   Mrs.     John  Bradley  (Florence  Briggs  Thayer)   \n",
       "3            Heikkinen,  Miss.    Laina     None       None    None     None   \n",
       "4             Futrelle,   Mrs.  Jacques    Heath      (Lily     May    Peel)   \n",
       "5                Allen,    Mr.  William    Henry       None    None     None   \n",
       "\n",
       "               7     8     9     10    11    12    13  \n",
       "PassengerId                                            \n",
       "1            None  None  None  None  None  None  None  \n",
       "2            None  None  None  None  None  None  None  \n",
       "3            None  None  None  None  None  None  None  \n",
       "4            None  None  None  None  None  None  None  \n",
       "5            None  None  None  None  None  None  None  "
      ]
     },
     "execution_count": 49,
     "metadata": {},
     "output_type": "execute_result"
    }
   ],
   "source": [
    "# or alternatively, splitting a string by a common character, such as comma\n",
    "titanic.Name.str.split(\" \", expand=True).head()"
   ]
  },
  {
   "cell_type": "code",
   "execution_count": 50,
   "metadata": {},
   "outputs": [
    {
     "data": {
      "text/html": [
       "<div>\n",
       "<style scoped>\n",
       "    .dataframe tbody tr th:only-of-type {\n",
       "        vertical-align: middle;\n",
       "    }\n",
       "\n",
       "    .dataframe tbody tr th {\n",
       "        vertical-align: top;\n",
       "    }\n",
       "\n",
       "    .dataframe thead th {\n",
       "        text-align: right;\n",
       "    }\n",
       "</style>\n",
       "<table border=\"1\" class=\"dataframe\">\n",
       "  <thead>\n",
       "    <tr style=\"text-align: right;\">\n",
       "      <th></th>\n",
       "      <th>Surname</th>\n",
       "      <th>Title</th>\n",
       "      <th>Forename</th>\n",
       "      <th>Age</th>\n",
       "      <th>Cabin</th>\n",
       "      <th>Port Embarked</th>\n",
       "      <th>Fare</th>\n",
       "      <th>Name</th>\n",
       "      <th>n_parents</th>\n",
       "      <th>Pclass</th>\n",
       "      <th>Sex</th>\n",
       "      <th>n_siblings</th>\n",
       "      <th>Survived</th>\n",
       "      <th>Ticket</th>\n",
       "      <th>Age_Fare_rat</th>\n",
       "    </tr>\n",
       "    <tr>\n",
       "      <th>PassengerId</th>\n",
       "      <th></th>\n",
       "      <th></th>\n",
       "      <th></th>\n",
       "      <th></th>\n",
       "      <th></th>\n",
       "      <th></th>\n",
       "      <th></th>\n",
       "      <th></th>\n",
       "      <th></th>\n",
       "      <th></th>\n",
       "      <th></th>\n",
       "      <th></th>\n",
       "      <th></th>\n",
       "      <th></th>\n",
       "      <th></th>\n",
       "    </tr>\n",
       "  </thead>\n",
       "  <tbody>\n",
       "    <tr>\n",
       "      <th>1</th>\n",
       "      <td>Braund</td>\n",
       "      <td>Mr</td>\n",
       "      <td>Owen</td>\n",
       "      <td>22.0</td>\n",
       "      <td>NaN</td>\n",
       "      <td>Southampton</td>\n",
       "      <td>7.2500</td>\n",
       "      <td>Braund, Mr. Owen Harris</td>\n",
       "      <td>0</td>\n",
       "      <td>3rd class</td>\n",
       "      <td>male</td>\n",
       "      <td>1</td>\n",
       "      <td>0</td>\n",
       "      <td>A/5 21171</td>\n",
       "      <td>3.034483</td>\n",
       "    </tr>\n",
       "    <tr>\n",
       "      <th>2</th>\n",
       "      <td>Cumings</td>\n",
       "      <td>Mrs</td>\n",
       "      <td>John</td>\n",
       "      <td>38.0</td>\n",
       "      <td>C85</td>\n",
       "      <td>Cherbourg</td>\n",
       "      <td>71.2833</td>\n",
       "      <td>Cumings, Mrs. John Bradley (Florence Briggs Th...</td>\n",
       "      <td>0</td>\n",
       "      <td>1st class</td>\n",
       "      <td>female</td>\n",
       "      <td>1</td>\n",
       "      <td>1</td>\n",
       "      <td>PC 17599</td>\n",
       "      <td>0.533084</td>\n",
       "    </tr>\n",
       "    <tr>\n",
       "      <th>3</th>\n",
       "      <td>Heikkinen</td>\n",
       "      <td>Miss</td>\n",
       "      <td>Laina</td>\n",
       "      <td>26.0</td>\n",
       "      <td>NaN</td>\n",
       "      <td>Southampton</td>\n",
       "      <td>7.9250</td>\n",
       "      <td>Heikkinen, Miss. Laina</td>\n",
       "      <td>0</td>\n",
       "      <td>3rd class</td>\n",
       "      <td>female</td>\n",
       "      <td>0</td>\n",
       "      <td>1</td>\n",
       "      <td>STON/O2. 3101282</td>\n",
       "      <td>3.280757</td>\n",
       "    </tr>\n",
       "    <tr>\n",
       "      <th>4</th>\n",
       "      <td>Futrelle</td>\n",
       "      <td>Mrs</td>\n",
       "      <td>Jacques</td>\n",
       "      <td>35.0</td>\n",
       "      <td>C123</td>\n",
       "      <td>Southampton</td>\n",
       "      <td>53.1000</td>\n",
       "      <td>Futrelle, Mrs. Jacques Heath (Lily May Peel)</td>\n",
       "      <td>0</td>\n",
       "      <td>1st class</td>\n",
       "      <td>female</td>\n",
       "      <td>1</td>\n",
       "      <td>1</td>\n",
       "      <td>113803</td>\n",
       "      <td>0.659134</td>\n",
       "    </tr>\n",
       "    <tr>\n",
       "      <th>5</th>\n",
       "      <td>Allen</td>\n",
       "      <td>Mr</td>\n",
       "      <td>William</td>\n",
       "      <td>35.0</td>\n",
       "      <td>NaN</td>\n",
       "      <td>Southampton</td>\n",
       "      <td>8.0500</td>\n",
       "      <td>Allen, Mr. William Henry</td>\n",
       "      <td>0</td>\n",
       "      <td>3rd class</td>\n",
       "      <td>male</td>\n",
       "      <td>0</td>\n",
       "      <td>0</td>\n",
       "      <td>373450</td>\n",
       "      <td>4.347826</td>\n",
       "    </tr>\n",
       "  </tbody>\n",
       "</table>\n",
       "</div>"
      ],
      "text/plain": [
       "               Surname Title Forename   Age Cabin Port Embarked     Fare  \\\n",
       "PassengerId                                                                \n",
       "1               Braund    Mr     Owen  22.0   NaN   Southampton   7.2500   \n",
       "2              Cumings   Mrs     John  38.0   C85     Cherbourg  71.2833   \n",
       "3            Heikkinen  Miss    Laina  26.0   NaN   Southampton   7.9250   \n",
       "4             Futrelle   Mrs  Jacques  35.0  C123   Southampton  53.1000   \n",
       "5                Allen    Mr  William  35.0   NaN   Southampton   8.0500   \n",
       "\n",
       "                                                          Name  n_parents  \\\n",
       "PassengerId                                                                 \n",
       "1                                      Braund, Mr. Owen Harris          0   \n",
       "2            Cumings, Mrs. John Bradley (Florence Briggs Th...          0   \n",
       "3                                       Heikkinen, Miss. Laina          0   \n",
       "4                 Futrelle, Mrs. Jacques Heath (Lily May Peel)          0   \n",
       "5                                     Allen, Mr. William Henry          0   \n",
       "\n",
       "                Pclass     Sex  n_siblings  Survived            Ticket  \\\n",
       "PassengerId                                                              \n",
       "1            3rd class    male           1         0         A/5 21171   \n",
       "2            1st class  female           1         1          PC 17599   \n",
       "3            3rd class  female           0         1  STON/O2. 3101282   \n",
       "4            1st class  female           1         1            113803   \n",
       "5            3rd class    male           0         0            373450   \n",
       "\n",
       "             Age_Fare_rat  \n",
       "PassengerId                \n",
       "1                3.034483  \n",
       "2                0.533084  \n",
       "3                3.280757  \n",
       "4                0.659134  \n",
       "5                4.347826  "
      ]
     },
     "execution_count": 50,
     "metadata": {},
     "output_type": "execute_result"
    }
   ],
   "source": [
    "# make a new titanic with names appended!\n",
    "titanic = pd.concat([ complex_names, titanic ], axis=1)\n",
    "titanic.head()"
   ]
  },
  {
   "cell_type": "markdown",
   "metadata": {},
   "source": [
    "# Tasks\n",
    "\n",
    "The titanic dataset is a rich dataset to begin using Pandas with, as it is not too large or cumbersome and has plenty of categorical variables to work with.\n",
    "\n",
    "### Task 1.\n",
    "\n",
    "Select all of the passengers who are under the age of 30 and calculate the mean Fare that they paid, by gender."
   ]
  },
  {
   "cell_type": "code",
   "execution_count": 51,
   "metadata": {},
   "outputs": [
    {
     "data": {
      "text/plain": [
       "Sex\n",
       "female    37.062521\n",
       "male      22.954652\n",
       "Name: Fare, dtype: float64"
      ]
     },
     "execution_count": 51,
     "metadata": {},
     "output_type": "execute_result"
    }
   ],
   "source": [
    "# your answer here\n",
    "titanic.query(\"Age < 30\").groupby(\"Sex\").Fare.mean()"
   ]
  },
  {
   "cell_type": "markdown",
   "metadata": {},
   "source": [
    "### Task 2.\n",
    "\n",
    "Calculate the number of people that embarked from each port; by sex, survival and class."
   ]
  },
  {
   "cell_type": "code",
   "execution_count": 59,
   "metadata": {
    "scrolled": false
   },
   "outputs": [
    {
     "data": {
      "text/plain": [
       "Sex     Survived  Pclass     Port Embarked\n",
       "female  0         1st class  Cherbourg          1\n",
       "                             Southampton        2\n",
       "                  2nd class  Southampton        5\n",
       "                  3rd class  Cherbourg          7\n",
       "                             Queenstown         9\n",
       "                             Southampton       54\n",
       "        1         1st class  Cherbourg         69\n",
       "                             Queenstown         2\n",
       "                             Southampton       66\n",
       "                  2nd class  Cherbourg         11\n",
       "                             Queenstown         2\n",
       "                             Southampton       77\n",
       "                  3rd class  Cherbourg         22\n",
       "                             Queenstown        47\n",
       "                             Southampton       70\n",
       "male    0         1st class  Cherbourg         53\n",
       "                             Queenstown         1\n",
       "                             Southampton       80\n",
       "                  2nd class  Cherbourg         15\n",
       "                             Queenstown         5\n",
       "                             Southampton      134\n",
       "                  3rd class  Cherbourg         60\n",
       "                             Queenstown        54\n",
       "                             Southampton      332\n",
       "        1         1st class  Cherbourg         17\n",
       "                             Southampton       28\n",
       "                  2nd class  Cherbourg          2\n",
       "                             Southampton       15\n",
       "                  3rd class  Cherbourg         10\n",
       "                             Queenstown         3\n",
       "                             Southampton       34\n",
       "Name: Forename, dtype: int64"
      ]
     },
     "execution_count": 59,
     "metadata": {},
     "output_type": "execute_result"
    }
   ],
   "source": [
    "# your answer here\n",
    "titanic.groupby([\"Sex\",\"Survived\",\"Pclass\",\"Port Embarked\"]).count().Forename"
   ]
  },
  {
   "cell_type": "markdown",
   "metadata": {},
   "source": [
    "### Task 3. \n",
    "\n",
    "The **Gini coefficient** is a measure of dispersion usually related to represent an income or wealth distribution between individuals, which always exists between 0 and 1.\n",
    "\n",
    "Gini coefficients of 0 express perfect equality, whereby coefficients of 1 expresses maximal inequality among values.\n",
    "\n",
    "The gini coefficient is calculated in a sample, that is indexed in a non-decreasing fashion ($y_i \\leq y_{i+1}$), $i=1,2,\\dots,n$ as:\n",
    "\n",
    "$$\n",
    "G=\\frac{1}{n}\\left(n+1-2\\frac{\\sum_{i=1}^n\\left(n+1-i\\right)y_i}{\\sum_{i=1}^n y_i}\\right)\n",
    "$$\n",
    "\n",
    "where $y_i$ refers to a continuous value representing wealth, and $i$ refers to the index.\n",
    "\n",
    "Write a function `gini` that calculates the gini index for an array, and calculate the Titanics' Fare distribution equality."
   ]
  },
  {
   "cell_type": "code",
   "execution_count": 88,
   "metadata": {},
   "outputs": [],
   "source": [
    "def gini(x):\n",
    "    xl = len(x)\n",
    "    return (1./(xl - 1))*(xl + 1 - 2*(((x*(xl+1-np.arange(xl))).sum())/(x.sum())))"
   ]
  },
  {
   "cell_type": "code",
   "execution_count": 89,
   "metadata": {},
   "outputs": [
    {
     "data": {
      "text/plain": [
       "0.5782268521909104"
      ]
     },
     "execution_count": 89,
     "metadata": {},
     "output_type": "execute_result"
    }
   ],
   "source": [
    "gini(titanic.Fare.sort_values().dropna().reset_index(drop=True))"
   ]
  }
 ],
 "metadata": {
  "kernelspec": {
   "display_name": "Python [default]",
   "language": "python",
   "name": "python3"
  },
  "language_info": {
   "codemirror_mode": {
    "name": "ipython",
    "version": 3
   },
   "file_extension": ".py",
   "mimetype": "text/x-python",
   "name": "python",
   "nbconvert_exporter": "python",
   "pygments_lexer": "ipython3",
   "version": "3.5.6"
  }
 },
 "nbformat": 4,
 "nbformat_minor": 2
}
