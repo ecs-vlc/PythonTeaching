{
 "cells": [
  {
   "cell_type": "markdown",
   "metadata": {},
   "source": [
    "# 2. NumPy Basics\n",
    "\n",
    "NumPy (Numerical Python) is the core library for scientific computing in Python. It provides a high-performance multi-dimensional array object, and tools for working with these arrays. The arrays are implemented in C and Python merely provides a front-end, making function operations across the array *considerably faster* for large datasets compared to using lists. A numpy array is a grid of values, all of the same type, and is indexed by a tuple of nonnegative integers. The number of dimensions is the rank of the array; the shape of an array is a tuple of integers giving the size of the array along each dimension.\n",
    "\n",
    "NumPy arrays therefore **must** be the same datatype (float, int etc).\n",
    "\n",
    "The flow of this notebook is as follows:\n",
    "1. Creating an array\n",
    "2. Creating zeros, ones, linspace...\n",
    "3. Generating random numbers\n",
    "4. Inspecting the array\n",
    "5. Arithmetic operations\n",
    "6. Aggregation\n",
    "7. Subsetting, slicing, indexing\n",
    "\n",
    "\n",
    "We use the following convention **np** for numpy import:"
   ]
  },
  {
   "cell_type": "code",
   "execution_count": null,
   "metadata": {},
   "outputs": [],
   "source": [
    "import numpy as np"
   ]
  },
  {
   "cell_type": "markdown",
   "metadata": {},
   "source": [
    "## Creating an array\n",
    "\n",
    "We can initialize numpy arrays from nested Python lists, and access elements using square brackets:"
   ]
  },
  {
   "cell_type": "code",
   "execution_count": null,
   "metadata": {},
   "outputs": [],
   "source": [
    "# 1-d floats\n",
    "a = np.array([6.0, -1.0, 5.0, -3.0])\n",
    "a"
   ]
  },
  {
   "cell_type": "code",
   "execution_count": null,
   "metadata": {
    "scrolled": true
   },
   "outputs": [],
   "source": [
    "# 2-d ints\n",
    "b = np.array([[3.0, 2.0],[1.0, 2.0]], dtype=int)\n",
    "b"
   ]
  },
  {
   "cell_type": "code",
   "execution_count": null,
   "metadata": {},
   "outputs": [],
   "source": [
    "type(a)"
   ]
  },
  {
   "cell_type": "code",
   "execution_count": null,
   "metadata": {},
   "outputs": [],
   "source": [
    "b.shape"
   ]
  },
  {
   "cell_type": "markdown",
   "metadata": {},
   "source": [
    "## Creating zeros, ones, linspace, identity matrix...\n",
    "\n",
    "Numpy also provides many functions to create arrays from the same value or not, for example `zeros()` creates an array full of zeros, given a specific size (or tuple of dimensions!), and `linspace()` creates an incrementally-ordered vector of numbers between two given values, and given a size."
   ]
  },
  {
   "cell_type": "code",
   "execution_count": null,
   "metadata": {
    "scrolled": true
   },
   "outputs": [],
   "source": [
    "c = np.zeros((4,2,3))\n",
    "c"
   ]
  },
  {
   "cell_type": "markdown",
   "metadata": {},
   "source": [
    "We can also specify the data type we want the array to store. By default, `NumPy` creates every array to be `float64`-bit. This can be hugely beneficial when considering to be memory-efficient (such as loading in `int` images of RGB):"
   ]
  },
  {
   "cell_type": "code",
   "execution_count": null,
   "metadata": {
    "scrolled": false
   },
   "outputs": [],
   "source": [
    "d = np.ones((2,2), dtype=np.int)\n",
    "d"
   ]
  },
  {
   "cell_type": "code",
   "execution_count": null,
   "metadata": {},
   "outputs": [],
   "source": [
    "dh = np.full((2,3), 7)\n",
    "dh"
   ]
  },
  {
   "cell_type": "markdown",
   "metadata": {},
   "source": [
    "`arange()` is similar to `linspace()`, except the third parameter specifies a **step size** rather than a dimension size."
   ]
  },
  {
   "cell_type": "code",
   "execution_count": null,
   "metadata": {},
   "outputs": [],
   "source": [
    "e = np.arange(0, 10, .5, dtype=float)\n",
    "e"
   ]
  },
  {
   "cell_type": "code",
   "execution_count": null,
   "metadata": {},
   "outputs": [],
   "source": [
    "f = np.linspace(0, 5, 11)\n",
    "f"
   ]
  },
  {
   "cell_type": "code",
   "execution_count": null,
   "metadata": {},
   "outputs": [],
   "source": [
    "g = np.eye(4)\n",
    "g"
   ]
  },
  {
   "cell_type": "markdown",
   "metadata": {},
   "source": [
    "## Generating Random Numbers\n",
    "\n",
    "In addition to static numbers, we can use random-number generators to generate full arrays/matrices:"
   ]
  },
  {
   "cell_type": "code",
   "execution_count": null,
   "metadata": {},
   "outputs": [],
   "source": [
    "# uniform - between 0 and 1 by default\n",
    "h = np.random.rand(5)\n",
    "h"
   ]
  },
  {
   "cell_type": "code",
   "execution_count": null,
   "metadata": {},
   "outputs": [],
   "source": [
    "# normal distribution with mean = 0. variance = 1\n",
    "i = np.random.randn(10)\n",
    "i"
   ]
  },
  {
   "cell_type": "code",
   "execution_count": null,
   "metadata": {},
   "outputs": [],
   "source": [
    "# normal distribution with mean, variance specified\n",
    "ih = np.random.normal(loc=5., scale=2., size=(10,))\n",
    "ih"
   ]
  },
  {
   "cell_type": "code",
   "execution_count": null,
   "metadata": {},
   "outputs": [],
   "source": [
    "# generate integers uniformly between 4 <= x < 10 (not including 10)\n",
    "j = np.random.randint(4,10,(4,4))\n",
    "j"
   ]
  },
  {
   "cell_type": "markdown",
   "metadata": {},
   "source": [
    "## Data Types"
   ]
  },
  {
   "cell_type": "code",
   "execution_count": null,
   "metadata": {},
   "outputs": [],
   "source": [
    "print(np.int64)\n",
    "print(np.float64)\n",
    "print(np.bool)\n",
    "print(np.string_)"
   ]
  },
  {
   "cell_type": "markdown",
   "metadata": {},
   "source": [
    "## Array shape\n",
    "\n",
    "Returns a *tuple* whereby the first number represents the **number of rows** (FORTRAN-style memory-mapping!), the second number represents the **number of columns** and so on into higher dimensions."
   ]
  },
  {
   "cell_type": "code",
   "execution_count": null,
   "metadata": {},
   "outputs": [],
   "source": [
    "print(a.shape)\n",
    "print(j.shape)\n",
    "print(c.shape)"
   ]
  },
  {
   "cell_type": "code",
   "execution_count": null,
   "metadata": {},
   "outputs": [],
   "source": [
    "# the number of dimensions!\n",
    "b.ndim"
   ]
  },
  {
   "cell_type": "code",
   "execution_count": null,
   "metadata": {},
   "outputs": [],
   "source": [
    "print(a.dtype)\n",
    "print(b.dtype)"
   ]
  },
  {
   "cell_type": "markdown",
   "metadata": {},
   "source": [
    "We can **cast** a numpy array into another type, but this can be expensive if large!"
   ]
  },
  {
   "cell_type": "code",
   "execution_count": null,
   "metadata": {},
   "outputs": [],
   "source": [
    "# cast\n",
    "b.astype(np.float64)"
   ]
  },
  {
   "cell_type": "markdown",
   "metadata": {},
   "source": [
    "## Arithmetic Operations\n",
    "\n",
    "Elementwise addition, subtraction, multiplication and division!"
   ]
  },
  {
   "cell_type": "code",
   "execution_count": null,
   "metadata": {},
   "outputs": [],
   "source": [
    "a = np.arange(16).reshape(4,4)\n",
    "a"
   ]
  },
  {
   "cell_type": "code",
   "execution_count": null,
   "metadata": {},
   "outputs": [],
   "source": [
    "b = np.eye(4) * 3\n",
    "b"
   ]
  },
  {
   "cell_type": "code",
   "execution_count": null,
   "metadata": {},
   "outputs": [],
   "source": [
    "a + b"
   ]
  },
  {
   "cell_type": "code",
   "execution_count": null,
   "metadata": {},
   "outputs": [],
   "source": [
    "c = np.linspace(0,9,4)\n",
    "c"
   ]
  },
  {
   "cell_type": "code",
   "execution_count": null,
   "metadata": {},
   "outputs": [],
   "source": [
    "# treats c vector as applied to every row - not dot!\n",
    "a * c"
   ]
  },
  {
   "cell_type": "code",
   "execution_count": null,
   "metadata": {},
   "outputs": [],
   "source": [
    "np.sin(a)"
   ]
  },
  {
   "cell_type": "code",
   "execution_count": null,
   "metadata": {},
   "outputs": [],
   "source": [
    "np.dot(a,c)"
   ]
  },
  {
   "cell_type": "code",
   "execution_count": null,
   "metadata": {},
   "outputs": [],
   "source": [
    "import matplotlib.pyplot as plt\n",
    "%matplotlib inline"
   ]
  },
  {
   "cell_type": "code",
   "execution_count": null,
   "metadata": {},
   "outputs": [],
   "source": [
    "# useful when wanting to apply functions to all values!\n",
    "x = np.linspace(-np.pi*3,np.pi*3,100)\n",
    "y = np.sin(x)\n",
    "plt.plot(x,y)"
   ]
  },
  {
   "cell_type": "code",
   "execution_count": null,
   "metadata": {},
   "outputs": [],
   "source": [
    "b = y+1\n",
    "c = y*2\n",
    "d = -y\n",
    "e = np.sin(2*x)\n",
    "plt.plot(x,y,'k-',label=\"norm\")\n",
    "plt.plot(x,b,'r--',label=\"y+1\")\n",
    "plt.plot(x,c,'g--',label=\"y*2\")\n",
    "plt.plot(x,d,'b--',label=\"-y\")\n",
    "plt.plot(x,e,'x--',label=\"y**2\")\n",
    "plt.legend()"
   ]
  },
  {
   "cell_type": "code",
   "execution_count": null,
   "metadata": {
    "scrolled": true
   },
   "outputs": [],
   "source": [
    "np.sqrt(b)"
   ]
  },
  {
   "cell_type": "markdown",
   "metadata": {},
   "source": [
    "## Aggregation\n",
    "\n",
    "Merging together values by row/column is very important. We may wish to consider the *average* value in a sample, let's say the average height in a group of individuals or the variance of weights across individuals. These methods condense down a vector of individual values regarding height or weight down to a *single value*.\n",
    "\n",
    "**NumPy** provides not only the functionality to do this with vectors, but provides aggregation using *matrices* by column or by row. For instance, if we had measuring the change in weight for individuals (where rows represent time, columns represent individuals), we may take the average weight across all individuals to explore the *mean weight* across time."
   ]
  },
  {
   "cell_type": "code",
   "execution_count": null,
   "metadata": {},
   "outputs": [],
   "source": [
    "x = np.random.randn(1000)\n",
    "x.mean()"
   ]
  },
  {
   "cell_type": "code",
   "execution_count": null,
   "metadata": {},
   "outputs": [],
   "source": [
    "x.std()"
   ]
  },
  {
   "cell_type": "code",
   "execution_count": null,
   "metadata": {},
   "outputs": [],
   "source": [
    "print(a)\n",
    "print(a.mean(axis=0))\n",
    "print(a.mean(axis=1))"
   ]
  },
  {
   "cell_type": "code",
   "execution_count": null,
   "metadata": {},
   "outputs": [],
   "source": [
    "a.cumsum()"
   ]
  },
  {
   "cell_type": "code",
   "execution_count": null,
   "metadata": {},
   "outputs": [],
   "source": [
    "f = np.random.randn(1000)"
   ]
  },
  {
   "cell_type": "code",
   "execution_count": null,
   "metadata": {},
   "outputs": [],
   "source": [
    "np.corrcoef(x,f)"
   ]
  },
  {
   "cell_type": "code",
   "execution_count": null,
   "metadata": {},
   "outputs": [],
   "source": [
    "plt.scatter(x,f, alpha=.3)"
   ]
  },
  {
   "cell_type": "code",
   "execution_count": null,
   "metadata": {},
   "outputs": [],
   "source": [
    "# applying covariance matrix\n",
    "g = np.random.randn(1000,2)\n",
    "c = np.array([[2., 1.],[1., 2.]])\n",
    "# dot random values with covariance matrix\n",
    "h = np.dot(g,c)\n",
    "print(np.corrcoef(h[:,0],h[:,1]))"
   ]
  },
  {
   "cell_type": "code",
   "execution_count": null,
   "metadata": {},
   "outputs": [],
   "source": [
    "plt.scatter(h[:,0], h[:,1], alpha=.5, s=20.)"
   ]
  },
  {
   "cell_type": "code",
   "execution_count": null,
   "metadata": {},
   "outputs": [],
   "source": [
    "print(\"max: %f, min: %f, std: %f, sum: %f\" % (h.max(), h.min(), h.std(), h.sum()))"
   ]
  },
  {
   "cell_type": "code",
   "execution_count": null,
   "metadata": {},
   "outputs": [],
   "source": [
    "s = np.random.randint(0,100,(30,))\n",
    "np.sort(s)"
   ]
  },
  {
   "cell_type": "code",
   "execution_count": null,
   "metadata": {},
   "outputs": [],
   "source": [
    "# error bars\n",
    "N = 100\n",
    "P = 10\n",
    "# normal(mean, variance, size)\n",
    "s = np.random.normal(1.0, 0.5, size=(N,P))\n",
    "t = np.arange(N)\n",
    "sm = s.mean(axis=1)\n",
    "sd = s.std(axis=1)\n",
    "plt.plot(t,sm,'r-')\n",
    "plt.fill_between(t, sm + sd, sm - sd, color='r', alpha=.4)\n",
    "plt.xlabel(\"t\")\n",
    "plt.ylabel(r\"$\\epsilon$\")"
   ]
  },
  {
   "cell_type": "markdown",
   "metadata": {},
   "source": [
    "## Subsetting, Slicing, Indexing\n",
    "\n",
    "Numpy offers several ways to index into arrays.\n",
    "\n",
    "*Slicing*: Similar to Python lists, numpy arrays can be sliced. Since arrays may be multidimensional, you must specify a slice for each dimension of the array:"
   ]
  },
  {
   "cell_type": "code",
   "execution_count": null,
   "metadata": {},
   "outputs": [],
   "source": [
    "# Create the following rank 2 array with shape (3, 4)\n",
    "# [[ 1  2  3  4]\n",
    "#  [ 5  6  7  8]\n",
    "#  [ 9 10 11 12]]\n",
    "a = np.array([[1,2,3,4], [5,6,7,8], [9,10,11,12]])\n",
    "a"
   ]
  },
  {
   "cell_type": "code",
   "execution_count": null,
   "metadata": {},
   "outputs": [],
   "source": [
    "a[2, 1]"
   ]
  },
  {
   "cell_type": "code",
   "execution_count": null,
   "metadata": {},
   "outputs": [],
   "source": [
    "a[:2, 1:3]"
   ]
  },
  {
   "cell_type": "code",
   "execution_count": null,
   "metadata": {},
   "outputs": [],
   "source": [
    "# all row values for column 1\n",
    "a[:,1]"
   ]
  },
  {
   "cell_type": "code",
   "execution_count": null,
   "metadata": {},
   "outputs": [],
   "source": [
    "# use boolean mask selection\n",
    "a[(a < 7) | (a > 10)]"
   ]
  },
  {
   "cell_type": "code",
   "execution_count": null,
   "metadata": {},
   "outputs": [],
   "source": [
    "# reverse, reverse!\n",
    "a[::-1]"
   ]
  },
  {
   "cell_type": "markdown",
   "metadata": {},
   "source": [
    "We can also **change** a value when accessing a single value *or* subset:"
   ]
  },
  {
   "cell_type": "code",
   "execution_count": null,
   "metadata": {},
   "outputs": [],
   "source": [
    "a[2,2] = 25\n",
    "a"
   ]
  },
  {
   "cell_type": "markdown",
   "metadata": {},
   "source": [
    "### Copies vs Views\n",
    "\n",
    "A common **gotcha** moment.\n",
    "\n",
    "When we use 'slice' notation to look at part of an array, it produces a *view*, meaning it points to the same memory of the original array. If we use *fancy-indexing*, it will assign direct changes to the array.\n",
    "\n",
    "#### example:"
   ]
  },
  {
   "cell_type": "code",
   "execution_count": null,
   "metadata": {},
   "outputs": [],
   "source": [
    "x = np.arange(10)\n",
    "print(x)"
   ]
  },
  {
   "cell_type": "code",
   "execution_count": null,
   "metadata": {},
   "outputs": [],
   "source": [
    "y = x[::2]\n",
    "print(y)"
   ]
  },
  {
   "cell_type": "code",
   "execution_count": null,
   "metadata": {},
   "outputs": [],
   "source": [
    "y[3] = 100\n",
    "print(y)\n",
    "print(x)"
   ]
  },
  {
   "cell_type": "markdown",
   "metadata": {},
   "source": [
    "## Dot products\n",
    "\n",
    "Note that unlike MATLAB, `*` is elementwise multiplication, not matrix multiplication. We instead use the `dot` function to compute inner products of vectors, to multiply a vector by a matrix, and to multiply matrices. `dot` is available both as a function in the numpy module and as an instance method of array objects:"
   ]
  },
  {
   "cell_type": "code",
   "execution_count": null,
   "metadata": {},
   "outputs": [],
   "source": [
    "a = np.arange(9).reshape(3,3)\n",
    "b = np.arange(3)\n",
    "c = np.full(3, 2)"
   ]
  },
  {
   "cell_type": "code",
   "execution_count": null,
   "metadata": {},
   "outputs": [],
   "source": [
    "# vector-vector dot product (scalar product)\n",
    "print(b, c)\n",
    "np.dot(b, c)"
   ]
  },
  {
   "cell_type": "code",
   "execution_count": null,
   "metadata": {},
   "outputs": [],
   "source": [
    "# matrix-vector dot product\n",
    "print(a,b)\n",
    "np.dot(a,b)"
   ]
  },
  {
   "cell_type": "code",
   "execution_count": null,
   "metadata": {
    "scrolled": true
   },
   "outputs": [],
   "source": [
    "# matrix-matrix dot product\n",
    "a.dot(a)"
   ]
  },
  {
   "cell_type": "markdown",
   "metadata": {},
   "source": [
    "Note that while in mathematics a **matrix-vector** dot product where the vector is the left-hand term is invalid, this is allowed in Python, it will just assume it is as normal:"
   ]
  },
  {
   "cell_type": "code",
   "execution_count": null,
   "metadata": {},
   "outputs": [],
   "source": [
    "b.dot(a)"
   ]
  },
  {
   "cell_type": "markdown",
   "metadata": {},
   "source": [
    "## Array Manipulation\n",
    "\n",
    "There are hosts of manipulations that can be applied to both vectors and matrices; we will explore the common ones here:"
   ]
  },
  {
   "cell_type": "code",
   "execution_count": null,
   "metadata": {},
   "outputs": [],
   "source": [
    "# transpose\n",
    "print(\"{} \\n\\n {}\".format(a, a.T))"
   ]
  },
  {
   "cell_type": "code",
   "execution_count": null,
   "metadata": {},
   "outputs": [],
   "source": [
    "print(a)\n",
    "print(a.ravel())"
   ]
  },
  {
   "cell_type": "code",
   "execution_count": null,
   "metadata": {},
   "outputs": [],
   "source": [
    "print(s.shape)\n",
    "print(s.reshape(500,2).shape)"
   ]
  },
  {
   "cell_type": "code",
   "execution_count": null,
   "metadata": {},
   "outputs": [],
   "source": [
    "np.vstack((b, c))"
   ]
  },
  {
   "cell_type": "code",
   "execution_count": null,
   "metadata": {},
   "outputs": [],
   "source": [
    "np.hstack((a,a))"
   ]
  },
  {
   "cell_type": "code",
   "execution_count": null,
   "metadata": {},
   "outputs": [],
   "source": [
    "np.concatenate((a,b.reshape(1,3)), axis=0)"
   ]
  },
  {
   "cell_type": "code",
   "execution_count": null,
   "metadata": {
    "scrolled": true
   },
   "outputs": [],
   "source": [
    "np.concatenate((a,b.reshape(3,1)), axis=1)"
   ]
  },
  {
   "cell_type": "markdown",
   "metadata": {},
   "source": [
    "## Broadcasting\n",
    "\n",
    "Broadcasting is a powerful mechanism that allows numpy to work with arrays of different shapes when performing arithmetic operations. Frequently we have a smaller array and a larger array, and we want to use the smaller array multiple times to perform some operation on the larger array.\n",
    "\n",
    "For example, suppose that we want to add a constant vector to each row of a matrix. We could do it like this:"
   ]
  },
  {
   "cell_type": "code",
   "execution_count": null,
   "metadata": {},
   "outputs": [],
   "source": [
    "x = np.array([[1,2,3], [4,5,6], [7,8,9], [10, 11, 12]])\n",
    "v = np.array([1, 0, 1])\n",
    "y = np.empty_like(x)\n",
    "\n",
    "# Add the vector v to each row of the matrix x with an explicit loop\n",
    "for i in range(4):\n",
    "    y[i, :] = x[i, :] + v\n",
    "\n",
    "y"
   ]
  },
  {
   "cell_type": "markdown",
   "metadata": {},
   "source": [
    "This works; however when the matrix $x$ is very large, computing an explicit loop in Python could be slow. Note that adding the vector $v$ to each row of the matrix $x$ is equivalent to forming a matrix vv by stacking multiple copies of $v$ vertically, then performing elementwise summation of $x$ and $vv$. We could implement this approach like this:"
   ]
  },
  {
   "cell_type": "code",
   "execution_count": null,
   "metadata": {},
   "outputs": [],
   "source": [
    "x = np.array([[1,2,3], [4,5,6], [7,8,9], [10, 11, 12]])\n",
    "v = np.array([1, 0, 1])\n",
    "vv = np.tile(v, (4, 1))   # Stack 4 copies of v on top of each other\n",
    "print(vv)\n",
    "y = x + vv  # Add x and vv elementwise\n",
    "y  # Prints \"[[ 2  2  4"
   ]
  },
  {
   "cell_type": "markdown",
   "metadata": {},
   "source": [
    "Numpy broadcasting allows us to perform this computation without actually creating multiple copies of $v$. Consider this version, using broadcasting:"
   ]
  },
  {
   "cell_type": "code",
   "execution_count": null,
   "metadata": {},
   "outputs": [],
   "source": [
    "x = np.array([[1,2,3], [4,5,6], [7,8,9], [10, 11, 12]])\n",
    "v = np.array([1, 0, 1])\n",
    "y = x + v  # Add v to each row of x using broadcasting\n",
    "y"
   ]
  },
  {
   "cell_type": "markdown",
   "metadata": {},
   "source": [
    "## Vectorizing Functions\n",
    "\n",
    "One of the features that NumPy provides is a class vectorize to convert an ordinary Python function which accepts scalars and returns scalars into a “vectorized-function” with the same broadcasting rules as other Numpy functions (i.e. the Universal functions, or ufuncs). For example, suppose you have a Python function named `addsubtract()` defined as:"
   ]
  },
  {
   "cell_type": "code",
   "execution_count": null,
   "metadata": {},
   "outputs": [],
   "source": [
    "def addsubtract(a,b):\n",
    "    if a>b:\n",
    "        return a-b\n",
    "    else:\n",
    "        return a+b"
   ]
  },
  {
   "cell_type": "markdown",
   "metadata": {},
   "source": [
    "which defines a function of two scalar variables and returns a scalar result. The class `vectorize` can be used to “vectorize “this function so that:"
   ]
  },
  {
   "cell_type": "code",
   "execution_count": null,
   "metadata": {},
   "outputs": [],
   "source": [
    "vec_addsubtract = np.vectorize(addsubtract)"
   ]
  },
  {
   "cell_type": "markdown",
   "metadata": {},
   "source": [
    "Now we can call our created function on some data and NumPy will treat our Python function as if it's C:"
   ]
  },
  {
   "cell_type": "code",
   "execution_count": null,
   "metadata": {},
   "outputs": [],
   "source": [
    "vec_addsubtract([0,3,6,9],[1,3,5,7])"
   ]
  },
  {
   "cell_type": "markdown",
   "metadata": {},
   "source": [
    "This particular function could have been written in vector form without the use of `vectorize`. However, functions that employ optimization or integration routines can likely only be vectorized using `vectorize`."
   ]
  },
  {
   "cell_type": "markdown",
   "metadata": {},
   "source": [
    "## Polynomials\n",
    "\n",
    "We can use the poly1d class from Numpy. This class accepts coefficients or polynomial roots to initialize a polynomial. The polynomial object can then be manipulated in algebraic expressions, integrated, differentiated, and evaluated. It even prints like a polynomial:"
   ]
  },
  {
   "cell_type": "code",
   "execution_count": null,
   "metadata": {},
   "outputs": [],
   "source": [
    "x = np.poly1d([3,4,5])\n",
    "x"
   ]
  },
  {
   "cell_type": "code",
   "execution_count": null,
   "metadata": {},
   "outputs": [],
   "source": [
    "print(x)"
   ]
  },
  {
   "cell_type": "code",
   "execution_count": null,
   "metadata": {},
   "outputs": [],
   "source": [
    "print(x*x)"
   ]
  },
  {
   "cell_type": "code",
   "execution_count": null,
   "metadata": {},
   "outputs": [],
   "source": [
    "print(x.integ(k=6))"
   ]
  },
  {
   "cell_type": "code",
   "execution_count": null,
   "metadata": {},
   "outputs": [],
   "source": [
    "print(x.deriv())"
   ]
  },
  {
   "cell_type": "code",
   "execution_count": null,
   "metadata": {},
   "outputs": [],
   "source": [
    "print(x([4,5]))"
   ]
  },
  {
   "cell_type": "markdown",
   "metadata": {},
   "source": [
    "Alternatively we may wish to obtain the slope and intercept coefficients by *fitting* a polynomial to data samples $x$ and $y$, we can use `np.polyfit` on a linear-relationship:"
   ]
  },
  {
   "cell_type": "code",
   "execution_count": null,
   "metadata": {},
   "outputs": [],
   "source": [
    "N = 30\n",
    "x = np.linspace(0,5,N)\n",
    "y = x + np.random.randn(N) + 3\n",
    "\n",
    "linear_mod = lambda x, m, b: x*m+b\n",
    "# fit a straight line, slope first, intercept last\n",
    "m, b = np.polyfit(x, y, deg=1)\n",
    "print(\"slope=%.4f, intercept=%.4f\" % (m, b))\n",
    "plt.scatter(x, y, c='b')\n",
    "plt.plot(x, linear_mod(x,m,b), 'r-')\n",
    "plt.show()"
   ]
  },
  {
   "cell_type": "markdown",
   "metadata": {},
   "source": [
    "Now a second-order relationship:"
   ]
  },
  {
   "cell_type": "code",
   "execution_count": null,
   "metadata": {},
   "outputs": [],
   "source": [
    "x = np.linspace(0,5,N)\n",
    "y = (x**2) + np.random.normal(scale=2., size=N) + 3\n",
    "\n",
    "deg2_mod = lambda x, m1, m2, b: m2*x**2 + x*m1 + b\n",
    "\n",
    "m2, m1, b = np.polyfit(x, y, deg=2)\n",
    "print(\"slope 1=%.4f, slope 2=%.4f, intercept=%.4f\" % (m1, m2, b))\n",
    "plt.scatter(x, y, c='b')\n",
    "plt.plot(x, deg2_mod(x, m1, m2, b), 'r-')\n",
    "plt.show()"
   ]
  },
  {
   "cell_type": "markdown",
   "metadata": {},
   "source": [
    "### Is it actually faster than using lists?\n",
    "\n",
    "NumPy is considerably faster than using in-house Python objects. Let's time it.\n",
    "\n",
    "I hope your machine can handle 1 million elements...\n",
    "\n",
    "**Yes**, NumPy absolutely hammers list comprehensions at most practical sizes."
   ]
  },
  {
   "cell_type": "code",
   "execution_count": null,
   "metadata": {},
   "outputs": [],
   "source": [
    "step_sizes = np.logspace(2,6,5,dtype=np.int)\n",
    "\n",
    "times_py = []\n",
    "times_np = []\n",
    "for step in step_sizes:\n",
    "    print(\"Running step size:{}\".format(step))\n",
    "    np_list = np.arange(step, dtype=np.int)\n",
    "    py_list = list(range(step))\n",
    "    \n",
    "    t_py = %timeit -o [i**2 for i in py_list]\n",
    "    t_np = %timeit -o np.square(np_list)\n",
    "    \n",
    "    times_py.append(t_py)\n",
    "    times_np.append(t_np)\n",
    "    \n",
    "y_py = np.array([np.array(times_py[i].timings).mean() for i in range(len(times_py))])\n",
    "y_np = np.array([np.array(times_np[i].timings).mean() for i in range(len(times_np))])\n",
    "\n",
    "plt.loglog(step_sizes, y_py, 'x-', label=\"python\")\n",
    "plt.loglog(step_sizes, y_np, 'x-', label=\"numpy\")\n",
    "plt.xlabel(\"Step sizes\")\n",
    "plt.ylabel(\"Time taken\")\n",
    "plt.legend()"
   ]
  },
  {
   "cell_type": "markdown",
   "metadata": {},
   "source": [
    "# Tasks\n",
    "\n",
    "One of the areas of interest in *population genetics* is the study of mutation, selection and crossover within genetic populations. We will be exploring the use of the **Fisher-Wright model**. In this example, we will consider the change of an allele in the genetic population from state *A* (normal) to state *B* (mutant). We make some assumptions:\n",
    "1. *B* has a selective advantage of $1+s$.\n",
    "2. _A mutates to B_ with forward mutation rate $\\mu$.\n",
    "3. *B mutates to A* with backward mutation rate $\\nu$.\n",
    "4. The population size $P$ is finite.\n",
    "\n",
    "To change the population $P$ over time $t$, we have a 3-stage process:\n",
    "\n",
    "To begin with, the number of mutants $n_0=0$.\n",
    "\n",
    "- We calculate the proportion of mutant seeds $p_s$ as:\n",
    "\n",
    "$$\n",
    "    p_s =\\frac{(1+s)n}{P+sn}\n",
    "$$\n",
    "\n",
    "- With the proportion of mutant seeds, we can estimate the proportion of mutants $p_{sm}$ produced from those mutant seeds:\n",
    "\n",
    "$$\n",
    "    p_{sm}=(1-\\nu)p_s + \\mu(1-p_s)\n",
    "$$\n",
    "\n",
    "- Using the total population P with the proportion of mutants $p_{sm}$, we assume independence between individuals and therefore can draw $n_t$ mutants from the binomial distribution. This can be used from `np.random.binomial(P, p_sm)`.\n",
    "\n",
    "This program runs while the number of mutants $n_t<P$ population for takeover, or $t$ has exceeded some maximum time $T_{max}$.\n",
    "\n",
    "### Task 1. \n",
    "\n",
    "Write a function `fisher_wright(P, s, mu, nu, Tmax)` that, given the population size $P=200$, the selective advantage $s=0.1$, the forward $\\mu=10^{-3}$ and backward $\\nu=10^{-3}$ mutation rates, and a maximum time $T_{max}=10^3$ returns the number of mutants time-series as a numpy array."
   ]
  },
  {
   "cell_type": "code",
   "execution_count": null,
   "metadata": {},
   "outputs": [],
   "source": [
    "# your codes here"
   ]
  },
  {
   "cell_type": "markdown",
   "metadata": {},
   "source": [
    "### Task 2.\n",
    "\n",
    "Plot time $t$ against the number of mutants $n$ using `plt.plot`. Remember to label your axes."
   ]
  },
  {
   "cell_type": "code",
   "execution_count": null,
   "metadata": {},
   "outputs": [],
   "source": [
    "# your codes here"
   ]
  },
  {
   "cell_type": "markdown",
   "metadata": {
    "collapsed": true
   },
   "source": [
    "### Task 3.\n",
    "\n",
    "Modify `fisher_wright()` to take an additional argument, $N_r$, which could be the number of realisations (or attempts). Re-run the function with $N_r=10^4$, take the mean with respect to $N_r$ and plot time $t$ against mean $n$ with error bars (as confidence intervals; $2 \\times sd$), using `plt.fill_between()`, or alternatively just plot all of the realisations $N_r$ separately as an underlay."
   ]
  },
  {
   "cell_type": "code",
   "execution_count": null,
   "metadata": {},
   "outputs": [],
   "source": [
    "# your codes here"
   ]
  }
 ],
 "metadata": {
  "kernelspec": {
   "display_name": "Python [default]",
   "language": "python",
   "name": "python3"
  },
  "language_info": {
   "codemirror_mode": {
    "name": "ipython",
    "version": 3
   },
   "file_extension": ".py",
   "mimetype": "text/x-python",
   "name": "python",
   "nbconvert_exporter": "python",
   "pygments_lexer": "ipython3",
   "version": "3.5.6"
  }
 },
 "nbformat": 4,
 "nbformat_minor": 2
}
