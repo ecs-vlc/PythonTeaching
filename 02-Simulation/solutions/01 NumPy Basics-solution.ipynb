{
 "cells": [
  {
   "cell_type": "markdown",
   "metadata": {},
   "source": [
    "# NumPy Basics\n",
    "\n",
    "NumPy (Numerical Python) is the core library for scientific computing in Python. It provides a high-performance multi-dimensional array object, and tools for working with these arrays. The arrays are implemented in C and Python merely provides a front-end, making function operations across the array *considerably faster* for large datasets compared to using lists. A numpy array is a grid of values, all of the same type, and is indexed by a tuple of nonnegative integers. The number of dimensions is the rank of the array; the shape of an array is a tuple of integers giving the size of the array along each dimension.\n",
    "\n",
    "NumPy arrays therefore **must** be the same datatype (float, int etc).\n",
    "\n",
    "The flow of this notebook is as follows:\n",
    "1. Supported types\n",
    "1. Creating an array from scratch\n",
    "3. Generating random numbers\n",
    "4. Inspecting the array\n",
    "5. Arithmetic operations\n",
    "6. Aggregation\n",
    "7. Subsetting, slicing, indexing\n",
    "\n",
    "## Supported types\n",
    "\n",
    "NumPy arrays contain values of a *single type*, so it's important to know which types are available to use, in addition to the fact that NumPy is built in C. These can usually be specified in NumPy array-creating functions using the `dtype` parameter:\n",
    "\n",
    "| **Data Type** | **Description** |\n",
    "| ---------- | ----------------------------- |\n",
    "| `bool_` | Boolean (`True` or `False` stored as a byte |\n",
    "| `int_` | Default integer type (same as C `long`) |\n",
    "| `intc` | Identical to C `int` |\n",
    "| `intp` | Integer for indexing |\n",
    "| `int8` | A byte |\n",
    "| `int16` | Integer (-32768 to 32767) |\n",
    "| `int32` | Integer (-2147483648 to 2147483647) |\n",
    "| `int64` | Integer (-9223372036854775808 to 9223372036854775807) |\n",
    "| `uint8` | Unsigned Integer (0 to 255) |\n",
    "| `uint16` | Unsigned Integer (0 to 65535) |\n",
    "| `uint32` | Unsigned Integer (0 to 4294967295) |\n",
    "| `uint64` | Unsigned Integer (0 to 18446744073709551615) |\n",
    "| `float_` | Same as `float64` |\n",
    "| `float16` | Half precision float (1-bit sign, 5-bit exponent, 10-bit mantissa) |\n",
    "| `float32` | Single precision float (1-bit sign, 8-bit exponent, 23-bit mantissa) |\n",
    "| `float64` | Double precision float (1-bit sign, 11-bit exponent, 52-bit mantissa) |\n",
    "|`complex_` | Same as `complex128` |\n",
    "| `complex64` | Complex number, as two 32-bit floats |\n",
    "| `complex128` | Complex number, represented by two 64-bit floats |\n",
    "\n",
    "We use the following convention **np** for numpy import:"
   ]
  },
  {
   "cell_type": "code",
   "execution_count": 128,
   "metadata": {},
   "outputs": [
    {
     "name": "stderr",
     "output_type": "stream",
     "text": [
      "/home/gparkes/anaconda3/lib/python3.6/site-packages/sklearn/utils/fixes.py:313: FutureWarning: numpy not_equal will not check object identity in the future. The comparison did not return the same result as suggested by the identity (`is`)) and will change.\n",
      "  _nan_object_mask = _nan_object_array != _nan_object_array\n"
     ]
    }
   ],
   "source": [
    "import numpy as np\n",
    "import sys\n",
    "sys.path.insert(0, \"../../Scripts/\")\n",
    "import appendage_figs as extra_figs"
   ]
  },
  {
   "cell_type": "markdown",
   "metadata": {},
   "source": [
    "## Creating arrays from scratch\n",
    "\n",
    "We can initialize numpy arrays from nested Python lists, and access elements using square brackets:"
   ]
  },
  {
   "cell_type": "code",
   "execution_count": 4,
   "metadata": {},
   "outputs": [
    {
     "data": {
      "text/plain": [
       "array([ 6., -1.,  5., -3.])"
      ]
     },
     "execution_count": 4,
     "metadata": {},
     "output_type": "execute_result"
    }
   ],
   "source": [
    "# 1-d floats\n",
    "a = np.array([6.0, -1.0, 5.0, -3.0])\n",
    "a"
   ]
  },
  {
   "cell_type": "code",
   "execution_count": 5,
   "metadata": {
    "scrolled": true
   },
   "outputs": [
    {
     "data": {
      "text/plain": [
       "array([[3, 2],\n",
       "       [1, 2]])"
      ]
     },
     "execution_count": 5,
     "metadata": {},
     "output_type": "execute_result"
    }
   ],
   "source": [
    "# 2-d ints\n",
    "b = np.array([[3.0, 2.0],[1.0, 2.0]], dtype=int)\n",
    "b"
   ]
  },
  {
   "cell_type": "code",
   "execution_count": 6,
   "metadata": {},
   "outputs": [
    {
     "data": {
      "text/plain": [
       "numpy.ndarray"
      ]
     },
     "execution_count": 6,
     "metadata": {},
     "output_type": "execute_result"
    }
   ],
   "source": [
    "type(a)"
   ]
  },
  {
   "cell_type": "code",
   "execution_count": 7,
   "metadata": {},
   "outputs": [
    {
     "data": {
      "text/plain": [
       "(2, 2)"
      ]
     },
     "execution_count": 7,
     "metadata": {},
     "output_type": "execute_result"
    }
   ],
   "source": [
    "b.shape"
   ]
  },
  {
   "cell_type": "markdown",
   "metadata": {},
   "source": [
    "## Creating zeros, ones, linspace, identity matrix...\n",
    "\n",
    "Numpy also provides many functions to create arrays from the same value or not, for example `zeros()` creates an array full of zeros, given a specific size (or tuple of dimensions!), and `linspace()` creates an incrementally-ordered vector of numbers between two given values, and given a size."
   ]
  },
  {
   "cell_type": "code",
   "execution_count": 8,
   "metadata": {
    "scrolled": true
   },
   "outputs": [
    {
     "data": {
      "text/plain": [
       "array([[[ 0.,  0.,  0.],\n",
       "        [ 0.,  0.,  0.]],\n",
       "\n",
       "       [[ 0.,  0.,  0.],\n",
       "        [ 0.,  0.,  0.]],\n",
       "\n",
       "       [[ 0.,  0.,  0.],\n",
       "        [ 0.,  0.,  0.]],\n",
       "\n",
       "       [[ 0.,  0.,  0.],\n",
       "        [ 0.,  0.,  0.]]])"
      ]
     },
     "execution_count": 8,
     "metadata": {},
     "output_type": "execute_result"
    }
   ],
   "source": [
    "c = np.zeros((4,2,3))\n",
    "c"
   ]
  },
  {
   "cell_type": "markdown",
   "metadata": {},
   "source": [
    "We can also specify the data type we want the array to store. By default, `NumPy` creates every array to be `float64`-bit. This can be hugely beneficial when considering to be memory-efficient (such as loading in `int` images of RGB):"
   ]
  },
  {
   "cell_type": "code",
   "execution_count": 9,
   "metadata": {
    "scrolled": false
   },
   "outputs": [
    {
     "data": {
      "text/plain": [
       "array([[1, 1],\n",
       "       [1, 1]])"
      ]
     },
     "execution_count": 9,
     "metadata": {},
     "output_type": "execute_result"
    }
   ],
   "source": [
    "d = np.ones((2,2), dtype=np.int)\n",
    "d"
   ]
  },
  {
   "cell_type": "code",
   "execution_count": 130,
   "metadata": {},
   "outputs": [
    {
     "data": {
      "text/plain": [
       "array([[7, 7, 7],\n",
       "       [7, 7, 7]])"
      ]
     },
     "execution_count": 130,
     "metadata": {},
     "output_type": "execute_result"
    }
   ],
   "source": [
    "dh = np.full((2,3), 7, dtype=np.int_)\n",
    "dh"
   ]
  },
  {
   "cell_type": "markdown",
   "metadata": {},
   "source": [
    "`arange()` is similar to `linspace()`, except the third parameter specifies a **step size** rather than a dimension size."
   ]
  },
  {
   "cell_type": "code",
   "execution_count": 11,
   "metadata": {},
   "outputs": [
    {
     "data": {
      "text/plain": [
       "array([ 0. ,  0.5,  1. ,  1.5,  2. ,  2.5,  3. ,  3.5,  4. ,  4.5,  5. ,\n",
       "        5.5,  6. ,  6.5,  7. ,  7.5,  8. ,  8.5,  9. ,  9.5])"
      ]
     },
     "execution_count": 11,
     "metadata": {},
     "output_type": "execute_result"
    }
   ],
   "source": [
    "e = np.arange(0, 10, .5, dtype=float)\n",
    "e"
   ]
  },
  {
   "cell_type": "code",
   "execution_count": 12,
   "metadata": {},
   "outputs": [
    {
     "data": {
      "text/plain": [
       "array([ 0. ,  0.5,  1. ,  1.5,  2. ,  2.5,  3. ,  3.5,  4. ,  4.5,  5. ])"
      ]
     },
     "execution_count": 12,
     "metadata": {},
     "output_type": "execute_result"
    }
   ],
   "source": [
    "f = np.linspace(0, 5, 11)\n",
    "f"
   ]
  },
  {
   "cell_type": "code",
   "execution_count": 13,
   "metadata": {},
   "outputs": [
    {
     "data": {
      "text/plain": [
       "array([[ 1.,  0.,  0.,  0.],\n",
       "       [ 0.,  1.,  0.,  0.],\n",
       "       [ 0.,  0.,  1.,  0.],\n",
       "       [ 0.,  0.,  0.,  1.]])"
      ]
     },
     "execution_count": 13,
     "metadata": {},
     "output_type": "execute_result"
    }
   ],
   "source": [
    "g = np.eye(4)\n",
    "g"
   ]
  },
  {
   "cell_type": "markdown",
   "metadata": {},
   "source": [
    "An even faster form of allocation, if you're going to fill the array/matrix yourself, is to allocate an *empty array*, meaning the values are uninitialized:"
   ]
  },
  {
   "cell_type": "code",
   "execution_count": null,
   "metadata": {},
   "outputs": [],
   "source": [
    "c2 = np.empty((10,), dtype=np.float64)\n",
    "c2"
   ]
  },
  {
   "cell_type": "markdown",
   "metadata": {},
   "source": [
    "## Generating Random Numbers\n",
    "\n",
    "In addition to static numbers, we can use random-number generators to generate full arrays/matrices:"
   ]
  },
  {
   "cell_type": "code",
   "execution_count": 14,
   "metadata": {},
   "outputs": [
    {
     "data": {
      "text/plain": [
       "array([ 0.90812252,  0.90482842,  0.03384452,  0.88914512,  0.38303154])"
      ]
     },
     "execution_count": 14,
     "metadata": {},
     "output_type": "execute_result"
    }
   ],
   "source": [
    "# uniform - between 0 and 1 by default\n",
    "h = np.random.rand(5)\n",
    "h"
   ]
  },
  {
   "cell_type": "code",
   "execution_count": 15,
   "metadata": {},
   "outputs": [
    {
     "data": {
      "text/plain": [
       "array([-0.60280933, -0.81407101, -2.35376382, -1.64366593,  0.99920252,\n",
       "       -0.8923991 ,  1.17138406, -0.99650317, -0.97789549, -1.15124328])"
      ]
     },
     "execution_count": 15,
     "metadata": {},
     "output_type": "execute_result"
    }
   ],
   "source": [
    "# normal distribution with mean = 0. variance = 1\n",
    "i = np.random.randn(10)\n",
    "i"
   ]
  },
  {
   "cell_type": "code",
   "execution_count": 16,
   "metadata": {},
   "outputs": [
    {
     "data": {
      "text/plain": [
       "array([ 10.87201136,   3.75555638,   3.30058037,   2.53822812,\n",
       "         4.33579951,   3.90013299,   4.26189271,   4.73432234,\n",
       "         5.30621692,   4.78681747])"
      ]
     },
     "execution_count": 16,
     "metadata": {},
     "output_type": "execute_result"
    }
   ],
   "source": [
    "# normal distribution with mean, variance specified\n",
    "ih = np.random.normal(loc=5., scale=2., size=(10,))\n",
    "ih"
   ]
  },
  {
   "cell_type": "code",
   "execution_count": 17,
   "metadata": {},
   "outputs": [
    {
     "data": {
      "text/plain": [
       "array([[5, 9, 9, 9],\n",
       "       [7, 5, 7, 8],\n",
       "       [8, 6, 9, 7],\n",
       "       [5, 8, 5, 7]])"
      ]
     },
     "execution_count": 17,
     "metadata": {},
     "output_type": "execute_result"
    }
   ],
   "source": [
    "# generate integers uniformly between 4 <= x < 10 (not including 10)\n",
    "j = np.random.randint(4,10,(4,4))\n",
    "j"
   ]
  },
  {
   "cell_type": "markdown",
   "metadata": {},
   "source": [
    "## Array attributes\n",
    "\n",
    "The three primary attributes a NumPy array has are:\n",
    "\n",
    "1. Number of dimensions (`ndim`)\n",
    "2. Array shape (`shape`)\n",
    "3. Total size of the array (`size`)\n",
    "\n",
    "If we begin by allocating a 1-D, 2-D and 3-D array:"
   ]
  },
  {
   "cell_type": "code",
   "execution_count": 131,
   "metadata": {},
   "outputs": [],
   "source": [
    "# for reproducibility\n",
    "np.random.seed(0)\n",
    "array1d = np.random.randint(10, size=6)\n",
    "array2d = np.random.randint(10, size=(3, 4))\n",
    "array3d = np.random.randint(10, size=(3,4,5))"
   ]
  },
  {
   "cell_type": "code",
   "execution_count": 132,
   "metadata": {},
   "outputs": [],
   "source": [
    "def print_array(arr):\n",
    "    print(\"array ndim: %d\" % arr.ndim)\n",
    "    print(\"array shape: {}\".format(arr.shape))\n",
    "    print(\"array size: %d\" % arr.size)"
   ]
  },
  {
   "cell_type": "code",
   "execution_count": 133,
   "metadata": {},
   "outputs": [
    {
     "name": "stdout",
     "output_type": "stream",
     "text": [
      "array ndim: 1\n",
      "array shape: (6,)\n",
      "array size: 6\n"
     ]
    }
   ],
   "source": [
    "print_array(array1d)"
   ]
  },
  {
   "cell_type": "code",
   "execution_count": 134,
   "metadata": {},
   "outputs": [
    {
     "name": "stdout",
     "output_type": "stream",
     "text": [
      "array ndim: 2\n",
      "array shape: (3, 4)\n",
      "array size: 12\n"
     ]
    }
   ],
   "source": [
    "print_array(array2d)"
   ]
  },
  {
   "cell_type": "code",
   "execution_count": 135,
   "metadata": {},
   "outputs": [
    {
     "name": "stdout",
     "output_type": "stream",
     "text": [
      "array ndim: 3\n",
      "array shape: (3, 4, 5)\n",
      "array size: 60\n"
     ]
    }
   ],
   "source": [
    "print_array(array3d)"
   ]
  },
  {
   "cell_type": "code",
   "execution_count": 136,
   "metadata": {},
   "outputs": [
    {
     "name": "stdout",
     "output_type": "stream",
     "text": [
      "int64\n"
     ]
    }
   ],
   "source": [
    "print(array3d.dtype)"
   ]
  },
  {
   "cell_type": "markdown",
   "metadata": {},
   "source": [
    "We can **cast** a numpy array into another type, but this can be expensive if large!"
   ]
  },
  {
   "cell_type": "code",
   "execution_count": 137,
   "metadata": {},
   "outputs": [
    {
     "data": {
      "text/plain": [
       "4.8756527395229012"
      ]
     },
     "execution_count": 137,
     "metadata": {},
     "output_type": "execute_result"
    }
   ],
   "source": [
    "# cast\n",
    "b.astype(np.float64)"
   ]
  },
  {
   "cell_type": "markdown",
   "metadata": {},
   "source": [
    "## Arithmetic Operations\n",
    "\n",
    "Elementwise addition, subtraction, multiplication and division!"
   ]
  },
  {
   "cell_type": "code",
   "execution_count": 23,
   "metadata": {},
   "outputs": [
    {
     "data": {
      "text/plain": [
       "array([[ 0,  1,  2,  3],\n",
       "       [ 4,  5,  6,  7],\n",
       "       [ 8,  9, 10, 11],\n",
       "       [12, 13, 14, 15]])"
      ]
     },
     "execution_count": 23,
     "metadata": {},
     "output_type": "execute_result"
    }
   ],
   "source": [
    "a = np.arange(16).reshape(4,4)\n",
    "a"
   ]
  },
  {
   "cell_type": "code",
   "execution_count": 24,
   "metadata": {},
   "outputs": [
    {
     "data": {
      "text/plain": [
       "array([[ 3.,  0.,  0.,  0.],\n",
       "       [ 0.,  3.,  0.,  0.],\n",
       "       [ 0.,  0.,  3.,  0.],\n",
       "       [ 0.,  0.,  0.,  3.]])"
      ]
     },
     "execution_count": 24,
     "metadata": {},
     "output_type": "execute_result"
    }
   ],
   "source": [
    "b = np.eye(4) * 3\n",
    "b"
   ]
  },
  {
   "cell_type": "code",
   "execution_count": 25,
   "metadata": {},
   "outputs": [
    {
     "data": {
      "text/plain": [
       "array([[  3.,   1.,   2.,   3.],\n",
       "       [  4.,   8.,   6.,   7.],\n",
       "       [  8.,   9.,  13.,  11.],\n",
       "       [ 12.,  13.,  14.,  18.]])"
      ]
     },
     "execution_count": 25,
     "metadata": {},
     "output_type": "execute_result"
    }
   ],
   "source": [
    "a + b"
   ]
  },
  {
   "cell_type": "code",
   "execution_count": 26,
   "metadata": {},
   "outputs": [
    {
     "data": {
      "text/plain": [
       "array([ 0.,  3.,  6.,  9.])"
      ]
     },
     "execution_count": 26,
     "metadata": {},
     "output_type": "execute_result"
    }
   ],
   "source": [
    "c = np.linspace(0,9,4)\n",
    "c"
   ]
  },
  {
   "cell_type": "code",
   "execution_count": 27,
   "metadata": {},
   "outputs": [
    {
     "data": {
      "text/plain": [
       "array([[   0.,    3.,   12.,   27.],\n",
       "       [   0.,   15.,   36.,   63.],\n",
       "       [   0.,   27.,   60.,   99.],\n",
       "       [   0.,   39.,   84.,  135.]])"
      ]
     },
     "execution_count": 27,
     "metadata": {},
     "output_type": "execute_result"
    }
   ],
   "source": [
    "# treats c vector as applied to every row - not dot!\n",
    "a * c"
   ]
  },
  {
   "cell_type": "code",
   "execution_count": 28,
   "metadata": {},
   "outputs": [
    {
     "data": {
      "text/plain": [
       "array([[ 0.        ,  0.84147098,  0.90929743,  0.14112001],\n",
       "       [-0.7568025 , -0.95892427, -0.2794155 ,  0.6569866 ],\n",
       "       [ 0.98935825,  0.41211849, -0.54402111, -0.99999021],\n",
       "       [-0.53657292,  0.42016704,  0.99060736,  0.65028784]])"
      ]
     },
     "execution_count": 28,
     "metadata": {},
     "output_type": "execute_result"
    }
   ],
   "source": [
    "np.sin(a)"
   ]
  },
  {
   "cell_type": "code",
   "execution_count": 29,
   "metadata": {},
   "outputs": [
    {
     "data": {
      "text/plain": [
       "array([  42.,  114.,  186.,  258.])"
      ]
     },
     "execution_count": 29,
     "metadata": {},
     "output_type": "execute_result"
    }
   ],
   "source": [
    "np.dot(a,c)"
   ]
  },
  {
   "cell_type": "code",
   "execution_count": 30,
   "metadata": {},
   "outputs": [],
   "source": [
    "import matplotlib.pyplot as plt\n",
    "%matplotlib inline"
   ]
  },
  {
   "cell_type": "code",
   "execution_count": 31,
   "metadata": {},
   "outputs": [
    {
     "data": {
      "text/plain": [
       "[<matplotlib.lines.Line2D at 0x7f9332ba6da0>]"
      ]
     },
     "execution_count": 31,
     "metadata": {},
     "output_type": "execute_result"
    },
    {
     "data": {
      "image/png": "[encoded data removed]",
      "text/plain": [
       "<Figure size 432x288 with 1 Axes>"
      ]
     },
     "metadata": {
      "needs_background": "light"
     },
     "output_type": "display_data"
    }
   ],
   "source": [
    "# useful when wanting to apply functions to all values!\n",
    "x = np.linspace(-np.pi*3,np.pi*3,100)\n",
    "y = np.sin(x)\n",
    "plt.plot(x,y)"
   ]
  },
  {
   "cell_type": "code",
   "execution_count": 32,
   "metadata": {},
   "outputs": [
    {
     "data": {
      "text/plain": [
       "<matplotlib.legend.Legend at 0x7f9332ada9b0>"
      ]
     },
     "execution_count": 32,
     "metadata": {},
     "output_type": "execute_result"
    },
    {
     "data": {
      "image/png": "[encoded data removed]",
      "text/plain": [
       "<Figure size 432x288 with 1 Axes>"
      ]
     },
     "metadata": {
      "needs_background": "light"
     },
     "output_type": "display_data"
    }
   ],
   "source": [
    "b = y+1\n",
    "c = y*2\n",
    "d = -y\n",
    "e = np.sin(2*x)\n",
    "plt.plot(x,y,'k-',label=\"norm\")\n",
    "plt.plot(x,b,'r--',label=\"y+1\")\n",
    "plt.plot(x,c,'g--',label=\"y*2\")\n",
    "plt.plot(x,d,'b--',label=\"-y\")\n",
    "plt.plot(x,e,'x--',label=\"y**2\")\n",
    "plt.legend()"
   ]
  },
  {
   "cell_type": "code",
   "execution_count": 33,
   "metadata": {
    "scrolled": true
   },
   "outputs": [
    {
     "data": {
      "text/plain": [
       "array([ 1.        ,  0.90041588,  0.79267745,  0.67776042,  0.55670548,\n",
       "        0.43060893,  0.30061272,  0.16789411,  0.03365503,  0.10088884,\n",
       "        0.23451904,  0.3660254 ,  0.49421698,  0.61793286,  0.73605263,\n",
       "        0.8475066 ,  0.95128542,  1.04644926,  1.13213628,  1.2075705 ,\n",
       "        1.27206878,  1.32504701,  1.3660254 ,  1.39463286,  1.41061031,\n",
       "        1.41381305,  1.40421208,  1.38189435,  1.34706197,  1.30003039,\n",
       "        1.24122553,  1.17117994,  1.09052797,  1.        ,  0.90041588,\n",
       "        0.79267745,  0.67776042,  0.55670548,  0.43060893,  0.30061272,\n",
       "        0.16789411,  0.03365503,  0.10088884,  0.23451904,  0.3660254 ,\n",
       "        0.49421698,  0.61793286,  0.73605263,  0.8475066 ,  0.95128542,\n",
       "        1.04644926,  1.13213628,  1.2075705 ,  1.27206878,  1.32504701,\n",
       "        1.3660254 ,  1.39463286,  1.41061031,  1.41381305,  1.40421208,\n",
       "        1.38189435,  1.34706197,  1.30003039,  1.24122553,  1.17117994,\n",
       "        1.09052797,  1.        ,  0.90041588,  0.79267745,  0.67776042,\n",
       "        0.55670548,  0.43060893,  0.30061272,  0.16789411,  0.03365503,\n",
       "        0.10088884,  0.23451904,  0.3660254 ,  0.49421698,  0.61793286,\n",
       "        0.73605263,  0.8475066 ,  0.95128542,  1.04644926,  1.13213628,\n",
       "        1.2075705 ,  1.27206878,  1.32504701,  1.3660254 ,  1.39463286,\n",
       "        1.41061031,  1.41381305,  1.40421208,  1.38189435,  1.34706197,\n",
       "        1.30003039,  1.24122553,  1.17117994,  1.09052797,  1.        ])"
      ]
     },
     "execution_count": 33,
     "metadata": {},
     "output_type": "execute_result"
    }
   ],
   "source": [
    "np.sqrt(b)"
   ]
  },
  {
   "cell_type": "markdown",
   "metadata": {},
   "source": [
    "## Aggregation\n",
    "\n",
    "Merging together values by row/column is very important. We may wish to consider the *average* value in a sample, let's say the average height in a group of individuals or the variance of weights across individuals. These methods condense down a vector of individual values regarding height or weight down to a *single value*.\n",
    "\n",
    "**NumPy** provides not only the functionality to do this with vectors, but provides aggregation using *matrices* by column or by row. For instance, if we had measuring the change in weight for individuals (where rows represent time, columns represent individuals), we may take the average weight across all individuals to explore the *mean weight* across time. Here is a table of the most useful aggregation functions available in NumPy:\n",
    "\n",
    "| Function name | NaN-safe Version | Description |\n",
    "| ------------ | ---------------- | ------------------------------ | \n",
    "| `np.sum` | `np.nansum` | Compute sum of all elements |\n",
    "| `np.prod` | `np.nanprod` | Compute product of all elements |\n",
    "| `np.cumsum` | N/A | Compute the cumulative summation of elements |\n",
    "| `np.cumprod` | N/A | Compute the cumulative product of elements |\n",
    "| `np.mean` | `np.nanmean` | Compute arithmetic mean of elements |\n",
    "| `np.std` | `np.nanstd` | Compute standard deviation |\n",
    "| `np.var` | `np.nanvar` | Compute variance |\n",
    "| `np.min` | `np.nanmin` | Find minimum value |\n",
    "| `np.max` | `np.nanmax` | Find maximum value |\n",
    "| `np.argmin` | `np.nanargmin` | Find index of minimum value |\n",
    "| `np.argmax` | `np.nanargmax` | Find index of maximum value |\n",
    "| `np.median` | `np.nanmedian` | Compute median / middle value of elements |\n",
    "| `np.percentile` | `np.nanpercentile` | Compute rank-based statistics of elements |\n",
    "| `np.any` | N/A | Evalue whether any elements are true |\n",
    "| `np.all` | N/A | Evaluate whether all elements are true |"
   ]
  },
  {
   "cell_type": "code",
   "execution_count": 34,
   "metadata": {},
   "outputs": [
    {
     "data": {
      "text/plain": [
       "-0.014641964901957771"
      ]
     },
     "execution_count": 34,
     "metadata": {},
     "output_type": "execute_result"
    }
   ],
   "source": [
    "x = np.random.randn(1000)\n",
    "x.mean()"
   ]
  },
  {
   "cell_type": "code",
   "execution_count": 35,
   "metadata": {},
   "outputs": [
    {
     "data": {
      "text/plain": [
       "1.0039571405074288"
      ]
     },
     "execution_count": 35,
     "metadata": {},
     "output_type": "execute_result"
    }
   ],
   "source": [
    "x.std()"
   ]
  },
  {
   "cell_type": "code",
   "execution_count": 36,
   "metadata": {},
   "outputs": [
    {
     "name": "stdout",
     "output_type": "stream",
     "text": [
      "[[ 0  1  2  3]\n",
      " [ 4  5  6  7]\n",
      " [ 8  9 10 11]\n",
      " [12 13 14 15]]\n",
      "[ 6.  7.  8.  9.]\n",
      "[  1.5   5.5   9.5  13.5]\n"
     ]
    }
   ],
   "source": [
    "print(a)\n",
    "print(a.mean(axis=0))\n",
    "print(a.mean(axis=1))"
   ]
  },
  {
   "cell_type": "code",
   "execution_count": 37,
   "metadata": {},
   "outputs": [
    {
     "data": {
      "text/plain": [
       "array([  0,   1,   3,   6,  10,  15,  21,  28,  36,  45,  55,  66,  78,\n",
       "        91, 105, 120])"
      ]
     },
     "execution_count": 37,
     "metadata": {},
     "output_type": "execute_result"
    }
   ],
   "source": [
    "a.cumsum()"
   ]
  },
  {
   "cell_type": "code",
   "execution_count": 38,
   "metadata": {},
   "outputs": [],
   "source": [
    "f = np.random.randn(1000)"
   ]
  },
  {
   "cell_type": "code",
   "execution_count": 39,
   "metadata": {},
   "outputs": [
    {
     "data": {
      "text/plain": [
       "array([[ 1.        ,  0.00330257],\n",
       "       [ 0.00330257,  1.        ]])"
      ]
     },
     "execution_count": 39,
     "metadata": {},
     "output_type": "execute_result"
    }
   ],
   "source": [
    "np.corrcoef(x,f)"
   ]
  },
  {
   "cell_type": "code",
   "execution_count": 40,
   "metadata": {},
   "outputs": [
    {
     "data": {
      "text/plain": [
       "<matplotlib.collections.PathCollection at 0x7f9332a7ec88>"
      ]
     },
     "execution_count": 40,
     "metadata": {},
     "output_type": "execute_result"
    },
    {
     "data": {
      "image/png": "[encoded data removed]",
      "text/plain": [
       "<Figure size 432x288 with 1 Axes>"
      ]
     },
     "metadata": {
      "needs_background": "light"
     },
     "output_type": "display_data"
    }
   ],
   "source": [
    "plt.scatter(x,f, alpha=.3)"
   ]
  },
  {
   "cell_type": "code",
   "execution_count": 41,
   "metadata": {},
   "outputs": [
    {
     "name": "stdout",
     "output_type": "stream",
     "text": [
      "[[ 1.          0.79882139]\n",
      " [ 0.79882139  1.        ]]\n"
     ]
    }
   ],
   "source": [
    "# applying covariance matrix\n",
    "g = np.random.randn(1000,2)\n",
    "c = np.array([[2., 1.],[1., 2.]])\n",
    "# dot random values with covariance matrix\n",
    "h = np.dot(g,c)\n",
    "print(np.corrcoef(h[:,0],h[:,1]))"
   ]
  },
  {
   "cell_type": "code",
   "execution_count": 42,
   "metadata": {},
   "outputs": [
    {
     "data": {
      "text/plain": [
       "<matplotlib.collections.PathCollection at 0x7f93319ddba8>"
      ]
     },
     "execution_count": 42,
     "metadata": {},
     "output_type": "execute_result"
    },
    {
     "data": {
      "image/png": "[encoded data removed]",
      "text/plain": [
       "<Figure size 432x288 with 1 Axes>"
      ]
     },
     "metadata": {
      "needs_background": "light"
     },
     "output_type": "display_data"
    }
   ],
   "source": [
    "plt.scatter(h[:,0], h[:,1], alpha=.5, s=20.)"
   ]
  },
  {
   "cell_type": "code",
   "execution_count": 43,
   "metadata": {},
   "outputs": [
    {
     "name": "stdout",
     "output_type": "stream",
     "text": [
      "max: 7.739090, min: -7.588889, std: 2.217908, sum: -30.233712\n"
     ]
    }
   ],
   "source": [
    "print(\"max: %f, min: %f, std: %f, sum: %f\" % (h.max(), h.min(), h.std(), h.sum()))"
   ]
  },
  {
   "cell_type": "code",
   "execution_count": 44,
   "metadata": {},
   "outputs": [
    {
     "data": {
      "text/plain": [
       "array([ 0,  5, 13, 13, 15, 18, 21, 29, 32, 34, 34, 34, 37, 40, 41, 44, 53,\n",
       "       58, 65, 67, 72, 73, 76, 79, 83, 85, 94, 95, 96, 98])"
      ]
     },
     "execution_count": 44,
     "metadata": {},
     "output_type": "execute_result"
    }
   ],
   "source": [
    "s = np.random.randint(0,100,(30,))\n",
    "np.sort(s)"
   ]
  },
  {
   "cell_type": "code",
   "execution_count": 45,
   "metadata": {},
   "outputs": [
    {
     "data": {
      "text/plain": [
       "Text(0, 0.5, '$\\\\epsilon$')"
      ]
     },
     "execution_count": 45,
     "metadata": {},
     "output_type": "execute_result"
    },
    {
     "data": {
      "image/png": "[encoded data removed]",
      "text/plain": [
       "<Figure size 432x288 with 1 Axes>"
      ]
     },
     "metadata": {
      "needs_background": "light"
     },
     "output_type": "display_data"
    }
   ],
   "source": [
    "# error bars\n",
    "N = 100\n",
    "P = 10\n",
    "# normal(mean, variance, size)\n",
    "s = np.random.normal(1.0, 0.5, size=(N,P))\n",
    "t = np.arange(N)\n",
    "sm = s.mean(axis=1)\n",
    "sd = s.std(axis=1)\n",
    "plt.plot(t,sm,'r-')\n",
    "plt.fill_between(t, sm + sd, sm - sd, color='r', alpha=.4)\n",
    "plt.xlabel(\"t\")\n",
    "plt.ylabel(r\"$\\epsilon$\")"
   ]
  },
  {
   "cell_type": "markdown",
   "metadata": {},
   "source": [
    "## Subsetting, Slicing, Indexing\n",
    "\n",
    "Numpy offers several ways to index into arrays.\n",
    "\n",
    "*Slicing*: Similar to Python lists, numpy arrays can be sliced. Since arrays may be multidimensional, you must specify a slice for each dimension of the array:"
   ]
  },
  {
   "cell_type": "code",
   "execution_count": 46,
   "metadata": {},
   "outputs": [
    {
     "data": {
      "text/plain": [
       "array([[ 1,  2,  3,  4],\n",
       "       [ 5,  6,  7,  8],\n",
       "       [ 9, 10, 11, 12]])"
      ]
     },
     "execution_count": 46,
     "metadata": {},
     "output_type": "execute_result"
    }
   ],
   "source": [
    "# Create the following rank 2 array with shape (3, 4)\n",
    "# [[ 1  2  3  4]\n",
    "#  [ 5  6  7  8]\n",
    "#  [ 9 10 11 12]]\n",
    "a = np.array([[1,2,3,4], [5,6,7,8], [9,10,11,12]])\n",
    "a"
   ]
  },
  {
   "cell_type": "code",
   "execution_count": 47,
   "metadata": {},
   "outputs": [
    {
     "data": {
      "text/plain": [
       "10"
      ]
     },
     "execution_count": 47,
     "metadata": {},
     "output_type": "execute_result"
    }
   ],
   "source": [
    "a[2, 1]"
   ]
  },
  {
   "cell_type": "code",
   "execution_count": 48,
   "metadata": {},
   "outputs": [
    {
     "data": {
      "text/plain": [
       "array([[2, 3],\n",
       "       [6, 7]])"
      ]
     },
     "execution_count": 48,
     "metadata": {},
     "output_type": "execute_result"
    }
   ],
   "source": [
    "a[:2, 1:3]"
   ]
  },
  {
   "cell_type": "code",
   "execution_count": 49,
   "metadata": {},
   "outputs": [
    {
     "data": {
      "text/plain": [
       "array([ 2,  6, 10])"
      ]
     },
     "execution_count": 49,
     "metadata": {},
     "output_type": "execute_result"
    }
   ],
   "source": [
    "# all row values for column 1\n",
    "a[:,1]"
   ]
  },
  {
   "cell_type": "code",
   "execution_count": 50,
   "metadata": {},
   "outputs": [
    {
     "data": {
      "text/plain": [
       "array([ 1,  2,  3,  4,  5,  6, 11, 12])"
      ]
     },
     "execution_count": 50,
     "metadata": {},
     "output_type": "execute_result"
    }
   ],
   "source": [
    "# use boolean mask selection\n",
    "a[(a < 7) | (a > 10)]"
   ]
  },
  {
   "cell_type": "code",
   "execution_count": 51,
   "metadata": {},
   "outputs": [
    {
     "data": {
      "text/plain": [
       "array([[ 9, 10, 11, 12],\n",
       "       [ 5,  6,  7,  8],\n",
       "       [ 1,  2,  3,  4]])"
      ]
     },
     "execution_count": 51,
     "metadata": {},
     "output_type": "execute_result"
    }
   ],
   "source": [
    "# reverse, reverse!\n",
    "a[::-1]"
   ]
  },
  {
   "cell_type": "markdown",
   "metadata": {},
   "source": [
    "We can also **change** a value when accessing a single value *or* subset:"
   ]
  },
  {
   "cell_type": "code",
   "execution_count": 52,
   "metadata": {},
   "outputs": [
    {
     "data": {
      "text/plain": [
       "array([[ 1,  2,  3,  4],\n",
       "       [ 5,  6,  7,  8],\n",
       "       [ 9, 10, 25, 12]])"
      ]
     },
     "execution_count": 52,
     "metadata": {},
     "output_type": "execute_result"
    }
   ],
   "source": [
    "a[2,2] = 25\n",
    "a"
   ]
  },
  {
   "cell_type": "markdown",
   "metadata": {},
   "source": [
    "### Copies vs Views\n",
    "\n",
    "A common **gotcha** moment.\n",
    "\n",
    "When we use 'slice' notation to look at part of an array, it produces a *view*, meaning it points to the same memory of the original array. If we use *fancy-indexing*, it will assign direct changes to the array.\n",
    "\n",
    "#### example:"
   ]
  },
  {
   "cell_type": "code",
   "execution_count": 53,
   "metadata": {},
   "outputs": [
    {
     "name": "stdout",
     "output_type": "stream",
     "text": [
      "[0 1 2 3 4 5 6 7 8 9]\n"
     ]
    }
   ],
   "source": [
    "x = np.arange(10)\n",
    "print(x)"
   ]
  },
  {
   "cell_type": "code",
   "execution_count": 54,
   "metadata": {},
   "outputs": [
    {
     "name": "stdout",
     "output_type": "stream",
     "text": [
      "[0 2 4 6 8]\n"
     ]
    }
   ],
   "source": [
    "y = x[::2]\n",
    "print(y)"
   ]
  },
  {
   "cell_type": "code",
   "execution_count": 55,
   "metadata": {},
   "outputs": [
    {
     "name": "stdout",
     "output_type": "stream",
     "text": [
      "[  0   2   4 100   8]\n",
      "[  0   1   2   3   4   5 100   7   8   9]\n"
     ]
    }
   ],
   "source": [
    "y[3] = 100\n",
    "print(y)\n",
    "print(x)"
   ]
  },
  {
   "cell_type": "markdown",
   "metadata": {},
   "source": [
    "## Dot products\n",
    "\n",
    "Note that unlike MATLAB, `*` is elementwise multiplication, not matrix multiplication. We instead use the `dot` function to compute inner products of vectors, to multiply a vector by a matrix, and to multiply matrices. `dot` is available both as a function in the numpy module and as an instance method of array objects. It does the following:\n",
    "\n",
    "- If both `a` and `b` are 1-D, the inner/scalar product of vectors is calculated.\n",
    "- If both `a` and `b` are 2-D, matrix multiplication: using the function `np.matmul` or (`a @ b`) is preferred.\n",
    "- If `a` or `b` is scalar, it is equivalent to `multiply` and applying that scalar to all values of the other vector/matrix. Use `a * b` instead.\n",
    "- If `a` is $N$-D array and `b` is 1-D, it is a sum product over the last axis of `a` and `b`.\n",
    "- If `a` is an $N$-D array and `b` is an $M$-D array (where $M >= 2$), it is a sum product over the last axis of `a` and the second-to-last axis of `b`."
   ]
  },
  {
   "cell_type": "code",
   "execution_count": 56,
   "metadata": {},
   "outputs": [
    {
     "name": "stderr",
     "output_type": "stream",
     "text": [
      "/home/gparkes/anaconda3/lib/python3.6/site-packages/numpy/core/numeric.py:301: FutureWarning: in the future, full(3, 2) will return an array of dtype('int64')\n",
      "  format(shape, fill_value, array(fill_value).dtype), FutureWarning)\n"
     ]
    }
   ],
   "source": [
    "a = np.arange(9).reshape(3,3)\n",
    "b = np.arange(3)\n",
    "c = np.full(3, 2)"
   ]
  },
  {
   "cell_type": "code",
   "execution_count": 57,
   "metadata": {},
   "outputs": [
    {
     "name": "stdout",
     "output_type": "stream",
     "text": [
      "[0 1 2] [ 2.  2.  2.]\n"
     ]
    },
    {
     "data": {
      "text/plain": [
       "6.0"
      ]
     },
     "execution_count": 57,
     "metadata": {},
     "output_type": "execute_result"
    }
   ],
   "source": [
    "# vector-vector dot product (scalar product)\n",
    "print(b, c)\n",
    "np.dot(b, c)"
   ]
  },
  {
   "cell_type": "code",
   "execution_count": 58,
   "metadata": {},
   "outputs": [
    {
     "name": "stdout",
     "output_type": "stream",
     "text": [
      "[[0 1 2]\n",
      " [3 4 5]\n",
      " [6 7 8]] [0 1 2]\n"
     ]
    },
    {
     "data": {
      "text/plain": [
       "array([ 5, 14, 23])"
      ]
     },
     "execution_count": 58,
     "metadata": {},
     "output_type": "execute_result"
    }
   ],
   "source": [
    "# matrix-vector dot product\n",
    "print(a,b)\n",
    "np.dot(a,b)"
   ]
  },
  {
   "cell_type": "code",
   "execution_count": 59,
   "metadata": {
    "scrolled": true
   },
   "outputs": [
    {
     "data": {
      "text/plain": [
       "array([[ 15,  18,  21],\n",
       "       [ 42,  54,  66],\n",
       "       [ 69,  90, 111]])"
      ]
     },
     "execution_count": 59,
     "metadata": {},
     "output_type": "execute_result"
    }
   ],
   "source": [
    "# matrix-matrix dot product\n",
    "a.dot(a)"
   ]
  },
  {
   "cell_type": "markdown",
   "metadata": {},
   "source": [
    "Note that while in mathematics a **matrix-vector** dot product where the vector is the left-hand term is invalid, this is allowed in Python, it will just assume it is as normal:"
   ]
  },
  {
   "cell_type": "code",
   "execution_count": 60,
   "metadata": {},
   "outputs": [
    {
     "data": {
      "text/plain": [
       "array([15, 18, 21])"
      ]
     },
     "execution_count": 60,
     "metadata": {},
     "output_type": "execute_result"
    }
   ],
   "source": [
    "b.dot(a)"
   ]
  },
  {
   "cell_type": "markdown",
   "metadata": {},
   "source": [
    "## Array Manipulation\n",
    "\n",
    "There are hosts of manipulations that can be applied to both vectors and matrices; we will explore the common ones here:"
   ]
  },
  {
   "cell_type": "code",
   "execution_count": 61,
   "metadata": {},
   "outputs": [
    {
     "name": "stdout",
     "output_type": "stream",
     "text": [
      "[[0 1 2]\n",
      " [3 4 5]\n",
      " [6 7 8]] \n",
      "\n",
      " [[0 3 6]\n",
      " [1 4 7]\n",
      " [2 5 8]]\n"
     ]
    }
   ],
   "source": [
    "# transpose\n",
    "print(\"{} \\n\\n {}\".format(a, a.T))"
   ]
  },
  {
   "cell_type": "code",
   "execution_count": 62,
   "metadata": {},
   "outputs": [
    {
     "name": "stdout",
     "output_type": "stream",
     "text": [
      "[[0 1 2]\n",
      " [3 4 5]\n",
      " [6 7 8]]\n",
      "[0 1 2 3 4 5 6 7 8]\n"
     ]
    }
   ],
   "source": [
    "print(a)\n",
    "print(a.ravel())"
   ]
  },
  {
   "cell_type": "code",
   "execution_count": 63,
   "metadata": {},
   "outputs": [
    {
     "name": "stdout",
     "output_type": "stream",
     "text": [
      "(100, 10)\n",
      "(500, 2)\n"
     ]
    }
   ],
   "source": [
    "print(s.shape)\n",
    "print(s.reshape(500,2).shape)"
   ]
  },
  {
   "cell_type": "code",
   "execution_count": 64,
   "metadata": {},
   "outputs": [
    {
     "data": {
      "text/plain": [
       "array([[ 0.,  1.,  2.],\n",
       "       [ 2.,  2.,  2.]])"
      ]
     },
     "execution_count": 64,
     "metadata": {},
     "output_type": "execute_result"
    }
   ],
   "source": [
    "np.vstack((b, c))"
   ]
  },
  {
   "cell_type": "code",
   "execution_count": 65,
   "metadata": {},
   "outputs": [
    {
     "data": {
      "text/plain": [
       "array([[0, 1, 2, 0, 1, 2],\n",
       "       [3, 4, 5, 3, 4, 5],\n",
       "       [6, 7, 8, 6, 7, 8]])"
      ]
     },
     "execution_count": 65,
     "metadata": {},
     "output_type": "execute_result"
    }
   ],
   "source": [
    "np.hstack((a,a))"
   ]
  },
  {
   "cell_type": "code",
   "execution_count": 66,
   "metadata": {},
   "outputs": [
    {
     "data": {
      "text/plain": [
       "array([[0, 1, 2],\n",
       "       [3, 4, 5],\n",
       "       [6, 7, 8],\n",
       "       [0, 1, 2]])"
      ]
     },
     "execution_count": 66,
     "metadata": {},
     "output_type": "execute_result"
    }
   ],
   "source": [
    "np.concatenate((a,b.reshape(1,3)), axis=0)"
   ]
  },
  {
   "cell_type": "code",
   "execution_count": 67,
   "metadata": {
    "scrolled": true
   },
   "outputs": [
    {
     "data": {
      "text/plain": [
       "array([[0, 1, 2, 0],\n",
       "       [3, 4, 5, 1],\n",
       "       [6, 7, 8, 2]])"
      ]
     },
     "execution_count": 67,
     "metadata": {},
     "output_type": "execute_result"
    }
   ],
   "source": [
    "np.concatenate((a,b.reshape(3,1)), axis=1)"
   ]
  },
  {
   "cell_type": "markdown",
   "metadata": {},
   "source": [
    "## Broadcasting\n",
    "\n",
    "Broadcasting is a powerful mechanism that allows numpy to work with arrays of different shapes when performing arithmetic operations. Frequently we have a smaller array and a larger array, and we want to use the smaller array multiple times to perform some operation on the larger array."
   ]
  },
  {
   "cell_type": "code",
   "execution_count": 129,
   "metadata": {},
   "outputs": [
    {
     "data": {
      "image/png": "[encoded data removed]",
      "text/plain": [
       "<Figure size 432x324 with 1 Axes>"
      ]
     },
     "metadata": {},
     "output_type": "display_data"
    }
   ],
   "source": [
    "extra_figs.demo_broadcasting_cubes()"
   ]
  },
  {
   "cell_type": "markdown",
   "metadata": {},
   "source": [
    "For example, suppose that we want to add a constant vector to each row of a matrix. We could do it like this:"
   ]
  },
  {
   "cell_type": "code",
   "execution_count": 68,
   "metadata": {},
   "outputs": [
    {
     "data": {
      "text/plain": [
       "array([[ 2,  2,  4],\n",
       "       [ 5,  5,  7],\n",
       "       [ 8,  8, 10],\n",
       "       [11, 11, 13]])"
      ]
     },
     "execution_count": 68,
     "metadata": {},
     "output_type": "execute_result"
    }
   ],
   "source": [
    "x = np.array([[1,2,3], [4,5,6], [7,8,9], [10, 11, 12]])\n",
    "v = np.array([1, 0, 1])\n",
    "y = np.empty_like(x)\n",
    "\n",
    "# Add the vector v to each row of the matrix x with an explicit loop\n",
    "for i in range(4):\n",
    "    y[i, :] = x[i, :] + v\n",
    "\n",
    "y"
   ]
  },
  {
   "cell_type": "markdown",
   "metadata": {},
   "source": [
    "This works; however when the matrix $x$ is very large, computing an explicit loop in Python could be slow. Note that adding the vector $v$ to each row of the matrix $x$ is equivalent to forming a matrix vv by stacking multiple copies of $v$ vertically, then performing elementwise summation of $x$ and $vv$. We could implement this approach like this:"
   ]
  },
  {
   "cell_type": "code",
   "execution_count": 69,
   "metadata": {},
   "outputs": [
    {
     "name": "stdout",
     "output_type": "stream",
     "text": [
      "[[1 0 1]\n",
      " [1 0 1]\n",
      " [1 0 1]\n",
      " [1 0 1]]\n"
     ]
    },
    {
     "data": {
      "text/plain": [
       "array([[ 2,  2,  4],\n",
       "       [ 5,  5,  7],\n",
       "       [ 8,  8, 10],\n",
       "       [11, 11, 13]])"
      ]
     },
     "execution_count": 69,
     "metadata": {},
     "output_type": "execute_result"
    }
   ],
   "source": [
    "x = np.array([[1,2,3], [4,5,6], [7,8,9], [10, 11, 12]])\n",
    "v = np.array([1, 0, 1])\n",
    "vv = np.tile(v, (4, 1))   # Stack 4 copies of v on top of each other\n",
    "print(vv)\n",
    "y = x + vv  # Add x and vv elementwise\n",
    "y  # Prints \"[[ 2  2  4"
   ]
  },
  {
   "cell_type": "markdown",
   "metadata": {},
   "source": [
    "Numpy broadcasting allows us to perform this computation without actually creating multiple copies of $v$. Consider this version, using broadcasting:"
   ]
  },
  {
   "cell_type": "code",
   "execution_count": 70,
   "metadata": {},
   "outputs": [
    {
     "data": {
      "text/plain": [
       "array([[ 2,  2,  4],\n",
       "       [ 5,  5,  7],\n",
       "       [ 8,  8, 10],\n",
       "       [11, 11, 13]])"
      ]
     },
     "execution_count": 70,
     "metadata": {},
     "output_type": "execute_result"
    }
   ],
   "source": [
    "x = np.array([[1,2,3], [4,5,6], [7,8,9], [10, 11, 12]])\n",
    "v = np.array([1, 0, 1])\n",
    "y = x + v  # Add v to each row of x using broadcasting\n",
    "y"
   ]
  },
  {
   "cell_type": "markdown",
   "metadata": {},
   "source": [
    "Another example of useful broadcasting is when we want to display images based on two-dimensional functions. For example if we define $z=f(x, y)$, broadcasting can be used to compute the function across a grid trivially:"
   ]
  },
  {
   "cell_type": "code",
   "execution_count": 123,
   "metadata": {},
   "outputs": [
    {
     "data": {
      "image/png": "[encoded data removed]",
      "text/plain": [
       "<Figure size 432x288 with 2 Axes>"
      ]
     },
     "metadata": {
      "needs_background": "light"
     },
     "output_type": "display_data"
    }
   ],
   "source": [
    "x = np.linspace(0, 5, 50)\n",
    "y = np.atleast_2d(np.linspace(0, 5, 50)).T\n",
    "z = np.sin(x)**10 + np.cos(10 + y * x) * np.cos(x)\n",
    "plt.contourf(z, origin=\"lower\", extent=[0, 5, 0, 5], cmap=\"viridis\")\n",
    "plt.xlabel(r\"$x$\")\n",
    "plt.ylabel(r\"$y$\")\n",
    "plt.colorbar()\n",
    "plt.show()"
   ]
  },
  {
   "cell_type": "markdown",
   "metadata": {},
   "source": [
    "## Vectorizing Functions\n",
    "\n",
    "One of the features that NumPy provides is a class vectorize to convert an ordinary Python function which accepts scalars and returns scalars into a “vectorized-function” with the same broadcasting rules as other Numpy functions (i.e. the Universal functions, or ufuncs). For example, suppose you have a Python function named `addsubtract()` defined as:"
   ]
  },
  {
   "cell_type": "code",
   "execution_count": 71,
   "metadata": {},
   "outputs": [],
   "source": [
    "def addsubtract(a,b):\n",
    "    if a>b:\n",
    "        return a-b\n",
    "    else:\n",
    "        return a+b"
   ]
  },
  {
   "cell_type": "markdown",
   "metadata": {},
   "source": [
    "which defines a function of two scalar variables and returns a scalar result. The class `vectorize` can be used to “vectorize “this function so that:"
   ]
  },
  {
   "cell_type": "code",
   "execution_count": 72,
   "metadata": {},
   "outputs": [],
   "source": [
    "vec_addsubtract = np.vectorize(addsubtract)"
   ]
  },
  {
   "cell_type": "markdown",
   "metadata": {},
   "source": [
    "Now we can call our created function on some data and NumPy will treat our Python function as if it's C:"
   ]
  },
  {
   "cell_type": "code",
   "execution_count": 73,
   "metadata": {},
   "outputs": [
    {
     "data": {
      "text/plain": [
       "array([1, 6, 1, 2])"
      ]
     },
     "execution_count": 73,
     "metadata": {},
     "output_type": "execute_result"
    }
   ],
   "source": [
    "vec_addsubtract([0,3,6,9],[1,3,5,7])"
   ]
  },
  {
   "cell_type": "markdown",
   "metadata": {},
   "source": [
    "This particular function could have been written in vector form without the use of `vectorize`. However, functions that employ optimization or integration routines can likely only be vectorized using `vectorize`."
   ]
  },
  {
   "cell_type": "markdown",
   "metadata": {},
   "source": [
    "## Polynomials\n",
    "\n",
    "We can use the poly1d class from Numpy. This class accepts coefficients or polynomial roots to initialize a polynomial. The polynomial object can then be manipulated in algebraic expressions, integrated, differentiated, and evaluated. It even prints like a polynomial:"
   ]
  },
  {
   "cell_type": "code",
   "execution_count": 74,
   "metadata": {},
   "outputs": [
    {
     "data": {
      "text/plain": [
       "poly1d([3, 4, 5])"
      ]
     },
     "execution_count": 74,
     "metadata": {},
     "output_type": "execute_result"
    }
   ],
   "source": [
    "x = np.poly1d([3,4,5])\n",
    "x"
   ]
  },
  {
   "cell_type": "code",
   "execution_count": 75,
   "metadata": {},
   "outputs": [
    {
     "name": "stdout",
     "output_type": "stream",
     "text": [
      "   2\n",
      "3 x + 4 x + 5\n"
     ]
    }
   ],
   "source": [
    "print(x)"
   ]
  },
  {
   "cell_type": "code",
   "execution_count": 76,
   "metadata": {},
   "outputs": [
    {
     "name": "stdout",
     "output_type": "stream",
     "text": [
      "   4      3      2\n",
      "9 x + 24 x + 46 x + 40 x + 25\n"
     ]
    }
   ],
   "source": [
    "print(x*x)"
   ]
  },
  {
   "cell_type": "code",
   "execution_count": 77,
   "metadata": {},
   "outputs": [
    {
     "name": "stdout",
     "output_type": "stream",
     "text": [
      "   3     2\n",
      "1 x + 2 x + 5 x + 6\n"
     ]
    }
   ],
   "source": [
    "print(x.integ(k=6))"
   ]
  },
  {
   "cell_type": "code",
   "execution_count": 78,
   "metadata": {},
   "outputs": [
    {
     "name": "stdout",
     "output_type": "stream",
     "text": [
      " \n",
      "6 x + 4\n"
     ]
    }
   ],
   "source": [
    "print(x.deriv())"
   ]
  },
  {
   "cell_type": "code",
   "execution_count": 79,
   "metadata": {},
   "outputs": [
    {
     "name": "stdout",
     "output_type": "stream",
     "text": [
      "[ 69 100]\n"
     ]
    }
   ],
   "source": [
    "print(x([4,5]))"
   ]
  },
  {
   "cell_type": "markdown",
   "metadata": {},
   "source": [
    "Alternatively we may wish to obtain the slope and intercept coefficients by *fitting* a polynomial to data samples $x$ and $y$, we can use `np.polyfit` on a linear-relationship:"
   ]
  },
  {
   "cell_type": "code",
   "execution_count": 80,
   "metadata": {},
   "outputs": [
    {
     "name": "stdout",
     "output_type": "stream",
     "text": [
      "slope=0.9669, intercept=2.9665\n"
     ]
    },
    {
     "data": {
      "image/png": "[encoded data removed]",
      "text/plain": [
       "<Figure size 432x288 with 1 Axes>"
      ]
     },
     "metadata": {
      "needs_background": "light"
     },
     "output_type": "display_data"
    }
   ],
   "source": [
    "N = 30\n",
    "x = np.linspace(0,5,N)\n",
    "y = x + np.random.randn(N) + 3\n",
    "\n",
    "linear_mod = lambda x, m, b: x*m+b\n",
    "# fit a straight line, slope first, intercept last\n",
    "m, b = np.polyfit(x, y, deg=1)\n",
    "print(\"slope=%.4f, intercept=%.4f\" % (m, b))\n",
    "plt.scatter(x, y, c='b')\n",
    "plt.plot(x, linear_mod(x,m,b), 'r-')\n",
    "plt.show()"
   ]
  },
  {
   "cell_type": "markdown",
   "metadata": {},
   "source": [
    "Now a second-order relationship:"
   ]
  },
  {
   "cell_type": "code",
   "execution_count": 81,
   "metadata": {},
   "outputs": [
    {
     "name": "stdout",
     "output_type": "stream",
     "text": [
      "slope 1=-1.1238, slope 2=1.1339, intercept=4.8757\n"
     ]
    },
    {
     "data": {
      "image/png": "[encoded data removed]",
      "text/plain": [
       "<Figure size 432x288 with 1 Axes>"
      ]
     },
     "metadata": {
      "needs_background": "light"
     },
     "output_type": "display_data"
    }
   ],
   "source": [
    "x = np.linspace(0,5,N)\n",
    "y = (x**2) + np.random.normal(scale=2., size=N) + 3\n",
    "\n",
    "deg2_mod = lambda x, m1, m2, b: m2*x**2 + x*m1 + b\n",
    "\n",
    "m2, m1, b = np.polyfit(x, y, deg=2)\n",
    "print(\"slope 1=%.4f, slope 2=%.4f, intercept=%.4f\" % (m1, m2, b))\n",
    "plt.scatter(x, y, c='b')\n",
    "plt.plot(x, deg2_mod(x, m1, m2, b), 'r-')\n",
    "plt.show()"
   ]
  },
  {
   "cell_type": "markdown",
   "metadata": {},
   "source": [
    "### Is it actually faster than using lists?\n",
    "\n",
    "NumPy is considerably faster than using in-house Python objects. Let's time it.\n",
    "\n",
    "I hope your machine can handle 1 million elements...\n",
    "\n",
    "**Yes**, NumPy absolutely hammers list comprehensions at most practical sizes."
   ]
  },
  {
   "cell_type": "code",
   "execution_count": 82,
   "metadata": {},
   "outputs": [
    {
     "name": "stdout",
     "output_type": "stream",
     "text": [
      "Running step size:100\n",
      "18.2 µs ± 98.6 ns per loop (mean ± std. dev. of 7 runs, 100000 loops each)\n",
      "494 ns ± 12.1 ns per loop (mean ± std. dev. of 7 runs, 1000000 loops each)\n",
      "Running step size:1000\n",
      "183 µs ± 1.49 µs per loop (mean ± std. dev. of 7 runs, 10000 loops each)\n",
      "1.04 µs ± 17 ns per loop (mean ± std. dev. of 7 runs, 1000000 loops each)\n",
      "Running step size:10000\n",
      "1.95 ms ± 132 µs per loop (mean ± std. dev. of 7 runs, 1000 loops each)\n",
      "5.43 µs ± 61 ns per loop (mean ± std. dev. of 7 runs, 100000 loops each)\n",
      "Running step size:100000\n",
      "19.5 ms ± 229 µs per loop (mean ± std. dev. of 7 runs, 100 loops each)\n",
      "47.2 µs ± 706 ns per loop (mean ± std. dev. of 7 runs, 10000 loops each)\n",
      "Running step size:1000000\n",
      "204 ms ± 7.54 ms per loop (mean ± std. dev. of 7 runs, 10 loops each)\n",
      "1.17 ms ± 120 µs per loop (mean ± std. dev. of 7 runs, 1000 loops each)\n"
     ]
    },
    {
     "data": {
      "text/plain": [
       "<matplotlib.legend.Legend at 0x7f93224499b0>"
      ]
     },
     "execution_count": 82,
     "metadata": {},
     "output_type": "execute_result"
    },
    {
     "data": {
      "image/png": "[encoded data removed]",
      "text/plain": [
       "<Figure size 432x288 with 1 Axes>"
      ]
     },
     "metadata": {
      "needs_background": "light"
     },
     "output_type": "display_data"
    }
   ],
   "source": [
    "step_sizes = np.logspace(2,6,5,dtype=np.int)\n",
    "\n",
    "times_py = []\n",
    "times_np = []\n",
    "for step in step_sizes:\n",
    "    print(\"Running step size:{}\".format(step))\n",
    "    np_list = np.arange(step, dtype=np.int)\n",
    "    py_list = list(range(step))\n",
    "    \n",
    "    t_py = %timeit -o [i**2 for i in py_list]\n",
    "    t_np = %timeit -o np.square(np_list)\n",
    "    \n",
    "    times_py.append(t_py)\n",
    "    times_np.append(t_np)\n",
    "    \n",
    "y_py = np.array([np.array(times_py[i].timings).mean() for i in range(len(times_py))])\n",
    "y_np = np.array([np.array(times_np[i].timings).mean() for i in range(len(times_np))])\n",
    "\n",
    "plt.loglog(step_sizes, y_py, 'x-', label=\"python\")\n",
    "plt.loglog(step_sizes, y_np, 'x-', label=\"numpy\")\n",
    "plt.xlabel(\"Step sizes\")\n",
    "plt.ylabel(\"Time taken\")\n",
    "plt.legend()\n",
    "plt.show()"
   ]
  },
  {
   "cell_type": "markdown",
   "metadata": {},
   "source": [
    "# Tasks\n",
    "\n",
    "One of the areas of interest in *population genetics* is the study of mutation, selection and crossover within genetic populations. We will be exploring the use of the **Fisher-Wright model**. In this example, we will consider the change of an allele in the genetic population from state *A* (normal) to state *B* (mutant). We make some assumptions:\n",
    "1. *B* has a selective advantage of $1+s$.\n",
    "2. _A mutates to B_ with forward mutation rate $\\mu$.\n",
    "3. *B mutates to A* with backward mutation rate $\\nu$.\n",
    "4. The population size $P$ is finite.\n",
    "\n",
    "To change the population $P$ over time $t$, we have a 3-stage process:\n",
    "\n",
    "To begin with, the number of mutants $n_0=0$.\n",
    "\n",
    "- We calculate the proportion of mutant seeds $p_s$ as:\n",
    "\n",
    "$$\n",
    "    p_s =\\frac{(1+s)n}{P+sn}\n",
    "$$\n",
    "\n",
    "- With the proportion of mutant seeds, we can estimate the proportion of mutants $p_{sm}$ produced from those mutant seeds:\n",
    "\n",
    "$$\n",
    "    p_{sm}=(1-\\nu)p_s + \\mu(1-p_s)\n",
    "$$\n",
    "\n",
    "- Using the total population P with the proportion of mutants $p_{sm}$, we assume independence between individuals and therefore can draw $n_t$ mutants from the binomial distribution. This can be used from `np.random.binomial(P, p_sm)`.\n",
    "\n",
    "This program runs while the number of mutants $n_t<P$ population for takeover, or $t$ has exceeded some maximum time $T_{max}$."
   ]
  },
  {
   "cell_type": "markdown",
   "metadata": {},
   "source": [
    "## Task 1.\n",
    "\n",
    "Create a Gaussian distribution of samples by only generating from the Uniform distribution $\\mathcal{U}(0, 1)$ (`np.random.rand`). This can be done as:\n",
    "\n",
    "$$\n",
    "\\mathcal{N}_i(\\mu,\\sigma^2)= \\sum_{j=1}^p U_{ij} - \\sum_{j=1}^p W_{ij}\n",
    "$$\n",
    "\n",
    "where $U_{ij} \\sim \\mathcal{U}(0,1)$ and $W_{ij} \\sim \\mathcal{U}(0,1)$. Draw $N=10^3$ samples of the normal distribution. Plot them as a histogram. Initially set $p=20$. Change $p$ and see what happens to the distribution."
   ]
  },
  {
   "cell_type": "code",
   "execution_count": 125,
   "metadata": {},
   "outputs": [
    {
     "data": {
      "image/png": "[encoded data removed]",
      "text/plain": [
       "<Figure size 432x288 with 1 Axes>"
      ]
     },
     "metadata": {
      "needs_background": "light"
     },
     "output_type": "display_data"
    }
   ],
   "source": [
    "N = 1000\n",
    "p = 20\n",
    "_ = plt.hist(np.sum(np.random.rand(p,N),axis=0)-np.sum(np.random.rand(p,N),axis=0))"
   ]
  },
  {
   "cell_type": "markdown",
   "metadata": {},
   "source": [
    "### Task 2. \n",
    "\n",
    "Write a function `fisher_wright(P, s, mu, nu, Tmax)` that, given the population size $P=200$, the selective advantage $s=0.1$, the forward $\\mu=10^{-3}$ and backward $\\nu=10^{-3}$ mutation rates, and a maximum time $T_{max}=10^3$ returns the number of mutants time-series as a numpy array."
   ]
  },
  {
   "cell_type": "code",
   "execution_count": 84,
   "metadata": {},
   "outputs": [],
   "source": [
    "# your codes here\n",
    "import numpy as np\n",
    "\n",
    "def fisher_wright(P, s, mu, nu, Tmax):\n",
    "    t = 0\n",
    "    n = np.zeros((Tmax+1), dtype=np.int64)\n",
    "    while n[t]<P and t<Tmax:\n",
    "        # select\n",
    "        p_s = (1+s)*n[t] / (P+s*n[t])\n",
    "        # mutate\n",
    "        p_sm = (1-nu)*p_s + mu*(1.-p_s)\n",
    "        # sample\n",
    "        t += 1\n",
    "        n[t] = np.random.binomial(P, p_sm)\n",
    "    return n[:t+1]"
   ]
  },
  {
   "cell_type": "markdown",
   "metadata": {},
   "source": [
    "### Task 3.\n",
    "\n",
    "Plot time $t$ against the number of mutants $n$ using `plt.plot`. Do this for four different sets of inputs:\n",
    "\n",
    "1. $P=2 \\times 10^2, s=10^{-1}, \\mu=10^{-3}, \\nu=10^{-3}$\n",
    "2. $P=2 \\times 10^2, s=10^{-1}, \\mu=10^{-1}, \\nu=10^{-3}$\n",
    "3. $P=2 \\times 10^2, s=0, \\mu=10^{-3}, \\nu=10^{-3}$\n",
    "4. $P=2 \\times 10^2, s=10^{-1}, \\mu=10^{-3}, \\nu=10^{-1}$\n",
    "\n",
    "You can either do this in different plots, or all in the same plot with legend. What is happened with the difference of parameters?\n",
    "\n",
    "Remember to label your axes."
   ]
  },
  {
   "cell_type": "code",
   "execution_count": 122,
   "metadata": {},
   "outputs": [
    {
     "data": {
      "image/png": "[encoded data removed]",
      "text/plain": [
       "<Figure size 576x432 with 1 Axes>"
      ]
     },
     "metadata": {
      "needs_background": "light"
     },
     "output_type": "display_data"
    }
   ],
   "source": [
    "# your codes here\n",
    "import matplotlib.pyplot as plt\n",
    "import itertools as it\n",
    "%matplotlib inline\n",
    "\n",
    "param_sets = [\n",
    "    (200, 0.1, 0.001, 0.001, int(10**3)),\n",
    "    (200, .1, .1, .001, int(10**3)),\n",
    "    (200, 0, .001, .001, int(10**3)),\n",
    "    (200, .1, .001, .1, int(10**3)),\n",
    "]\n",
    "\n",
    "names = [r\"$P=200, s=10^{-1}, \\mu=10^{-3}, \\nu=10^{-3}$\",\n",
    "         r\"$P=200, s=10^{-1}, \\mu=10^{-1}, \\nu=10^{-3}$\",\n",
    "         r\"$P=200, s=0, \\mu=10^{-3}, \\nu=10^{-3}$\", \n",
    "         r\"$P=200, s=10^{-1}, \\mu=10^{-3}, \\nu=10^{-1}$\"\n",
    "]\n",
    "\n",
    "fig, axes = plt.subplots(figsize=(8,6))\n",
    "\n",
    "for p, name in zip(param_sets, names):\n",
    "    nt = fisher_wright(*p)\n",
    "    axes.plot(np.arange(nt.shape[0]), nt, label=name)\n",
    "axes.set_xlabel(r\"$t$\")\n",
    "axes.set_ylabel(r\"$n$ mutants\")\n",
    "axes.legend(loc=\"upper right\")\n",
    "plt.show()"
   ]
  },
  {
   "cell_type": "markdown",
   "metadata": {},
   "source": [
    "### Task 4.\n",
    "\n",
    "Modify `fisher_wright()` to take an additional argument, $N_r$, which could be the number of realisations (or attempts). Re-run the function with $N_r=10^4$, take the mean with respect to $N_r$ and plot time $t$ against the mean number of mutants $n$ with error bars (as confidence intervals; $2 \\times sd$), using `plt.fill_between()`."
   ]
  },
  {
   "cell_type": "code",
   "execution_count": 91,
   "metadata": {},
   "outputs": [
    {
     "data": {
      "image/png": "[encoded data removed]",
      "text/plain": [
       "<Figure size 432x288 with 1 Axes>"
      ]
     },
     "metadata": {
      "needs_background": "light"
     },
     "output_type": "display_data"
    }
   ],
   "source": [
    "# your codes here\n",
    "def fisher_wright_modified(P, s, mu, nu, Tmax, Nr):\n",
    "    t = 0\n",
    "    n = np.zeros((Tmax+1, Nr), dtype=np.int32)\n",
    "    # once a certain proportion (say 10%) of the matrix contains total population P, we stop iterating.\n",
    "    prop = ((Tmax+1)*Nr) * 0.1\n",
    "    while np.sum(n==P) < prop and t < Tmax:\n",
    "        p_s = (1+s)*n[t,:] / (P+s*n[t,:])\n",
    "        # mutate\n",
    "        p_sm = (1-nu)*p_s + mu*(1.-p_s)\n",
    "        # sample\n",
    "        t += 1\n",
    "        n[t,:] = np.random.binomial(P, p_sm, size=(Nr,))\n",
    "    return n[:t+1,:]\n",
    "\n",
    "nt2 = fisher_wright_modified(200, 0.1, 0.001, 0.001, int(10**3), int(10**4))\n",
    "ntm = nt2.mean(axis=1)\n",
    "ntsd = nt2.std(axis=1)\n",
    "t = np.arange(len(nt2))\n",
    "    \n",
    "plt.plot(t, ntm, 'k-')\n",
    "plt.fill_between(t, ntm - 2*ntsd, ntm + 2*ntsd, color='r', alpha=.4)\n",
    "plt.xlabel(r\"$t$\")\n",
    "plt.ylabel(r\"$n \\,$ mutants\")\n",
    "\n",
    "plt.show()"
   ]
  }
 ],
 "metadata": {
  "kernelspec": {
   "display_name": "Python 3",
   "language": "python",
   "name": "python3"
  },
  "language_info": {
   "codemirror_mode": {
    "name": "ipython",
    "version": 3
   },
   "file_extension": ".py",
   "mimetype": "text/x-python",
   "name": "python",
   "nbconvert_exporter": "python",
   "pygments_lexer": "ipython3",
   "version": "3.6.7"
  }
 },
 "nbformat": 4,
 "nbformat_minor": 2
}
