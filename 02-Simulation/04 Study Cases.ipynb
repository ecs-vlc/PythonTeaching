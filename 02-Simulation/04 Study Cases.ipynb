{
 "cells": [
  {
   "cell_type": "markdown",
   "metadata": {},
   "source": [
    "# 3. Handling In-Depth Cases\n",
    "\n",
    "The purpose of this section of teaching is to give you a few in-depth examples as a walkthrough to prepare you for the example work which will be conducted without support.\n",
    "\n",
    "## Gaussian Elimination\n",
    "\n",
    "In linear algebra, *Gaussian Elimination* (AKA *row reduction*) is an algorithm for solving **linear systems** of equations $Ax=b$. This method can be used to find the *rank* of a square matrix, calculate the *determinant* and calculate the *inverse* of an invertible square matrix. For example:\n",
    "\n",
    "$$\n",
    "\\begin{array}{lcl} \n",
    "    9x + 3y + 4z & = & 7 \\\\\n",
    "    4x + 3y + 4z & = & 8 \\\\\n",
    "    x + y + z & = & 3 \n",
    "\\end{array}\n",
    "$$\n",
    "\n",
    "can be arranged as:\n",
    "\n",
    "$$\n",
    "\\mathbf{A}=\\left[\\begin{array}{ccc|c}\n",
    "9 & 3 & 4 \\\\\n",
    "4 & 3 & 4\\\\\n",
    "1 & 1 & 1\n",
    "\\end{array}\\right], \\qquad \n",
    "\\mathbf{x} = \\left[\\begin{array}{ccc|c}\n",
    "x \\\\ y \\\\ z\n",
    "\\end{array}\\right], \\qquad\n",
    "\\mathbf{b}=\\left[\\begin{array}{ccc|c}\n",
    "7 \\\\ 8 \\\\ 3\n",
    "\\end{array}\\right]\n",
    "$$\n",
    "\n",
    "To perform row-reduction, one uses a sequence of **elementary row operations** to modify the matrix until the matrix is in upper-triangular form. There are 3 primary operations:\n",
    "1. Swapping two rows\n",
    "2. Multiplying a row by a non-zero number\n",
    "3. Adding a multiple of one row to another row\n",
    "\n",
    "e.g: For example consider the matrix\n",
    "\n",
    "$$\n",
    "\\left[\\begin{array}{ccc|c}\n",
    "9 & 3 & 4 & 7 \\\\\n",
    "4 & 3 & 4 & 8 \\\\\n",
    "1 & 1 & 1 & 3\n",
    "\\end{array}\\right] \n",
    "$$\n",
    "\n",
    "We could begin by swapping the first and third rows, which gives:\n",
    "\n",
    "$$\n",
    "\\left[\\begin{array}{ccc|c}\n",
    "1 & 1 & 1 & 3 \\\\\n",
    "4 & 3 & 4 & 8 \\\\\n",
    "9 & 3 & 4 & 7 \\\\\n",
    "\\end{array}\\right]\n",
    "$$\n",
    "\n",
    "Next, subtracting 9 times the first row from the third gives:\n",
    "\n",
    "$$\n",
    "\\left[\\begin{array}{ccc|c}\n",
    "1 & 1 & 1 & 3 \\\\\n",
    "4 & 3 & 4 & 8 \\\\\n",
    "0 & -6 & -5 & -20 \\\\\n",
    "\\end{array}\\right]\n",
    "$$\n",
    "\n",
    "Subtracting 4 times the first row from the second gives:\n",
    "\n",
    "$$\n",
    "\\left[\\begin{array}{ccc|c}\n",
    "1 & 1 & 1 & 3 \\\\\n",
    "0 & -1 & 0 & -4 \\\\\n",
    "0 & -6 & -5 & -20 \\\\\n",
    "\\end{array}\\right]\n",
    "$$\n",
    "\n",
    "Finally, adding -6 times the second row from the third gives:\n",
    "\n",
    "$$\n",
    "\\left[\\begin{array}{ccc|c}\n",
    "1 & 1 & 1 & 3 \\\\\n",
    "0 & -1 & 0 & -4 \\\\\n",
    "0 & 0 & -5 & 4 \\\\\n",
    "\\end{array}\\right]\n",
    "$$\n",
    "\n",
    "The final matrix is referred to as *Echelon form*. Note that *Gaussian Elimination* is applied to matrix $A$ and the output vector $b$ simultaenously. Once the matrix is in the final state, we can use another method such as *backward substitution* to solve the linear system trivially.\n",
    "\n",
    "Here we solve the equation of the $k$th row for $x_k$, then substitute back into the equation of the $(k-1)$st row to obtain a solution for $x_{k-1}$, etc., as:\n",
    "\n",
    "$$\n",
    "x_i=\\frac{1}{a_{ii}'}\\left(b_i' - \\sum_{j=i+1}^k a_{ij}'x_j\\right)\n",
    "$$"
   ]
  },
  {
   "cell_type": "code",
   "execution_count": 177,
   "metadata": {
    "collapsed": true
   },
   "outputs": [],
   "source": [
    "import numpy as np\n",
    "A = np.array([[9, 3, 4], [4, 3, 4], [1, 1, 1]], dtype=np.float64)\n",
    "b = np.array([7, 8, 3], dtype=np.float64)"
   ]
  },
  {
   "cell_type": "markdown",
   "metadata": {},
   "source": [
    "### Step 1.\n",
    "\n",
    "It is important to join together $A$ and $b$ at the start of the process: $A + b=A^{*}$"
   ]
  },
  {
   "cell_type": "code",
   "execution_count": 178,
   "metadata": {},
   "outputs": [
    {
     "data": {
      "text/plain": [
       "array([[9., 3., 4., 7.],\n",
       "       [4., 3., 4., 8.],\n",
       "       [1., 1., 1., 3.]])"
      ]
     },
     "execution_count": 178,
     "metadata": {},
     "output_type": "execute_result"
    }
   ],
   "source": [
    "n = len(b)\n",
    "aug = np.hstack((A, b.reshape(n,1)))\n",
    "aug"
   ]
  },
  {
   "cell_type": "markdown",
   "metadata": {},
   "source": [
    "### Step 2.\n",
    "\n",
    "As we can see this joins together $A$ and $b$ into one matrix, ready for elimination. Now we need to loop over the rows, and find the one with the highest *magnitude*, if the current row isn't the maximum, then *swap the rows* until the one with the highest magnitude is closer to the top of the matrix."
   ]
  },
  {
   "cell_type": "code",
   "execution_count": 179,
   "metadata": {},
   "outputs": [
    {
     "data": {
      "text/plain": [
       "0"
      ]
     },
     "execution_count": 179,
     "metadata": {},
     "output_type": "execute_result"
    }
   ],
   "source": [
    "max_row = np.argmax(aug[:,0])\n",
    "max_row"
   ]
  },
  {
   "cell_type": "markdown",
   "metadata": {},
   "source": [
    "### Step 3. Pivoting\n",
    "\n",
    "If max_row is not 0 (i.e not the top column) then we swap the argmax row with the top one:"
   ]
  },
  {
   "cell_type": "code",
   "execution_count": 180,
   "metadata": {
    "collapsed": true
   },
   "outputs": [],
   "source": [
    "if (max_row):\n",
    "    tmp = np.copy(aug[0,:])\n",
    "    aug[0,:] = np.copy(aug[max_row,:])\n",
    "    aug[max_row,:] = tmp"
   ]
  },
  {
   "cell_type": "code",
   "execution_count": 181,
   "metadata": {},
   "outputs": [
    {
     "data": {
      "text/plain": [
       "array([[9., 3., 4., 7.],\n",
       "       [4., 3., 4., 8.],\n",
       "       [1., 1., 1., 3.]])"
      ]
     },
     "execution_count": 181,
     "metadata": {},
     "output_type": "execute_result"
    }
   ],
   "source": [
    "aug"
   ]
  },
  {
   "cell_type": "markdown",
   "metadata": {},
   "source": [
    "### Step 4.\n",
    "\n",
    "So we have pivoted the top row with the bottom row. Now we want to iterate over all of the rows below our current one (0), and remove the value at the left-most side of the matrix, then scale by the current row:\n",
    "\n",
    "$$\n",
    "A^{*}_j = A^{*}_j - \\frac{A^{*}_{ji}}{A^{*}_{ii}} A^{*}_i\n",
    "$$"
   ]
  },
  {
   "cell_type": "code",
   "execution_count": 182,
   "metadata": {},
   "outputs": [
    {
     "name": "stdout",
     "output_type": "stream",
     "text": [
      "j:0, [[9. 3. 4. 7.]\n",
      " [4. 3. 4. 8.]\n",
      " [1. 1. 1. 3.]] \n",
      " \n",
      "\n",
      "j:1, [[9.         3.         4.         7.        ]\n",
      " [0.         1.66666667 2.22222222 4.88888889]\n",
      " [1.         1.         1.         3.        ]] \n",
      " \n",
      "\n",
      "j:2, [[9.         3.         4.         7.        ]\n",
      " [0.         1.66666667 2.22222222 4.88888889]\n",
      " [0.         0.66666667 0.55555556 2.22222222]] \n",
      " \n",
      "\n"
     ]
    }
   ],
   "source": [
    "print(\"j:{}, {} \\n \\n\".format(0,aug))\n",
    "for j in range(1, n):\n",
    "    aug[j,:] = aug[j,:] - (aug[j,0] / aug[0, 0]) * aug[0, :]\n",
    "    print(\"j:{}, {} \\n \\n\".format(j,aug))"
   ]
  },
  {
   "cell_type": "markdown",
   "metadata": {},
   "source": [
    "What we've managed to do is eliminate two of the lower-left hand side terms, making them zero and inducing triangularity. This needs to be repeated for all $i$.\n",
    "\n",
    "## Tasks\n",
    "\n",
    "### Task 1.\n",
    "\n",
    "Write the algorithm `gaussian_elimination()` which accepts $A$ and $b$, and returns the reduced matrix $A^{*}$ and reduced vector $b^{*}$. Use the example at the beginning of this section as input to see if you get the same output. **Note: you shouldn't!**"
   ]
  },
  {
   "cell_type": "code",
   "execution_count": 184,
   "metadata": {
    "collapsed": true
   },
   "outputs": [],
   "source": [
    "# your codes here"
   ]
  },
  {
   "cell_type": "markdown",
   "metadata": {},
   "source": [
    "### Task 2.\n",
    "\n",
    "*Backward substitution* can be performed on an upper-triangular matrix $A^{*}$ with known outputs $b^{*}$ to discover the unknown weights $\\bf x^{*}$. This is achieved by iterately going up the matrix, substituting known $\\bf x^{*}$ values at the previous step into matrix $A^{*}$ and calculating new $\\bf x^{*}$. You should expect $x=-1/5$, $y=4$ and $z=-4/5$, within $\\bf x^{*}$.\n",
    "\n",
    "Write the `backward_substitution()` algorithm that determines $x$, $y$, and $z$ within $\\bf x$."
   ]
  },
  {
   "cell_type": "code",
   "execution_count": 183,
   "metadata": {
    "collapsed": true
   },
   "outputs": [],
   "source": [
    "# your codes here"
   ]
  },
  {
   "cell_type": "markdown",
   "metadata": {},
   "source": [
    "## Finite Elements\n",
    "\n",
    "The finite element method (FEM) or analysis (FEA) is a *numerical method* for solving many engineering domain problems. It's areas include structural analysis, heat transfer and fluid flow around an object. \n",
    "\n",
    "The method yields approximate values of the unknowns using a discrete number of points over the domain of the object in question. To solve the problem, it integrates by parts, dividing a large problem into smaller, simpler objects that are called *Finite Elements*. The simple equations that model the finite elements are then assembled into larger systems of equations to model the entire problem. \n",
    "\n",
    "### 1D problem\n",
    "\n",
    "The temperature $T$ of a bar of length 1 at equilibrium satisfies:\n",
    "\n",
    "$$\n",
    "\\partial_{xx}T + f(x)=0\n",
    "$$\n",
    "\n",
    "The heat source is given by $f(x)$. We'll hold the temperature fixed at the right edge by setting $T(1)=0$. We'll allow heat to conduct through the left edge by setting $\\partial_xT(0)=0$.\n",
    "\n",
    "We need a way of handling the second-derivative term, so we can introduce a weighting function $w(x)$ and integrate by parts to get:\n",
    "\n",
    "$$\n",
    "  \\left[ \\partial_x T(x) w(x) \\right]_0^1 - \\int_0^1 \\text{d}x \\, \\partial_x T(x) \\partial_x w(x) = - \\int_0^1 \\text{d}x \\, f(x) w(x).\n",
    "$$\n",
    "\n",
    "and after factoring the boundary conditions we get:\n",
    "\n",
    "$$\n",
    "\\int_0^1 \\text{d}x\\partial_xT(x)\\partial_xw(x)=\\int_0^1 \\text{d}xw(x)f(x)\n",
    "$$\n",
    "\n",
    "This is considered the **weak form** of the problem.\n",
    "\n",
    "### Step 1. A simple 3-node example\n",
    "\n",
    "To get an approximate solution, we split the domain into intervals/elements. Let's begin with a simple example where we choose $[0, 1/2]$ and $[1/2, 1]$, which means there are nodes at $\\{0, 1/2, 1\\}$. To repesent this, we'll introduce some *shape functions* $N_A(x)$ and write:\n",
    "\n",
    "$$\n",
    "T(x)=\\sum_A T_AN_A(x)\n",
    "$$\n",
    "\n",
    "here $A$ is a counter associated with the nodes, so $A=\\{0,1,2\\}$: the nodes are $x_A$. The shape function $N_A(x)=1$ at the associated node, and $0$ at all other nodes. In this case, let's choose the shape functions to be piecewise linear, which are shape functions look as:\n",
    "\n",
    "$$\n",
    "\\begin{align}\n",
    "  N_0(x) &= \\begin{cases} 1 - 2 x, & 0 \\le x \\le 1/2 \\\\ 0, & 1/2 \\le x \\le 1, \\end{cases}, \\\\\n",
    "  N_1(x) &= \\begin{cases} 2 x, & 0 \\le x \\le 1/2 \\\\ 2 - 2 x, & 1/2 \\le x \\le 1, \\end{cases}, \\\\\n",
    "  N_2(x) &= \\begin{cases} 0, & 0 \\le x \\le 1/2 \\\\ 2 x - 1, & 1/2 \\le x \\le 1. \\end{cases}\n",
    "\\end{align}\n",
    "$$"
   ]
  },
  {
   "cell_type": "code",
   "execution_count": 9,
   "metadata": {},
   "outputs": [
    {
     "data": {
      "image/png": "[encoded data removed]",
      "text/plain": [
       "<matplotlib.figure.Figure at 0x7fe254a69ba8>"
      ]
     },
     "metadata": {},
     "output_type": "display_data"
    }
   ],
   "source": [
    "import matplotlib.pyplot as plt\n",
    "%matplotlib inline\n",
    "\n",
    "x = np.linspace(0.,1.,1000)\n",
    "# we use np.where to select x <= 0.5, then replace true with top function, false with bottom function\n",
    "N0 = np.where(x <= .5, 1-2*x, np.zeros_like(x))\n",
    "N1 = np.where(x <= .5, 2*x, 2-2*x)\n",
    "N2 = np.where(x <= .5, np.zeros_like(x), 2*x-1)\n",
    "plt.plot(x, N0, label='$N_0$')\n",
    "plt.plot(x, N1, label='$N_1$')\n",
    "plt.plot(x, N2, label='$N_2$')\n",
    "plt.legend()\n",
    "plt.show()"
   ]
  },
  {
   "cell_type": "markdown",
   "metadata": {},
   "source": [
    "We can now write out the weak form of this problem as:\n",
    "\n",
    "$$\n",
    "  \\sum_A \\sum_B T_A w_B \\int_0^1 \\text{d}x \\, \\partial_x N_A(x) \\partial_x N_B(x) = \\sum_B w_B \\int_0^1 \\text{d}x \\, N_A(x) f(x).\n",
    "$$\n",
    "\n",
    "This has to be true for *any* choice of weight function, so for *any* coefficients $w_B$. This is true only if\n",
    "\n",
    "$$\n",
    "  \\sum_A T_A \\int_0^1 \\text{d}x \\, \\partial_x N_A(x) \\partial_x N_B(x) = \\int_0^1 \\text{d}x \\, N_B(x) f(x).\n",
    "$$\n",
    "\n",
    "which can be written as a linear system matrix problem:\n",
    "\n",
    "$$\n",
    "KT=F\n",
    "$$\n",
    "\n",
    "The coefficients of the **stiffness matrix** $K$ are given as:\n",
    "\n",
    "$$\n",
    "  K_{AB} = \\int_0^1 \\text{d}x \\, \\partial_x N_A(x) \\partial_x N_B(x).\n",
    "$$\n",
    "\n",
    "The coefficients of the **force vector** $F$ are given by\n",
    "\n",
    "$$\n",
    "  F_{A} = \\int_0^1 \\text{d}x \\, N_A(x) f(x).\n",
    "$$\n",
    "\n",
    "In order to calculate the **stiffness** matrix and **force** vectors, we need to calculate the derivatives of the shape functions:\n",
    "\n",
    "$$\n",
    "\\begin{align}\n",
    "  \\partial_x N_0(x) &= \\begin{cases} - 2, & 0 \\le x \\le 1/2 \\\\ 0, & 1/2 \\le x \\le 1, \\end{cases}, \\\\\n",
    "  \\partial_x N_1(x) &= \\begin{cases} 2, & 0 \\le x \\le 1/2 \\\\ - 2, & 1/2 \\le x \\le 1, \\end{cases}, \\\\\n",
    "  \\partial_x N_2(x) &= \\begin{cases} 0, & 0 \\le x \\le 1/2 \\\\ 2, & 1/2 \\le x \\le 1. \\end{cases}\n",
    "\\end{align}\n",
    "$$\n",
    "\n",
    "Therefore the product $\\partial_xN_A\\partial_xN_B$ required for calculating the stiffness matrix is either $0$ or $\\pm 4$:\n",
    "\n",
    "$$\n",
    "\\begin{align}\n",
    "  \\partial_x N_0(x) \\partial_x N_0(x) &= \\begin{cases} 4, & 0 \\le x \\le 1/2 \\\\ 0, & 1/2 \\le x \\le 1, \\end{cases}, \\\\\n",
    "  \\partial_x N_0(x) \\partial_x N_1(x) &= \\begin{cases} -4, & 0 \\le x \\le 1/2 \\\\ 0, & 1/2 \\le x \\le 1, \\end{cases}, \\\\\n",
    "  \\partial_x N_1(x) \\partial_x N_0(x) &= \\begin{cases} -4, & 0 \\le x \\le 1/2 \\\\ 0, & 1/2 \\le x \\le 1, \\end{cases}, \\\\\n",
    "  \\partial_x N_1(x) \\partial_x N_1(x) &= \\begin{cases} 0, & 0 \\le x \\le 1/2 \\\\ 4, & 1/2 \\le x \\le 1. \\end{cases}\n",
    "\\end{align}\n",
    "$$\n",
    "\n",
    "This gives:\n",
    "\n",
    "$$\n",
    "K_{AB}= \\begin{pmatrix} 2 & -2 \\\\ -2 & 4 \\end{pmatrix}\n",
    "$$\n",
    "\n",
    "Meanwhile, the force vector is\n",
    "\n",
    "$$\n",
    "\\begin{align}\n",
    "  F_0 &= \\int_0^{1/2} \\text{d}x \\, x - 2 x^2 \\\\ &= \\frac{1}{8} - \\frac{1}{12} = \\frac{1}{24}, \\\\\n",
    "  F_1 &= \\int_0^{1/2} \\text{d}x \\, 2 x^2 + \\int_{1/2}^1 \\text{d}x \\, 2x - 2 x^2 \\\\ &= \\frac{1}{12} + 1 - \\frac{2}{3} - \\frac{1}{4} + \\frac{1}{12} = \\frac{1}{4}.\n",
    "\\end{align}\n",
    "$$\n",
    "\n",
    "\n",
    "### Step 2.\n",
    "\n",
    "We will demonstrate this by computing analytically the **stiffness** matrix and **force vector** using *sympy*:"
   ]
  },
  {
   "cell_type": "code",
   "execution_count": 11,
   "metadata": {
    "collapsed": true
   },
   "outputs": [],
   "source": [
    "import sympy as smp\n",
    "smp.init_printing()"
   ]
  },
  {
   "cell_type": "code",
   "execution_count": 12,
   "metadata": {},
   "outputs": [
    {
     "name": "stdout",
     "output_type": "stream",
     "text": [
      "[[ 2. -2.]\n",
      " [-2.  4.]]\n"
     ]
    }
   ],
   "source": [
    "x = smp.symbols(\"x\")\n",
    "N = [\n",
    "    smp.Piecewise((1-2*x, x <=1/2), (0, x > 1/2)),\n",
    "    smp.Piecewise((2*x, x<=1/2), (2-2*x, x>1/2)),\n",
    "    smp.Piecewise((0, x<1/2), (2*x-1, x>1/2))\n",
    "]\n",
    "K = np.zeros((2,2))\n",
    "for A in range(2):\n",
    "    for B in range(2):\n",
    "        K[A,B] = smp.integrate(smp.diff(N[A], x)*smp.diff(N[B], x), (x, 0 , 1))\n",
    "print(K)"
   ]
  },
  {
   "cell_type": "markdown",
   "metadata": {},
   "source": [
    "And now for the force vector:"
   ]
  },
  {
   "cell_type": "code",
   "execution_count": 13,
   "metadata": {},
   "outputs": [
    {
     "name": "stdout",
     "output_type": "stream",
     "text": [
      "[0.04166667 0.25      ]\n"
     ]
    }
   ],
   "source": [
    "f = lambda x : x\n",
    "F = np.zeros(2)\n",
    "for A in range(2):\n",
    "    F[A] = smp.integrate(N[A] * f(x), (x, 0, 1))\n",
    "print(F)"
   ]
  },
  {
   "cell_type": "markdown",
   "metadata": {},
   "source": [
    "And finally we will **numerically** solve $KT=F$."
   ]
  },
  {
   "cell_type": "code",
   "execution_count": 14,
   "metadata": {
    "collapsed": true
   },
   "outputs": [],
   "source": [
    "T_A = np.linalg.solve(K,F)\n",
    "\n",
    "N_num = []\n",
    "for A, N_A in enumerate(N):\n",
    "    N_num.append(smp.lambdify((x,), N[A], \"numpy\"))\n",
    "\n",
    "def T(x):\n",
    "    Tvals = np.zeros_like(x)\n",
    "    for A in range(2):\n",
    "        Tvals += T_A[A] * N_num[A](x)\n",
    "    return Tvals"
   ]
  },
  {
   "cell_type": "code",
   "execution_count": 15,
   "metadata": {},
   "outputs": [
    {
     "data": {
      "image/png": "[encoded data removed]",
      "text/plain": [
       "<matplotlib.figure.Figure at 0x7fe24eae8780>"
      ]
     },
     "metadata": {},
     "output_type": "display_data"
    }
   ],
   "source": [
    "coords = np.linspace(0,1,1000)\n",
    "plt.plot(coords, T(coords), label=\"Numerical\")\n",
    "plt.plot(coords, (1-coords**3)/6, label=\"Exact\")\n",
    "plt.legend()\n",
    "plt.show()"
   ]
  },
  {
   "cell_type": "code",
   "execution_count": null,
   "metadata": {
    "collapsed": true
   },
   "outputs": [],
   "source": []
  },
  {
   "cell_type": "code",
   "execution_count": null,
   "metadata": {
    "collapsed": true
   },
   "outputs": [],
   "source": []
  }
 ],
 "metadata": {
  "kernelspec": {
   "display_name": "Python 3",
   "language": "python",
   "name": "python3"
  },
  "language_info": {
   "codemirror_mode": {
    "name": "ipython",
    "version": 3
   },
   "file_extension": ".py",
   "mimetype": "text/x-python",
   "name": "python",
   "nbconvert_exporter": "python",
   "pygments_lexer": "ipython3",
   "version": "3.6.3"
  }
 },
 "nbformat": 4,
 "nbformat_minor": 2
}
