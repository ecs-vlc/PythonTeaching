{
 "cells": [
  {
   "cell_type": "markdown",
   "metadata": {},
   "source": [
    "# Coding Project\n",
    "\n",
    "You've covered a lot of material within this chapter; all the way from beginning to learn the basics of Python as a programming language, intermediate and advanced concepts, infinite iteration and complex string operations. Just to quickly recap:\n",
    "\n",
    "1. __Fundamentals of Python__: Strings, for loops, lists, dictionaries, if statements\n",
    "2. __Intermediate concepts__: Sets, decorators, IO, Exceptions, `with`, `lambda`\n",
    "3. __Itertools__: Generators, `map`, `zip`, iteration, infinite series\n",
    "4. __Regular expressions__: String manipulation, pattern matching\n",
    "\n",
    "## Developing a game of Hearts\n",
    "\n",
    "For this project, you're going to be writing a game of Hearts from scratch. The rules of the game are as follows:\n",
    "\n",
    "1. There are 2-4 players.\n",
    "2. Players are initially dealt 13 cards (with 4 players) which they can see.\n",
    "3. The aim is to minimize the number of points they gain over the game. Points are given for each **hand** the player wins.\n",
    "4. *Heart*-suited cards are worth 1 point, the Black Widow (Queen of Spades) is worth 13 points. \n",
    "5. Each hand happens when each player in turn plays one of their cards in the middle. The player with the 2 of Clubs starts, going clockwise. The suit of the first players' card must be followed by all subsequent players, *unless* they do not have a card of that suit. Then they can play whatever card they want.\n",
    "6. The player who plays the highest-value card (Ace counts as high), wins the hand. \n",
    "7. There is no *trump* suit that beats other suits.\n",
    "8. The game is played until someone wins 100 points.\n",
    "\n",
    "## Tasks\n",
    "\n",
    "Your general aims are several-fold:\n",
    "\n",
    "1. Create a deck of cards\n",
    "2. Implement a class `Game` which has the state of the board, and a record of all the played cards.\n",
    "3. Implement a class `Player` that receives a random selection of cards and can make informed decisions, based on the state of the game, which card to play in the next round. This player will act as an AI.\n"
   ]
  },
  {
   "cell_type": "code",
   "execution_count": 13,
   "metadata": {},
   "outputs": [],
   "source": [
    "import itertools as it\n",
    "import random"
   ]
  },
  {
   "cell_type": "code",
   "execution_count": 33,
   "metadata": {},
   "outputs": [],
   "source": [
    "numbers = [str(a) for a in [1, 2, 3, 4, 5, 6, 7, 8, 9, 10, \"J\", \"Q\", \"K\", \"A\"]]\n",
    "suits = [\"H\", \"S\", \"D\", \"C\"]"
   ]
  },
  {
   "cell_type": "code",
   "execution_count": 38,
   "metadata": {},
   "outputs": [],
   "source": [
    "random.shuffle(list(it.product(numbers,suits)))"
   ]
  },
  {
   "cell_type": "code",
   "execution_count": 152,
   "metadata": {},
   "outputs": [],
   "source": [
    "class Player(object):\n",
    "    \"\"\"\n",
    "    This player acts an AI who plays Hearts.\n",
    "    \"\"\"\n",
    "    def __init__(self, player_id, cards):\n",
    "        # the cards are given directly to the player.\n",
    "        self.id = player_id\n",
    "        self.cards = cards\n",
    "    \n",
    "    def begin_play(self, start=False):\n",
    "        # if its the start, if you have the 2C, play it\n",
    "        if start:\n",
    "            if \"2C\" in self.cards:\n",
    "                self.cards.remove(\"2C\")\n",
    "                return \"2C\"\n",
    "        else:\n",
    "            pass\n",
    "    \n",
    "        \n",
    "    def play(self):\n",
    "        pass\n",
    "    \n",
    "\n",
    "class Game(object):\n",
    "    \"\"\"\n",
    "    The main game object.\n",
    "    \"\"\"\n",
    "    def __init__(self, n_players):\n",
    "        self.deck = map(lambda x: \"\".join(x), it.product(numbers, suits))\n",
    "        # shuffle the deck\n",
    "        shuf_d = self.shuffle(self.deck)\n",
    "        shuffled_deck = self.cut(shuf_d, 26)\n",
    "        # initialise the players given N\n",
    "        hands = self.deal(shuffled_deck, n_players, 52//n_players)\n",
    "        # create players and give them their cards\n",
    "        self.players = [Player(i, h) for i,h in enumerate(hands)]\n",
    "        # set up a discard pile\n",
    "        self.discards = []\n",
    "        \n",
    "    def shuffle(self, deck):\n",
    "        d = list(deck)\n",
    "        random.shuffle(d)\n",
    "        return iter(tuple(d))\n",
    "    \n",
    "    def cut(self, deck, n):\n",
    "        # cut the deck\n",
    "        deck1, deck2 = it.tee(deck, 2)\n",
    "        top = it.islice(deck1, n)\n",
    "        bottom = it.islice(deck2, n ,None)\n",
    "        return it.chain(bottom, top)\n",
    "    \n",
    "    def deal(self, deck, num_hands, hand_size):\n",
    "        iters = [iter(deck)] * hand_size\n",
    "        return tuple(zip(*(tuple(it.islice(itr, num_hands)) for itr in iters)))\n",
    "    \n",
    "    \n",
    "    def play_hand(player_loop, begin=False):\n",
    "        # begins a 'hand' and goes around the players, playing cards. If begin is true, player 1 plays their 2C\n",
    "        hand = []\n",
    "        if begin:\n",
    "            card = player_loop[0].begin_play(begin=begin)\n",
    "            self.discards.append(card)\n",
    "            hand.append(card)\n",
    "        else:\n",
    "            pass\n",
    "        \n",
    "    \n",
    "    def start(self):\n",
    "        \"\"\"\n",
    "        Assumes all players are ready to go. This function begins the game after initialization.\n",
    "        \"\"\"\n",
    "        hand_1 = []\n",
    "        # find the player with the 2C\n",
    "        i, player = [(p.id, p) for p in self.players if \"2C\" in p.cards][0]\n",
    "        player_loop = list(it.islice(it.dropwhile(lambda p: p.id != i, it.cycle(self.players)), 0, len(self.players)))\n",
    "        # print(list(player_loop))\n",
    "        h = play_hand(player_loop, begin=True)\n",
    "        "
   ]
  },
  {
   "cell_type": "code",
   "execution_count": 150,
   "metadata": {},
   "outputs": [
    {
     "name": "stdout",
     "output_type": "stream",
     "text": [
      "[<__main__.Player object at 0x000001986EE3EDD8>, <__main__.Player object at 0x000001986EE3E160>, <__main__.Player object at 0x000001986EE3E3C8>, <__main__.Player object at 0x000001986EE3E470>]\n"
     ]
    }
   ],
   "source": [
    "g = Game(n_players=4)\n",
    "g.start()"
   ]
  },
  {
   "cell_type": "code",
   "execution_count": null,
   "metadata": {},
   "outputs": [],
   "source": []
  }
 ],
 "metadata": {
  "kernelspec": {
   "display_name": "Python 3",
   "language": "python",
   "name": "python3"
  },
  "language_info": {
   "codemirror_mode": {
    "name": "ipython",
    "version": 3
   },
   "file_extension": ".py",
   "mimetype": "text/x-python",
   "name": "python",
   "nbconvert_exporter": "python",
   "pygments_lexer": "ipython3",
   "version": "3.7.0"
  }
 },
 "nbformat": 4,
 "nbformat_minor": 2
}
