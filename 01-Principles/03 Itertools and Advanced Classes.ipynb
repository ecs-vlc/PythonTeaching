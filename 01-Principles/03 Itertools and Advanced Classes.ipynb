{
 "cells": [
  {
   "cell_type": "markdown",
   "metadata": {},
   "source": [
    "# Itertools and Advanced Classes\n",
    "\n",
    "`itertools` represents in Python 3 a heavy part of the Python backbone, and indeed many tasks can be achieved effortlessly through the use of `itertools`. As you may have experimented, one of the primary drawbacks of Python is the slow nature of **looping**, since the Python interpreter is not optimized for handling complex code within a `for` or `while` loop. This aspect will be covered more in the *Performance* notebook.\n",
    "\n",
    "One of the ways around this is by using the `itertools` library suite. Also, the functions themselves are intuitively named, modestly fast, elegant and memory-efficient. `itertools` provides building-block functions inspired by constructs from APL, Haskell and SML. Together they form a kind of \"iterator algebra\" making it possible to construct a specialized tool very succinctly and efficiently in Python. For more on this, look at the `itertools` [documentation](https://docs.python.org/3/library/itertools.html) and this very [helpful guide](https://realpython.com/python-itertools/) where this teaching material is primarily drawn from.\n",
    "\n",
    "Loosely speaking, this means that functions in `itertools` build on top of iterators to produce more complex ones. For example, `zip()` is an *in-built* Python function which takes an arbitrary number of iterables as arguments and returns an iterator over tuples of their corresponding elements:"
   ]
  },
  {
   "cell_type": "code",
   "execution_count": 1,
   "metadata": {},
   "outputs": [
    {
     "data": {
      "text/plain": [
       "[(1, 'a'), (2, 'b'), (3, 'c')]"
      ]
     },
     "execution_count": 1,
     "metadata": {},
     "output_type": "execute_result"
    }
   ],
   "source": [
    "list(zip([1, 2, 3], [\"a\",\"b\",\"c\"]))"
   ]
  },
  {
   "cell_type": "markdown",
   "metadata": {},
   "source": [
    "In this case, `[1, 2, 3]` and `[\"a\", \"b\", \"c\"]` are lists, and are iterable, which means they can return their elements one at a time. As an extension to this, **any Python object** that implements the `.__iter__()` or `.__getitem__()` methods is *iterable*.\n",
    "\n",
    "The `iter()` built-in function, when called on an iterable, returns an iterable object for that iterable:"
   ]
  },
  {
   "cell_type": "code",
   "execution_count": 2,
   "metadata": {},
   "outputs": [
    {
     "data": {
      "text/plain": [
       "<list_iterator at 0x18e9536b320>"
      ]
     },
     "execution_count": 2,
     "metadata": {},
     "output_type": "execute_result"
    }
   ],
   "source": [
    "iter([1, 2, 3, 4])"
   ]
  },
  {
   "cell_type": "markdown",
   "metadata": {},
   "source": [
    "Under the hood, `zip()` works by calling `iter()` on each of its arguments, then advancing each iterator return by `iter()` with `next()` and aggregating into tuples. \n",
    "\n",
    "The `map()` built-in function is another operator, where, it applies a single-parameter function to each element of an iterable one element at a time:"
   ]
  },
  {
   "cell_type": "code",
   "execution_count": 3,
   "metadata": {},
   "outputs": [
    {
     "data": {
      "text/plain": [
       "[3, 2, 4]"
      ]
     },
     "execution_count": 3,
     "metadata": {},
     "output_type": "execute_result"
    }
   ],
   "source": [
    "list(map(len, [\"abc\", \"de\", \"fghi\"]))"
   ]
  },
  {
   "cell_type": "markdown",
   "metadata": {},
   "source": [
    "Like `zip()`, `map()` also makes use of `iter()` to advance the iterator over the list with `next()` until the iterator is exhausted, and apply the `len` function (or any function) to the value returned by `next()` at each step. \n",
    "\n",
    "Since iterators are *iterable*, you can compose `zip()` and `map()` together to produce an iterator over combinations of elements in more than one iterable. Take the following example:"
   ]
  },
  {
   "cell_type": "code",
   "execution_count": 4,
   "metadata": {},
   "outputs": [
    {
     "data": {
      "text/plain": [
       "[5, 7, 9]"
      ]
     },
     "execution_count": 4,
     "metadata": {},
     "output_type": "execute_result"
    }
   ],
   "source": [
    "list(map(sum, zip([1,2,3], [4,5,6])))"
   ]
  },
  {
   "cell_type": "markdown",
   "metadata": {},
   "source": [
    "This is what is meant by functions in `itertools` forming an iterator algebra; this helps to form specialized data pipelines.\n",
    "\n",
    "There are two positive reasons which such iterator algebra may be useful: firstly it improves memory efficiency and secondly faster execution time. Consider the following problem:\n",
    "\n",
    "    Given a list of values _inputs and a positive integer _n, write a function that splits _inputs into groups of length _n. For simplicity, assume that the length of the input list is divisible by _n. For example, if _inputs = [1, 2, 3, 4, 5, 6] and _n = 2, your function should return [(1,2), (3,4), (5,6)].\n",
    "    \n",
    "With a naive approach, we may write something like:"
   ]
  },
  {
   "cell_type": "code",
   "execution_count": 5,
   "metadata": {},
   "outputs": [],
   "source": [
    "def naive_grouper(inputs, n):\n",
    "    # integer division\n",
    "    n_groups = len(inputs) // n\n",
    "    return [tuple(inputs[i*n:(i+1)*n]) for i in range(n_groups)]"
   ]
  },
  {
   "cell_type": "markdown",
   "metadata": {},
   "source": [
    "Testing this works as expected:"
   ]
  },
  {
   "cell_type": "code",
   "execution_count": 6,
   "metadata": {},
   "outputs": [
    {
     "data": {
      "text/plain": [
       "[(1, 2), (3, 4), (5, 6)]"
      ]
     },
     "execution_count": 6,
     "metadata": {},
     "output_type": "execute_result"
    }
   ],
   "source": [
    "naive_grouper([1,2,3,4,5,6], 2)"
   ]
  },
  {
   "cell_type": "markdown",
   "metadata": {},
   "source": [
    "But what about if you try to pass a list with 100 million elements? You will need a lot of memory! Even if you have the memory, the program will hang until the output list is populated. Try below at your peril (if you have $\\lt$ 5GB DRAM, enjoy):"
   ]
  },
  {
   "cell_type": "code",
   "execution_count": 9,
   "metadata": {},
   "outputs": [],
   "source": [
    "def call_naive():\n",
    "    for _ in naive_grouper(range(100000000), 10):\n",
    "        pass"
   ]
  },
  {
   "cell_type": "code",
   "execution_count": 10,
   "metadata": {},
   "outputs": [
    {
     "name": "stdout",
     "output_type": "stream",
     "text": [
      "12.2 s ± 130 ms per loop (mean ± std. dev. of 7 runs, 1 loop each)\n"
     ]
    }
   ],
   "source": [
    "%timeit call_naive()"
   ]
  },
  {
   "cell_type": "markdown",
   "metadata": {},
   "source": [
    "The primary issue is processing the `range` object that creates 100 million numbers before passing to the `naive_grouper` function. Working with an iterator considerably changes the game:"
   ]
  },
  {
   "cell_type": "code",
   "execution_count": 11,
   "metadata": {},
   "outputs": [],
   "source": [
    "def better_grouper(inputs, n):\n",
    "    iters = [iter(inputs)]*n\n",
    "    return zip(*iters)"
   ]
  },
  {
   "cell_type": "markdown",
   "metadata": {},
   "source": [
    "In the above function, there is a lot going on, so let's break it down piece-by-piece:\n",
    "\n",
    "1. The expression `[iters(inputs)] * n` creates a list of `n` references to the same iterator.\n",
    "2. Next `zip(*iters)` returns an iterator over pairs of corresponding element of each iterator in `iters`."
   ]
  },
  {
   "cell_type": "code",
   "execution_count": 14,
   "metadata": {},
   "outputs": [
    {
     "data": {
      "text/plain": [
       "[1711936708792, 1711936708792]"
      ]
     },
     "execution_count": 14,
     "metadata": {},
     "output_type": "execute_result"
    }
   ],
   "source": [
    "nums = [1, 2, 3, 4, 5, 6]\n",
    "iters = [iter(nums)] * 2\n",
    "list(id(i) for i in iters)"
   ]
  },
  {
   "cell_type": "markdown",
   "metadata": {},
   "source": [
    "In this case, by creating two `iters`, when we use `zip()`, the first element, 1, is taken from the first iterator, the second iterator now starts at 2 since it is just a reference to the first iterator and has therefore been advanced one step. So the first tuple produced by `zip()` is `(1, 2)`, and so on."
   ]
  },
  {
   "cell_type": "code",
   "execution_count": 15,
   "metadata": {},
   "outputs": [
    {
     "data": {
      "text/plain": [
       "[(1, 2), (3, 4), (5, 6)]"
      ]
     },
     "execution_count": 15,
     "metadata": {},
     "output_type": "execute_result"
    }
   ],
   "source": [
    "list(better_grouper(nums, 2))"
   ]
  },
  {
   "cell_type": "markdown",
   "metadata": {},
   "source": [
    "Now let's check the performance:"
   ]
  },
  {
   "cell_type": "code",
   "execution_count": 16,
   "metadata": {},
   "outputs": [],
   "source": [
    "def call_better():\n",
    "    for _ in better_grouper(range(100000000), 10):\n",
    "        pass"
   ]
  },
  {
   "cell_type": "code",
   "execution_count": 17,
   "metadata": {},
   "outputs": [
    {
     "name": "stdout",
     "output_type": "stream",
     "text": [
      "2.18 s ± 45 ms per loop (mean ± std. dev. of 7 runs, 1 loop each)\n"
     ]
    }
   ],
   "source": [
    "%timeit call_better()"
   ]
  },
  {
   "cell_type": "markdown",
   "metadata": {},
   "source": [
    "## The grouper recipe\n",
    "\n",
    "One of the problems with our implementation is that it doesn't handle situations where the value passed to the second argument isn't a factor of the length of the iterable in the first argument:"
   ]
  },
  {
   "cell_type": "code",
   "execution_count": 19,
   "metadata": {},
   "outputs": [
    {
     "data": {
      "text/plain": [
       "[(1, 2, 3, 4), (5, 6, 7, 8)]"
      ]
     },
     "execution_count": 19,
     "metadata": {},
     "output_type": "execute_result"
    }
   ],
   "source": [
    "nums = [i+1 for i in range(10)]\n",
    "list(better_grouper(nums, 4))"
   ]
  },
  {
   "cell_type": "markdown",
   "metadata": {},
   "source": [
    "The elements 9 and 10 are missing from the output, due to `zip()` stopping aggregation once the shortest iterable passed is exhausted. This can be modified with `itertools` to select the *longest zip* and fill missing values with something of your choice, or `None` as default:"
   ]
  },
  {
   "cell_type": "code",
   "execution_count": 20,
   "metadata": {},
   "outputs": [],
   "source": [
    "import itertools as it"
   ]
  },
  {
   "cell_type": "code",
   "execution_count": 21,
   "metadata": {},
   "outputs": [
    {
     "data": {
      "text/plain": [
       "[(1, 'a'), (2, 'b'), (3, 'c')]"
      ]
     },
     "execution_count": 21,
     "metadata": {},
     "output_type": "execute_result"
    }
   ],
   "source": [
    "x = [i+1 for i in range(5)]\n",
    "y = [\"a\", \"b\", \"c\"]\n",
    "list(zip(x, y))"
   ]
  },
  {
   "cell_type": "code",
   "execution_count": 22,
   "metadata": {},
   "outputs": [
    {
     "data": {
      "text/plain": [
       "[(1, 'a'), (2, 'b'), (3, 'c'), (4, None), (5, None)]"
      ]
     },
     "execution_count": 22,
     "metadata": {},
     "output_type": "execute_result"
    }
   ],
   "source": [
    "list(it.zip_longest(x, y))"
   ]
  },
  {
   "cell_type": "markdown",
   "metadata": {},
   "source": [
    "## Brute force?\n",
    "\n",
    "Let's take the following problem:\n",
    "\n",
    "    You have three $20 dollar bills, five $10 dollar bills, two $5 dollar bills, and five $1 dollar bills. How many ways can you make change for a $100 dollar bill?\n",
    "    \n",
    "A standard way to solve this would be a *brute force* approach. Start listing off the ways there are to choose one bill from a wallet, check whether any of these make change for \\$100, then list the ways to pick two bills from your wallet, check again, and repeat.\n",
    "\n",
    "But as a programmer, this is ardous work, and we are lazy."
   ]
  },
  {
   "cell_type": "code",
   "execution_count": 24,
   "metadata": {},
   "outputs": [],
   "source": [
    "bills = [20, 20, 20, 10, 10, 10, 10, 10, 5, 5, 1, 1, 1, 1, 1]"
   ]
  },
  {
   "cell_type": "markdown",
   "metadata": {},
   "source": [
    "A choice of $k$ things from a set of $n$ things is called a **combination**, and this is one area where `itertools` shines. `it.combinations()` function takes two arguments:\n",
    "\n",
    "1. An iterable `inputs`\n",
    "2. A positive integer $n$\n",
    "\n",
    "and produces an iterator over tuples of all combinations of $n$ elements in `inputs`.\n",
    "\n",
    "For instance, every 3-bill combination can be found simply as:"
   ]
  },
  {
   "cell_type": "code",
   "execution_count": 26,
   "metadata": {},
   "outputs": [
    {
     "data": {
      "text/plain": [
       "[(20, 20, 20),\n",
       " (20, 20, 10),\n",
       " (20, 20, 10),\n",
       " (20, 20, 10),\n",
       " (20, 20, 10),\n",
       " (20, 20, 10),\n",
       " (20, 20, 5),\n",
       " (20, 20, 5),\n",
       " (20, 20, 1),\n",
       " (20, 20, 1),\n",
       " (20, 20, 1),\n",
       " (20, 20, 1),\n",
       " (20, 20, 1),\n",
       " (20, 20, 10),\n",
       " (20, 20, 10),\n",
       " (20, 20, 10),\n",
       " (20, 20, 10),\n",
       " (20, 20, 10),\n",
       " (20, 20, 5),\n",
       " (20, 20, 5),\n",
       " (20, 20, 1),\n",
       " (20, 20, 1),\n",
       " (20, 20, 1),\n",
       " (20, 20, 1),\n",
       " (20, 20, 1),\n",
       " (20, 10, 10),\n",
       " (20, 10, 10),\n",
       " (20, 10, 10),\n",
       " (20, 10, 10),\n",
       " (20, 10, 5),\n",
       " (20, 10, 5),\n",
       " (20, 10, 1),\n",
       " (20, 10, 1),\n",
       " (20, 10, 1),\n",
       " (20, 10, 1),\n",
       " (20, 10, 1),\n",
       " (20, 10, 10),\n",
       " (20, 10, 10),\n",
       " (20, 10, 10),\n",
       " (20, 10, 5),\n",
       " (20, 10, 5),\n",
       " (20, 10, 1),\n",
       " (20, 10, 1),\n",
       " (20, 10, 1),\n",
       " (20, 10, 1),\n",
       " (20, 10, 1),\n",
       " (20, 10, 10),\n",
       " (20, 10, 10),\n",
       " (20, 10, 5),\n",
       " (20, 10, 5),\n",
       " (20, 10, 1),\n",
       " (20, 10, 1),\n",
       " (20, 10, 1),\n",
       " (20, 10, 1),\n",
       " (20, 10, 1),\n",
       " (20, 10, 10),\n",
       " (20, 10, 5),\n",
       " (20, 10, 5),\n",
       " (20, 10, 1),\n",
       " (20, 10, 1),\n",
       " (20, 10, 1),\n",
       " (20, 10, 1),\n",
       " (20, 10, 1),\n",
       " (20, 10, 5),\n",
       " (20, 10, 5),\n",
       " (20, 10, 1),\n",
       " (20, 10, 1),\n",
       " (20, 10, 1),\n",
       " (20, 10, 1),\n",
       " (20, 10, 1),\n",
       " (20, 5, 5),\n",
       " (20, 5, 1),\n",
       " (20, 5, 1),\n",
       " (20, 5, 1),\n",
       " (20, 5, 1),\n",
       " (20, 5, 1),\n",
       " (20, 5, 1),\n",
       " (20, 5, 1),\n",
       " (20, 5, 1),\n",
       " (20, 5, 1),\n",
       " (20, 5, 1),\n",
       " (20, 1, 1),\n",
       " (20, 1, 1),\n",
       " (20, 1, 1),\n",
       " (20, 1, 1),\n",
       " (20, 1, 1),\n",
       " (20, 1, 1),\n",
       " (20, 1, 1),\n",
       " (20, 1, 1),\n",
       " (20, 1, 1),\n",
       " (20, 1, 1),\n",
       " (20, 20, 10),\n",
       " (20, 20, 10),\n",
       " (20, 20, 10),\n",
       " (20, 20, 10),\n",
       " (20, 20, 10),\n",
       " (20, 20, 5),\n",
       " (20, 20, 5),\n",
       " (20, 20, 1),\n",
       " (20, 20, 1),\n",
       " (20, 20, 1),\n",
       " (20, 20, 1),\n",
       " (20, 20, 1),\n",
       " (20, 10, 10),\n",
       " (20, 10, 10),\n",
       " (20, 10, 10),\n",
       " (20, 10, 10),\n",
       " (20, 10, 5),\n",
       " (20, 10, 5),\n",
       " (20, 10, 1),\n",
       " (20, 10, 1),\n",
       " (20, 10, 1),\n",
       " (20, 10, 1),\n",
       " (20, 10, 1),\n",
       " (20, 10, 10),\n",
       " (20, 10, 10),\n",
       " (20, 10, 10),\n",
       " (20, 10, 5),\n",
       " (20, 10, 5),\n",
       " (20, 10, 1),\n",
       " (20, 10, 1),\n",
       " (20, 10, 1),\n",
       " (20, 10, 1),\n",
       " (20, 10, 1),\n",
       " (20, 10, 10),\n",
       " (20, 10, 10),\n",
       " (20, 10, 5),\n",
       " (20, 10, 5),\n",
       " (20, 10, 1),\n",
       " (20, 10, 1),\n",
       " (20, 10, 1),\n",
       " (20, 10, 1),\n",
       " (20, 10, 1),\n",
       " (20, 10, 10),\n",
       " (20, 10, 5),\n",
       " (20, 10, 5),\n",
       " (20, 10, 1),\n",
       " (20, 10, 1),\n",
       " (20, 10, 1),\n",
       " (20, 10, 1),\n",
       " (20, 10, 1),\n",
       " (20, 10, 5),\n",
       " (20, 10, 5),\n",
       " (20, 10, 1),\n",
       " (20, 10, 1),\n",
       " (20, 10, 1),\n",
       " (20, 10, 1),\n",
       " (20, 10, 1),\n",
       " (20, 5, 5),\n",
       " (20, 5, 1),\n",
       " (20, 5, 1),\n",
       " (20, 5, 1),\n",
       " (20, 5, 1),\n",
       " (20, 5, 1),\n",
       " (20, 5, 1),\n",
       " (20, 5, 1),\n",
       " (20, 5, 1),\n",
       " (20, 5, 1),\n",
       " (20, 5, 1),\n",
       " (20, 1, 1),\n",
       " (20, 1, 1),\n",
       " (20, 1, 1),\n",
       " (20, 1, 1),\n",
       " (20, 1, 1),\n",
       " (20, 1, 1),\n",
       " (20, 1, 1),\n",
       " (20, 1, 1),\n",
       " (20, 1, 1),\n",
       " (20, 1, 1),\n",
       " (20, 10, 10),\n",
       " (20, 10, 10),\n",
       " (20, 10, 10),\n",
       " (20, 10, 10),\n",
       " (20, 10, 5),\n",
       " (20, 10, 5),\n",
       " (20, 10, 1),\n",
       " (20, 10, 1),\n",
       " (20, 10, 1),\n",
       " (20, 10, 1),\n",
       " (20, 10, 1),\n",
       " (20, 10, 10),\n",
       " (20, 10, 10),\n",
       " (20, 10, 10),\n",
       " (20, 10, 5),\n",
       " (20, 10, 5),\n",
       " (20, 10, 1),\n",
       " (20, 10, 1),\n",
       " (20, 10, 1),\n",
       " (20, 10, 1),\n",
       " (20, 10, 1),\n",
       " (20, 10, 10),\n",
       " (20, 10, 10),\n",
       " (20, 10, 5),\n",
       " (20, 10, 5),\n",
       " (20, 10, 1),\n",
       " (20, 10, 1),\n",
       " (20, 10, 1),\n",
       " (20, 10, 1),\n",
       " (20, 10, 1),\n",
       " (20, 10, 10),\n",
       " (20, 10, 5),\n",
       " (20, 10, 5),\n",
       " (20, 10, 1),\n",
       " (20, 10, 1),\n",
       " (20, 10, 1),\n",
       " (20, 10, 1),\n",
       " (20, 10, 1),\n",
       " (20, 10, 5),\n",
       " (20, 10, 5),\n",
       " (20, 10, 1),\n",
       " (20, 10, 1),\n",
       " (20, 10, 1),\n",
       " (20, 10, 1),\n",
       " (20, 10, 1),\n",
       " (20, 5, 5),\n",
       " (20, 5, 1),\n",
       " (20, 5, 1),\n",
       " (20, 5, 1),\n",
       " (20, 5, 1),\n",
       " (20, 5, 1),\n",
       " (20, 5, 1),\n",
       " (20, 5, 1),\n",
       " (20, 5, 1),\n",
       " (20, 5, 1),\n",
       " (20, 5, 1),\n",
       " (20, 1, 1),\n",
       " (20, 1, 1),\n",
       " (20, 1, 1),\n",
       " (20, 1, 1),\n",
       " (20, 1, 1),\n",
       " (20, 1, 1),\n",
       " (20, 1, 1),\n",
       " (20, 1, 1),\n",
       " (20, 1, 1),\n",
       " (20, 1, 1),\n",
       " (10, 10, 10),\n",
       " (10, 10, 10),\n",
       " (10, 10, 10),\n",
       " (10, 10, 5),\n",
       " (10, 10, 5),\n",
       " (10, 10, 1),\n",
       " (10, 10, 1),\n",
       " (10, 10, 1),\n",
       " (10, 10, 1),\n",
       " (10, 10, 1),\n",
       " (10, 10, 10),\n",
       " (10, 10, 10),\n",
       " (10, 10, 5),\n",
       " (10, 10, 5),\n",
       " (10, 10, 1),\n",
       " (10, 10, 1),\n",
       " (10, 10, 1),\n",
       " (10, 10, 1),\n",
       " (10, 10, 1),\n",
       " (10, 10, 10),\n",
       " (10, 10, 5),\n",
       " (10, 10, 5),\n",
       " (10, 10, 1),\n",
       " (10, 10, 1),\n",
       " (10, 10, 1),\n",
       " (10, 10, 1),\n",
       " (10, 10, 1),\n",
       " (10, 10, 5),\n",
       " (10, 10, 5),\n",
       " (10, 10, 1),\n",
       " (10, 10, 1),\n",
       " (10, 10, 1),\n",
       " (10, 10, 1),\n",
       " (10, 10, 1),\n",
       " (10, 5, 5),\n",
       " (10, 5, 1),\n",
       " (10, 5, 1),\n",
       " (10, 5, 1),\n",
       " (10, 5, 1),\n",
       " (10, 5, 1),\n",
       " (10, 5, 1),\n",
       " (10, 5, 1),\n",
       " (10, 5, 1),\n",
       " (10, 5, 1),\n",
       " (10, 5, 1),\n",
       " (10, 1, 1),\n",
       " (10, 1, 1),\n",
       " (10, 1, 1),\n",
       " (10, 1, 1),\n",
       " (10, 1, 1),\n",
       " (10, 1, 1),\n",
       " (10, 1, 1),\n",
       " (10, 1, 1),\n",
       " (10, 1, 1),\n",
       " (10, 1, 1),\n",
       " (10, 10, 10),\n",
       " (10, 10, 10),\n",
       " (10, 10, 5),\n",
       " (10, 10, 5),\n",
       " (10, 10, 1),\n",
       " (10, 10, 1),\n",
       " (10, 10, 1),\n",
       " (10, 10, 1),\n",
       " (10, 10, 1),\n",
       " (10, 10, 10),\n",
       " (10, 10, 5),\n",
       " (10, 10, 5),\n",
       " (10, 10, 1),\n",
       " (10, 10, 1),\n",
       " (10, 10, 1),\n",
       " (10, 10, 1),\n",
       " (10, 10, 1),\n",
       " (10, 10, 5),\n",
       " (10, 10, 5),\n",
       " (10, 10, 1),\n",
       " (10, 10, 1),\n",
       " (10, 10, 1),\n",
       " (10, 10, 1),\n",
       " (10, 10, 1),\n",
       " (10, 5, 5),\n",
       " (10, 5, 1),\n",
       " (10, 5, 1),\n",
       " (10, 5, 1),\n",
       " (10, 5, 1),\n",
       " (10, 5, 1),\n",
       " (10, 5, 1),\n",
       " (10, 5, 1),\n",
       " (10, 5, 1),\n",
       " (10, 5, 1),\n",
       " (10, 5, 1),\n",
       " (10, 1, 1),\n",
       " (10, 1, 1),\n",
       " (10, 1, 1),\n",
       " (10, 1, 1),\n",
       " (10, 1, 1),\n",
       " (10, 1, 1),\n",
       " (10, 1, 1),\n",
       " (10, 1, 1),\n",
       " (10, 1, 1),\n",
       " (10, 1, 1),\n",
       " (10, 10, 10),\n",
       " (10, 10, 5),\n",
       " (10, 10, 5),\n",
       " (10, 10, 1),\n",
       " (10, 10, 1),\n",
       " (10, 10, 1),\n",
       " (10, 10, 1),\n",
       " (10, 10, 1),\n",
       " (10, 10, 5),\n",
       " (10, 10, 5),\n",
       " (10, 10, 1),\n",
       " (10, 10, 1),\n",
       " (10, 10, 1),\n",
       " (10, 10, 1),\n",
       " (10, 10, 1),\n",
       " (10, 5, 5),\n",
       " (10, 5, 1),\n",
       " (10, 5, 1),\n",
       " (10, 5, 1),\n",
       " (10, 5, 1),\n",
       " (10, 5, 1),\n",
       " (10, 5, 1),\n",
       " (10, 5, 1),\n",
       " (10, 5, 1),\n",
       " (10, 5, 1),\n",
       " (10, 5, 1),\n",
       " (10, 1, 1),\n",
       " (10, 1, 1),\n",
       " (10, 1, 1),\n",
       " (10, 1, 1),\n",
       " (10, 1, 1),\n",
       " (10, 1, 1),\n",
       " (10, 1, 1),\n",
       " (10, 1, 1),\n",
       " (10, 1, 1),\n",
       " (10, 1, 1),\n",
       " (10, 10, 5),\n",
       " (10, 10, 5),\n",
       " (10, 10, 1),\n",
       " (10, 10, 1),\n",
       " (10, 10, 1),\n",
       " (10, 10, 1),\n",
       " (10, 10, 1),\n",
       " (10, 5, 5),\n",
       " (10, 5, 1),\n",
       " (10, 5, 1),\n",
       " (10, 5, 1),\n",
       " (10, 5, 1),\n",
       " (10, 5, 1),\n",
       " (10, 5, 1),\n",
       " (10, 5, 1),\n",
       " (10, 5, 1),\n",
       " (10, 5, 1),\n",
       " (10, 5, 1),\n",
       " (10, 1, 1),\n",
       " (10, 1, 1),\n",
       " (10, 1, 1),\n",
       " (10, 1, 1),\n",
       " (10, 1, 1),\n",
       " (10, 1, 1),\n",
       " (10, 1, 1),\n",
       " (10, 1, 1),\n",
       " (10, 1, 1),\n",
       " (10, 1, 1),\n",
       " (10, 5, 5),\n",
       " (10, 5, 1),\n",
       " (10, 5, 1),\n",
       " (10, 5, 1),\n",
       " (10, 5, 1),\n",
       " (10, 5, 1),\n",
       " (10, 5, 1),\n",
       " (10, 5, 1),\n",
       " (10, 5, 1),\n",
       " (10, 5, 1),\n",
       " (10, 5, 1),\n",
       " (10, 1, 1),\n",
       " (10, 1, 1),\n",
       " (10, 1, 1),\n",
       " (10, 1, 1),\n",
       " (10, 1, 1),\n",
       " (10, 1, 1),\n",
       " (10, 1, 1),\n",
       " (10, 1, 1),\n",
       " (10, 1, 1),\n",
       " (10, 1, 1),\n",
       " (5, 5, 1),\n",
       " (5, 5, 1),\n",
       " (5, 5, 1),\n",
       " (5, 5, 1),\n",
       " (5, 5, 1),\n",
       " (5, 1, 1),\n",
       " (5, 1, 1),\n",
       " (5, 1, 1),\n",
       " (5, 1, 1),\n",
       " (5, 1, 1),\n",
       " (5, 1, 1),\n",
       " (5, 1, 1),\n",
       " (5, 1, 1),\n",
       " (5, 1, 1),\n",
       " (5, 1, 1),\n",
       " (5, 1, 1),\n",
       " (5, 1, 1),\n",
       " (5, 1, 1),\n",
       " (5, 1, 1),\n",
       " (5, 1, 1),\n",
       " (5, 1, 1),\n",
       " (5, 1, 1),\n",
       " (5, 1, 1),\n",
       " (5, 1, 1),\n",
       " (5, 1, 1),\n",
       " (1, 1, 1),\n",
       " (1, 1, 1),\n",
       " (1, 1, 1),\n",
       " (1, 1, 1),\n",
       " (1, 1, 1),\n",
       " (1, 1, 1),\n",
       " (1, 1, 1),\n",
       " (1, 1, 1),\n",
       " (1, 1, 1),\n",
       " (1, 1, 1)]"
      ]
     },
     "execution_count": 26,
     "metadata": {},
     "output_type": "execute_result"
    }
   ],
   "source": [
    "list(it.combinations(bills, 3))"
   ]
  },
  {
   "cell_type": "markdown",
   "metadata": {},
   "source": [
    "To solve the problem, we loop over positive integers from 1 to `len(bills)`, then check the combinations of each size that add to \\$100:"
   ]
  },
  {
   "cell_type": "code",
   "execution_count": 28,
   "metadata": {
    "scrolled": true
   },
   "outputs": [
    {
     "data": {
      "text/plain": [
       "[(20, 20, 20, 10, 10, 10, 10),\n",
       " (20, 20, 20, 10, 10, 10, 10),\n",
       " (20, 20, 20, 10, 10, 10, 10),\n",
       " (20, 20, 20, 10, 10, 10, 10),\n",
       " (20, 20, 20, 10, 10, 10, 10),\n",
       " (20, 20, 20, 10, 10, 10, 5, 5),\n",
       " (20, 20, 20, 10, 10, 10, 5, 5),\n",
       " (20, 20, 20, 10, 10, 10, 5, 5),\n",
       " (20, 20, 20, 10, 10, 10, 5, 5),\n",
       " (20, 20, 20, 10, 10, 10, 5, 5),\n",
       " (20, 20, 20, 10, 10, 10, 5, 5),\n",
       " (20, 20, 20, 10, 10, 10, 5, 5),\n",
       " (20, 20, 20, 10, 10, 10, 5, 5),\n",
       " (20, 20, 20, 10, 10, 10, 5, 5),\n",
       " (20, 20, 20, 10, 10, 10, 5, 5),\n",
       " (20, 20, 10, 10, 10, 10, 10, 5, 5),\n",
       " (20, 20, 10, 10, 10, 10, 10, 5, 5),\n",
       " (20, 20, 10, 10, 10, 10, 10, 5, 5),\n",
       " (20, 20, 20, 10, 10, 10, 5, 1, 1, 1, 1, 1),\n",
       " (20, 20, 20, 10, 10, 10, 5, 1, 1, 1, 1, 1),\n",
       " (20, 20, 20, 10, 10, 10, 5, 1, 1, 1, 1, 1),\n",
       " (20, 20, 20, 10, 10, 10, 5, 1, 1, 1, 1, 1),\n",
       " (20, 20, 20, 10, 10, 10, 5, 1, 1, 1, 1, 1),\n",
       " (20, 20, 20, 10, 10, 10, 5, 1, 1, 1, 1, 1),\n",
       " (20, 20, 20, 10, 10, 10, 5, 1, 1, 1, 1, 1),\n",
       " (20, 20, 20, 10, 10, 10, 5, 1, 1, 1, 1, 1),\n",
       " (20, 20, 20, 10, 10, 10, 5, 1, 1, 1, 1, 1),\n",
       " (20, 20, 20, 10, 10, 10, 5, 1, 1, 1, 1, 1),\n",
       " (20, 20, 20, 10, 10, 10, 5, 1, 1, 1, 1, 1),\n",
       " (20, 20, 20, 10, 10, 10, 5, 1, 1, 1, 1, 1),\n",
       " (20, 20, 20, 10, 10, 10, 5, 1, 1, 1, 1, 1),\n",
       " (20, 20, 20, 10, 10, 10, 5, 1, 1, 1, 1, 1),\n",
       " (20, 20, 20, 10, 10, 10, 5, 1, 1, 1, 1, 1),\n",
       " (20, 20, 20, 10, 10, 10, 5, 1, 1, 1, 1, 1),\n",
       " (20, 20, 20, 10, 10, 10, 5, 1, 1, 1, 1, 1),\n",
       " (20, 20, 20, 10, 10, 10, 5, 1, 1, 1, 1, 1),\n",
       " (20, 20, 20, 10, 10, 10, 5, 1, 1, 1, 1, 1),\n",
       " (20, 20, 20, 10, 10, 10, 5, 1, 1, 1, 1, 1),\n",
       " (20, 20, 10, 10, 10, 10, 10, 5, 1, 1, 1, 1, 1),\n",
       " (20, 20, 10, 10, 10, 10, 10, 5, 1, 1, 1, 1, 1),\n",
       " (20, 20, 10, 10, 10, 10, 10, 5, 1, 1, 1, 1, 1),\n",
       " (20, 20, 10, 10, 10, 10, 10, 5, 1, 1, 1, 1, 1),\n",
       " (20, 20, 10, 10, 10, 10, 10, 5, 1, 1, 1, 1, 1),\n",
       " (20, 20, 10, 10, 10, 10, 10, 5, 1, 1, 1, 1, 1)]"
      ]
     },
     "execution_count": 28,
     "metadata": {},
     "output_type": "execute_result"
    }
   ],
   "source": [
    "makes_100 = []\n",
    "for n in range(1, len(bills) + 1):\n",
    "    for comb in it.combinations(bills, n):\n",
    "        if sum(comb) == 100:\n",
    "            makes_100.append(comb)\n",
    "\n",
    "makes_100"
   ]
  },
  {
   "cell_type": "markdown",
   "metadata": {},
   "source": [
    "Notice that there are a number of duplicate combinations. To eliminate these, we can convert to a set:"
   ]
  },
  {
   "cell_type": "code",
   "execution_count": 29,
   "metadata": {},
   "outputs": [
    {
     "data": {
      "text/plain": [
       "{(20, 20, 10, 10, 10, 10, 10, 5, 1, 1, 1, 1, 1),\n",
       " (20, 20, 10, 10, 10, 10, 10, 5, 5),\n",
       " (20, 20, 20, 10, 10, 10, 5, 1, 1, 1, 1, 1),\n",
       " (20, 20, 20, 10, 10, 10, 5, 5),\n",
       " (20, 20, 20, 10, 10, 10, 10)}"
      ]
     },
     "execution_count": 29,
     "metadata": {},
     "output_type": "execute_result"
    }
   ],
   "source": [
    "set(makes_100)"
   ]
  },
  {
   "cell_type": "markdown",
   "metadata": {},
   "source": [
    "If we were to allow any combination of `$50`, `$20`, `$10`, `$5` and `$1` dollar bills, this method would break down. For example:"
   ]
  },
  {
   "cell_type": "code",
   "execution_count": 30,
   "metadata": {},
   "outputs": [
    {
     "data": {
      "text/plain": [
       "[(1, 2)]"
      ]
     },
     "execution_count": 30,
     "metadata": {},
     "output_type": "execute_result"
    }
   ],
   "source": [
    "list(it.combinations([1, 2], 2))"
   ]
  },
  {
   "cell_type": "markdown",
   "metadata": {},
   "source": [
    "`combinations()` does not allow elements to be repeated in the tuples it returns: we instead can use `combinations_with_replacement()`:"
   ]
  },
  {
   "cell_type": "code",
   "execution_count": 31,
   "metadata": {},
   "outputs": [
    {
     "data": {
      "text/plain": [
       "[(1, 1), (1, 2), (2, 2)]"
      ]
     },
     "execution_count": 31,
     "metadata": {},
     "output_type": "execute_result"
    }
   ],
   "source": [
    "list(it.combinations_with_replacement([1, 2], 2))"
   ]
  },
  {
   "cell_type": "markdown",
   "metadata": {},
   "source": [
    "Another **brute force** `itertools` function is `permutations()`, which accepts a single iterable and produces all possible permutations (rearrangements) of its elements:"
   ]
  },
  {
   "cell_type": "code",
   "execution_count": 32,
   "metadata": {},
   "outputs": [
    {
     "data": {
      "text/plain": [
       "[('a', 'b', 'c'),\n",
       " ('a', 'c', 'b'),\n",
       " ('b', 'a', 'c'),\n",
       " ('b', 'c', 'a'),\n",
       " ('c', 'a', 'b'),\n",
       " ('c', 'b', 'a')]"
      ]
     },
     "execution_count": 32,
     "metadata": {},
     "output_type": "execute_result"
    }
   ],
   "source": [
    "list(it.permutations([\"a\",\"b\",\"c\"]))"
   ]
  },
  {
   "cell_type": "markdown",
   "metadata": {},
   "source": [
    "The number of permutations of longer iterables grows extremely fast, as it follows that:\n",
    "\n",
    "$$\n",
    "n!=n(n-1)(n-2)(n-3)\\dots(2)(1)\n",
    "$$\n",
    "\n",
    "$n$ elements returns $n!$ ($n$ factorial) list elements."
   ]
  },
  {
   "cell_type": "code",
   "execution_count": null,
   "metadata": {},
   "outputs": [],
   "source": []
  },
  {
   "cell_type": "code",
   "execution_count": null,
   "metadata": {},
   "outputs": [],
   "source": []
  },
  {
   "cell_type": "code",
   "execution_count": null,
   "metadata": {},
   "outputs": [],
   "source": []
  }
 ],
 "metadata": {
  "kernelspec": {
   "display_name": "Python 3",
   "language": "python",
   "name": "python3"
  },
  "language_info": {
   "codemirror_mode": {
    "name": "ipython",
    "version": 3
   },
   "file_extension": ".py",
   "mimetype": "text/x-python",
   "name": "python",
   "nbconvert_exporter": "python",
   "pygments_lexer": "ipython3",
   "version": "3.7.0"
  }
 },
 "nbformat": 4,
 "nbformat_minor": 2
}
