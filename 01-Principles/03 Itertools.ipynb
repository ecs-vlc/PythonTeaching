{
 "cells": [
  {
   "cell_type": "markdown",
   "metadata": {},
   "source": [
    "# Itertools\n",
    "\n",
    "In Computer Science, there are two competing philosophies when it comes to effective programming of algorithms; **Procedural** programming and **Declarative** programming. The `itertools` package draws heavily from the latter in it's strategy, and largely comes from the mathematics world.\n",
    "\n",
    "`itertools` represents in Python 3 a heavy part of the Python backbone, and indeed many tasks can be achieved effortlessly through the use of `itertools`. As you may have experimented, one of the primary drawbacks of Python is the slow nature of **looping**, since the Python interpreter is not optimized for handling complex code within a `for` or `while` loop. This aspect will be covered more in the *Performance* notebook.\n",
    "\n",
    "One of the ways around this is by using the `itertools` library suite. Also, the functions themselves are intuitively named, modestly fast, elegant and memory-efficient. `itertools` provides building-block functions inspired by constructs from APL, Haskell and SML. Together they form a kind of \"iterator algebra\" making it possible to construct a specialized tool very succinctly and efficiently in Python. For more on this, look at the `itertools` [documentation](https://docs.python.org/3/library/itertools.html) and this very [helpful guide](https://realpython.com/python-itertools/) where this teaching material is primarily drawn from.\n",
    "\n",
    "Loosely speaking, this means that functions in `itertools` build on top of iterators to produce more complex ones. For example, `zip()` is an *in-built* Python function which takes an arbitrary number of iterables as arguments and returns an iterator over tuples of their corresponding elements:"
   ]
  },
  {
   "cell_type": "code",
   "execution_count": null,
   "metadata": {},
   "outputs": [],
   "source": [
    "list(zip([1, 2, 3], [\"a\",\"b\",\"c\"]))"
   ]
  },
  {
   "cell_type": "markdown",
   "metadata": {},
   "source": [
    "In this case, `[1, 2, 3]` and `[\"a\", \"b\", \"c\"]` are lists, and are iterable, which means they can return their elements one at a time. As an extension to this, **any Python object** that implements the `.__iter__()` or `.__getitem__()` methods is *iterable*.\n",
    "\n",
    "The `iter()` built-in function, when called on an iterable, returns an iterable object for that iterable:"
   ]
  },
  {
   "cell_type": "code",
   "execution_count": null,
   "metadata": {},
<<<<<<< HEAD
   "outputs": [],
=======
   "outputs": [
    {
     "data": {
      "text/plain": [
       "<list_iterator at 0x2546702de80>"
      ]
     },
     "execution_count": 3,
     "metadata": {},
     "output_type": "execute_result"
    }
   ],
>>>>>>> ac3d256233ccac1dff220a9181e2211e4ff0a14d
   "source": [
    "iter([1, 2, 3, 4])"
   ]
  },
  {
   "cell_type": "markdown",
   "metadata": {},
   "source": [
    "Under the hood, `zip()` works by calling `iter()` on each of its arguments, then advancing each iterator return by `iter()` with `next()` and aggregating into tuples. \n",
    "\n",
    "The `map()` built-in function is another operator, where, it applies a single-parameter function to each element of an iterable one element at a time:"
   ]
  },
  {
   "cell_type": "code",
   "execution_count": null,
   "metadata": {},
   "outputs": [],
   "source": [
    "list(map(len, [\"abc\", \"de\", \"fghi\"]))"
   ]
  },
  {
   "cell_type": "markdown",
   "metadata": {},
   "source": [
    "Like `zip()`, `map()` also makes use of `iter()` to advance the iterator over the list with `next()` until the iterator is exhausted, and apply the `len` function (or any function) to the value returned by `next()` at each step. \n",
    "\n",
    "Since iterators are *iterable*, you can compose `zip()` and `map()` together to produce an iterator over combinations of elements in more than one iterable. Take the following example:"
   ]
  },
  {
   "cell_type": "code",
   "execution_count": null,
   "metadata": {},
   "outputs": [],
   "source": [
    "list(map(sum, zip([1,2,3], [4,5,6])))"
   ]
  },
  {
   "cell_type": "markdown",
   "metadata": {},
   "source": [
    "This is what is meant by functions in `itertools` forming an iterator algebra; this helps to form specialized data pipelines.\n",
    "\n",
    "There are two positive reasons which such iterator algebra may be useful: firstly it improves memory efficiency and secondly faster execution time. Consider the following problem:\n",
    "\n",
    "    Given a list of values _inputs and a positive integer _n, write a function that splits _inputs into groups of length _n. For simplicity, assume that the length of the input list is divisible by _n. For example, if _inputs = [1, 2, 3, 4, 5, 6] and _n = 2, your function should return [(1,2), (3,4), (5,6)].\n",
    "    \n",
    "With a naive approach, we may write something like:"
   ]
  },
  {
   "cell_type": "code",
   "execution_count": null,
   "metadata": {},
   "outputs": [],
   "source": [
    "def naive_grouper(inputs, n):\n",
    "    # integer division\n",
    "    n_groups = len(inputs) // n\n",
    "    return [tuple(inputs[i*n:(i+1)*n]) for i in range(n_groups)]"
   ]
  },
  {
   "cell_type": "markdown",
   "metadata": {},
   "source": [
    "Testing this works as expected:"
   ]
  },
  {
   "cell_type": "code",
   "execution_count": null,
   "metadata": {},
   "outputs": [],
   "source": [
    "naive_grouper([1,2,3,4,5,6], 2)"
   ]
  },
  {
   "cell_type": "markdown",
   "metadata": {},
   "source": [
    "But what about if you try to pass a list with 100 million elements? You will need a lot of memory! Even if you have the memory, the program will hang until the output list is populated. Try below at your peril (if you have $\\lt$ 5GB DRAM, enjoy):"
   ]
  },
  {
   "cell_type": "code",
   "execution_count": null,
   "metadata": {},
   "outputs": [],
   "source": [
    "def call_naive():\n",
    "    for _ in naive_grouper(range(100000000), 10):\n",
    "        pass"
   ]
  },
  {
   "cell_type": "code",
   "execution_count": null,
   "metadata": {},
<<<<<<< HEAD
   "outputs": [],
=======
   "outputs": [
    {
     "name": "stdout",
     "output_type": "stream",
     "text": [
      "14.8 s ± 380 ms per loop (mean ± std. dev. of 7 runs, 1 loop each)\n"
     ]
    }
   ],
>>>>>>> ac3d256233ccac1dff220a9181e2211e4ff0a14d
   "source": [
    "%timeit call_naive()"
   ]
  },
  {
   "cell_type": "markdown",
   "metadata": {},
   "source": [
    "The primary issue is processing the `range` object that creates 100 million numbers before passing to the `naive_grouper` function. Working with an iterator considerably changes the game:"
   ]
  },
  {
   "cell_type": "code",
   "execution_count": null,
   "metadata": {},
   "outputs": [],
   "source": [
    "def better_grouper(inputs, n):\n",
    "    iters = [iter(inputs)]*n\n",
    "    return zip(*iters)"
   ]
  },
  {
   "cell_type": "markdown",
   "metadata": {},
   "source": [
    "In the above function, there is a lot going on, so let's break it down piece-by-piece:\n",
    "\n",
    "1. The expression `[iters(inputs)] * n` creates a list of `n` references to the same iterator.\n",
    "2. Next `zip(*iters)` returns an iterator over pairs of corresponding element of each iterator in `iters`."
   ]
  },
  {
   "cell_type": "code",
   "execution_count": null,
   "metadata": {},
<<<<<<< HEAD
   "outputs": [],
=======
   "outputs": [
    {
     "data": {
      "text/plain": [
       "[2561538800552, 2561538800552]"
      ]
     },
     "execution_count": 11,
     "metadata": {},
     "output_type": "execute_result"
    }
   ],
>>>>>>> ac3d256233ccac1dff220a9181e2211e4ff0a14d
   "source": [
    "nums = [1, 2, 3, 4, 5, 6]\n",
    "iters = [iter(nums)] * 2\n",
    "list(id(i) for i in iters)"
   ]
  },
  {
   "cell_type": "markdown",
   "metadata": {},
   "source": [
    "In this case, by creating two `iters`, when we use `zip()`, the first element, 1, is taken from the first iterator, the second iterator now starts at 2 since it is just a reference to the first iterator and has therefore been advanced one step. So the first tuple produced by `zip()` is `(1, 2)`, and so on."
   ]
  },
  {
   "cell_type": "code",
   "execution_count": null,
   "metadata": {},
   "outputs": [],
   "source": [
    "list(better_grouper(nums, 2))"
   ]
  },
  {
   "cell_type": "markdown",
   "metadata": {},
   "source": [
    "Now let's check the performance:"
   ]
  },
  {
   "cell_type": "code",
   "execution_count": null,
   "metadata": {},
   "outputs": [],
   "source": [
    "def call_better():\n",
    "    for _ in better_grouper(range(100000000), 10):\n",
    "        pass"
   ]
  },
  {
   "cell_type": "code",
   "execution_count": null,
   "metadata": {},
<<<<<<< HEAD
   "outputs": [],
=======
   "outputs": [
    {
     "name": "stdout",
     "output_type": "stream",
     "text": [
      "2.15 s ± 110 ms per loop (mean ± std. dev. of 7 runs, 1 loop each)\n"
     ]
    }
   ],
>>>>>>> ac3d256233ccac1dff220a9181e2211e4ff0a14d
   "source": [
    "%timeit call_better()"
   ]
  },
  {
   "cell_type": "markdown",
   "metadata": {},
   "source": [
    "## The grouper recipe\n",
    "\n",
    "One of the problems with our implementation is that it doesn't handle situations where the value passed to the second argument isn't a factor of the length of the iterable in the first argument:"
   ]
  },
  {
   "cell_type": "code",
   "execution_count": null,
   "metadata": {},
   "outputs": [],
   "source": [
    "nums = [i+1 for i in range(10)]\n",
    "list(better_grouper(nums, 4))"
   ]
  },
  {
   "cell_type": "markdown",
   "metadata": {},
   "source": [
    "The elements 9 and 10 are missing from the output, due to `zip()` stopping aggregation once the shortest iterable passed is exhausted. This can be modified with `itertools` to select the *longest zip* and fill missing values with something of your choice, or `None` as default:"
   ]
  },
  {
   "cell_type": "code",
   "execution_count": 1,
   "metadata": {},
   "outputs": [],
   "source": [
    "import itertools as it"
   ]
  },
  {
   "cell_type": "code",
   "execution_count": 2,
   "metadata": {},
   "outputs": [
    {
     "data": {
      "text/plain": [
       "[(1, 'a'), (2, 'b'), (3, 'c')]"
      ]
     },
     "execution_count": 2,
     "metadata": {},
     "output_type": "execute_result"
    }
   ],
   "source": [
    "x = [i+1 for i in range(5)]\n",
    "y = [\"a\", \"b\", \"c\"]\n",
    "list(zip(x, y))"
   ]
  },
  {
   "cell_type": "code",
   "execution_count": 3,
   "metadata": {},
   "outputs": [
    {
     "data": {
      "text/plain": [
       "[(1, 'a'), (2, 'b'), (3, 'c'), (4, None), (5, None)]"
      ]
     },
     "execution_count": 3,
     "metadata": {},
     "output_type": "execute_result"
    }
   ],
   "source": [
    "list(it.zip_longest(x, y))"
   ]
  },
  {
   "cell_type": "markdown",
   "metadata": {},
   "source": [
    "## Brute force?: combinations\n",
    "\n",
    "Let's take the following problem:\n",
    "\n",
    "    You have three $20 dollar bills, five $10 dollar bills, two $5 dollar bills, and five $1 dollar bills. How many ways can you make change for a $100 dollar bill?\n",
    "    \n",
    "A standard way to solve this would be a *brute force* approach. Start listing off the ways there are to choose one bill from a wallet, check whether any of these make change for \\$100, then list the ways to pick two bills from your wallet, check again, and repeat.\n",
    "\n",
    "But as a programmer, this is ardous work, and we are lazy."
   ]
  },
  {
   "cell_type": "code",
   "execution_count": 4,
   "metadata": {},
   "outputs": [],
   "source": [
    "bills = [20, 20, 20, 10, 10, 10, 10, 10, 5, 5, 1, 1, 1, 1, 1]"
   ]
  },
  {
   "cell_type": "markdown",
   "metadata": {},
   "source": [
    "A choice of $k$ things from a set of $n$ things is called a **combination**, and this is one area where `itertools` shines. `it.combinations()` function takes two arguments:\n",
    "\n",
    "1. An iterable `inputs`\n",
    "2. A positive integer $n$\n",
    "\n",
    "and produces an iterator over tuples of all combinations of $n$ elements in `inputs`.\n",
    "\n",
    "For instance, every 3-bill combination can be found simply as:"
   ]
  },
  {
   "cell_type": "code",
   "execution_count": 5,
   "metadata": {},
   "outputs": [
    {
     "data": {
      "text/plain": [
       "<itertools.combinations at 0x2551b0875e8>"
      ]
     },
     "execution_count": 5,
     "metadata": {},
     "output_type": "execute_result"
    }
   ],
   "source": [
    "it.combinations(bills, 3)"
   ]
  },
  {
   "cell_type": "markdown",
   "metadata": {},
   "source": [
    "To solve the problem, we loop over positive integers from 1 to `len(bills)`, then check the combinations of each size that add to \\$100:"
   ]
  },
  {
   "cell_type": "code",
   "execution_count": 6,
   "metadata": {
    "scrolled": true
   },
<<<<<<< HEAD
   "outputs": [
    {
     "data": {
      "text/plain": [
       "[(20, 20, 20, 10, 10, 10, 10),\n",
       " (20, 20, 20, 10, 10, 10, 10),\n",
       " (20, 20, 20, 10, 10, 10, 10),\n",
       " (20, 20, 20, 10, 10, 10, 10),\n",
       " (20, 20, 20, 10, 10, 10, 10),\n",
       " (20, 20, 20, 10, 10, 10, 5, 5),\n",
       " (20, 20, 20, 10, 10, 10, 5, 5),\n",
       " (20, 20, 20, 10, 10, 10, 5, 5),\n",
       " (20, 20, 20, 10, 10, 10, 5, 5),\n",
       " (20, 20, 20, 10, 10, 10, 5, 5),\n",
       " (20, 20, 20, 10, 10, 10, 5, 5),\n",
       " (20, 20, 20, 10, 10, 10, 5, 5),\n",
       " (20, 20, 20, 10, 10, 10, 5, 5),\n",
       " (20, 20, 20, 10, 10, 10, 5, 5),\n",
       " (20, 20, 20, 10, 10, 10, 5, 5),\n",
       " (20, 20, 10, 10, 10, 10, 10, 5, 5),\n",
       " (20, 20, 10, 10, 10, 10, 10, 5, 5),\n",
       " (20, 20, 10, 10, 10, 10, 10, 5, 5),\n",
       " (20, 20, 20, 10, 10, 10, 5, 1, 1, 1, 1, 1),\n",
       " (20, 20, 20, 10, 10, 10, 5, 1, 1, 1, 1, 1),\n",
       " (20, 20, 20, 10, 10, 10, 5, 1, 1, 1, 1, 1),\n",
       " (20, 20, 20, 10, 10, 10, 5, 1, 1, 1, 1, 1),\n",
       " (20, 20, 20, 10, 10, 10, 5, 1, 1, 1, 1, 1),\n",
       " (20, 20, 20, 10, 10, 10, 5, 1, 1, 1, 1, 1),\n",
       " (20, 20, 20, 10, 10, 10, 5, 1, 1, 1, 1, 1),\n",
       " (20, 20, 20, 10, 10, 10, 5, 1, 1, 1, 1, 1),\n",
       " (20, 20, 20, 10, 10, 10, 5, 1, 1, 1, 1, 1),\n",
       " (20, 20, 20, 10, 10, 10, 5, 1, 1, 1, 1, 1),\n",
       " (20, 20, 20, 10, 10, 10, 5, 1, 1, 1, 1, 1),\n",
       " (20, 20, 20, 10, 10, 10, 5, 1, 1, 1, 1, 1),\n",
       " (20, 20, 20, 10, 10, 10, 5, 1, 1, 1, 1, 1),\n",
       " (20, 20, 20, 10, 10, 10, 5, 1, 1, 1, 1, 1),\n",
       " (20, 20, 20, 10, 10, 10, 5, 1, 1, 1, 1, 1),\n",
       " (20, 20, 20, 10, 10, 10, 5, 1, 1, 1, 1, 1),\n",
       " (20, 20, 20, 10, 10, 10, 5, 1, 1, 1, 1, 1),\n",
       " (20, 20, 20, 10, 10, 10, 5, 1, 1, 1, 1, 1),\n",
       " (20, 20, 20, 10, 10, 10, 5, 1, 1, 1, 1, 1),\n",
       " (20, 20, 20, 10, 10, 10, 5, 1, 1, 1, 1, 1),\n",
       " (20, 20, 10, 10, 10, 10, 10, 5, 1, 1, 1, 1, 1),\n",
       " (20, 20, 10, 10, 10, 10, 10, 5, 1, 1, 1, 1, 1),\n",
       " (20, 20, 10, 10, 10, 10, 10, 5, 1, 1, 1, 1, 1),\n",
       " (20, 20, 10, 10, 10, 10, 10, 5, 1, 1, 1, 1, 1),\n",
       " (20, 20, 10, 10, 10, 10, 10, 5, 1, 1, 1, 1, 1),\n",
       " (20, 20, 10, 10, 10, 10, 10, 5, 1, 1, 1, 1, 1)]"
      ]
     },
     "execution_count": 6,
     "metadata": {},
     "output_type": "execute_result"
    }
   ],
=======
   "outputs": [],
>>>>>>> ac3d256233ccac1dff220a9181e2211e4ff0a14d
   "source": [
    "makes_100 = []\n",
    "for n in range(1, len(bills) + 1):\n",
    "    for comb in it.combinations(bills, n):\n",
    "        if sum(comb) == 100:\n",
    "            makes_100.append(comb)\n",
    "\n",
    "# makes_100"
   ]
  },
  {
   "cell_type": "markdown",
   "metadata": {},
   "source": [
    "Notice that there are a number of duplicate combinations. To eliminate these, we can convert to a set:"
   ]
  },
  {
   "cell_type": "code",
   "execution_count": 7,
   "metadata": {},
   "outputs": [
    {
     "data": {
      "text/plain": [
       "{(20, 20, 10, 10, 10, 10, 10, 5, 1, 1, 1, 1, 1),\n",
       " (20, 20, 10, 10, 10, 10, 10, 5, 5),\n",
       " (20, 20, 20, 10, 10, 10, 5, 1, 1, 1, 1, 1),\n",
       " (20, 20, 20, 10, 10, 10, 5, 5),\n",
       " (20, 20, 20, 10, 10, 10, 10)}"
      ]
     },
     "execution_count": 7,
     "metadata": {},
     "output_type": "execute_result"
    }
   ],
   "source": [
    "set(makes_100)"
   ]
  },
  {
   "cell_type": "markdown",
   "metadata": {},
   "source": [
    "If we were to allow any combination of `$50`, `$20`, `$10`, `$5` and `$1` dollar bills, this method would break down. For example:"
   ]
  },
  {
   "cell_type": "code",
   "execution_count": 8,
   "metadata": {},
   "outputs": [
    {
     "data": {
      "text/plain": [
       "[(1, 2)]"
      ]
     },
     "execution_count": 8,
     "metadata": {},
     "output_type": "execute_result"
    }
   ],
   "source": [
    "list(it.combinations([1, 2], 2))"
   ]
  },
  {
   "cell_type": "markdown",
   "metadata": {},
   "source": [
    "`combinations()` does not allow elements to be repeated in the tuples it returns: we instead can use `combinations_with_replacement()`:"
   ]
  },
  {
   "cell_type": "code",
   "execution_count": 9,
   "metadata": {},
   "outputs": [
    {
     "data": {
      "text/plain": [
       "[(1, 1), (1, 2), (2, 2)]"
      ]
     },
     "execution_count": 9,
     "metadata": {},
     "output_type": "execute_result"
    }
   ],
   "source": [
    "list(it.combinations_with_replacement([1, 2], 2))"
   ]
  },
  {
   "cell_type": "markdown",
   "metadata": {},
   "source": [
    "Another **brute force** `itertools` function is `permutations()`, which accepts a single iterable and produces all possible permutations (rearrangements) of its elements:"
   ]
  },
  {
   "cell_type": "code",
   "execution_count": 10,
   "metadata": {},
   "outputs": [
    {
     "data": {
      "text/plain": [
       "[('a', 'b', 'c'),\n",
       " ('a', 'c', 'b'),\n",
       " ('b', 'a', 'c'),\n",
       " ('b', 'c', 'a'),\n",
       " ('c', 'a', 'b'),\n",
       " ('c', 'b', 'a')]"
      ]
     },
     "execution_count": 10,
     "metadata": {},
     "output_type": "execute_result"
    }
   ],
   "source": [
    "list(it.permutations([\"a\",\"b\",\"c\"]))"
   ]
  },
  {
   "cell_type": "markdown",
   "metadata": {},
   "source": [
    "The number of permutations of longer iterables grows extremely fast, as it follows that:\n",
    "\n",
    "$$\n",
    "n!=n(n-1)(n-2)(n-3)\\dots(2)(1)\n",
    "$$\n",
    "\n",
    "$n$ elements returns $n!$ ($n$ factorial) list elements."
   ]
  },
  {
   "cell_type": "markdown",
   "metadata": {},
   "source": [
    "## Sequences of Numbers: count\n",
    "\n",
    "With `itertools`, we can easily generate iterators over infinite sequences. In this section, we'll explore sequence generation.\n",
    "\n",
    "### Evens and Odds\n",
    "\n",
    "In this first example, we'll create a pair of iterators over even and odd integers *without explicitly doing any arithmetic*. Below is an arithmetic solution using generators:"
   ]
  },
  {
   "cell_type": "code",
   "execution_count": 11,
   "metadata": {},
   "outputs": [
    {
     "data": {
      "text/plain": [
       "[0, 2, 4, 6, 8]"
      ]
     },
     "execution_count": 11,
     "metadata": {},
     "output_type": "execute_result"
    }
   ],
   "source": [
    "def evens():\n",
    "    \"\"\"Generate even integers, starting with 0.\"\"\"\n",
    "    n = 0\n",
    "    while True:\n",
    "        yield n\n",
    "        n += 2\n",
    "\n",
    "def odds():\n",
    "    \"\"\"Generate odd integers, starting with 1.\"\"\"\n",
    "    n = 1\n",
    "    while True:\n",
    "        yield n\n",
    "        n += 2\n",
    "\n",
    "evens = evens()\n",
    "list(next(evens) for _ in range(5))"
   ]
  },
  {
   "cell_type": "code",
   "execution_count": 12,
   "metadata": {},
   "outputs": [
    {
     "data": {
      "text/plain": [
       "[1, 3, 5, 7, 9, 11]"
      ]
     },
     "execution_count": 12,
     "metadata": {},
     "output_type": "execute_result"
    }
   ],
   "source": [
    "odds = odds()\n",
    "list(next(odds) for _ in range(6))"
   ]
  },
  {
   "cell_type": "markdown",
   "metadata": {},
   "source": [
    "The `yield` statement returns a **generator** rather than the calculated value; meaning that the value is not computed until `list()` is called.\n",
    "\n",
    "With `itertools`, this can be achieved more compactly using `itertools.count()`, which counts starting by default with number 0:"
   ]
  },
  {
   "cell_type": "code",
   "execution_count": 13,
   "metadata": {},
   "outputs": [
    {
     "data": {
      "text/plain": [
       "[0, 1, 2, 3, 4]"
      ]
     },
     "execution_count": 13,
     "metadata": {},
     "output_type": "execute_result"
    }
   ],
   "source": [
    "counter = it.count()\n",
    "list(next(counter) for _ in range(5))"
   ]
  },
  {
   "cell_type": "markdown",
   "metadata": {},
   "source": [
    "We can start counting from any number of our choice by setting the `start` keyword argument, defaulted to 0, and set a `step` argument to determine the interval, defaulted to 1."
   ]
  },
  {
   "cell_type": "code",
   "execution_count": 14,
   "metadata": {},
   "outputs": [
    {
     "data": {
      "text/plain": [
       "[0, 2, 4, 6, 8]"
      ]
     },
     "execution_count": 14,
     "metadata": {},
     "output_type": "execute_result"
    }
   ],
   "source": [
    "evens = it.count(step=2)\n",
    "list(next(evens) for _ in range(5))"
   ]
  },
  {
   "cell_type": "code",
   "execution_count": 15,
   "metadata": {},
   "outputs": [
    {
     "data": {
      "text/plain": [
       "[1, 3, 5, 7, 9]"
      ]
     },
     "execution_count": 15,
     "metadata": {},
     "output_type": "execute_result"
    }
   ],
   "source": [
    "odds = it.count(start=1, step=2)\n",
    "list(next(odds) for _ in range(5))"
   ]
  },
  {
   "cell_type": "code",
   "execution_count": 16,
   "metadata": {},
   "outputs": [
    {
     "data": {
      "text/plain": [
       "[0.5, 1.0, 1.5, 2.0, 2.5]"
      ]
     },
     "execution_count": 16,
     "metadata": {},
     "output_type": "execute_result"
    }
   ],
   "source": [
    "c_floats = it.count(start=0.5, step=0.5)\n",
    "list(next(c_floats) for _ in range(5))"
   ]
  },
  {
   "cell_type": "code",
   "execution_count": 17,
   "metadata": {},
   "outputs": [
    {
     "data": {
      "text/plain": [
       "[1, 0.5, 0.0, -0.5, -1.0]"
      ]
     },
     "execution_count": 17,
     "metadata": {},
     "output_type": "execute_result"
    }
   ],
   "source": [
    "neg_count = it.count(start=1, step=-.5)\n",
    "list(next(neg_count) for _ in range(5))"
   ]
  },
  {
   "cell_type": "markdown",
   "metadata": {},
   "source": [
    "`count()` acts in many ways to the in-built function `range()`, but `count()` returns an infinite sequence. You might wonder what the point of it is; but one nice feature is that since it's length is not set, it can easily be associated to any other Python `list`:"
   ]
  },
  {
   "cell_type": "code",
   "execution_count": 18,
   "metadata": {},
   "outputs": [
    {
     "data": {
      "text/plain": [
       "[(0, 'a'), (1, 'b'), (2, 'c')]"
      ]
     },
     "execution_count": 18,
     "metadata": {},
     "output_type": "execute_result"
    }
   ],
   "source": [
    "list(zip(it.count(), [\"a\", \"b\", \"c\"]))"
   ]
  },
  {
   "cell_type": "markdown",
   "metadata": {},
   "source": [
    "The example above enumerates a list without a `for` loop and without knowing the length of the list ahead of time."
   ]
  },
  {
   "cell_type": "markdown",
   "metadata": {},
   "source": [
    "## Recurrence Relations: repeat, cycle, accumulate\n",
    "\n",
    "A recurrence relation can describe a sequence of numbers with a recursive formula. One of the most famous recurrence relations is the **Fibonacci sequence**:\n",
    "\n",
    "$$\n",
    "F_n=F_{n-1}+F_{n-2}, \\qquad F_0=1, F_1=1\n",
    "$$\n",
    "\n",
    "For instance, producing the sequence with a generator makes sense since the sequence is *infinite*:"
   ]
  },
  {
   "cell_type": "code",
   "execution_count": 19,
   "metadata": {},
   "outputs": [],
   "source": [
    "def fibs():\n",
    "    a,b = 0,1\n",
    "    while True:\n",
    "        yield a\n",
    "        a,b = b, a+b\n",
    "        \n",
    "fibs = fibs()"
   ]
  },
  {
   "cell_type": "markdown",
   "metadata": {},
   "source": [
    "The Fibonacci sequence is a *second-order* recurrence relation formula, since it requires two numbers behind it in order to calculate the new value.\n",
    "\n",
    "You can think of the previous example, `count()` as a *first-order* recurrence relation, where `step` parameter acts as a multiplier, and `start` acts as an additive offset:\n",
    "\n",
    "$$\n",
    "F_n=F_{n-1}+z, \\qquad F_0=c\n",
    "$$\n",
    "\n",
    "where $z$ is the step, $c$ is the start. Another example of a *first-order* recurrence relation is a constant sequence $n, n, \\dots, n$, where $n$ is a chosen value. This is achieved with the `repeat` function:"
   ]
  },
  {
   "cell_type": "code",
   "execution_count": 20,
   "metadata": {},
   "outputs": [
    {
     "data": {
      "text/plain": [
       "[1, 1, 1, 1, 1]"
      ]
     },
     "execution_count": 20,
     "metadata": {},
     "output_type": "execute_result"
    }
   ],
   "source": [
    "all_ones = it.repeat(1)\n",
    "list(next(all_ones) for _ in range(5))"
   ]
  },
  {
   "cell_type": "code",
   "execution_count": 21,
   "metadata": {},
   "outputs": [
    {
     "data": {
      "text/plain": [
       "[2, 2, 2]"
      ]
     },
     "execution_count": 21,
     "metadata": {},
     "output_type": "execute_result"
    }
   ],
   "source": [
    "list(next(it.repeat(2)) for _ in range(3))"
   ]
  },
  {
   "cell_type": "markdown",
   "metadata": {},
   "source": [
    "Alternatively the second parameter can specify the number of values to produce:"
   ]
  },
  {
   "cell_type": "code",
<<<<<<< HEAD
   "execution_count": 22,
=======
   "execution_count": 37,
>>>>>>> ac3d256233ccac1dff220a9181e2211e4ff0a14d
   "metadata": {},
   "outputs": [
    {
     "data": {
      "text/plain": [
       "[5, 5, 5, 5]"
      ]
     },
<<<<<<< HEAD
     "execution_count": 22,
=======
     "execution_count": 37,
>>>>>>> ac3d256233ccac1dff220a9181e2211e4ff0a14d
     "metadata": {},
     "output_type": "execute_result"
    }
   ],
   "source": [
    "list(it.repeat(5,4))"
   ]
  },
  {
   "cell_type": "markdown",
   "metadata": {},
   "source": [
    "Another *first-order* recurrence is a **cycle** of alternating numbers, for example $[-1,1,-1,1,\\dots]$. This is implemented with `cycle()`, given a list of elements to cycle over:"
   ]
  },
  {
   "cell_type": "code",
<<<<<<< HEAD
   "execution_count": 23,
=======
   "execution_count": 38,
>>>>>>> ac3d256233ccac1dff220a9181e2211e4ff0a14d
   "metadata": {},
   "outputs": [
    {
     "data": {
      "text/plain": [
       "[-1, 1, -1, 1, -1, 1]"
      ]
     },
<<<<<<< HEAD
     "execution_count": 23,
=======
     "execution_count": 38,
>>>>>>> ac3d256233ccac1dff220a9181e2211e4ff0a14d
     "metadata": {},
     "output_type": "execute_result"
    }
   ],
   "source": [
    "alt_ones = it.cycle([-1, 1])\n",
    "list(next(alt_ones) for _ in range(6))"
   ]
  },
  {
   "cell_type": "markdown",
   "metadata": {},
   "source": [
    "To generate an *arbitrary* first-order recurrence relation, we can use `accumulate()`. This function takes two arguments: `inputs` which is a list of values, and `func` which is a function which exactly two inputs."
   ]
  },
  {
   "cell_type": "code",
<<<<<<< HEAD
   "execution_count": 24,
=======
   "execution_count": 39,
>>>>>>> ac3d256233ccac1dff220a9181e2211e4ff0a14d
   "metadata": {},
   "outputs": [
    {
     "data": {
      "text/plain": [
       "[1, 3, 6, 10]"
      ]
     },
<<<<<<< HEAD
     "execution_count": 24,
=======
     "execution_count": 39,
>>>>>>> ac3d256233ccac1dff220a9181e2211e4ff0a14d
     "metadata": {},
     "output_type": "execute_result"
    }
   ],
   "source": [
    "import operator\n",
    "list(it.accumulate([1,2,3,4], operator.add))"
   ]
  },
  {
   "cell_type": "markdown",
   "metadata": {},
   "source": [
    "The first value returned from `accumulate()` is the first value in the input sequence. This acts similar to NumPy's `cumsum()` function, i.e the cumulative sum over the values in the array. The only difference here is that it is performed over a potentially infinite series."
   ]
  },
  {
   "cell_type": "code",
<<<<<<< HEAD
   "execution_count": 25,
=======
   "execution_count": 40,
>>>>>>> ac3d256233ccac1dff220a9181e2211e4ff0a14d
   "metadata": {},
   "outputs": [
    {
     "data": {
      "text/plain": [
       "[1, 1.0, 1.5, 3.0]"
      ]
     },
<<<<<<< HEAD
     "execution_count": 25,
=======
     "execution_count": 40,
>>>>>>> ac3d256233ccac1dff220a9181e2211e4ff0a14d
     "metadata": {},
     "output_type": "execute_result"
    }
   ],
   "source": [
    "list(it.accumulate([1,2,3,4], lambda x,y: x * y / 2))"
   ]
  },
  {
   "cell_type": "markdown",
   "metadata": {},
   "source": [
    "## A Deck of Cards: product, islice, tee\n",
    "\n",
    "Let's imagine we're building a Poker app. We need a deck of cards, so you might want to start by defining a list of ranks (King, Queen, Jack, etc), and a list of suits (hearts, diamonds, clubs, etc):"
   ]
  },
  {
   "cell_type": "code",
<<<<<<< HEAD
   "execution_count": 26,
=======
   "execution_count": 41,
>>>>>>> ac3d256233ccac1dff220a9181e2211e4ff0a14d
   "metadata": {},
   "outputs": [],
   "source": [
    "ranks = [\"2\",\"3\",\"4\",\"5\",\"6\",\"7\",\"8\",\"9\",\"10\",\"J\",\"Q\",\"K\",\"A\"]\n",
    "suits = [\"H\",\"D\",\"C\",\"S\"]"
   ]
  },
  {
   "cell_type": "markdown",
   "metadata": {},
   "source": [
    "You could represent a card as a tuple whose first element is a rank, and the second element is a suit. A deck of cards would be collection of such tuples. The deck should act like the real thing, so it makes sense to define a generator that yields cards one at a time and becomes exhausted once all the cards are dealt.\n",
    "\n",
    "One way to achieve this is to write a generator with a nested `for` loop over `ranks` and `suits`:"
   ]
  },
  {
   "cell_type": "code",
<<<<<<< HEAD
   "execution_count": 27,
=======
   "execution_count": 42,
>>>>>>> ac3d256233ccac1dff220a9181e2211e4ff0a14d
   "metadata": {},
   "outputs": [],
   "source": [
    "def cards():\n",
    "    for rank in ranks:\n",
    "        for suit in suits:\n",
    "            yield rank, suit"
   ]
  },
  {
   "cell_type": "markdown",
   "metadata": {},
   "source": [
    "Or alternatively:"
   ]
  },
  {
   "cell_type": "code",
<<<<<<< HEAD
   "execution_count": 28,
=======
   "execution_count": 43,
>>>>>>> ac3d256233ccac1dff220a9181e2211e4ff0a14d
   "metadata": {},
   "outputs": [],
   "source": [
    "cards = ((rank, suit) for rank in ranks for suit in suits)"
   ]
  },
  {
   "cell_type": "markdown",
   "metadata": {},
   "source": [
    "This acts as a **Cartesian product** of two or more iterables. In mathematics, the Cartesian product of two sets $A$ and $B$ is the set of all tuples of the form $(a,b)$ where $a$ is an element of $A$ and $b$ is an element of $B$. See below for an example with `itertools`:"
   ]
  },
  {
   "cell_type": "code",
<<<<<<< HEAD
   "execution_count": 29,
=======
   "execution_count": 44,
>>>>>>> ac3d256233ccac1dff220a9181e2211e4ff0a14d
   "metadata": {},
   "outputs": [
    {
     "data": {
      "text/plain": [
       "[(1, 'a'), (1, 'b'), (2, 'a'), (2, 'b')]"
      ]
     },
<<<<<<< HEAD
     "execution_count": 29,
=======
     "execution_count": 44,
>>>>>>> ac3d256233ccac1dff220a9181e2211e4ff0a14d
     "metadata": {},
     "output_type": "execute_result"
    }
   ],
   "source": [
    "list(it.product([1,2], [\"a\",\"b\"]))"
   ]
  },
  {
   "cell_type": "markdown",
   "metadata": {},
   "source": [
    "The `product()` function is not limited to two variables, you can pass it as many as you like - and they don't need to be of the same size!"
   ]
  },
  {
   "cell_type": "code",
<<<<<<< HEAD
   "execution_count": 30,
=======
   "execution_count": 45,
>>>>>>> ac3d256233ccac1dff220a9181e2211e4ff0a14d
   "metadata": {},
   "outputs": [
    {
     "data": {
      "text/plain": [
       "[(1, 'a', 'e'),\n",
       " (1, 'b', 'e'),\n",
       " (2, 'a', 'e'),\n",
       " (2, 'b', 'e'),\n",
       " (3, 'a', 'e'),\n",
       " (3, 'b', 'e')]"
      ]
     },
<<<<<<< HEAD
     "execution_count": 30,
=======
     "execution_count": 45,
>>>>>>> ac3d256233ccac1dff220a9181e2211e4ff0a14d
     "metadata": {},
     "output_type": "execute_result"
    }
   ],
   "source": [
    "list(it.product([1,2,3], [\"a\",\"b\"], [\"e\"]))"
   ]
  },
  {
   "cell_type": "markdown",
   "metadata": {},
   "source": [
    "**Fair Warning**: The `product()` function is another *brute force* function and can lead to combinatorial explosion."
   ]
  },
  {
   "cell_type": "code",
<<<<<<< HEAD
   "execution_count": 31,
=======
   "execution_count": 46,
>>>>>>> ac3d256233ccac1dff220a9181e2211e4ff0a14d
   "metadata": {},
   "outputs": [],
   "source": [
    "import random\n",
    "\n",
    "cards = it.product(ranks, suits)\n",
    "\n",
    "def shuffle(deck):\n",
    "    deck = list(deck)\n",
    "    random.shuffle(deck)\n",
    "    return iter(tuple(deck))\n",
    "\n",
    "cards = shuffle(cards)"
   ]
  },
  {
   "cell_type": "markdown",
   "metadata": {},
   "source": [
    "Cutting the deck is pretty important when playing poker. If you imagine the cards being neatly stacked on a table, you have the user pick a number $n$ and then remove the first $n$ cards from the top of the stack and move them to the bottom. This is known as **slicing**."
   ]
  },
  {
   "cell_type": "code",
<<<<<<< HEAD
   "execution_count": 32,
=======
   "execution_count": 47,
>>>>>>> ac3d256233ccac1dff220a9181e2211e4ff0a14d
   "metadata": {},
   "outputs": [],
   "source": [
    "def cut(deck, n):\n",
    "    if n < 0:\n",
    "        raise ValueError(\"n must be positive integer\")\n",
    "    deck = list(deck)\n",
    "    return iter(deck[n:] + deck[:n])\n",
    "\n",
    "cards = cut(cards, 26)"
   ]
  },
  {
   "cell_type": "markdown",
   "metadata": {},
   "source": [
    "The `cut()` function above is nice and simple, but it suffers from some problems; when you slice a list, you make a copy of the original list and return a new list with the selected elements. With a deck of 52 cards, this increase in space complexity is trivial, but we could reduce the memory overhead using `itertools`. To do this, we need a few functions: `tee()`, `islice()` and `chain()`.\n",
    "\n",
    "Let's explore these functions.\n",
    "\n",
    "The `tee()` function is used to create any number of independent iterators from a single iterable. It takes two arguments: list `inputs` and number `n` of independent iterators over `inputs` to return. "
   ]
  },
  {
   "cell_type": "code",
<<<<<<< HEAD
   "execution_count": 33,
=======
   "execution_count": 48,
>>>>>>> ac3d256233ccac1dff220a9181e2211e4ff0a14d
   "metadata": {},
   "outputs": [
    {
     "data": {
      "text/plain": [
       "[1, 2, 3, 4, 5]"
      ]
     },
<<<<<<< HEAD
     "execution_count": 33,
=======
     "execution_count": 48,
>>>>>>> ac3d256233ccac1dff220a9181e2211e4ff0a14d
     "metadata": {},
     "output_type": "execute_result"
    }
   ],
   "source": [
    "it1, it2 = it.tee([1,2,3,4,5], 2)\n",
    "list(it1)"
   ]
  },
  {
   "cell_type": "code",
<<<<<<< HEAD
   "execution_count": 34,
=======
   "execution_count": 49,
>>>>>>> ac3d256233ccac1dff220a9181e2211e4ff0a14d
   "metadata": {},
   "outputs": [
    {
     "data": {
      "text/plain": [
       "[]"
      ]
     },
<<<<<<< HEAD
     "execution_count": 34,
=======
     "execution_count": 49,
>>>>>>> ac3d256233ccac1dff220a9181e2211e4ff0a14d
     "metadata": {},
     "output_type": "execute_result"
    }
   ],
   "source": [
    "# list now exhausted\n",
    "list(it1)"
   ]
  },
  {
   "cell_type": "code",
<<<<<<< HEAD
   "execution_count": 35,
=======
   "execution_count": 50,
>>>>>>> ac3d256233ccac1dff220a9181e2211e4ff0a14d
   "metadata": {},
   "outputs": [
    {
     "data": {
      "text/plain": [
       "[1, 2, 3, 4, 5]"
      ]
     },
<<<<<<< HEAD
     "execution_count": 35,
=======
     "execution_count": 50,
>>>>>>> ac3d256233ccac1dff220a9181e2211e4ff0a14d
     "metadata": {},
     "output_type": "execute_result"
    }
   ],
   "source": [
    "# it2 works independently of it1\n",
    "list(it2)"
   ]
  },
  {
   "cell_type": "markdown",
   "metadata": {},
   "source": [
    "Each `tee()` works to create $n$ independent iterators, with each iterator working on it's own FIFO queue.\n",
    "\n",
    "The `islice()` function works similarly to slicing a list or tuple. You pass it an iterable, a starting and stopping point, and the slice returned stops at the index just before the stopping point. The main difference of course, is that `islice` returns an iterable:"
   ]
  },
  {
   "cell_type": "code",
<<<<<<< HEAD
   "execution_count": 36,
=======
   "execution_count": 51,
>>>>>>> ac3d256233ccac1dff220a9181e2211e4ff0a14d
   "metadata": {},
   "outputs": [
    {
     "data": {
      "text/plain": [
       "['C', 'D', 'E']"
      ]
     },
<<<<<<< HEAD
     "execution_count": 36,
=======
     "execution_count": 51,
>>>>>>> ac3d256233ccac1dff220a9181e2211e4ff0a14d
     "metadata": {},
     "output_type": "execute_result"
    }
   ],
   "source": [
    "list(it.islice(\"ABCDEFG\",2,5))"
   ]
  },
  {
   "cell_type": "code",
<<<<<<< HEAD
   "execution_count": 37,
=======
   "execution_count": 52,
>>>>>>> ac3d256233ccac1dff220a9181e2211e4ff0a14d
   "metadata": {},
   "outputs": [
    {
     "data": {
      "text/plain": [
       "[1, 3, 5]"
      ]
     },
<<<<<<< HEAD
     "execution_count": 37,
=======
     "execution_count": 52,
>>>>>>> ac3d256233ccac1dff220a9181e2211e4ff0a14d
     "metadata": {},
     "output_type": "execute_result"
    }
   ],
   "source": [
    "list(it.islice([1,2,3,4,5], 0, 5, 2))"
   ]
  },
  {
   "cell_type": "code",
<<<<<<< HEAD
   "execution_count": 38,
=======
   "execution_count": 53,
>>>>>>> ac3d256233ccac1dff220a9181e2211e4ff0a14d
   "metadata": {
    "scrolled": true
   },
   "outputs": [
    {
     "data": {
      "text/plain": [
       "[3, 4, 5, 6, 7, 8, 9]"
      ]
     },
<<<<<<< HEAD
     "execution_count": 38,
=======
     "execution_count": 53,
>>>>>>> ac3d256233ccac1dff220a9181e2211e4ff0a14d
     "metadata": {},
     "output_type": "execute_result"
    }
   ],
   "source": [
    "list(it.islice(range(10), 3, None))"
   ]
  },
  {
   "cell_type": "code",
<<<<<<< HEAD
   "execution_count": 39,
=======
   "execution_count": 54,
>>>>>>> ac3d256233ccac1dff220a9181e2211e4ff0a14d
   "metadata": {},
   "outputs": [
    {
     "data": {
      "text/plain": [
       "['A', 'B', 'C', 'D']"
      ]
     },
<<<<<<< HEAD
     "execution_count": 39,
=======
     "execution_count": 54,
>>>>>>> ac3d256233ccac1dff220a9181e2211e4ff0a14d
     "metadata": {},
     "output_type": "execute_result"
    }
   ],
   "source": [
    "list(it.islice(\"ABCDE\", 4))"
   ]
  },
  {
   "cell_type": "markdown",
   "metadata": {},
   "source": [
    "The last two functions are useful for truncating iterables. You can use this to replace the list slicing used in `cut()` to select the top and bottom of the deck. As an added bonus, `islice()` doesn't accept negative indices for positions, so no bounding checks are necessary.\n",
    "\n",
    "The last function needed is `chain()`, this is very simple in that it concatenates iterables together. For example:"
   ]
  },
  {
   "cell_type": "code",
<<<<<<< HEAD
   "execution_count": 40,
=======
   "execution_count": 55,
>>>>>>> ac3d256233ccac1dff220a9181e2211e4ff0a14d
   "metadata": {},
   "outputs": [
    {
     "data": {
      "text/plain": [
       "['A', 'B', 'C', 'D', 'E', 'F']"
      ]
     },
<<<<<<< HEAD
     "execution_count": 40,
=======
     "execution_count": 55,
>>>>>>> ac3d256233ccac1dff220a9181e2211e4ff0a14d
     "metadata": {},
     "output_type": "execute_result"
    }
   ],
   "source": [
    "list(it.chain(\"ABC\",\"DEF\"))"
   ]
  },
  {
   "cell_type": "code",
<<<<<<< HEAD
   "execution_count": 41,
=======
   "execution_count": 56,
>>>>>>> ac3d256233ccac1dff220a9181e2211e4ff0a14d
   "metadata": {},
   "outputs": [
    {
     "data": {
      "text/plain": [
       "[1, 2, 3, 4, 5, 6, 7, 8, 9]"
      ]
     },
<<<<<<< HEAD
     "execution_count": 41,
=======
     "execution_count": 56,
>>>>>>> ac3d256233ccac1dff220a9181e2211e4ff0a14d
     "metadata": {},
     "output_type": "execute_result"
    }
   ],
   "source": [
    "list(it.chain([1,2], [3,4,5], [6,7,8,9]))"
   ]
  },
  {
   "cell_type": "markdown",
   "metadata": {},
   "source": [
    "## Flattening A List of Lists\n",
    "\n",
    "As a nice addendum to `chain()`, it is trivial to flatten lists using `from_iterable()` class method from `chain`. Since the elements of the iterable must themselves be iterable, the net effect is flattening:"
   ]
  },
  {
   "cell_type": "code",
<<<<<<< HEAD
   "execution_count": 42,
=======
   "execution_count": 57,
>>>>>>> ac3d256233ccac1dff220a9181e2211e4ff0a14d
   "metadata": {
    "scrolled": true
   },
   "outputs": [
    {
     "data": {
      "text/plain": [
       "[1, 2, 3, 4, 5, 6]"
      ]
     },
<<<<<<< HEAD
     "execution_count": 42,
=======
     "execution_count": 57,
>>>>>>> ac3d256233ccac1dff220a9181e2211e4ff0a14d
     "metadata": {},
     "output_type": "execute_result"
    }
   ],
   "source": [
    "list(it.chain.from_iterable([[1,2,3],[4,5,6]]))"
   ]
  },
  {
   "cell_type": "markdown",
   "metadata": {},
   "source": [
    "This rule applies to any infinite series, such that you could emulate the behavior of `cycle()`, for instance:"
   ]
  },
  {
   "cell_type": "code",
<<<<<<< HEAD
   "execution_count": 43,
=======
   "execution_count": 58,
>>>>>>> ac3d256233ccac1dff220a9181e2211e4ff0a14d
   "metadata": {},
   "outputs": [
    {
     "data": {
      "text/plain": [
       "['a', 'b', 'c', 'a', 'b', 'c', 'a', 'b']"
      ]
     },
<<<<<<< HEAD
     "execution_count": 43,
=======
     "execution_count": 58,
>>>>>>> ac3d256233ccac1dff220a9181e2211e4ff0a14d
     "metadata": {},
     "output_type": "execute_result"
    }
   ],
   "source": [
    "cyc = it.chain.from_iterable(it.repeat(\"abc\"))\n",
    "list(it.islice(cyc, 8))"
   ]
  },
  {
   "cell_type": "markdown",
   "metadata": {},
   "source": [
    "This is very useful when you need to build an iterator over data that has been 'chunked'."
   ]
  },
  {
   "cell_type": "markdown",
   "metadata": {},
   "source": [
    "# Tasks\n",
    "\n",
    "## Task 1\n",
    "\n",
    "Write a generic first-order recurrence function `first_order` that accepts three arguments: `p`, `q` and `initial_val`, and returns a sequence defined as:\n",
    "\n",
    "$$\n",
    "F_n=pF_{n-1}+q\n",
    "$$\n",
    "\n",
    "using `itertools` functions that you know. Test your function on previous first-order recurrence examples above:"
   ]
  },
  {
   "cell_type": "code",
<<<<<<< HEAD
   "execution_count": 44,
=======
   "execution_count": 59,
>>>>>>> ac3d256233ccac1dff220a9181e2211e4ff0a14d
   "metadata": {},
   "outputs": [],
   "source": [
    "# your codes here\n",
    "def first_order(p, q, initial_val):\n",
    "    return it.accumulate(it.repeat(initial_val), lambda s,_: p*s+q)"
   ]
  },
  {
   "cell_type": "markdown",
   "metadata": {},
   "source": [
    "## Task 2\n",
    "\n",
    "Write a generic second-order recurrence function `second_order` that accepts four arguments: `p`, `q`, `r` and `initial_values`, and returns a sequence defined as:\n",
    "\n",
    "$$\n",
    "F_n=pF_{n-1}+qF_{n-2}+r\n",
    "$$\n",
    "\n",
    "using `itertools` functions and built-in Python methods. Test your function as the Fibonacci sequence."
   ]
  },
  {
   "cell_type": "code",
<<<<<<< HEAD
   "execution_count": 45,
=======
   "execution_count": 60,
>>>>>>> ac3d256233ccac1dff220a9181e2211e4ff0a14d
   "metadata": {},
   "outputs": [],
   "source": [
    "# your codes here\n",
    "def second_order(p, q, r, initial_values):\n",
    "    intermediate = it.accumulate(it.repeat(initial_values), lambda s,_: (s[1], p*s[1] + q*s[0] + r))\n",
    "    return map(lambda x: x[0], intermediate)"
   ]
  },
  {
   "cell_type": "markdown",
<<<<<<< HEAD
   "metadata": {},
   "source": [
    "## Task 3\n",
    "\n",
    "In genetics, the human genome template is composed of four chemical groups that act as an alphabet encoding the information of life; they are Adenine (A), Guanine (G), Cytosine (C) and Thymine (T). Produce every single combination (with repeats) of every 'triplet' of bases. How many combinations are there?"
   ]
  },
  {
   "cell_type": "code",
   "execution_count": 46,
   "metadata": {},
   "outputs": [
    {
     "data": {
      "text/plain": [
       "<itertools.combinations_with_replacement at 0x111d81228>"
      ]
     },
     "execution_count": 46,
     "metadata": {},
     "output_type": "execute_result"
    }
   ],
   "source": [
    "bases = ['A', 'C', 'G', 'T']\n",
    "it.combinations_with_replacement(bases, 3)"
   ]
  },
  {
   "cell_type": "markdown",
   "metadata": {},
   "source": [
    "## Task 4\n",
    "\n",
    "Create a standard deck of 52 playing cards using the lists above. \n",
    "\n",
    "In a game of **Hearts**, the Black Widow (i.e the Queen of Spades) is a special card that can be used against your enemies to incur them many points (the aim is not to accumulate points). \n",
    "\n",
    "Out of all the possible options, what is the chance of gaining **two heart cards** in addition to the Black Widow if each player draws 7 cards. Remember that once a card is drawn, it is not replaced."
   ]
  },
  {
   "cell_type": "code",
   "execution_count": 62,
   "metadata": {},
   "outputs": [],
   "source": [
    "deck = [''.join(a) for a in it.product(suits,ranks)]"
   ]
  },
  {
   "cell_type": "code",
   "execution_count": 73,
   "metadata": {},
   "outputs": [
    {
     "data": {
      "text/plain": [
       "[('H2', 'H3', 'H4'),\n",
       " ('H2', 'H3', 'H5'),\n",
       " ('H2', 'H3', 'H6'),\n",
       " ('H2', 'H3', 'H7'),\n",
       " ('H2', 'H3', 'H8'),\n",
       " ('H2', 'H3', 'H9'),\n",
       " ('H2', 'H3', 'H10'),\n",
       " ('H2', 'H3', 'HJ'),\n",
       " ('H2', 'H3', 'HQ'),\n",
       " ('H2', 'H3', 'HK'),\n",
       " ('H2', 'H3', 'HA'),\n",
       " ('H2', 'H4', 'H5'),\n",
       " ('H2', 'H4', 'H6'),\n",
       " ('H2', 'H4', 'H7'),\n",
       " ('H2', 'H4', 'H8'),\n",
       " ('H2', 'H4', 'H9'),\n",
       " ('H2', 'H4', 'H10'),\n",
       " ('H2', 'H4', 'HJ'),\n",
       " ('H2', 'H4', 'HQ'),\n",
       " ('H2', 'H4', 'HK'),\n",
       " ('H2', 'H4', 'HA'),\n",
       " ('H2', 'H5', 'H6'),\n",
       " ('H2', 'H5', 'H7'),\n",
       " ('H2', 'H5', 'H8'),\n",
       " ('H2', 'H5', 'H9'),\n",
       " ('H2', 'H5', 'H10'),\n",
       " ('H2', 'H5', 'HJ'),\n",
       " ('H2', 'H5', 'HQ'),\n",
       " ('H2', 'H5', 'HK'),\n",
       " ('H2', 'H5', 'HA'),\n",
       " ('H2', 'H6', 'H7'),\n",
       " ('H2', 'H6', 'H8'),\n",
       " ('H2', 'H6', 'H9'),\n",
       " ('H2', 'H6', 'H10'),\n",
       " ('H2', 'H6', 'HJ'),\n",
       " ('H2', 'H6', 'HQ'),\n",
       " ('H2', 'H6', 'HK'),\n",
       " ('H2', 'H6', 'HA'),\n",
       " ('H2', 'H7', 'H8'),\n",
       " ('H2', 'H7', 'H9'),\n",
       " ('H2', 'H7', 'H10'),\n",
       " ('H2', 'H7', 'HJ'),\n",
       " ('H2', 'H7', 'HQ'),\n",
       " ('H2', 'H7', 'HK'),\n",
       " ('H2', 'H7', 'HA'),\n",
       " ('H2', 'H8', 'H9'),\n",
       " ('H2', 'H8', 'H10'),\n",
       " ('H2', 'H8', 'HJ'),\n",
       " ('H2', 'H8', 'HQ'),\n",
       " ('H2', 'H8', 'HK'),\n",
       " ('H2', 'H8', 'HA'),\n",
       " ('H2', 'H9', 'H10'),\n",
       " ('H2', 'H9', 'HJ'),\n",
       " ('H2', 'H9', 'HQ'),\n",
       " ('H2', 'H9', 'HK'),\n",
       " ('H2', 'H9', 'HA'),\n",
       " ('H2', 'H10', 'HJ'),\n",
       " ('H2', 'H10', 'HQ'),\n",
       " ('H2', 'H10', 'HK'),\n",
       " ('H2', 'H10', 'HA'),\n",
       " ('H2', 'HJ', 'HQ'),\n",
       " ('H2', 'HJ', 'HK'),\n",
       " ('H2', 'HJ', 'HA'),\n",
       " ('H2', 'HQ', 'HK'),\n",
       " ('H2', 'HQ', 'HA'),\n",
       " ('H2', 'HK', 'HA'),\n",
       " ('H3', 'H4', 'H5'),\n",
       " ('H3', 'H4', 'H6'),\n",
       " ('H3', 'H4', 'H7'),\n",
       " ('H3', 'H4', 'H8'),\n",
       " ('H3', 'H4', 'H9'),\n",
       " ('H3', 'H4', 'H10'),\n",
       " ('H3', 'H4', 'HJ'),\n",
       " ('H3', 'H4', 'HQ'),\n",
       " ('H3', 'H4', 'HK'),\n",
       " ('H3', 'H4', 'HA'),\n",
       " ('H3', 'H5', 'H6'),\n",
       " ('H3', 'H5', 'H7'),\n",
       " ('H3', 'H5', 'H8'),\n",
       " ('H3', 'H5', 'H9'),\n",
       " ('H3', 'H5', 'H10'),\n",
       " ('H3', 'H5', 'HJ'),\n",
       " ('H3', 'H5', 'HQ'),\n",
       " ('H3', 'H5', 'HK'),\n",
       " ('H3', 'H5', 'HA'),\n",
       " ('H3', 'H6', 'H7'),\n",
       " ('H3', 'H6', 'H8'),\n",
       " ('H3', 'H6', 'H9'),\n",
       " ('H3', 'H6', 'H10'),\n",
       " ('H3', 'H6', 'HJ'),\n",
       " ('H3', 'H6', 'HQ'),\n",
       " ('H3', 'H6', 'HK'),\n",
       " ('H3', 'H6', 'HA'),\n",
       " ('H3', 'H7', 'H8'),\n",
       " ('H3', 'H7', 'H9'),\n",
       " ('H3', 'H7', 'H10'),\n",
       " ('H3', 'H7', 'HJ'),\n",
       " ('H3', 'H7', 'HQ'),\n",
       " ('H3', 'H7', 'HK'),\n",
       " ('H3', 'H7', 'HA'),\n",
       " ('H3', 'H8', 'H9'),\n",
       " ('H3', 'H8', 'H10'),\n",
       " ('H3', 'H8', 'HJ'),\n",
       " ('H3', 'H8', 'HQ'),\n",
       " ('H3', 'H8', 'HK'),\n",
       " ('H3', 'H8', 'HA'),\n",
       " ('H3', 'H9', 'H10'),\n",
       " ('H3', 'H9', 'HJ'),\n",
       " ('H3', 'H9', 'HQ'),\n",
       " ('H3', 'H9', 'HK'),\n",
       " ('H3', 'H9', 'HA'),\n",
       " ('H3', 'H10', 'HJ'),\n",
       " ('H3', 'H10', 'HQ'),\n",
       " ('H3', 'H10', 'HK'),\n",
       " ('H3', 'H10', 'HA'),\n",
       " ('H3', 'HJ', 'HQ'),\n",
       " ('H3', 'HJ', 'HK'),\n",
       " ('H3', 'HJ', 'HA'),\n",
       " ('H3', 'HQ', 'HK'),\n",
       " ('H3', 'HQ', 'HA'),\n",
       " ('H3', 'HK', 'HA'),\n",
       " ('H4', 'H5', 'H6'),\n",
       " ('H4', 'H5', 'H7'),\n",
       " ('H4', 'H5', 'H8'),\n",
       " ('H4', 'H5', 'H9'),\n",
       " ('H4', 'H5', 'H10'),\n",
       " ('H4', 'H5', 'HJ'),\n",
       " ('H4', 'H5', 'HQ'),\n",
       " ('H4', 'H5', 'HK'),\n",
       " ('H4', 'H5', 'HA'),\n",
       " ('H4', 'H6', 'H7'),\n",
       " ('H4', 'H6', 'H8'),\n",
       " ('H4', 'H6', 'H9'),\n",
       " ('H4', 'H6', 'H10'),\n",
       " ('H4', 'H6', 'HJ'),\n",
       " ('H4', 'H6', 'HQ'),\n",
       " ('H4', 'H6', 'HK'),\n",
       " ('H4', 'H6', 'HA'),\n",
       " ('H4', 'H7', 'H8'),\n",
       " ('H4', 'H7', 'H9'),\n",
       " ('H4', 'H7', 'H10'),\n",
       " ('H4', 'H7', 'HJ'),\n",
       " ('H4', 'H7', 'HQ'),\n",
       " ('H4', 'H7', 'HK'),\n",
       " ('H4', 'H7', 'HA'),\n",
       " ('H4', 'H8', 'H9'),\n",
       " ('H4', 'H8', 'H10'),\n",
       " ('H4', 'H8', 'HJ'),\n",
       " ('H4', 'H8', 'HQ'),\n",
       " ('H4', 'H8', 'HK'),\n",
       " ('H4', 'H8', 'HA'),\n",
       " ('H4', 'H9', 'H10'),\n",
       " ('H4', 'H9', 'HJ'),\n",
       " ('H4', 'H9', 'HQ'),\n",
       " ('H4', 'H9', 'HK'),\n",
       " ('H4', 'H9', 'HA'),\n",
       " ('H4', 'H10', 'HJ'),\n",
       " ('H4', 'H10', 'HQ'),\n",
       " ('H4', 'H10', 'HK'),\n",
       " ('H4', 'H10', 'HA'),\n",
       " ('H4', 'HJ', 'HQ'),\n",
       " ('H4', 'HJ', 'HK'),\n",
       " ('H4', 'HJ', 'HA'),\n",
       " ('H4', 'HQ', 'HK'),\n",
       " ('H4', 'HQ', 'HA'),\n",
       " ('H4', 'HK', 'HA'),\n",
       " ('H5', 'H6', 'H7'),\n",
       " ('H5', 'H6', 'H8'),\n",
       " ('H5', 'H6', 'H9'),\n",
       " ('H5', 'H6', 'H10'),\n",
       " ('H5', 'H6', 'HJ'),\n",
       " ('H5', 'H6', 'HQ'),\n",
       " ('H5', 'H6', 'HK'),\n",
       " ('H5', 'H6', 'HA'),\n",
       " ('H5', 'H7', 'H8'),\n",
       " ('H5', 'H7', 'H9'),\n",
       " ('H5', 'H7', 'H10'),\n",
       " ('H5', 'H7', 'HJ'),\n",
       " ('H5', 'H7', 'HQ'),\n",
       " ('H5', 'H7', 'HK'),\n",
       " ('H5', 'H7', 'HA'),\n",
       " ('H5', 'H8', 'H9'),\n",
       " ('H5', 'H8', 'H10'),\n",
       " ('H5', 'H8', 'HJ'),\n",
       " ('H5', 'H8', 'HQ'),\n",
       " ('H5', 'H8', 'HK'),\n",
       " ('H5', 'H8', 'HA'),\n",
       " ('H5', 'H9', 'H10'),\n",
       " ('H5', 'H9', 'HJ'),\n",
       " ('H5', 'H9', 'HQ'),\n",
       " ('H5', 'H9', 'HK'),\n",
       " ('H5', 'H9', 'HA'),\n",
       " ('H5', 'H10', 'HJ'),\n",
       " ('H5', 'H10', 'HQ'),\n",
       " ('H5', 'H10', 'HK'),\n",
       " ('H5', 'H10', 'HA'),\n",
       " ('H5', 'HJ', 'HQ'),\n",
       " ('H5', 'HJ', 'HK'),\n",
       " ('H5', 'HJ', 'HA'),\n",
       " ('H5', 'HQ', 'HK'),\n",
       " ('H5', 'HQ', 'HA'),\n",
       " ('H5', 'HK', 'HA'),\n",
       " ('H6', 'H7', 'H8'),\n",
       " ('H6', 'H7', 'H9'),\n",
       " ('H6', 'H7', 'H10'),\n",
       " ('H6', 'H7', 'HJ'),\n",
       " ('H6', 'H7', 'HQ'),\n",
       " ('H6', 'H7', 'HK'),\n",
       " ('H6', 'H7', 'HA'),\n",
       " ('H6', 'H8', 'H9'),\n",
       " ('H6', 'H8', 'H10'),\n",
       " ('H6', 'H8', 'HJ'),\n",
       " ('H6', 'H8', 'HQ'),\n",
       " ('H6', 'H8', 'HK'),\n",
       " ('H6', 'H8', 'HA'),\n",
       " ('H6', 'H9', 'H10'),\n",
       " ('H6', 'H9', 'HJ'),\n",
       " ('H6', 'H9', 'HQ'),\n",
       " ('H6', 'H9', 'HK'),\n",
       " ('H6', 'H9', 'HA'),\n",
       " ('H6', 'H10', 'HJ'),\n",
       " ('H6', 'H10', 'HQ'),\n",
       " ('H6', 'H10', 'HK'),\n",
       " ('H6', 'H10', 'HA'),\n",
       " ('H6', 'HJ', 'HQ'),\n",
       " ('H6', 'HJ', 'HK'),\n",
       " ('H6', 'HJ', 'HA'),\n",
       " ('H6', 'HQ', 'HK'),\n",
       " ('H6', 'HQ', 'HA'),\n",
       " ('H6', 'HK', 'HA'),\n",
       " ('H7', 'H8', 'H9'),\n",
       " ('H7', 'H8', 'H10'),\n",
       " ('H7', 'H8', 'HJ'),\n",
       " ('H7', 'H8', 'HQ'),\n",
       " ('H7', 'H8', 'HK'),\n",
       " ('H7', 'H8', 'HA'),\n",
       " ('H7', 'H9', 'H10'),\n",
       " ('H7', 'H9', 'HJ'),\n",
       " ('H7', 'H9', 'HQ'),\n",
       " ('H7', 'H9', 'HK'),\n",
       " ('H7', 'H9', 'HA'),\n",
       " ('H7', 'H10', 'HJ'),\n",
       " ('H7', 'H10', 'HQ'),\n",
       " ('H7', 'H10', 'HK'),\n",
       " ('H7', 'H10', 'HA'),\n",
       " ('H7', 'HJ', 'HQ'),\n",
       " ('H7', 'HJ', 'HK'),\n",
       " ('H7', 'HJ', 'HA'),\n",
       " ('H7', 'HQ', 'HK'),\n",
       " ('H7', 'HQ', 'HA'),\n",
       " ('H7', 'HK', 'HA'),\n",
       " ('H8', 'H9', 'H10'),\n",
       " ('H8', 'H9', 'HJ'),\n",
       " ('H8', 'H9', 'HQ'),\n",
       " ('H8', 'H9', 'HK'),\n",
       " ('H8', 'H9', 'HA'),\n",
       " ('H8', 'H10', 'HJ'),\n",
       " ('H8', 'H10', 'HQ'),\n",
       " ('H8', 'H10', 'HK'),\n",
       " ('H8', 'H10', 'HA'),\n",
       " ('H8', 'HJ', 'HQ'),\n",
       " ('H8', 'HJ', 'HK'),\n",
       " ('H8', 'HJ', 'HA'),\n",
       " ('H8', 'HQ', 'HK'),\n",
       " ('H8', 'HQ', 'HA'),\n",
       " ('H8', 'HK', 'HA'),\n",
       " ('H9', 'H10', 'HJ'),\n",
       " ('H9', 'H10', 'HQ'),\n",
       " ('H9', 'H10', 'HK'),\n",
       " ('H9', 'H10', 'HA'),\n",
       " ('H9', 'HJ', 'HQ'),\n",
       " ('H9', 'HJ', 'HK'),\n",
       " ('H9', 'HJ', 'HA'),\n",
       " ('H9', 'HQ', 'HK'),\n",
       " ('H9', 'HQ', 'HA'),\n",
       " ('H9', 'HK', 'HA'),\n",
       " ('H10', 'HJ', 'HQ'),\n",
       " ('H10', 'HJ', 'HK'),\n",
       " ('H10', 'HJ', 'HA'),\n",
       " ('H10', 'HQ', 'HK'),\n",
       " ('H10', 'HQ', 'HA'),\n",
       " ('H10', 'HK', 'HA'),\n",
       " ('HJ', 'HQ', 'HK'),\n",
       " ('HJ', 'HQ', 'HA'),\n",
       " ('HJ', 'HK', 'HA'),\n",
       " ('HQ', 'HK', 'HA')]"
      ]
     },
     "execution_count": 73,
     "metadata": {},
     "output_type": "execute_result"
    }
   ],
   "source": [
    "[comb for comb in it.combinations(deck, 3) if 'H' in comb[0] and 'H' in comb[1] and 'H' in comb[2]]"
   ]
  },
  {
   "cell_type": "code",
   "execution_count": null,
   "metadata": {},
   "outputs": [],
   "source": []
  },
  {
   "cell_type": "code",
   "execution_count": null,
   "metadata": {},
   "outputs": [],
   "source": []
  },
  {
   "cell_type": "code",
   "execution_count": null,
   "metadata": {},
   "outputs": [],
   "source": []
  },
  {
   "cell_type": "code",
   "execution_count": null,
=======
>>>>>>> ac3d256233ccac1dff220a9181e2211e4ff0a14d
   "metadata": {},
   "source": [
    "## Task 3\n",
    "\n",
    "Using the deck of cards example, and using `itertools`, out of all the combinations available, what proportion include drawing the Queen of Spades (QS) **and** at least 3 hearts in a 7-card draw. Assume you're the only player in this game, duplicate cards not allowed."
   ]
  },
  {
   "cell_type": "code",
   "execution_count": 155,
   "metadata": {},
   "outputs": [],
   "source": [
    "count_prop = len(list(it.filterfalse(lambda x: list(it.chain.from_iterable(x)).count(\"H\") < 2,\n",
    "                                     it.filterfalse(lambda x: (\"Q\",\"S\") not in x, it.combinations(it.product(ranks,suits), 7)))))\n",
    "\n",
    "# we use sympy to avoid floating-point precision\n",
    "from sympy import factorial\n",
    "# using formula nCr = n! / r! * (n - r)! where n is the number of cards (deck size), r is the combination parameterm i,e 52 and 7\n",
    "total_combs = lambda n, r: factorial(n) / factorial(r) * factorial(n - r)\n",
    "total = total_combs(52, 7).evalf(20)\n",
    "# print\n",
    "count_prop / total"
   ]
  },
  {
   "cell_type": "markdown",
   "metadata": {},
   "source": [
    "## Task 4\n",
    "\n",
    "Write a function `frange`, which takes three arguments: `start`, `stop` and `increment`, and returns a range of floating point numbers between start and stop. Test this function using `next`."
   ]
  },
  {
   "cell_type": "code",
   "execution_count": 183,
   "metadata": {},
   "outputs": [
    {
     "data": {
      "text/plain": [
       "[0, 0.5, 1.0, 1.5, 2.0, 2.5, 3.0, 3.5, 4.0, 4.5]"
      ]
     },
     "execution_count": 183,
     "metadata": {},
     "output_type": "execute_result"
    }
   ],
   "source": [
    "def frange(start, stop, increment):\n",
    "    x = start\n",
    "    while x < stop:\n",
    "        yield x\n",
    "        x += increment\n",
    "        \n",
    "list(frange(0, 5, .5))"
   ]
  }
 ],
 "metadata": {
  "kernelspec": {
   "display_name": "Python [default]",
   "language": "python",
   "name": "python3"
  },
  "language_info": {
   "codemirror_mode": {
    "name": "ipython",
    "version": 3
   },
   "file_extension": ".py",
   "mimetype": "text/x-python",
   "name": "python",
   "nbconvert_exporter": "python",
   "pygments_lexer": "ipython3",
<<<<<<< HEAD
   "version": "3.5.6"
=======
   "version": "3.7.0"
>>>>>>> ac3d256233ccac1dff220a9181e2211e4ff0a14d
  }
 },
 "nbformat": 4,
 "nbformat_minor": 2
}
