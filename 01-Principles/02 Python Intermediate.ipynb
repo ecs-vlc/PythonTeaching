{
 "cells": [
  {
   "cell_type": "markdown",
   "metadata": {},
   "source": [
    "# Intermediate Python\n",
    "\n",
    "Now we have unpacked many of the basic features of Python, we will go into some of the more interesting features of Python at the intermediatory stage.\n",
    "\n",
    "## Sets\n",
    "\n",
    "Sets are part of *Set Theory* whereby it lies as a gathering together of distinct/unique objects. Sets are traditionally **unordered** and contain immutable, unique objects of any data type.\n",
    "\n",
    "If we want to create a set, we can call the built-in set function with a sequence or another iterable object:\n",
    "\n",
    "In the following example, a string is singularized into its characters to build the resulting set x: "
   ]
  },
  {
   "cell_type": "code",
   "execution_count": null,
   "metadata": {
    "scrolled": true
   },
   "outputs": [],
   "source": [
    "x = set(\"A Python Tutorial\")\n",
    "x"
   ]
  },
  {
   "cell_type": "markdown",
   "metadata": {},
   "source": [
    "Here it has broken down our string into characters and extracted the unique characters in the string. We can pass a list to the built-in set function, as we can see in the following: "
   ]
  },
  {
   "cell_type": "code",
   "execution_count": null,
   "metadata": {},
   "outputs": [],
   "source": [
    "x = set([\"Perl\", \"Python\", \"Java\"])\n",
    "x"
   ]
  },
  {
   "cell_type": "markdown",
   "metadata": {},
   "source": [
    "Now, we want to show what happens, if we pass a tuple with reappearing elements to the set function - in our example the city \"Paris\": "
   ]
  },
  {
   "cell_type": "code",
   "execution_count": null,
   "metadata": {},
   "outputs": [],
   "source": [
    "cities = set((\"Paris\", \"Lyon\", \"London\",\"Berlin\",\"Paris\",\"Birmingham\"))\n",
    "cities"
   ]
  },
  {
   "cell_type": "markdown",
   "metadata": {},
   "source": [
    "This has of course, removed any duplicates."
   ]
  },
  {
   "cell_type": "markdown",
   "metadata": {},
   "source": [
    "### Set Operations\n",
    "\n",
    "Although Sets contain objects that are *immutable*, they themselves are *mutable*:"
   ]
  },
  {
   "cell_type": "code",
   "execution_count": null,
   "metadata": {},
   "outputs": [],
   "source": [
    "cities.add(\"Stuttgart\")\n",
    "cities"
   ]
  },
  {
   "cell_type": "code",
   "execution_count": null,
   "metadata": {},
   "outputs": [],
   "source": [
    "second_cities = set((\"Hong Kong\", \"Lyon\", \"Tokyo\", \"Paris\", \"Dubai\"))"
   ]
  },
  {
   "cell_type": "markdown",
   "metadata": {},
   "source": [
    "We can return the *difference* of two or more sets as a new set:"
   ]
  },
  {
   "cell_type": "code",
   "execution_count": null,
   "metadata": {},
   "outputs": [],
   "source": [
    "cities.difference(second_cities)\n",
    "# can be abbrievated with - subtract\n",
    "cities - second_cities"
   ]
  },
  {
   "cell_type": "markdown",
   "metadata": {},
   "source": [
    "Or return the *union* between two sets, i.e all the elements that are in **either** set:"
   ]
  },
  {
   "cell_type": "code",
   "execution_count": null,
   "metadata": {},
   "outputs": [],
   "source": [
    "cities.union(second_cities)\n",
    "# can be abbrievated with pipe |\n",
    "cities | second_cities"
   ]
  },
  {
   "cell_type": "markdown",
   "metadata": {},
   "source": [
    "Or return the *intersection* between two sets, i.e all the elements that are in **both** sets:"
   ]
  },
  {
   "cell_type": "code",
   "execution_count": null,
   "metadata": {},
   "outputs": [],
   "source": [
    "cities.intersection(second_cities)\n",
    "# can be abbrieviated with &\n",
    "cities & second_cities"
   ]
  },
  {
   "cell_type": "markdown",
   "metadata": {},
   "source": [
    "## List Comprehensions\n",
    "\n",
    "List comprehensions provide a concise way to create lists. \n",
    "\n",
    "It consists of brackets containing an expression followed by a for clause, then\n",
    "zero or more for or if clauses. The expressions can be anything, meaning you can\n",
    "put in all kinds of objects in lists.\n",
    "\n",
    "The result will be a new list resulting from evaluating the expression in the\n",
    "context of the for and if clauses which follow it. \n",
    "\n",
    "The list comprehension always returns a result list. \n",
    "\n",
    "If you used to do it like this:"
   ]
  },
  {
   "cell_type": "code",
   "execution_count": null,
   "metadata": {},
   "outputs": [],
   "source": [
    "old_list = [\"apples\", \"oranges\", \"grapes\"]\n",
    "\n",
    "new_list = []\n",
    "for i in old_list:\n",
    "    new_list.append((i))"
   ]
  },
  {
   "cell_type": "markdown",
   "metadata": {},
   "source": [
    "You can obtain the same thing using list comprehension:"
   ]
  },
  {
   "cell_type": "code",
   "execution_count": null,
   "metadata": {},
   "outputs": [],
   "source": [
    "new_list = [i for i in old_list]\n",
    "new_list"
   ]
  },
  {
   "cell_type": "markdown",
   "metadata": {},
   "source": [
    "The list comprehension can include conditionals at the end, such as:\n",
    "\n",
    "    [expression for item in list if conditional]\n",
    "\n",
    "or\n",
    "\n",
    "    for item in list:\n",
    "        if conditional:\n",
    "            expression"
   ]
  },
  {
   "cell_type": "code",
   "execution_count": null,
   "metadata": {},
   "outputs": [],
   "source": [
    "new_list = [i for i in old_list if i == \"apples\"]\n",
    "new_list"
   ]
  },
  {
   "cell_type": "code",
   "execution_count": null,
   "metadata": {},
   "outputs": [],
   "source": [
    "def square(x):\n",
    "    return x**2\n",
    "\n",
    "squares = [square(x) for x in range(10)]\n",
    "squares"
   ]
  },
  {
   "cell_type": "markdown",
   "metadata": {},
   "source": [
    "Or alternatively a list of words:"
   ]
  },
  {
   "cell_type": "code",
   "execution_count": null,
   "metadata": {},
   "outputs": [],
   "source": [
    "listOfWords = [\"this\",\"is\",\"a\",\"list\",\"of\",\"words\"]\n",
    "items = [word[0] for word in listOfWords ]\n",
    "items"
   ]
  },
  {
   "cell_type": "markdown",
   "metadata": {},
   "source": [
    "## Reading and Writing Files\n",
    "\n",
    "\n",
    "When you’re working with Python, you don’t need to import a library in order to read and write files. It’s handled natively in the language, albeit in a unique manner.\n",
    "\n",
    "The first thing you’ll need to do is use Python’s built-in open function to get a file object.\n",
    "\n",
    "The open function opens a file. It’s simple.\n",
    "\n",
    "When you use the open function, it returns something called a file object. File objects contain methods and attributes that can be used to collect information about the file you opened. They can also be used to manipulate said file.\n",
    "\n",
    "For example, the mode attribute of a file object tells you which mode a file was opened in. And the name attribute tells you the name of the file that the file object has opened.\n",
    "\n",
    "You must understand that a _file_ and _file object_ are two wholly separate – yet related – things. \n",
    "\n",
    "### File Types\n",
    "\n",
    "What you may know as a file is slightly different in Python. \n",
    "\n",
    "In Windows, for example, a file can be any item manipulated, edited or created by the user/OS. That means files can be images, text documents, executables, and much more. Most files are organized by keeping them in individual folders. \n",
    "\n",
    "In Python, a file is categorized as either **text** or **binary**, and the difference between the two file types is important. \n",
    "\n",
    "Text files are structured as a sequence of lines, where each line includes a sequence of characters. This is what you know as code or syntax. \n",
    "\n",
    "Each line is terminated with a special character, called the EOL or End of Line character. There are several types, but the most common is the comma {,} or newline character. It ends the current line and tells the interpreter a new one has begun. \n",
    "\n",
    "A backslash character can also be used, and it tells the interpreter that the next character – following the slash – should be treated as a new line. This character is useful when you don’t want to start a new line in the text itself but in the code. \n",
    "\n",
    "### Open() function\n",
    "\n",
    "This works as follows:\n",
    "\n",
    "    file_object = open(filename, mode)\n",
    "    \n",
    "Where the second argument you see, **mode**, informs the interpreter and developer which way the file will be used.\n",
    "\n",
    "The available modes are:\n",
    "\n",
    "- **r**: Read mode which is used when the file is only being read.\n",
    "- **w**: Write mode which is used to edit and write new information into the file\n",
    "- **a**: Appending mode, which is used to add new data to the end of the file.\n",
    "- **r+**: Special read and write mode, which is used to handle both actiosn when working with a file\n",
    "\n",
    "Every `open()` should be matched with a `close()`, this allows Python to close the file handle and potentially allow other processes to access it.\n",
    "\n",
    "Let's look at some examples:"
   ]
  },
  {
   "cell_type": "code",
   "execution_count": null,
   "metadata": {},
   "outputs": [],
   "source": [
    "F = open(\"writing.txt\", \"w\")\n",
    "F"
   ]
  },
  {
   "cell_type": "markdown",
   "metadata": {},
   "source": [
    "This snippet opens the file named “writing” in writing mode so that we can make changes to it. The current information stored within the file is also displayed – or printed – for us to view. \n",
    "\n",
    "Once this has been done, you can move on to call the objects functions. The two most common functions are read and write.\n",
    "\n",
    "### Creating a text file\n",
    "\n",
    "To get more familiar with text files in Python, let’s create our own and do some additional exercises. \n",
    "\n",
    "Using a simple text editor, let’s create a file. You can name it anything you like, and it’s better to use something you’ll identify with. \n",
    "\n",
    "For the purpose of this tutorial, however, we are going to call it “testfile.txt”. \n",
    "\n",
    "Just create the file and leave it blank. \n",
    "\n",
    "To manipulate the file, write the following in your Python environment (you can copy and paste if you’d like):"
   ]
  },
  {
   "cell_type": "code",
   "execution_count": null,
   "metadata": {},
   "outputs": [],
   "source": [
    "F.write(\"Hello World\")\n",
    "F.write(\"This is a new line\")\n",
    "F.write(\"and this is a second line\")\n",
    "F.write(\"This is getting repetitive...\")\n",
    "\n",
    "F.close()"
   ]
  },
  {
   "cell_type": "code",
   "execution_count": null,
   "metadata": {},
   "outputs": [],
   "source": [
    "!cat writing.txt"
   ]
  },
  {
   "cell_type": "markdown",
   "metadata": {},
   "source": [
    "Above we are using **iPython Magicks** to access the command line and print out writing.txt into the console. Notice that we are not actually creating new lines in the file, merely the `write()` function glues whatever you write next to the previous write statement, and we have to manually add `\\n` into the string if we want new lines to appear.\n",
    "\n",
    "### Read()\n",
    "\n",
    "Let's try reading in a file:"
   ]
  },
  {
   "cell_type": "code",
   "execution_count": null,
   "metadata": {
    "scrolled": true
   },
   "outputs": [],
   "source": [
    "F = open(\"test_file.txt\", \"r\")\n",
    "print(F.read())\n",
    "F.close()"
   ]
  },
  {
   "cell_type": "markdown",
   "metadata": {},
   "source": [
    "This method essentially spits out everything within the file, which is great if we have a small file, but often we want to receive things *line by line*:"
   ]
  },
  {
   "cell_type": "code",
   "execution_count": null,
   "metadata": {},
   "outputs": [],
   "source": [
    "F = open(\"test_file.txt\", \"r\") \n",
    "print(F.readline())\n",
    "F.close()"
   ]
  },
  {
   "cell_type": "markdown",
   "metadata": {},
   "source": [
    "And this returns *all* lines as a Python list."
   ]
  },
  {
   "cell_type": "code",
   "execution_count": null,
   "metadata": {},
   "outputs": [],
   "source": [
    "F = open(\"test_file.txt\", \"r\") \n",
    "print(F.readlines())\n",
    "F.close()"
   ]
  },
  {
   "cell_type": "markdown",
   "metadata": {},
   "source": [
    "### Looping over a file object\n",
    "\n",
    "When you want to read – or return – all the lines from a file in a more memory efficient, and fast manner, you can use the loop over method. The advantage to using this method is that the related code is both simple and easy to read. "
   ]
  },
  {
   "cell_type": "code",
   "execution_count": null,
   "metadata": {},
   "outputs": [],
   "source": [
    "F = open(\"test_file.txt\", \"r\") \n",
    "for line in F: \n",
    "    print(line)\n",
    "F.close()"
   ]
  },
  {
   "cell_type": "markdown",
   "metadata": {},
   "source": [
    "## With statement\n",
    "\n",
    "You can also work with file objects using the with statement. It is designed to provide much cleaner syntax and exceptions handling when you are working with code. That explains why it’s good practice to use the with statement where applicable. \n",
    "\n",
    "One bonus of using this method is that any files opened will be closed automatically after you are done. This leaves less to worry about during cleanup. \n",
    "\n",
    "To use the with statement to open a file:"
   ]
  },
  {
   "cell_type": "code",
   "execution_count": null,
   "metadata": {
    "scrolled": true
   },
   "outputs": [],
   "source": [
    "with open(\"test_file.txt\",\"r\") as F:\n",
    "    print(F.readlines())"
   ]
  },
  {
   "cell_type": "markdown",
   "metadata": {},
   "source": [
    "## Splitting Lines in a Text File\n",
    "\n",
    "As a final example, let’s explore a unique function that allows you to split the lines taken from a text file. What this is designed to do, is split the string contained in variable data whenever the interpreter encounters a space character.\n",
    "\n",
    "But just because we are going to use it to split lines after a space character, doesn’t mean that’s the only way. You can actually split your text using any character you wish - such as a colon, for instance.\n",
    "\n",
    "The code to do this (also using a with statement) is:"
   ]
  },
  {
   "cell_type": "code",
   "execution_count": null,
   "metadata": {
    "scrolled": true
   },
   "outputs": [],
   "source": [
    "with open(\"test_file.txt\",\"r\") as f:\n",
    "    data = f.readlines()\n",
    "\n",
    "for line in data:\n",
    "    print(line.split())"
   ]
  },
  {
   "cell_type": "markdown",
   "metadata": {},
   "source": [
    "If you wanted to use another letter instead of a space to split your text, you would simply change line.split() to `line.split(\"l\")`. This is known as a **delimiter**.\n",
    "\n",
    "The output for this will be:"
   ]
  },
  {
   "cell_type": "code",
   "execution_count": null,
   "metadata": {
    "scrolled": true
   },
   "outputs": [],
   "source": [
    "for line in data:\n",
    "    print(line.split(\"l\"))"
   ]
  },
  {
   "cell_type": "markdown",
   "metadata": {},
   "source": [
    "## Exception Handling\n",
    "\n",
    " Exceptions handling in Python is very similar to Java. The code, which harbours the risk of an exception, is embedded in a try block. But whereas in Java exceptions are caught by catch clauses, we have statements introduced by an \"except\" keyword in Python. It's possible to create \"custom-made\" exceptions: With the raise statement it's possible to force a specified exception to occur.\n",
    "\n",
    "Let's look at a simple example. Assuming we want to ask the user to enter an integer number. If we use a input(), the input will be a string, which we have to cast into an integer. If the input has not been a valid integer, we will generate (raise) a ValueError. We show this in the following interactive session: "
   ]
  },
  {
   "cell_type": "code",
   "execution_count": null,
   "metadata": {},
   "outputs": [],
   "source": [
    "n = int(input(\"Please enter a number: \"))"
   ]
  },
  {
   "cell_type": "markdown",
   "metadata": {},
   "source": [
    "With the aid of exception handling, we can write robust code for reading an integer from input: "
   ]
  },
  {
   "cell_type": "code",
   "execution_count": null,
   "metadata": {},
   "outputs": [],
   "source": [
    "while True:\n",
    "    try:\n",
    "        n = input(\"Please enter an integer: \")\n",
    "        n = int(n)\n",
    "        break\n",
    "    except ValueError:\n",
    "        print(\"No valid integer! Please try again..\")\n",
    "print(\"Great, successfully received integer!\")"
   ]
  },
  {
   "cell_type": "markdown",
   "metadata": {},
   "source": [
    "### Multiple Except Clauses\n",
    "\n",
    " A try statement may have more than one except clause for different exceptions. But at most one except clause will be executed.\n",
    "\n",
    "Our next example shows a try clause, in which we open a file for reading, read a line from this file and convert this line into an integer. There are at least two possible exceptions:\n",
    "\n",
    "- an IOError\n",
    "- ValueError\n",
    "\n",
    "Just in case we have an additional unnamed except clause for an unexpected error: "
   ]
  },
  {
   "cell_type": "code",
   "execution_count": null,
   "metadata": {},
   "outputs": [],
   "source": [
    "import sys\n",
    "\n",
    "try:\n",
    "    f = open('integers.txt')\n",
    "    s = f.readline()\n",
    "    i = int(s.strip())\n",
    "except IOError as e:\n",
    "    errno, strerror = e.args\n",
    "    print(\"I/O error({0}): {1}\".format(errno,strerror))\n",
    "    # e can be printed directly without using .args:\n",
    "    # print(e)\n",
    "except ValueError:\n",
    "    print(\"No valid integer in line.\")\n",
    "except:\n",
    "    print(\"Unexpected error:\", sys.exc_info()[0])\n",
    "    raise"
   ]
  },
  {
   "cell_type": "markdown",
   "metadata": {},
   "source": [
    "## Lambda\n",
    "\n",
    "Despite much protesting from the founder of the Python programming language, defeat was conceded and these functions including `lambda` now exist in the base Python language.\n",
    "\n",
    "The lambda operator or lambda function is a way to create small anonymous functions, i.e. functions without a name. These functions are throw-away functions, i.e. they are just needed where they have been created. Lambda functions are mainly used in combination with the functions `filter()`, `map()` and `reduce()`. "
   ]
  },
  {
   "cell_type": "code",
   "execution_count": null,
   "metadata": {},
   "outputs": [],
   "source": [
    "sum = lambda x, y: x + y\n",
    "sum(3,4)"
   ]
  },
  {
   "cell_type": "markdown",
   "metadata": {},
   "source": [
    "This acts as shorthand for creating a properly-defined function. Lambda becomes more useful in conjunction with `pandas`, which is a later module down the line.\n",
    "\n",
    "## Arbitrary Parameter Lengths\n",
    "\n",
    "There are many situations in programming, in which the exact number of necessary parameters cannot be determined a-priori. An arbitrary parameter number can be accomplished in Python with so-called tuple references. An asterisk `*` is used in front of the last parameter name to denote it as a tuple reference. This asterisk shouldn't be mistaken with the C syntax, where this notation is connected with pointers.\n",
    "Example:"
   ]
  },
  {
   "cell_type": "code",
   "execution_count": null,
   "metadata": {},
   "outputs": [],
   "source": [
    "def arithmetic_mean(first, *values):\n",
    "    \"\"\"\n",
    "    This function calculates the arithmetic mean of a non-empty\n",
    "    arbitrary length of numerical values.\n",
    "    \"\"\"\n",
    "    return (first + sum(values)) / (1 + len(values))"
   ]
  },
  {
   "cell_type": "code",
   "execution_count": null,
   "metadata": {},
   "outputs": [],
   "source": [
    "arithmetic_mean(2,3,4,5,6)"
   ]
  },
  {
   "cell_type": "code",
   "execution_count": null,
   "metadata": {},
   "outputs": [],
   "source": [
    "arithmetic_mean(30,50,10)"
   ]
  },
  {
   "cell_type": "code",
   "execution_count": null,
   "metadata": {},
   "outputs": [],
   "source": [
    "arithmetic_mean(75.4340, 504.323923, 1.3493434, 0.548338)"
   ]
  },
  {
   "cell_type": "markdown",
   "metadata": {},
   "source": [
    "Alternatively, you can unpack a list or a tuple into a *multiple-parameter* function:"
   ]
  },
  {
   "cell_type": "code",
   "execution_count": null,
   "metadata": {},
   "outputs": [],
   "source": [
    "def f(x, y, z):\n",
    "    return x*y*z\n",
    "\n",
    "t = (1.0, 2.0, 3.0)\n",
    "f(*t)"
   ]
  },
  {
   "cell_type": "markdown",
   "metadata": {},
   "source": [
    "### Arbitrary Number of 'Keyword' Parameters\n",
    "\n",
    "In the previous chapter we demonstrated how to pass an arbitrary number of positional parameters to a function. It is also possible to pass an arbitrary number of keyword parameters to a function. To this purpose, we have to use the double asterisk `**`: "
   ]
  },
  {
   "cell_type": "code",
   "execution_count": null,
   "metadata": {},
   "outputs": [],
   "source": [
    "def f(**kwargs):\n",
    "    print(kwargs)"
   ]
  },
  {
   "cell_type": "code",
   "execution_count": null,
   "metadata": {},
   "outputs": [],
   "source": [
    "f()"
   ]
  },
  {
   "cell_type": "code",
   "execution_count": null,
   "metadata": {
    "scrolled": true
   },
   "outputs": [],
   "source": [
    "f(de=\"German\", en=\"English\", fr=\"French\")"
   ]
  },
  {
   "cell_type": "markdown",
   "metadata": {},
   "source": [
    "You can think of this as the function essentially creating a dictionary out of the *variable-number* parameters you have passed. A more practical use case: passing a large number of parameters to a function programmatically:"
   ]
  },
  {
   "cell_type": "code",
   "execution_count": null,
   "metadata": {},
   "outputs": [],
   "source": [
    "def f(a, b, x, y):\n",
    "    return a+b-x*y\n",
    "\n",
    "d = {\"a\": 1.3, \"b\": 0.5, \"x\": 3.4, \"y\": 0.6}\n",
    "f(**d)"
   ]
  },
  {
   "cell_type": "markdown",
   "metadata": {},
   "source": [
    "## Decorators\n",
    "\n",
    "Decorators belong most probably to the most beautiful and most powerful design possibilities in Python, but at the same time the concept is considered by many as complicated to get into. To be precise, the usage of decorates is very easy, but writing decorators can be complicated, especially if you are not experienced with decorators and some functional programming concepts. \n",
    "\n",
    "Even though it is the same underlying concept, we have two different kinds of decorators in Python:\n",
    "\n",
    "- Function decorators\n",
    "- Class decorators \n",
    "\n",
    "A decorator in Python is any callable Python object that is used to modify a function or a class. A reference to a function \"func\" or a class \"C\" is passed to a decorator and the decorator returns a modified function or class. The modified functions or classes usually contain calls to the original function \"func\" or class \"C\". \n",
    "\n",
    "### A function having multiple names\n",
    "\n",
    "See the example below:"
   ]
  },
  {
   "cell_type": "code",
   "execution_count": null,
   "metadata": {},
   "outputs": [],
   "source": [
    "def succ(x):\n",
    "    return x+1\n",
    "\n",
    "successor = succ\n",
    "successor(10)"
   ]
  },
  {
   "cell_type": "code",
   "execution_count": null,
   "metadata": {},
   "outputs": [],
   "source": [
    "succ(10)"
   ]
  },
  {
   "cell_type": "markdown",
   "metadata": {},
   "source": [
    "### Functions inside Functions\n",
    "\n",
    "The concept of having or defining functions inside of a function is completely new to C or C++ programmers: "
   ]
  },
  {
   "cell_type": "code",
   "execution_count": null,
   "metadata": {},
   "outputs": [],
   "source": [
    "def f():\n",
    "    \n",
    "    def g():\n",
    "        print(\"Local g function here!\")\n",
    "        print(\"Leaving g now!\")\n",
    "    \n",
    "    print(\"Local f function here!\")\n",
    "    print(\"Calling g now!:\")\n",
    "    g()\n",
    "\n",
    "f()"
   ]
  },
  {
   "cell_type": "markdown",
   "metadata": {},
   "source": [
    "Here is another example with the proper `return` statements:"
   ]
  },
  {
   "cell_type": "code",
   "execution_count": null,
   "metadata": {},
   "outputs": [],
   "source": [
    "def temperature(t):\n",
    "    def celsius2fahrenheit(x):\n",
    "        return 9 * x / 5 + 32\n",
    "\n",
    "    result = \"It's \" + str(celsius2fahrenheit(t)) + \" degrees!\" \n",
    "    return result\n",
    "\n",
    "print(temperature(20))"
   ]
  },
  {
   "cell_type": "markdown",
   "metadata": {},
   "source": [
    "### Functions as Parameters\n",
    "\n",
    "If you solely look at the previous examples, this doesn't seem to be very usefull. It gets useful in combination with two further powerful possibilities of Python functions. Due to the fact that every parameter of a function is a reference to an object and functions are objects as well, we can pass functions - or better \"references to functions\" - as parameters to a function. We will demonstrate this in the next simple example:"
   ]
  },
  {
   "cell_type": "code",
   "execution_count": null,
   "metadata": {},
   "outputs": [],
   "source": [
    "def g():\n",
    "    print(\"Hi, it's me 'g'\")\n",
    "    print(\"Thanks for calling me\")\n",
    "    \n",
    "def f(func):\n",
    "    print(\"Hi, it's me 'f'\")\n",
    "    print(\"I will call 'func' now\")\n",
    "    func()\n",
    "          \n",
    "f(g)"
   ]
  },
  {
   "cell_type": "markdown",
   "metadata": {},
   "source": [
    "This extends to calling external library functions to create generic functions that could possibly apply a *wide range* of operations:"
   ]
  },
  {
   "cell_type": "code",
   "execution_count": null,
   "metadata": {},
   "outputs": [],
   "source": [
    "import math\n",
    "\n",
    "def foo(func, array=[1,2,3]):\n",
    "    print(\"The function \" + func.__name__ + \" was passed to foo\")\n",
    "    res = 0\n",
    "    for x in array:\n",
    "        res += func(x)\n",
    "    return res\n",
    "\n",
    "print(foo(math.sin))\n",
    "print(foo(math.cos))"
   ]
  },
  {
   "cell_type": "markdown",
   "metadata": {},
   "source": [
    "### Syntax of decorators\n",
    "\n",
    "We can write our decorator in terms of a statement positioned just before the function we wish to decorate:"
   ]
  },
  {
   "cell_type": "code",
   "execution_count": null,
   "metadata": {},
   "outputs": [],
   "source": [
    "def our_decorator(func):\n",
    "    def function_wrapper(x):\n",
    "        print(\"Before calling \" + func.__name__)\n",
    "        func(x)\n",
    "        print(\"After calling \" + func.__name__)\n",
    "    return function_wrapper\n",
    "\n",
    "@our_decorator\n",
    "def foo(x):\n",
    "    print(\"Foo has been called with \" + str(x))\n",
    "\n",
    "foo(\"Hi\")"
   ]
  },
  {
   "cell_type": "markdown",
   "metadata": {},
   "source": [
    "Potential use cases include *checking arguments* with a decorator, see below:"
   ]
  },
  {
   "cell_type": "code",
   "execution_count": null,
   "metadata": {},
   "outputs": [],
   "source": [
    "def argument_test_natural_number(f):\n",
    "    def helper(x):\n",
    "        if type(x) == int and x > 0:\n",
    "            return f(x)\n",
    "        else:\n",
    "            raise Exception(\"Argument is not an integer\")\n",
    "    return helper\n",
    "\n",
    "@argument_test_natural_number\n",
    "def factorial(n):\n",
    "    if n == 1:\n",
    "        return 1\n",
    "    else:\n",
    "        return n * factorial(n-1)\n",
    "    \n",
    "for i in range(1,10):\n",
    "\tprint(i, factorial(i))\n",
    "\n",
    "print(factorial(-1))"
   ]
  },
  {
   "cell_type": "markdown",
   "metadata": {},
   "source": [
    "*Use Case 2*: Counting Function calls with decorators:"
   ]
  },
  {
   "cell_type": "code",
   "execution_count": null,
   "metadata": {},
   "outputs": [],
   "source": [
    "def call_counter(func):\n",
    "    def helper(x):\n",
    "        helper.calls += 1\n",
    "        return func(x)\n",
    "    helper.calls = 0\n",
    "\n",
    "    return helper\n",
    "\n",
    "@call_counter\n",
    "def succ(x):\n",
    "    return x + 1\n",
    "\n",
    "print(succ.calls)\n",
    "for i in range(10):\n",
    "    succ(i)\n",
    "    \n",
    "print(succ.calls)"
   ]
  },
  {
   "cell_type": "markdown",
   "metadata": {},
   "source": [
    "There is a large amount of room to expand on this topic, but for further details, we recommend you look at https://www.python-course.eu/, which acts as the inspiration for much of this work."
   ]
  },
  {
   "cell_type": "markdown",
   "metadata": {},
   "source": [
    "# Tasks\n",
    "\n",
    "## Task 1\n",
    "\n",
    "Read in all of the lines from The Wolf and the Crane, found in `wolfcran.txt`. Extract all of the unique words from the book using `set`. Print out the number of unique words found. "
   ]
  },
  {
   "cell_type": "code",
   "execution_count": 1,
   "metadata": {},
   "outputs": [],
   "source": [
    "# your codes here"
   ]
  },
  {
   "cell_type": "markdown",
   "metadata": {},
   "source": [
    "## Task 2\n",
    "\n",
    "Create a 6 $\\times$ 6 matrix of incrementing values, using a **nested list comprehension** technique, but only recording values that are **even**."
   ]
  },
  {
   "cell_type": "code",
   "execution_count": 2,
   "metadata": {},
   "outputs": [],
   "source": [
    "# your codes here"
   ]
  },
  {
   "cell_type": "markdown",
   "metadata": {},
   "source": [
    "## Task 3\n",
    "\n",
    "Write a function `log_sum_product(first, *vals)` that accepts a *arbitrary* number of numbers.\n",
    "\n",
    "Calculating the **product** of a set of proabilities can lead to numerical instability, particularly for values less than 1 (in a probabilistic context). To get around this, we can convert to `log` and `sum` all of the values in logspace, then convert back using `exp`.\n",
    "\n",
    "$$\n",
    "P(\\vec{x})=\\exp \\left(\\sum_{i=1}^n \\log(\\vec{x}_i)\\right)\n",
    "$$\n",
    "\n",
    "When summing the values together, we recommend you use `math.fsum` rather than using the default Python `sum` function.\n",
    "\n",
    "When testing your function, try using around 4 or 5 values that are $0 \\le x \\le 1$."
   ]
  },
  {
   "cell_type": "code",
   "execution_count": 3,
   "metadata": {},
   "outputs": [],
   "source": [
    "# your codes here\n",
    "import math"
   ]
  },
  {
   "cell_type": "markdown",
   "metadata": {},
   "source": [
    "## Task 4\n",
    "\n",
    "Below is a method from numerical integration for approximating a definite integral:\n",
    "\n",
    "$$\n",
    "\\int_a^b f(x)dx \\approx \\sum_{k=1}^N \\frac{f(x_{k-1})+f(x_k)}{2}\\Delta x_k \n",
    "$$\n",
    "\n",
    "Write a function `f(x)` which returns:\n",
    "\n",
    "$$\n",
    "f(x)=\\cos x\n",
    "$$\n",
    "\n",
    "In addition, write a decorator function that ensures that `f(x)` can only be called where $b-a =\\frac{\\pi}{2}$. In addition, ensure that `N` is an int. This should ensure that the integral:\n",
    "\n",
    "$$\n",
    "\\int_0^{\\pi/2} \\cos(x) dx = |1|\n",
    "$$\n",
    "\n",
    "You will need to modify the `trapz` function provided to do this. Ensure that you include exception handling into your decorator. Then try the following function calls:\n",
    "\n",
    "    trapz(f, 0, math.pi/2, 10000)\n",
    "    trapz(f, 1, math.pi, 10000)\n",
    "    trapz(f, 0, math.pi, 10000)\n",
    "    trapz(f, math.pi/2, math.pi, 10000)"
   ]
  },
  {
   "cell_type": "code",
   "execution_count": 4,
   "metadata": {},
   "outputs": [],
   "source": [
    "# your codes here"
   ]
  },
  {
   "cell_type": "code",
   "execution_count": 5,
   "metadata": {},
   "outputs": [],
   "source": [
    "def trapz(f, a, b, N):\n",
    "    \"\"\"\n",
    "    Calculates composite trapezoidal integration.\n",
    "    \n",
    "    Where f is a function passed, which accepts one parameter (x)\n",
    "        a is the lower-bound\n",
    "        b is the upper-bound\n",
    "        N is the size\n",
    "    \n",
    "    Returns the Integral.\n",
    "    \"\"\"\n",
    "    h = (b-a)/float(N)\n",
    "    sum_y = 0\n",
    "    x = a\n",
    "    for i in range(N):\n",
    "        x += h\n",
    "        sum_y += f(x)\n",
    "    sum_y += .5 * (f(a) + f(b))\n",
    "    return sum_y*h"
   ]
  },
  {
   "cell_type": "code",
   "execution_count": 6,
   "metadata": {},
   "outputs": [],
   "source": [
    "# your function calls here"
   ]
  }
 ],
 "metadata": {
  "kernelspec": {
   "display_name": "Python 3",
   "language": "python",
   "name": "python3"
  },
  "language_info": {
   "codemirror_mode": {
    "name": "ipython",
    "version": 3
   },
   "file_extension": ".py",
   "mimetype": "text/x-python",
   "name": "python",
   "nbconvert_exporter": "python",
   "pygments_lexer": "ipython3",
   "version": "3.6.7"
  }
 },
 "nbformat": 4,
 "nbformat_minor": 2
}
