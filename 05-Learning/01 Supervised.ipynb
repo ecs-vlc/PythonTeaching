{
 "cells": [
  {
   "cell_type": "markdown",
   "metadata": {},
   "source": [
    "## Perceptron\n",
    "\n",
    "The perceptron is an algorithm for learning a *binary classifier*, it's function maps the input $x$ into an output value $f(x)$ which is binary. Perceptrons are inspired by the information processing of a single neural cell called a neuron. A neuron accepts input signals via it's dendrites, which pass an electrical signal down to the cell body. In a similar way, the Perceptron receives input signals from examples of training data that we weight and combined in a linear equation called the **activation**:\n",
    "\n",
    "    activation = sum(weight_i * x_i) + bias\n",
    "\n",
    "The activation is then transformed into an output value or prediction using a transfer function, such as the step transfer function:\n",
    "\n",
    "    prediction = 1.0 if activation >= 0.0 else 0.0\n",
    "    \n",
    "In this way, the Perceptron is a classification algorithm for problems with two classes (0 and 1) where a linear equation (like or hyperplane) can be used to separate the two classes.\n",
    "\n",
    "It is closely related to linear regression and logistic regression that make predictions in a similar way (e.g. a weighted sum of inputs).\n",
    "\n",
    "The weights of the Perceptron algorithm must be estimated from your training data using stochastic **gradient descent**. This involves minimizing a function by following the gradients of the cost function:\n",
    "\n",
    "$$\n",
    "J_p(\\theta)=\\frac{1}{n}\\sum_{i=1}^{n} \\max(0, -y^{(i)} x^{(i)} \\theta)\n",
    "$$\n",
    "\n",
    "where the maximized value is 0 if the prediction is correct, otherwise it is the confidence in the misprediction. For the Perceptron algorithm, each iteration the weights $w$ are updated using the equation:\n",
    "\n",
    "    w = w + learning_rate * (expected - predicted) * x\n",
    "    \n",
    "where $w$ is the weight being optimized, $(expected - predicted)$ is the prediction error for the model on the training data attributed to the weight and $x$ is input.\n",
    "\n",
    "### Sonar Dataset\n",
    "\n",
    "We will demonstrate the Perceptron using the sonar dataset; it consists of 60 input columns which indicate the strength of returns at different angles (in radians). The final column contains a string \"M\" for mine and \"R\" for rock; this is our binary label we wish to classify. Most of the input values are around 0 to 1 so we don't need to consider *normalization* strategies."
   ]
  },
  {
   "cell_type": "code",
   "execution_count": 10,
   "metadata": {},
   "outputs": [],
   "source": [
    "import numpy as np\n",
    "import pandas as pd\n",
    "import matplotlib.pyplot as plt\n",
    "%matplotlib inline\n",
    "\n",
    "dataset = np.asarray(pd.read_csv(\"sonar-all-data.csv\", header=None))\n",
    "\n",
    "# convert labels into [0,1]\n",
    "np.place(dataset[:,-1], dataset[:,-1]=='R', 0)\n",
    "np.place(dataset[:,-1], dataset[:,-1]=='M', 1)\n",
    "dataset = dataset.astype(np.float64)\n",
    "X = dataset[:,:-1]\n",
    "y = dataset[:,-1]"
   ]
  },
  {
   "cell_type": "markdown",
   "metadata": {},
   "source": [
    "### Predicting States\n",
    "\n",
    "Firstly we write down a prediction function which acts as our *linear model*, so for this dataset is:\n",
    "\n",
    "    activation = (w_1 * X_1) + (w_2 * X_2) + bias\n",
    "\n",
    "Here NumPy looks at the dimensions of $X$ and $w$, and figures out that the multiplication means I wish to multiply *every row* by $w$, and then summing every row. This is the equivalent of doing a *Matrix-Vector dot product*."
   ]
  },
  {
   "cell_type": "code",
   "execution_count": 11,
   "metadata": {
    "collapsed": true
   },
   "outputs": [],
   "source": [
    "def predict_new(X, w):\n",
    "    \"\"\"\n",
    "    Given input matrix X(n,p) and the w(p+1,), predicts (n,) labels for each sample i \\in n.\n",
    "    \n",
    "    Bias term included as first weight, w[0]; remove.\n",
    "    \"\"\"\n",
    "    # activation function\n",
    "    yp = np.dot(X,w[1:]) + w[0]\n",
    "    if type(yp) == np.float64:\n",
    "        return 1. if yp >= 0. else 0.\n",
    "    # replace activations >= 0 with 1, else replace with 0 - becoming yp predictions\n",
    "    np.place(yp, yp >= 0., 1.)\n",
    "    np.place(yp, yp < 0., 0.)\n",
    "    return yp"
   ]
  },
  {
   "cell_type": "code",
   "execution_count": 12,
   "metadata": {},
   "outputs": [
    {
     "name": "stdout",
     "output_type": "stream",
     "text": [
      "[0. 0. 0. 0. 0. 1. 1. 1. 1. 1.] \n",
      " [0. 0. 0. 0. 0. 1. 1. 1. 1. 1.] \n",
      " [ True  True  True  True  True  True  True  True  True  True]\n"
     ]
    },
    {
     "data": {
      "image/png": "[encoded data removed]",
      "text/plain": [
       "<matplotlib.figure.Figure at 0x7f54909428d0>"
      ]
     },
     "metadata": {},
     "output_type": "display_data"
    }
   ],
   "source": [
    "toy_dataset = np.array([[2.7810836,2.550537003,0],\n",
    "\t[1.465489372,2.362125076,0],\n",
    "\t[3.396561688,4.400293529,0],\n",
    "\t[1.38807019,1.850220317,0],\n",
    "\t[3.06407232,3.005305973,0],\n",
    "\t[7.627531214,2.759262235,1],\n",
    "\t[5.332441248,2.088626775,1],\n",
    "\t[6.922596716,1.77106367,1],\n",
    "\t[8.675418651,-0.242068655,1],\n",
    "\t[7.673756466,3.508563011,1]])\n",
    "\n",
    "toy_weights = np.array([-0.1, 0.20653640140000007, -0.23418117710000003])\n",
    "\n",
    "yp = predict_new(toy_dataset[:,:-1], toy_weights)\n",
    "\n",
    "print(\"{} \\n {} \\n {}\".format(toy_dataset[:,-1], yp, toy_dataset[:,-1]==yp))\n",
    "\n",
    "plt.scatter(toy_dataset[:,0], toy_dataset[:,1], c=toy_dataset[:,-1])\n",
    "plt.show()"
   ]
  },
  {
   "cell_type": "markdown",
   "metadata": {},
   "source": [
    "### Training the Weights\n",
    "\n",
    "Training the network weights can be achieved through *gradient descent*. This requires two parameters:\n",
    "- **Learning rate** (eta): Used to limit the amount each weight is corrected each iteration\n",
    "- **Epoch**: the number of times to run the training data weight updates\n",
    "\n",
    "Weights are updated based on the error (loss) the model made. The error is calculated as the difference between expected output and the prediction made with the candidate weights.\n",
    "\n",
    "There is one weight for each input column, and these are updated consistently:\n",
    "\n",
    "    w(t+1) = w(t) + eta * (expected(t) - predicted(t)) * x(t)\n",
    "    \n",
    "The bias is updated in a similar way, except it is not associated to input:\n",
    "\n",
    "    b(t+1) = b(t) + eta * (expected(t) - predicted(t))"
   ]
  },
  {
   "cell_type": "code",
   "execution_count": 13,
   "metadata": {
    "collapsed": true
   },
   "outputs": [],
   "source": [
    "def train_weights_new(X, y, eta, n_epochs, printing=True):\n",
    "    \"\"\"\n",
    "    Given X(n,p), y(n,) true labels, learning rate and n_epoch, calculate best weights w(p+1,)\n",
    "    \n",
    "    Bias term is w[0].\n",
    "    \"\"\"\n",
    "    # generate random weights\n",
    "    w = np.zeros(X.shape[1]+1)\n",
    "    # w[0] = intercept\n",
    "    for epoch in range(n_epochs):\n",
    "        sum_err = 0.\n",
    "        # iterate over all rows\n",
    "        for i in range(X.shape[0]):\n",
    "            # calculate the predicted values using our predict method\n",
    "            yp = predict_new(X[i,:],w)\n",
    "            # compare predicted to actual\n",
    "            error = y[i] - yp\n",
    "            #error = y - yp\n",
    "            sum_err += error**2\n",
    "            # update bias term\n",
    "            w[0] += eta * error\n",
    "            # update weights - here error(n,) * X(n,p) will cause feature to be multiplied by the sample from error\n",
    "            w[1:] += eta * error * X[i,:]\n",
    "        #print(error.shape, X.shape, (eta * error[i] * X[i,:]).shape)\n",
    "        if printing:\n",
    "            print(\">epoch=%d, eta=%.3f, error=%.3f\" % (epoch, eta, sum_err))\n",
    "    return w"
   ]
  },
  {
   "cell_type": "code",
   "execution_count": 14,
   "metadata": {},
   "outputs": [
    {
     "name": "stdout",
     "output_type": "stream",
     "text": [
      ">epoch=0, eta=0.100, error=2.000\n",
      ">epoch=1, eta=0.100, error=1.000\n",
      ">epoch=2, eta=0.100, error=0.000\n",
      ">epoch=3, eta=0.100, error=0.000\n",
      ">epoch=4, eta=0.100, error=0.000\n",
      "[-0.1         0.2065364  -0.23418118]\n"
     ]
    }
   ],
   "source": [
    "new_w = train_weights_new(toy_dataset[:,:-1], toy_dataset[:,-1], 0.1, 5)\n",
    "print(new_w)"
   ]
  },
  {
   "cell_type": "markdown",
   "metadata": {},
   "source": [
    "### Step 3.\n",
    "\n",
    "Let's visualise the weights of the boundary we have just created. We want to find a bound for the equation:\n",
    "\n",
    "$$\n",
    "w_1x + w_2y + b=0\n",
    "$$\n",
    "\n",
    "To find the solution we check when $x=0, y \\neq 0$ and when $x \\neq 0, y=0$, this leads us to:\n",
    "\n",
    "$$\n",
    "w_1x + b = 0 \\\\\n",
    "w_2y + b = 0\n",
    "$$\n",
    "\n",
    "So the solution is:\n",
    "\n",
    "$$\n",
    "x=\\frac{-b}{w_1} \\\\\n",
    "y=\\frac{-b}{w_2}\n",
    "$$\n",
    "\n",
    "These two values are the *bounds*. From these two values we can build the linear equation:\n",
    "\n",
    "$$\n",
    "f(z)=c*z+d\n",
    "$$\n",
    "\n",
    "Now we have another 2 equations, with two unknowns:\n",
    "\n",
    "$$\n",
    "f(0)=c*0+d = y \\\\\n",
    "f(x)=c*x+d = 0\n",
    "$$\n",
    "\n",
    "The solutions to these are also simple:\n",
    "\n",
    "$$\n",
    "d=y\\\\\n",
    "c=\\frac{-d}{x} = \\frac{-y}{x}\n",
    "$$"
   ]
  },
  {
   "cell_type": "code",
   "execution_count": 16,
   "metadata": {},
   "outputs": [
    {
     "data": {
      "image/png": "[encoded data removed]",
      "text/plain": [
       "<matplotlib.figure.Figure at 0x7f5490942358>"
      ]
     },
     "metadata": {},
     "output_type": "display_data"
    }
   ],
   "source": [
    "bias = -new_w[0] / new_w[2]\n",
    "slope = (new_w[0] / new_w[2]) / (-new_w[0] / new_w[1])\n",
    "\n",
    "plt.scatter(toy_dataset[:,0], toy_dataset[:,1], c=toy_dataset[:,-1])\n",
    "plt.plot(toy_dataset[:,0], slope*toy_dataset[:,0] + bias)\n",
    "plt.show()"
   ]
  },
  {
   "cell_type": "code",
   "execution_count": null,
   "metadata": {
    "collapsed": true
   },
   "outputs": [],
   "source": []
  },
  {
   "cell_type": "code",
   "execution_count": null,
   "metadata": {
    "collapsed": true
   },
   "outputs": [],
   "source": []
  },
  {
   "cell_type": "code",
   "execution_count": null,
   "metadata": {
    "collapsed": true
   },
   "outputs": [],
   "source": []
  },
  {
   "cell_type": "code",
   "execution_count": null,
   "metadata": {
    "collapsed": true
   },
   "outputs": [],
   "source": []
  }
 ],
 "metadata": {
  "kernelspec": {
   "display_name": "Python [default]",
   "language": "python",
   "name": "python3"
  },
  "language_info": {
   "codemirror_mode": {
    "name": "ipython",
    "version": 3
   },
   "file_extension": ".py",
   "mimetype": "text/x-python",
   "name": "python",
   "nbconvert_exporter": "python",
   "pygments_lexer": "ipython3",
   "version": "3.5.6"
  }
 },
 "nbformat": 4,
 "nbformat_minor": 2
}
