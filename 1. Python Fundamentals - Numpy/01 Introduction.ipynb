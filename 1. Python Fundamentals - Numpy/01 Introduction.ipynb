{
 "cells": [
  {
   "cell_type": "markdown",
   "metadata": {},
   "source": [
    "# 1. Introduction\n",
    "\n",
    "Welcome to this course. We will assume that your knowledge of programming skills in general; and as such we will not cover things like *if* statements, *for*/*while* loops or other basic concepts. However before we dip into using the Numerical library (NumPy) for Python, we will cover some data structures inherent. The flow for this notebook is as follows:\n",
    "1. Strings\n",
    "2. Printing\n",
    "3. Lists, Tuples and Dictionaries\n",
    "4. List Comprehension\n",
    "5. Python class\n",
    "\n",
    "## Strings\n",
    "\n",
    "Strings are fairly intuitive in Python, and have a set of functions associated with them."
   ]
  },
  {
   "cell_type": "code",
   "execution_count": null,
   "metadata": {},
   "outputs": [],
   "source": [
    "s = \"Hello World\"\n",
    "print(s)"
   ]
  },
  {
   "cell_type": "code",
   "execution_count": null,
   "metadata": {},
   "outputs": [],
   "source": [
    "print(s.split(\" \"))"
   ]
  },
  {
   "cell_type": "code",
   "execution_count": null,
   "metadata": {},
   "outputs": [],
   "source": [
    "print(s.startswith(\"H\"))"
   ]
  },
  {
   "cell_type": "markdown",
   "metadata": {},
   "source": [
    "We can also use single quotes as well as double - as long as single quotes and double quotes are used together."
   ]
  },
  {
   "cell_type": "code",
   "execution_count": null,
   "metadata": {},
   "outputs": [],
   "source": [
    "s = 'Single quotes'\n",
    "print(s)"
   ]
  },
  {
   "cell_type": "code",
   "execution_count": null,
   "metadata": {},
   "outputs": [],
   "source": [
    "fail = 'Not valid\"\n",
    "print(fail)"
   ]
  },
  {
   "cell_type": "markdown",
   "metadata": {},
   "source": [
    "We can slice a portion of a string as follows:"
   ]
  },
  {
   "cell_type": "code",
   "execution_count": null,
   "metadata": {},
   "outputs": [],
   "source": [
    "s[2:]"
   ]
  },
  {
   "cell_type": "code",
   "execution_count": null,
   "metadata": {},
   "outputs": [],
   "source": [
    "s[:4]"
   ]
  },
  {
   "cell_type": "code",
   "execution_count": null,
   "metadata": {},
   "outputs": [],
   "source": [
    "# first index, last index, step size\n",
    "s[1:10:2]"
   ]
  },
  {
   "cell_type": "markdown",
   "metadata": {},
   "source": [
    "Python strings are immutable - so assigning a value to an index results in an error:"
   ]
  },
  {
   "cell_type": "code",
   "execution_count": null,
   "metadata": {},
   "outputs": [],
   "source": [
    "s[0] = 'A'"
   ]
  },
  {
   "cell_type": "code",
   "execution_count": null,
   "metadata": {},
   "outputs": [],
   "source": [
    "len(s)"
   ]
  },
  {
   "cell_type": "markdown",
   "metadata": {},
   "source": [
    "## Printing\n",
    "\n",
    "Familiarity with the print() method is probably well known, however associating that with robust variable display is not so well known, here we will cover some examples:"
   ]
  },
  {
   "cell_type": "code",
   "execution_count": null,
   "metadata": {},
   "outputs": [],
   "source": [
    "print(\"Hello extra message: {}\".format(s))"
   ]
  },
  {
   "cell_type": "code",
   "execution_count": null,
   "metadata": {},
   "outputs": [],
   "source": [
    "print(\"Hello extra message: %s, %d\" % (s, 1e5))"
   ]
  },
  {
   "cell_type": "code",
   "execution_count": null,
   "metadata": {},
   "outputs": [],
   "source": [
    "import math\n",
    "print(\"PI to 4.d.p : %.3f\" % math.pi)\n",
    "print(\"PI to 4.d.p : {:0.3f}\".format(math.pi))"
   ]
  },
  {
   "cell_type": "markdown",
   "metadata": {},
   "source": [
    "## Lists []\n",
    "\n",
    "The best way to think of a list is a versatile linked list, where elements are stored in an array-like structure; can be dynamically modified, and can support multiple-types. List output is characterised with the square-bracket notation **[ ]** with comma-separated elements. You may have noticed that the output from the previous s.split() function returned a Python list."
   ]
  },
  {
   "cell_type": "code",
   "execution_count": null,
   "metadata": {},
   "outputs": [],
   "source": [
    "x = ['Our', 'First', 'List', s]\n",
    "print(x)"
   ]
  },
  {
   "cell_type": "markdown",
   "metadata": {},
   "source": [
    "We can add (append) items, remove, slice and do many operations on these lists:"
   ]
  },
  {
   "cell_type": "code",
   "execution_count": null,
   "metadata": {},
   "outputs": [],
   "source": [
    "x.append(\"Hello\")\n",
    "print(x)"
   ]
  },
  {
   "cell_type": "code",
   "execution_count": null,
   "metadata": {},
   "outputs": [],
   "source": [
    "x.remove(\"Hello\")\n",
    "print(x)"
   ]
  },
  {
   "cell_type": "code",
   "execution_count": null,
   "metadata": {},
   "outputs": [],
   "source": [
    "# creates a copy\n",
    "x[:]"
   ]
  },
  {
   "cell_type": "markdown",
   "metadata": {},
   "source": [
    "It is important to note that slices *create a copy* of the list so changes to the copy **do not** affect the original variable."
   ]
  },
  {
   "cell_type": "code",
   "execution_count": null,
   "metadata": {},
   "outputs": [],
   "source": [
    "# converts list items into a contiguous string - useful!\n",
    "\"\".join(x)"
   ]
  },
  {
   "cell_type": "code",
   "execution_count": null,
   "metadata": {},
   "outputs": [],
   "source": [
    "len(x)"
   ]
  },
  {
   "cell_type": "code",
   "execution_count": null,
   "metadata": {},
   "outputs": [],
   "source": [
    "# mutable!\n",
    "x[0] = \"Replaced\"\n",
    "print(x)"
   ]
  },
  {
   "cell_type": "markdown",
   "metadata": {},
   "source": [
    "## Tuples ()\n",
    "\n",
    "Tuples are very similar to lists, except the elements are *immutable* and cannot be altered. Tuples are denoted with the round-brackets **( )**."
   ]
  },
  {
   "cell_type": "code",
   "execution_count": null,
   "metadata": {},
   "outputs": [],
   "source": [
    "t = ()\n",
    "print(t)"
   ]
  },
  {
   "cell_type": "markdown",
   "metadata": {},
   "source": [
    "## Dictionaries (dict) {}\n",
    "\n",
    "Dictionaries are Python's hash-table structure. This works in a *key-value* pair system which is ubiquitous across programming languages. Dictionaries are denoted by the curly brackets **{ }**."
   ]
  },
  {
   "cell_type": "code",
   "execution_count": null,
   "metadata": {},
   "outputs": [],
   "source": [
    "d = {}\n",
    "d['Key'] = \"Value\"\n",
    "print(d)"
   ]
  },
  {
   "cell_type": "markdown",
   "metadata": {},
   "source": [
    "We can convert two lists into a dictionary by *zipping* the lists together, then converting the *zip* object into a Python dictionary:"
   ]
  },
  {
   "cell_type": "code",
   "execution_count": null,
   "metadata": {},
   "outputs": [],
   "source": [
    "x = dict(zip(x, [1, 2, 3, 4]))\n",
    "print(x)"
   ]
  },
  {
   "cell_type": "code",
   "execution_count": null,
   "metadata": {},
   "outputs": [],
   "source": [
    "x['Replaced']"
   ]
  },
  {
   "cell_type": "code",
   "execution_count": null,
   "metadata": {},
   "outputs": [],
   "source": [
    "x['First'] = \"VLC\"\n",
    "print(x)"
   ]
  },
  {
   "cell_type": "markdown",
   "metadata": {},
   "source": [
    "## List Comprehensions\n",
    "\n",
    "You will likely be familiar with the standard for loop as implemented in all modern programming languages. List comprehensions provide a neat way to place relatively simple for loops in a one-liner. This not only provides performance increases due to Python being an interpreted language; it's also eminently readable:"
   ]
  },
  {
   "cell_type": "code",
   "execution_count": null,
   "metadata": {},
   "outputs": [],
   "source": [
    "# normal for loop\n",
    "l = []\n",
    "for i in range(5):\n",
    "    l.append(i**2)\n",
    "print(l)"
   ]
  },
  {
   "cell_type": "code",
   "execution_count": null,
   "metadata": {},
   "outputs": [],
   "source": [
    "# comprehension\n",
    "y = [i**2 for i in range(5)]\n",
    "print(y)"
   ]
  },
  {
   "cell_type": "code",
   "execution_count": null,
   "metadata": {},
   "outputs": [],
   "source": [
    "# conditional if statement allows for further control\n",
    "y = [i**2 for i in range(10) if i % 2 == 0]\n",
    "print(y)"
   ]
  },
  {
   "cell_type": "markdown",
   "metadata": {},
   "source": [
    "Crazy prime example"
   ]
  },
  {
   "cell_type": "code",
   "execution_count": null,
   "metadata": {},
   "outputs": [],
   "source": [
    "noprimes = [j for i in range(2,8) for j in range(i*2,50,i)]\n",
    "primes = [x for x in range(2,50) if x not in noprimes]\n",
    "print(primes)"
   ]
  },
  {
   "cell_type": "markdown",
   "metadata": {},
   "source": [
    "## Python Classes"
   ]
  },
  {
   "cell_type": "code",
   "execution_count": null,
   "metadata": {
    "collapsed": true
   },
   "outputs": [],
   "source": [
    "class Example:\n",
    "    \n",
    "    # calls this method automatically on creation - constructor\n",
    "    def __init__(self, x1, x2):\n",
    "        self.x1 = x1\n",
    "        self.x2 = x2\n",
    "    \n",
    "    def first_x(self):\n",
    "        return self.x1\n",
    "\n",
    "    def second_x(self):\n",
    "        return self.x2\n",
    "    \n",
    "    def __str__(self):\n",
    "        return (\"x1:{}, x2:{}\".format(self.x1, self.x2))\n",
    "    \n",
    "    def __repr__(self):\n",
    "        return (\"x1:{}, x2:{}\".format(str(self.x1), str(self.x2)))"
   ]
  },
  {
   "cell_type": "code",
   "execution_count": null,
   "metadata": {},
   "outputs": [],
   "source": [
    "c = Example(\"H1\",2)\n",
    "c.first_x()"
   ]
  },
  {
   "cell_type": "code",
   "execution_count": null,
   "metadata": {},
   "outputs": [],
   "source": [
    "c.second_x()"
   ]
  },
  {
   "cell_type": "code",
   "execution_count": null,
   "metadata": {},
   "outputs": [],
   "source": [
    "str(c)"
   ]
  },
  {
   "cell_type": "markdown",
   "metadata": {},
   "source": [
    "# Tasks\n",
    "\n",
    "The fibonacci sequence is a series of numbers where the number at the current step is calculated from the summation of values at the previous two steps:\n",
    "\n",
    "$$\n",
    "x_{n} = x_{n-1} + x_{n-2} \\\\\n",
    "x_0 = 0 \\\\\n",
    "x_1 = 1\n",
    "$$\n",
    "\n",
    "or alternatively the closed form solution is given by:\n",
    "\n",
    "$$\n",
    "F(n)=\\frac{\\left(1+\\sqrt{5}\\right)^n-\\left(1-\\sqrt{5}\\right)^n}{2^n\\sqrt{5}}\n",
    "$$\n",
    "\n",
    "### Task 1.\n",
    "\n",
    "Create a function which calculates all of the fibonacci sequence numbers up to step $n$, returning F(n). Do this using both the closed-form solution and using the step-wise method. Do this for 20 steps and print out both the sequences using closed and numeric."
   ]
  },
  {
   "cell_type": "code",
   "execution_count": null,
   "metadata": {
    "collapsed": true
   },
   "outputs": [],
   "source": [
    "# your codes here"
   ]
  }
 ],
 "metadata": {
  "kernelspec": {
   "display_name": "Python 3",
   "language": "python",
   "name": "python3"
  },
  "language_info": {
   "codemirror_mode": {
    "name": "ipython",
    "version": 3
   },
   "file_extension": ".py",
   "mimetype": "text/x-python",
   "name": "python",
   "nbconvert_exporter": "python",
   "pygments_lexer": "ipython3",
   "version": "3.6.3"
  }
 },
 "nbformat": 4,
 "nbformat_minor": 2
}
