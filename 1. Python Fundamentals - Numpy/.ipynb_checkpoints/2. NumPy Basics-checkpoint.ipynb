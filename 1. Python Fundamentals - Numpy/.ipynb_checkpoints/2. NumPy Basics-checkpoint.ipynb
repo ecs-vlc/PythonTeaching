{
 "cells": [
  {
   "cell_type": "markdown",
   "metadata": {},
   "source": [
    "# 2. NumPy Basics\n",
    "\n",
    "NumPy (Numerical Python) is the core library for scientific computing in Python. It provides a high-performance multi-dimensional array object, and tools for working with these arrays. The arrays are implemented in C and Python merely provides a front-end, making function operations across the array *considerably faster* for large datasets compared to using lists.\n",
    "\n",
    "NumPy arrays therefore **must** be the same datatype (float, int etc).\n",
    "\n",
    "The flow of this notebook is as follows:\n",
    "1. Creating an array\n",
    "2. Creating zeros, ones, linspace...\n",
    "3. Generating random numbers\n",
    "4. Inspecting the array\n",
    "5. Arithmetic operations\n",
    "6. Aggregation\n",
    "7. Subsetting, slicing, indexing\n",
    "\n",
    "\n",
    "We use the following convention **np** for numpy import:"
   ]
  },
  {
   "cell_type": "code",
   "execution_count": null,
   "metadata": {
    "collapsed": true
   },
   "outputs": [],
   "source": [
    "import numpy as np"
   ]
  },
  {
   "cell_type": "markdown",
   "metadata": {},
   "source": [
    "## Creating an array"
   ]
  },
  {
   "cell_type": "code",
   "execution_count": null,
   "metadata": {},
   "outputs": [],
   "source": [
    "# 1-d floats\n",
    "a = np.array([6.0, -1.0, 5.0, -3.0])\n",
    "a"
   ]
  },
  {
   "cell_type": "code",
   "execution_count": null,
   "metadata": {},
   "outputs": [],
   "source": [
    "# 2-d ints\n",
    "b = np.array([[3.0, 2.0],[1.0, 2.0]], dtype=int)\n",
    "b"
   ]
  },
  {
   "cell_type": "markdown",
   "metadata": {},
   "source": [
    "## Creating zeros, ones, linspace, identity matrix..."
   ]
  },
  {
   "cell_type": "code",
   "execution_count": null,
   "metadata": {},
   "outputs": [],
   "source": [
    "c = np.zeros((4,2,3))\n",
    "c"
   ]
  },
  {
   "cell_type": "code",
   "execution_count": null,
   "metadata": {},
   "outputs": [],
   "source": [
    "d = np.ones((2,2))\n",
    "d"
   ]
  },
  {
   "cell_type": "code",
   "execution_count": null,
   "metadata": {},
   "outputs": [],
   "source": [
    "e = np.arange(0, 10, .5, dtype=float)\n",
    "e"
   ]
  },
  {
   "cell_type": "code",
   "execution_count": null,
   "metadata": {},
   "outputs": [],
   "source": [
    "f = np.linspace(0, 5, 10)\n",
    "f"
   ]
  },
  {
   "cell_type": "code",
   "execution_count": null,
   "metadata": {},
   "outputs": [],
   "source": [
    "g = np.eye(4)\n",
    "g"
   ]
  },
  {
   "cell_type": "markdown",
   "metadata": {},
   "source": [
    "## Generating Random Numbers"
   ]
  },
  {
   "cell_type": "code",
   "execution_count": null,
   "metadata": {},
   "outputs": [],
   "source": [
    "# uniform\n",
    "h = np.random.rand(5)\n",
    "h"
   ]
  },
  {
   "cell_type": "code",
   "execution_count": null,
   "metadata": {},
   "outputs": [],
   "source": [
    "# normal distribution\n",
    "i = np.random.randn(10)\n",
    "i"
   ]
  },
  {
   "cell_type": "code",
   "execution_count": null,
   "metadata": {},
   "outputs": [],
   "source": [
    "j = np.random.randint(4,10,(4,4))\n",
    "j"
   ]
  },
  {
   "cell_type": "markdown",
   "metadata": {},
   "source": [
    "## Data Types"
   ]
  },
  {
   "cell_type": "code",
   "execution_count": null,
   "metadata": {},
   "outputs": [],
   "source": [
    "print(np.int64)\n",
    "print(np.float64)\n",
    "print(np.bool)\n",
    "print(np.string_)"
   ]
  },
  {
   "cell_type": "markdown",
   "metadata": {},
   "source": [
    "## Inspecting the array"
   ]
  },
  {
   "cell_type": "code",
   "execution_count": null,
   "metadata": {},
   "outputs": [],
   "source": [
    "print(a.shape)\n",
    "print(j.shape)\n",
    "print(c.shape)"
   ]
  },
  {
   "cell_type": "code",
   "execution_count": null,
   "metadata": {},
   "outputs": [],
   "source": [
    "b.ndim"
   ]
  },
  {
   "cell_type": "code",
   "execution_count": null,
   "metadata": {},
   "outputs": [],
   "source": [
    "print(a.dtype)\n",
    "print(b.dtype)"
   ]
  },
  {
   "cell_type": "code",
   "execution_count": null,
   "metadata": {},
   "outputs": [],
   "source": [
    "# cast\n",
    "b.astype(np.float64)"
   ]
  },
  {
   "cell_type": "markdown",
   "metadata": {},
   "source": [
    "## Arithmetic Operations\n",
    "\n",
    "Elementwise addition, subtraction, multiplication and division!"
   ]
  },
  {
   "cell_type": "code",
   "execution_count": null,
   "metadata": {},
   "outputs": [],
   "source": [
    "a = np.arange(16).reshape(4,4)\n",
    "a"
   ]
  },
  {
   "cell_type": "code",
   "execution_count": null,
   "metadata": {},
   "outputs": [],
   "source": [
    "b = np.eye(4) * 3\n",
    "b"
   ]
  },
  {
   "cell_type": "code",
   "execution_count": null,
   "metadata": {},
   "outputs": [],
   "source": [
    "a + b"
   ]
  },
  {
   "cell_type": "code",
   "execution_count": null,
   "metadata": {},
   "outputs": [],
   "source": [
    "c = np.linspace(0,9,4)\n",
    "c"
   ]
  },
  {
   "cell_type": "code",
   "execution_count": null,
   "metadata": {},
   "outputs": [],
   "source": [
    "# treats c vector as applied to every row - not dot!\n",
    "a * c"
   ]
  },
  {
   "cell_type": "code",
   "execution_count": null,
   "metadata": {},
   "outputs": [],
   "source": [
    "np.sin(a)"
   ]
  },
  {
   "cell_type": "code",
   "execution_count": null,
   "metadata": {},
   "outputs": [],
   "source": [
    "np.dot(a,c)"
   ]
  },
  {
   "cell_type": "code",
   "execution_count": null,
   "metadata": {
    "collapsed": true
   },
   "outputs": [],
   "source": [
    "import matplotlib.pyplot as plt\n",
    "%matplotlib inline"
   ]
  },
  {
   "cell_type": "code",
   "execution_count": null,
   "metadata": {},
   "outputs": [],
   "source": [
    "x = np.linspace(-np.pi*3,np.pi*3,100)\n",
    "y = np.sin(x)\n",
    "plt.plot(x,y)"
   ]
  },
  {
   "cell_type": "code",
   "execution_count": null,
   "metadata": {},
   "outputs": [],
   "source": [
    "b = y+1\n",
    "c = y*2\n",
    "d = -y\n",
    "e = np.sin(2*x)\n",
    "plt.plot(x,y,'k-',label=\"norm\")\n",
    "plt.plot(x,b,'r--',label=\"y+1\")\n",
    "plt.plot(x,c,'g--',label=\"y*2\")\n",
    "plt.plot(x,d,'b--',label=\"-y\")\n",
    "plt.plot(x,e,'x--',label=\"y**2\")\n",
    "plt.legend()"
   ]
  },
  {
   "cell_type": "markdown",
   "metadata": {},
   "source": [
    "## Aggregation\n",
    "\n",
    "Merging together values by row/column is very important."
   ]
  },
  {
   "cell_type": "code",
   "execution_count": null,
   "metadata": {},
   "outputs": [],
   "source": [
    "x = np.random.randn(1000)\n",
    "x.mean()"
   ]
  },
  {
   "cell_type": "code",
   "execution_count": null,
   "metadata": {},
   "outputs": [],
   "source": [
    "x.std()"
   ]
  },
  {
   "cell_type": "code",
   "execution_count": null,
   "metadata": {},
   "outputs": [],
   "source": [
    "a.mean(axis=0)"
   ]
  },
  {
   "cell_type": "code",
   "execution_count": null,
   "metadata": {},
   "outputs": [],
   "source": [
    "a.mean(axis=1)"
   ]
  },
  {
   "cell_type": "code",
   "execution_count": null,
   "metadata": {},
   "outputs": [],
   "source": [
    "a.cumsum()"
   ]
  },
  {
   "cell_type": "code",
   "execution_count": null,
   "metadata": {
    "collapsed": true
   },
   "outputs": [],
   "source": [
    "f = np.random.randn(1000)"
   ]
  },
  {
   "cell_type": "code",
   "execution_count": null,
   "metadata": {},
   "outputs": [],
   "source": [
    "np.corrcoef(x,f)"
   ]
  },
  {
   "cell_type": "code",
   "execution_count": null,
   "metadata": {},
   "outputs": [],
   "source": [
    "plt.scatter(x,f, alpha=.3)"
   ]
  },
  {
   "cell_type": "code",
   "execution_count": null,
   "metadata": {},
   "outputs": [],
   "source": [
    "# applying covariance matrix\n",
    "g = np.random.randn(1000,2)\n",
    "c = np.array([[2., 1.],[1., 2.]])\n",
    "# dot random values with covariance matrix\n",
    "h = np.dot(g,c)\n",
    "print(np.corrcoef(h[:,0],h[:,1]))"
   ]
  },
  {
   "cell_type": "code",
   "execution_count": null,
   "metadata": {},
   "outputs": [],
   "source": [
    "plt.scatter(h[:,0], h[:,1], alpha=.5, s=20.)"
   ]
  },
  {
   "cell_type": "code",
   "execution_count": null,
   "metadata": {},
   "outputs": [],
   "source": [
    "print(\"max: %f, min: %f, std: %f, sum: %f\" % (h.max(), h.min(), h.std(), h.sum()))"
   ]
  },
  {
   "cell_type": "code",
   "execution_count": null,
   "metadata": {},
   "outputs": [],
   "source": [
    "s = np.random.randint(0,100,(30,))\n",
    "np.sort(s)"
   ]
  },
  {
   "cell_type": "code",
   "execution_count": null,
   "metadata": {},
   "outputs": [],
   "source": [
    "# error bars\n",
    "N = 100\n",
    "P = 10\n",
    "# normal(mean, variance, size)\n",
    "s = np.random.normal(1.0, 0.5, size=(N,P))\n",
    "t = np.arange(N)\n",
    "sm = s.mean(axis=1)\n",
    "sd = s.std(axis=1)\n",
    "plt.plot(t,sm,'r-')\n",
    "plt.fill_between(t, sm + sd, sm - sd, color='r', alpha=.4)\n",
    "plt.xlabel(\"t\")\n",
    "plt.ylabel(r\"$\\epsilon$\")"
   ]
  },
  {
   "cell_type": "markdown",
   "metadata": {},
   "source": [
    "## Subsetting, Slicing, Indexing"
   ]
  },
  {
   "cell_type": "code",
   "execution_count": null,
   "metadata": {},
   "outputs": [],
   "source": [
    "a"
   ]
  },
  {
   "cell_type": "code",
   "execution_count": null,
   "metadata": {},
   "outputs": [],
   "source": [
    "a[0,:]"
   ]
  },
  {
   "cell_type": "code",
   "execution_count": null,
   "metadata": {},
   "outputs": [],
   "source": [
    "a[:2,1]"
   ]
  },
  {
   "cell_type": "code",
   "execution_count": null,
   "metadata": {},
   "outputs": [],
   "source": [
    "# use boolean mask selection\n",
    "a[(a < 7) | (a > 10)]"
   ]
  },
  {
   "cell_type": "code",
   "execution_count": null,
   "metadata": {},
   "outputs": [],
   "source": [
    "# reverse, reverse!\n",
    "a[::-1]"
   ]
  },
  {
   "cell_type": "markdown",
   "metadata": {},
   "source": [
    "### Copies vs Views\n",
    "\n",
    "A common **gotcha** moment.\n",
    "\n",
    "When we use 'slice' notation to look at part of an array, it produces a *view*, meaning it points to the same memory of the original array. If we use *fancy-indexing*, it will assign direct changes to the array.\n",
    "\n",
    "#### example:"
   ]
  },
  {
   "cell_type": "code",
   "execution_count": null,
   "metadata": {},
   "outputs": [],
   "source": [
    "x = np.arange(10)\n",
    "print(x)"
   ]
  },
  {
   "cell_type": "code",
   "execution_count": null,
   "metadata": {},
   "outputs": [],
   "source": [
    "y = x[::2]\n",
    "print(y)"
   ]
  },
  {
   "cell_type": "code",
   "execution_count": null,
   "metadata": {},
   "outputs": [],
   "source": [
    "y[3] = 100\n",
    "print(y)\n",
    "print(x)"
   ]
  },
  {
   "cell_type": "markdown",
   "metadata": {},
   "source": [
    "## Array Manipulation\n",
    "\n",
    "There are hosts of manipulations that can be applied to both vectors and matrices; we will explore the common ones here:"
   ]
  },
  {
   "cell_type": "code",
   "execution_count": null,
   "metadata": {},
   "outputs": [],
   "source": [
    "# transpose\n",
    "print(\"{} \\n\\n {}\".format(a, a.T))"
   ]
  },
  {
   "cell_type": "code",
   "execution_count": null,
   "metadata": {},
   "outputs": [],
   "source": [
    "a.ravel()"
   ]
  },
  {
   "cell_type": "code",
   "execution_count": null,
   "metadata": {},
   "outputs": [],
   "source": [
    "a.reshape(2,8)"
   ]
  },
  {
   "cell_type": "code",
   "execution_count": null,
   "metadata": {},
   "outputs": [],
   "source": [
    "np.vstack((\n",
    "    a.reshape(2,8),\n",
    "    a.reshape(2,8)\n",
    "))"
   ]
  },
  {
   "cell_type": "code",
   "execution_count": null,
   "metadata": {},
   "outputs": [],
   "source": [
    "np.hstack((a,a))"
   ]
  },
  {
   "cell_type": "code",
   "execution_count": null,
   "metadata": {
    "collapsed": true
   },
   "outputs": [],
   "source": [
    "b = np.eye(4)"
   ]
  },
  {
   "cell_type": "code",
   "execution_count": null,
   "metadata": {},
   "outputs": [],
   "source": [
    "np.concatenate((a,b), axis=0)"
   ]
  },
  {
   "cell_type": "code",
   "execution_count": null,
   "metadata": {},
   "outputs": [],
   "source": [
    "np.concatenate((a,b), axis=1)"
   ]
  },
  {
   "cell_type": "markdown",
   "metadata": {},
   "source": [
    "### Fast-Fourier Transforms (FFTs)"
   ]
  },
  {
   "cell_type": "code",
   "execution_count": null,
   "metadata": {},
   "outputs": [],
   "source": [
    "# sample spacing\n",
    "T = 1. / 300.\n",
    "# n points to sample\n",
    "N = 150\n",
    "freq = 30.\n",
    "\n",
    "x = np.linspace(0, N*T, N)\n",
    "# calculate a sine wave with 30 frequency\n",
    "y = np.sin(freq * 2.0*np.pi*x)\n",
    "# fourier transform\n",
    "yf = np.fft.fft(y)\n",
    "# adjust x space based on number of points N and sample spacing\n",
    "xf = np.linspace(0., 1./(2.*T), N/2)\n",
    "\n",
    "fig,ax = plt.subplots(ncols=2, figsize=(14,4))\n",
    "\n",
    "# plot\n",
    "ax[0].plot(x,y)\n",
    "ax[1].plot(xf, 2./N * np.abs(yf[0:int(N/2)]))\n",
    "# ax[1].plot([freq,freq],[0,1])\n",
    "ax[0].set_xlabel(\"$x$\")\n",
    "ax[0].set_ylabel(r\"$\\sin 100\\pi x$\")\n",
    "ax[1].set_xlabel(\"$Hz$\")\n",
    "ax[1].set_ylabel(\"$y_f$\")\n"
   ]
  },
  {
   "cell_type": "markdown",
   "metadata": {},
   "source": [
    "### Is it actually faster than using lists?\n",
    "\n",
    "NumPy is considerably faster than using in-house Python objects. Let's time it."
   ]
  },
  {
   "cell_type": "code",
   "execution_count": null,
   "metadata": {},
   "outputs": [],
   "source": [
    "our_list = list(range(10000))\n",
    "np_list = np.arange(10000)\n",
    "\n",
    "# test the list\n",
    "%timeit [i**2 for i in our_list]"
   ]
  },
  {
   "cell_type": "code",
   "execution_count": null,
   "metadata": {},
   "outputs": [],
   "source": [
    "# test numpy\n",
    "%timeit np_list ** 2"
   ]
  },
  {
   "cell_type": "markdown",
   "metadata": {},
   "source": [
    "# Tasks\n",
    "\n",
    "One of the areas of interest in *population genetics* is the study of mutation, selection and crossover within genetic populations. We will be exploring the use of the **Fisher-Wright model**. In this example, we will consider the change of an allele in the genetic population from state *A* (normal) to state *B* (mutant). We make some assumptions:\n",
    "1. *B* has a selective advantage of $1+s$.\n",
    "2. *A* mutates to *B* with forward mutation rate $\\mu$.\n",
    "3. *B* mutates to *A* with backward mutation rate $\\nu$.\n",
    "4. The population size $P$ is finite.\n",
    "\n",
    "To change the population $P$ over time $t$, we have a 3-stage process:\n",
    "\n",
    "To begin with, the number of mutants $n_0=0$.\n",
    "\n",
    "- We calculate the proportion of mutant seeds $p_s$ as:\n",
    "\n",
    "$$\n",
    "    p_s =\\frac{(1+s)n}{P+sn}\n",
    "$$\n",
    "\n",
    "- With the proportion of mutant seeds, we can estimate the proportion of mutants $p_{sm}$ produced from those mutant seeds:\n",
    "\n",
    "$$\n",
    "    p_{sm}=(1-\\nu)p_s + \\mu(1-p_s)\n",
    "$$\n",
    "\n",
    "- Using the total population P with the proportion of mutants $p_{sm}$, we can draw $n_t$ mutants from the binomial distribution. This can be used from np.random.binomial(P, p_sm).\n",
    "\n",
    "This program runs while the number of mutants $n_t<P$ population for takeover, or $t$ has exceeded some maximum time $T_{max}$.\n",
    "\n",
    "### Task 1. \n",
    "\n",
    "Write a function *fisher_wright(P, s, mu, nu, Tmax)* that, given the population size $P=500$, the selective advantage $s=0.1$, the forward $\\mu=0.05$ and backward $\\nu=0.05$ mutation rates, and a maximum time $T_{max}=10^4$ returns the number of mutants timeseries as a numpy array.\n",
    "\n",
    "### Task 2.\n",
    "\n",
    "Plot time $t$ against the number of mutants $n$ using plt.plot. Remember to label your axes.\n",
    "\n",
    "### Task 3.\n",
    "\n",
    "Modify *fisher_wright()* to take an additional argument, $N_r$, which could be the number of realisations (or attempts). Re-run the function with $N_r=1000$, take the mean with respect to $N_r$ and plot time $t$ against mean $n$ with error bars (as standard deviation), using plt.fill_between()."
   ]
  },
  {
   "cell_type": "code",
   "execution_count": null,
   "metadata": {
    "collapsed": true
   },
   "outputs": [],
   "source": []
  }
 ],
 "metadata": {
  "kernelspec": {
   "display_name": "Python 3",
   "language": "python",
   "name": "python3"
  },
  "language_info": {
   "codemirror_mode": {
    "name": "ipython",
    "version": 3
   },
   "file_extension": ".py",
   "mimetype": "text/x-python",
   "name": "python",
   "nbconvert_exporter": "python",
   "pygments_lexer": "ipython3",
   "version": "3.6.3"
  }
 },
 "nbformat": 4,
 "nbformat_minor": 2
}
