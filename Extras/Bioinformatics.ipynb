{
 "cells": [
  {
   "cell_type": "markdown",
   "metadata": {},
   "source": [
    "# Bioinformatics\n",
    "\n",
    "Here we are going to illustrate some bioinformatics in Python following:\n",
    "\n",
    "http://hplgit.github.io/bioinf-py/doc/pub/html/index.html\n",
    "~\n",
    "Drawing from their material."
   ]
  },
  {
   "cell_type": "markdown",
   "metadata": {},
   "source": [
    "Life is definitely digital. The genetic code of all living organisms are represented by a long sequence of simple molecules called nucleotides, or bases, which makes up the Deoxyribonucleic acid, better known as DNA. There are only four such nucleotides, and the entire genetic code of a human can be seen as a simple, though 3 billion long, string of the letters A, C, G, and T. Analyzing DNA data to gain increased biological understanding is much about searching in (long) strings for certain string patterns involving the letters A, C, G, and T. This is an integral part of bioinformatics, a scientific discipline addressing the use of computers to search for, explore, and use information about genes, nucleic acids, and proteins.\n",
    "\n",
    "## Basic Bioinformatics Examples in Python\n",
    "\n",
    "The instructions to the computer how the analysis is going to be performed are specified using the Python programming language. The forthcoming examples are simple illustrations of the type of problem settings and corresponding Python implementations that are encountered in bioinformatics. However, the leading Python software for bioinformatics applications is [BioPython](https://biopython.org/) and for real-world problem solving one should rather utilize BioPython instead of home-made solutions. The aim of the sections below is to illustrate the nature of bioinformatics analysis and introduce what is inside packages like BioPython.\n",
    "\n",
    "We shall start with some very simple examples on DNA analysis that bring together basic building blocks in programming: loops, if tests, and functions. As reader you should be somewhat familiar with these building blocks in general and also know about the specific Python syntax.\n",
    "\n",
    "## Counting Letters in DNA Strings\n",
    "\n",
    "Given some string `dna` containing the letters A, C, G, or T, representing the bases that make up DNA, we ask the question: how many times does a certain base occur in the DNA string? For example, if dna is ATGGCATTA and we ask how many times the base A occur in this string, the answer is 3.\n",
    "\n",
    "A general Python implementation answering this problem can be done in many ways. Several possible solutions are presented below."
   ]
  },
  {
   "cell_type": "code",
   "execution_count": 1,
   "metadata": {},
   "outputs": [
    {
     "data": {
      "text/plain": [
       "['A', 'T', 'G', 'C']"
      ]
     },
     "execution_count": 1,
     "metadata": {},
     "output_type": "execute_result"
    }
   ],
   "source": [
    "list(\"ATGC\")"
   ]
  },
  {
   "cell_type": "code",
   "execution_count": 2,
   "metadata": {},
   "outputs": [
    {
     "data": {
      "text/plain": [
       "3"
      ]
     },
     "execution_count": 2,
     "metadata": {},
     "output_type": "execute_result"
    }
   ],
   "source": [
    "dna = 'ATGCGGACCTAT'\n",
    "base = 'C'\n",
    "dna.count(base)"
   ]
  },
  {
   "cell_type": "markdown",
   "metadata": {},
   "source": [
    "## Generating Random DNA strings\n",
    "\n",
    "We can use the `random.choice` function to select a character from our 'alphabet' of A, T, C or G.\n",
    "\n",
    "The random.choice(x) function selects an element in the list x at random.\n",
    "\n",
    "Note that `N` is very often a large number. In Python version 2.x, `range(N)` generates a list of N integers. We can avoid the list by using `xrange` which generates an integer at a time and not the whole list. In Python version 3.x, the range function is actually the `xrange` function in version 2.x. Using `xrange`, combining the statements, and wrapping the construction of a random DNA string in a function, gives"
   ]
  },
  {
   "cell_type": "code",
   "execution_count": 8,
   "metadata": {},
   "outputs": [
    {
     "data": {
      "text/plain": [
       "'TGTGAGGGCC'"
      ]
     },
     "execution_count": 8,
     "metadata": {},
     "output_type": "execute_result"
    }
   ],
   "source": [
    "import random\n",
    "alphabet = list(\"ATCG\")\n",
    "dna = \"\".join([random.choice(alphabet) for i in range(10)])\n",
    "dna"
   ]
  },
  {
   "cell_type": "markdown",
   "metadata": {},
   "source": [
    "## Computing Frequencies\n",
    "\n",
    "Your genetic code is essentially the same from you are born until you die, and the same in your blood and your brain. Which genes that are turned on and off make the difference between the cells. This regulation of genes is orchestrated by an immensely complex mechanism, which we have only started to understand. A central part of this mechanism consists of molecules called transcription factors that float around in the cell and attach to DNA, and in doing so turn nearby genes on or off. These molecules bind preferentially to specific DNA sequences, and this binding preference pattern can be represented by a table of frequencies of given symbols at each position of the pattern. More precisely, each row in the table corresponds to the bases A, C, G, and T, while column j reflects how many times the base appears in position j in the DNA sequence.\n",
    "\n",
    "For example, if our set of DNA sequences are TAG, GGT, and GGG, the table becomes:\n",
    "\n",
    "| **base** | **0** | **1** | **2** |\n",
    "| ----- | -- | -- | -- |\n",
    "| A | 0 | 1 | 0 |\n",
    "| C | 0 | 0 | 0 |\n",
    "| G | 2 | 2 | 2 |\n",
    "| T | 1 | 0 | 1 |\n",
    "\n",
    "From this table we can read that base A appears once in index 1 in the DNA strings, base C does not appear at all, base G appears twice in all positions, and base T appears once in the beginning and end of the strings.\n",
    "\n",
    "In the following we shall present different data structures to hold such a table and different ways of computing them. The table is known as a frequency matrix in bioinformatics and this is the term used here too."
   ]
  },
  {
   "cell_type": "code",
   "execution_count": 194,
   "metadata": {},
   "outputs": [],
   "source": [
    "import numpy as np\n",
    "def generate_sequence(N, as_str=False):\n",
    "    alphabet=list(\"ATCG\")\n",
    "    if as_str:\n",
    "        return \"\".join([random.choice(alphabet) for i in range(N)])\n",
    "    else:\n",
    "        return [random.choice(alphabet) for i in range(N)]\n",
    "    \n",
    "dna_list = np.asarray([generate_sequence(100) for i in range(1000)])"
   ]
  },
  {
   "cell_type": "markdown",
   "metadata": {},
   "source": [
    "We're going to use `numpy` and `pandas` to generate a matrix of these characters which should make counting substantially easier:"
   ]
  },
  {
   "cell_type": "code",
   "execution_count": 195,
   "metadata": {},
   "outputs": [],
   "source": [
    "import pandas as pd"
   ]
  },
  {
   "cell_type": "code",
   "execution_count": 196,
   "metadata": {},
   "outputs": [],
   "source": [
    "def calculate_count(MAT):\n",
    "    length, strand = MAT.shape\n",
    "    freqs = []\n",
    "    for j in range(strand):\n",
    "        uniq, counts = np.unique(dna_list[:,j], return_counts=True)\n",
    "        freqs.append(pd.Series(counts, index=uniq, dtype=np.int_))\n",
    "    return pd.concat(freqs,axis=1,sort=False).fillna(0).astype(np.int_)\n",
    "\n",
    "counts = calculate_count(dna_list)"
   ]
  },
  {
   "cell_type": "code",
   "execution_count": 197,
   "metadata": {},
   "outputs": [
    {
     "data": {
      "text/html": [
       "<div>\n",
       "<style scoped>\n",
       "    .dataframe tbody tr th:only-of-type {\n",
       "        vertical-align: middle;\n",
       "    }\n",
       "\n",
       "    .dataframe tbody tr th {\n",
       "        vertical-align: top;\n",
       "    }\n",
       "\n",
       "    .dataframe thead th {\n",
       "        text-align: right;\n",
       "    }\n",
       "</style>\n",
       "<table border=\"1\" class=\"dataframe\">\n",
       "  <thead>\n",
       "    <tr style=\"text-align: right;\">\n",
       "      <th></th>\n",
       "      <th>0</th>\n",
       "      <th>1</th>\n",
       "      <th>2</th>\n",
       "      <th>3</th>\n",
       "      <th>4</th>\n",
       "      <th>5</th>\n",
       "      <th>6</th>\n",
       "      <th>7</th>\n",
       "      <th>8</th>\n",
       "      <th>9</th>\n",
       "      <th>...</th>\n",
       "      <th>90</th>\n",
       "      <th>91</th>\n",
       "      <th>92</th>\n",
       "      <th>93</th>\n",
       "      <th>94</th>\n",
       "      <th>95</th>\n",
       "      <th>96</th>\n",
       "      <th>97</th>\n",
       "      <th>98</th>\n",
       "      <th>99</th>\n",
       "    </tr>\n",
       "  </thead>\n",
       "  <tbody>\n",
       "    <tr>\n",
       "      <th>A</th>\n",
       "      <td>236</td>\n",
       "      <td>252</td>\n",
       "      <td>239</td>\n",
       "      <td>247</td>\n",
       "      <td>263</td>\n",
       "      <td>246</td>\n",
       "      <td>244</td>\n",
       "      <td>260</td>\n",
       "      <td>248</td>\n",
       "      <td>244</td>\n",
       "      <td>...</td>\n",
       "      <td>243</td>\n",
       "      <td>243</td>\n",
       "      <td>253</td>\n",
       "      <td>235</td>\n",
       "      <td>257</td>\n",
       "      <td>247</td>\n",
       "      <td>257</td>\n",
       "      <td>239</td>\n",
       "      <td>251</td>\n",
       "      <td>240</td>\n",
       "    </tr>\n",
       "    <tr>\n",
       "      <th>C</th>\n",
       "      <td>280</td>\n",
       "      <td>263</td>\n",
       "      <td>242</td>\n",
       "      <td>247</td>\n",
       "      <td>242</td>\n",
       "      <td>251</td>\n",
       "      <td>265</td>\n",
       "      <td>260</td>\n",
       "      <td>252</td>\n",
       "      <td>257</td>\n",
       "      <td>...</td>\n",
       "      <td>243</td>\n",
       "      <td>261</td>\n",
       "      <td>258</td>\n",
       "      <td>260</td>\n",
       "      <td>229</td>\n",
       "      <td>277</td>\n",
       "      <td>222</td>\n",
       "      <td>265</td>\n",
       "      <td>240</td>\n",
       "      <td>268</td>\n",
       "    </tr>\n",
       "    <tr>\n",
       "      <th>G</th>\n",
       "      <td>252</td>\n",
       "      <td>256</td>\n",
       "      <td>281</td>\n",
       "      <td>265</td>\n",
       "      <td>260</td>\n",
       "      <td>253</td>\n",
       "      <td>245</td>\n",
       "      <td>258</td>\n",
       "      <td>245</td>\n",
       "      <td>266</td>\n",
       "      <td>...</td>\n",
       "      <td>237</td>\n",
       "      <td>248</td>\n",
       "      <td>220</td>\n",
       "      <td>249</td>\n",
       "      <td>232</td>\n",
       "      <td>252</td>\n",
       "      <td>264</td>\n",
       "      <td>238</td>\n",
       "      <td>224</td>\n",
       "      <td>241</td>\n",
       "    </tr>\n",
       "    <tr>\n",
       "      <th>T</th>\n",
       "      <td>232</td>\n",
       "      <td>229</td>\n",
       "      <td>238</td>\n",
       "      <td>241</td>\n",
       "      <td>235</td>\n",
       "      <td>250</td>\n",
       "      <td>246</td>\n",
       "      <td>222</td>\n",
       "      <td>255</td>\n",
       "      <td>233</td>\n",
       "      <td>...</td>\n",
       "      <td>277</td>\n",
       "      <td>248</td>\n",
       "      <td>269</td>\n",
       "      <td>256</td>\n",
       "      <td>282</td>\n",
       "      <td>224</td>\n",
       "      <td>257</td>\n",
       "      <td>258</td>\n",
       "      <td>285</td>\n",
       "      <td>251</td>\n",
       "    </tr>\n",
       "  </tbody>\n",
       "</table>\n",
       "<p>4 rows × 100 columns</p>\n",
       "</div>"
      ],
      "text/plain": [
       "    0    1    2    3    4    5    6    7    8    9  ...    90   91   92   93  \\\n",
       "A  236  252  239  247  263  246  244  260  248  244 ...   243  243  253  235   \n",
       "C  280  263  242  247  242  251  265  260  252  257 ...   243  261  258  260   \n",
       "G  252  256  281  265  260  253  245  258  245  266 ...   237  248  220  249   \n",
       "T  232  229  238  241  235  250  246  222  255  233 ...   277  248  269  256   \n",
       "\n",
       "    94   95   96   97   98   99  \n",
       "A  257  247  257  239  251  240  \n",
       "C  229  277  222  265  240  268  \n",
       "G  232  252  264  238  224  241  \n",
       "T  282  224  257  258  285  251  \n",
       "\n",
       "[4 rows x 100 columns]"
      ]
     },
     "execution_count": 197,
     "metadata": {},
     "output_type": "execute_result"
    }
   ],
   "source": [
    "counts"
   ]
  },
  {
   "cell_type": "markdown",
   "metadata": {},
   "source": [
    "## Analyzing the Frequency Matrix\n",
    "\n",
    "Having built a frequency matrix out of a collection of DNA strings, it is time to use it for analysis. The short DNA strings that a frequency matrix is built out of, is typically a set of substrings of a larger DNA sequence, which shares some common purpose. An example of this is to have a set of substrings that serves as a kind of anchors/magnets at which given molecules attach to DNA and perform biological functions (like turning genes on or off). With the frequency matrix constructed from a limited set of known anchor locations (substrings), we can now scan for other similar substrings that have the potential to perform the same function. The simplest way to do this is to first determine the most typical substring according to the frequency matrix, i.e., the substring having the most frequent nucleotide at each position. This is referred to as the consensus string of the frequency matrix. We can then look for occurrences of the consensus substring in a larger DNA sequence, and consider these occurrences as likely candidates for serving the same function (e.g., as anchor locations for molecules)."
   ]
  },
  {
   "cell_type": "code",
   "execution_count": 116,
   "metadata": {},
   "outputs": [],
   "source": [
    "def find_consensus_v1(frequency_matrix):\n",
    "    base2index = {'A': 0, 'C': 1, 'G': 2, 'T': 3}\n",
    "    consensus = ''\n",
    "    frequency_matrix=np.asarray(frequency_matrix)\n",
    "    dna_length = len(frequency_matrix[0])\n",
    "\n",
    "    for i in range(dna_length):  # loop over positions in string\n",
    "        max_freq = -1            # holds the max freq. for this i\n",
    "        max_freq_base = None     # holds the corresponding base\n",
    "\n",
    "        for base in 'ATGC':\n",
    "            if frequency_matrix[base2index[base]][i] > max_freq:\n",
    "                max_freq = frequency_matrix[base2index[base]][i]\n",
    "                max_freq_base = base\n",
    "            elif frequency_matrix[base2index[base]][i] == max_freq:\n",
    "                max_freq_base = '-' # more than one base as max\n",
    "\n",
    "        consensus += max_freq_base  # add new base with max freq\n",
    "    return consensus"
   ]
  },
  {
   "cell_type": "code",
   "execution_count": 117,
   "metadata": {},
   "outputs": [
    {
     "data": {
      "text/plain": [
       "'AATCAAT-ACAACAATTTCCGTTGCCGCCGTAAAA-ACATCTC-GATGAAGGTCGCCGTATCATACCCTAAT-AGTGGGTCTGACGTGAACATTAATAAT'"
      ]
     },
     "execution_count": 117,
     "metadata": {},
     "output_type": "execute_result"
    }
   ],
   "source": [
    "find_consensus_v1(counts)"
   ]
  },
  {
   "cell_type": "markdown",
   "metadata": {},
   "source": [
    "Alternatively using `pandas` we can compute this substantially faster.\n",
    "\n",
    "We create a *custom function* called `exclusive_max` that returns the character with the highest count *only if* it is a unique maximum, else we return a blank character.\n",
    "\n",
    "We then simply aggregate over all the base positions and apply the function."
   ]
  },
  {
   "cell_type": "code",
   "execution_count": 165,
   "metadata": {},
   "outputs": [],
   "source": [
    "def exclusive_max(col):\n",
    "    \"\"\"Given a column of DNA base frequencies, find the \n",
    "    exclusive maximum, or return '-' if no exclusive exists.\n",
    "    \"\"\"\n",
    "    mx = col.max()\n",
    "    if ((col.eq(mx).sum())) == 1:\n",
    "        return col.idxmax()\n",
    "    else:\n",
    "        return \"-\"\n",
    "\n",
    "def find_consensus_slow(freq_matrix):\n",
    "    \"\"\"assumes freq_matrix is a pandas.DataFrame\"\"\"\n",
    "    if isinstance(freq_matrix, pd.DataFrame):\n",
    "        return freq_matrix.aggregate(exclusive_max).str.cat()\n",
    "    else:\n",
    "        raise TypeError(\"freq_matrix must be of type 'pd.DataFrame'\")"
   ]
  },
  {
   "cell_type": "code",
   "execution_count": 166,
   "metadata": {},
   "outputs": [
    {
     "data": {
      "text/plain": [
       "'AATCAAT-ACAACAATTTCCGTTGCCGCCGTAAAA-ACATCTC-GATGAAGGTCGCCGTATCATACCCTAAT-AGTGGGTCTGACGTGAACATTAATAAT'"
      ]
     },
     "execution_count": 166,
     "metadata": {},
     "output_type": "execute_result"
    }
   ],
   "source": [
    "find_consensus_slow(counts)"
   ]
  },
  {
   "cell_type": "code",
   "execution_count": 167,
   "metadata": {},
   "outputs": [
    {
     "name": "stdout",
     "output_type": "stream",
     "text": [
      "203 µs ± 156 ns per loop (mean ± std. dev. of 7 runs, 1000 loops each)\n"
     ]
    }
   ],
   "source": [
    "%timeit find_consensus_v1(counts)"
   ]
  },
  {
   "cell_type": "code",
   "execution_count": 168,
   "metadata": {},
   "outputs": [
    {
     "name": "stdout",
     "output_type": "stream",
     "text": [
      "28.8 ms ± 104 µs per loop (mean ± std. dev. of 7 runs, 10 loops each)\n"
     ]
    }
   ],
   "source": [
    "%timeit find_consensus_slow(counts)"
   ]
  },
  {
   "cell_type": "markdown",
   "metadata": {},
   "source": [
    "## Dot Plots from Pair of DNA Sequences\n",
    "\n",
    "Dot plots are commonly used to visualize the similarity between two protein or nucleic acid sequences. They compare two sequences, say $d_1$ and $d_2$, by organizing $d_1$ along the x-axis and $d_2$ along the y-axis of a plot. When `d1[i] == d2[j]` we mark this by drawing a dot at location $(i,j)$ in the plot. An example is"
   ]
  },
  {
   "cell_type": "code",
   "execution_count": 127,
   "metadata": {},
   "outputs": [],
   "source": [
    "def dotplot_list_of_lists(dna_x, dna_y):\n",
    "    dotplot_matrix = [['0' for x in dna_x] for y in dna_y]\n",
    "    for x_index, x_value in enumerate(dna_x):\n",
    "        for y_index, y_value in enumerate(dna_y):\n",
    "            if x_value == y_value:\n",
    "                dotplot_matrix[y_index][x_index] = '1'\n",
    "    return dotplot_matrix"
   ]
  },
  {
   "cell_type": "code",
   "execution_count": 128,
   "metadata": {},
   "outputs": [
    {
     "data": {
      "text/plain": [
       "[['0', '0', '0', '0', '0', '1', '1', '0', '0', '0', '0', '0'],\n",
       " ['1', '0', '0', '1', '0', '0', '0', '1', '0', '0', '0', '1'],\n",
       " ['0', '0', '0', '0', '0', '1', '1', '0', '0', '0', '0', '0'],\n",
       " ['1', '0', '0', '1', '0', '0', '0', '1', '0', '0', '0', '1'],\n",
       " ['0', '1', '1', '0', '0', '0', '0', '0', '0', '1', '1', '0'],\n",
       " ['1', '0', '0', '1', '0', '0', '0', '1', '0', '0', '0', '1'],\n",
       " ['0', '0', '0', '0', '1', '0', '0', '0', '1', '0', '0', '0'],\n",
       " ['0', '0', '0', '0', '0', '1', '1', '0', '0', '0', '0', '0'],\n",
       " ['0', '0', '0', '0', '0', '1', '1', '0', '0', '0', '0', '0']]"
      ]
     },
     "execution_count": 128,
     "metadata": {},
     "output_type": "execute_result"
    }
   ],
   "source": [
    "dna_x = 'TAATGCCTGAAT'\n",
    "dna_y = 'CTCTATGCC'\n",
    "dotplot_list_of_lists(dna_x, dna_y)"
   ]
  },
  {
   "cell_type": "code",
   "execution_count": 129,
   "metadata": {},
   "outputs": [],
   "source": [
    "def dotplot_numpy(dna_x, dna_y):\n",
    "    dotplot_matrix = np.zeros((len(dna_y), len(dna_x)), np.int)\n",
    "    for x_index, x_value in enumerate(dna_x):\n",
    "        for y_index, y_value in enumerate(dna_y):\n",
    "            if x_value == y_value:\n",
    "                dotplot_matrix[y_index,x_index] = 1\n",
    "    return dotplot_matrix"
   ]
  },
  {
   "cell_type": "code",
   "execution_count": 130,
   "metadata": {},
   "outputs": [
    {
     "data": {
      "text/plain": [
       "array([[0, 0, 0, 0, 0, 1, 1, 0, 0, 0, 0, 0],\n",
       "       [1, 0, 0, 1, 0, 0, 0, 1, 0, 0, 0, 1],\n",
       "       [0, 0, 0, 0, 0, 1, 1, 0, 0, 0, 0, 0],\n",
       "       [1, 0, 0, 1, 0, 0, 0, 1, 0, 0, 0, 1],\n",
       "       [0, 1, 1, 0, 0, 0, 0, 0, 0, 1, 1, 0],\n",
       "       [1, 0, 0, 1, 0, 0, 0, 1, 0, 0, 0, 1],\n",
       "       [0, 0, 0, 0, 1, 0, 0, 0, 1, 0, 0, 0],\n",
       "       [0, 0, 0, 0, 0, 1, 1, 0, 0, 0, 0, 0],\n",
       "       [0, 0, 0, 0, 0, 1, 1, 0, 0, 0, 0, 0]])"
      ]
     },
     "execution_count": 130,
     "metadata": {},
     "output_type": "execute_result"
    }
   ],
   "source": [
    "dotplot_numpy(dna_x, dna_y)"
   ]
  },
  {
   "cell_type": "markdown",
   "metadata": {},
   "source": [
    "## Base Frequencies\n",
    "\n",
    "DNA consists of four molecules called nucleotides, or bases, and can be represented as a string of the letters A, C, G, and T. But this does not mean that all four nucleotides need to be similarly frequent. Are some nucleotides more frequent than others, say in yeast, as represented by the first chromosome of yeast? Also, DNA is really not a single thread, but two threads wound together. This wounding is based on an A from one thread binding to a T of the other thread, and C binding to G (that is, A will only bind with T, not with C or G). Could this fact force groups of the four symbol frequencies to be equal? The answer is that the A-T and G-C binding does not in principle force certain frequencies to be equal, but in practice they usually become so because of evolutionary factors related to this pairing.\n",
    "\n",
    "Our first programming task now is to compute the frequencies of the bases A, C, G, and T. That is, the number of times each base occurs in the DNA string, divided by the length of the string. For example, if the DNA string is ACGGAAA, the length is 7, A appears 4 times with frequency 4/7, C appears once with frequency 1/7, G appears twice with frequency 2/7, and T does not appear so the frequency is 0.\n",
    "\n",
    "From a coding perspective we may create a function for counting how many times A, C, G, and T appears in the string and then another function for computing the frequencies. In both cases we want dictionaries such that we can index with the character and get the count or the frequency out."
   ]
  },
  {
   "cell_type": "code",
   "execution_count": 191,
   "metadata": {},
   "outputs": [],
   "source": [
    "def get_base_frequencies_v1(s):\n",
    "    return {base: s.count(base) / float(len(s)) for base in \"ATGC\"}"
   ]
  },
  {
   "cell_type": "code",
   "execution_count": 207,
   "metadata": {},
   "outputs": [
    {
     "data": {
      "text/plain": [
       "{'A': 0.257, 'T': 0.236, 'G': 0.24, 'C': 0.267}"
      ]
     },
     "execution_count": 207,
     "metadata": {},
     "output_type": "execute_result"
    }
   ],
   "source": [
    "get_base_frequencies_v1(generate_sequence(1000, as_str=True))"
   ]
  },
  {
   "cell_type": "markdown",
   "metadata": {},
   "source": [
    "### Real world example: Yeast chromosome\n",
    "\n",
    "    wget http://hplgit.github.com/bioinf-py/data/yeast_chr1.txt"
   ]
  },
  {
   "cell_type": "code",
   "execution_count": 203,
   "metadata": {},
   "outputs": [],
   "source": [
    "def read_dnafile(filename):\n",
    "    lines = open(filename,\"r\").readlines()\n",
    "    dna = \"\".join([line.strip() for line in lines])\n",
    "    return dna"
   ]
  },
  {
   "cell_type": "code",
   "execution_count": 206,
   "metadata": {},
   "outputs": [
    {
     "data": {
      "text/plain": [
       "{'A': 0.3033256880733945,\n",
       " 'T': 0.30394252154573254,\n",
       " 'G': 0.19879847789824853,\n",
       " 'C': 0.1939333124826244}"
      ]
     },
     "execution_count": 206,
     "metadata": {},
     "output_type": "execute_result"
    }
   ],
   "source": [
    "yeast = read_dnafile(\"yeast_chr1.txt\")\n",
    "get_base_frequencies_v1(yeast)"
   ]
  },
  {
   "cell_type": "markdown",
   "metadata": {},
   "source": [
    "The varying frequency of different nucleotides in DNA is referred to as nucleotide bias. The nucleotide bias varies between organisms, and have a range of biological implications. For many organisms the nucleotide bias has been highly optimized through evolution and reflects characteristics of the organisms and their environments, for instance the typical temperature the organism is adapted to. The interested reader can, e.g., find more details in [this article](http://embor.embopress.org/content/6/12/1208).\n",
    "\n",
    "## Translating Genes into Proteins\n",
    "\n",
    "An important usage of DNA is for cells to store information on their arsenal of proteins. Briefly, a gene is, in essence, a region of the DNA, consisting of several coding parts (called exons), interspersed by non-coding parts (called introns). The coding parts are concatenated to form a string called mRNA, where also occurrences of the letter T in the coding parts are substituted by a U. A triplet of mRNA letters code for a specific amino acid, which are the building blocks of proteins. Consecutive triplets of letters in mRNA define a specific sequence of amino acids, which amounts to a certain protein.\n",
    "\n",
    "Here is an example of using the mapping from DNA to proteins to create the Lactase protein (LPH), using the DNA sequence of the Lactase gene (LCT) as underlying code. An important functional property of LPH is in digesting Lactose, which is found most notably in milk. Lack of the functionality of LPH leads to digestive problems referred to as lactose intolerance. Most mammals and humans lose their expression of LCT and therefore their ability to digest milk when they stop receiving breast milk.\n",
    "\n",
    "The genetic code file can be obtained with:\n",
    "\n",
    "    wget http://hplgit.github.com/bioinf-py/data/genetic_code.tsv"
   ]
  },
  {
   "cell_type": "code",
   "execution_count": 217,
   "metadata": {},
   "outputs": [],
   "source": [
    "genetic_code = pd.read_csv(\"genetic_code.tsv\", sep=\"\\t\", header=None)\n",
    "genetic_code.columns = [\"Triplet\", \"AA-code\", \"AA-name\", \"AA-fullname\"]"
   ]
  },
  {
   "cell_type": "code",
   "execution_count": 219,
   "metadata": {},
   "outputs": [
    {
     "data": {
      "text/html": [
       "<div>\n",
       "<style scoped>\n",
       "    .dataframe tbody tr th:only-of-type {\n",
       "        vertical-align: middle;\n",
       "    }\n",
       "\n",
       "    .dataframe tbody tr th {\n",
       "        vertical-align: top;\n",
       "    }\n",
       "\n",
       "    .dataframe thead th {\n",
       "        text-align: right;\n",
       "    }\n",
       "</style>\n",
       "<table border=\"1\" class=\"dataframe\">\n",
       "  <thead>\n",
       "    <tr style=\"text-align: right;\">\n",
       "      <th></th>\n",
       "      <th>Triplet</th>\n",
       "      <th>AA-code</th>\n",
       "      <th>AA-name</th>\n",
       "      <th>AA-fullname</th>\n",
       "    </tr>\n",
       "  </thead>\n",
       "  <tbody>\n",
       "    <tr>\n",
       "      <th>0</th>\n",
       "      <td>UUU</td>\n",
       "      <td>F</td>\n",
       "      <td>Phe</td>\n",
       "      <td>Phenylalanine</td>\n",
       "    </tr>\n",
       "    <tr>\n",
       "      <th>1</th>\n",
       "      <td>UUC</td>\n",
       "      <td>F</td>\n",
       "      <td>Phe</td>\n",
       "      <td>Phenylalanine</td>\n",
       "    </tr>\n",
       "    <tr>\n",
       "      <th>2</th>\n",
       "      <td>UUA</td>\n",
       "      <td>L</td>\n",
       "      <td>Leu</td>\n",
       "      <td>Leucine</td>\n",
       "    </tr>\n",
       "    <tr>\n",
       "      <th>3</th>\n",
       "      <td>UUG</td>\n",
       "      <td>L</td>\n",
       "      <td>Leu</td>\n",
       "      <td>Leucine</td>\n",
       "    </tr>\n",
       "    <tr>\n",
       "      <th>4</th>\n",
       "      <td>CUU</td>\n",
       "      <td>L</td>\n",
       "      <td>Leu</td>\n",
       "      <td>Leucine</td>\n",
       "    </tr>\n",
       "  </tbody>\n",
       "</table>\n",
       "</div>"
      ],
      "text/plain": [
       "  Triplet AA-code AA-name    AA-fullname\n",
       "0     UUU       F     Phe  Phenylalanine\n",
       "1     UUC       F     Phe  Phenylalanine\n",
       "2     UUA       L     Leu        Leucine\n",
       "3     UUG       L     Leu        Leucine\n",
       "4     CUU       L     Leu        Leucine"
      ]
     },
     "execution_count": 219,
     "metadata": {},
     "output_type": "execute_result"
    }
   ],
   "source": [
    "genetic_code.head()"
   ]
  },
  {
   "cell_type": "markdown",
   "metadata": {},
   "source": [
    "To form mRNA, we need to grab the exon regions (the coding parts) of the lactase gene. These regions are substrings of the lactase gene DNA string, corresponding to the start and end positions of the exon regions. Then we must replace T by U, and combine all the substrings to build the mRNA string.\n",
    "\n",
    "Obtain the lactase exon using the following:\n",
    "\n",
    "    wget http://hplgit.github.com/bioinf-py/data/lactase_exon.tsv\n",
    "    wget http://hplgit.github.com/bioinf-py/data/lactase_gene.txt\n",
    "    \n",
    "where `lactase_exon` provides the (start, end) tuples of each exon junction."
   ]
  },
  {
   "cell_type": "code",
   "execution_count": 224,
   "metadata": {},
   "outputs": [],
   "source": [
    "lactase_exon = pd.read_csv(\"lactase_exon.tsv\",sep=\"\\t\",header=None)\n",
    "lactase_exon.columns=[\"start\",\"end\"]"
   ]
  },
  {
   "cell_type": "code",
   "execution_count": 226,
   "metadata": {},
   "outputs": [
    {
     "data": {
      "text/html": [
       "<div>\n",
       "<style scoped>\n",
       "    .dataframe tbody tr th:only-of-type {\n",
       "        vertical-align: middle;\n",
       "    }\n",
       "\n",
       "    .dataframe tbody tr th {\n",
       "        vertical-align: top;\n",
       "    }\n",
       "\n",
       "    .dataframe thead th {\n",
       "        text-align: right;\n",
       "    }\n",
       "</style>\n",
       "<table border=\"1\" class=\"dataframe\">\n",
       "  <thead>\n",
       "    <tr style=\"text-align: right;\">\n",
       "      <th></th>\n",
       "      <th>start</th>\n",
       "      <th>end</th>\n",
       "    </tr>\n",
       "  </thead>\n",
       "  <tbody>\n",
       "    <tr>\n",
       "      <th>0</th>\n",
       "      <td>0</td>\n",
       "      <td>651</td>\n",
       "    </tr>\n",
       "    <tr>\n",
       "      <th>1</th>\n",
       "      <td>3990</td>\n",
       "      <td>4070</td>\n",
       "    </tr>\n",
       "    <tr>\n",
       "      <th>2</th>\n",
       "      <td>7504</td>\n",
       "      <td>7588</td>\n",
       "    </tr>\n",
       "    <tr>\n",
       "      <th>3</th>\n",
       "      <td>13177</td>\n",
       "      <td>13280</td>\n",
       "    </tr>\n",
       "    <tr>\n",
       "      <th>4</th>\n",
       "      <td>15082</td>\n",
       "      <td>15161</td>\n",
       "    </tr>\n",
       "  </tbody>\n",
       "</table>\n",
       "</div>"
      ],
      "text/plain": [
       "   start    end\n",
       "0      0    651\n",
       "1   3990   4070\n",
       "2   7504   7588\n",
       "3  13177  13280\n",
       "4  15082  15161"
      ]
     },
     "execution_count": 226,
     "metadata": {},
     "output_type": "execute_result"
    }
   ],
   "source": [
    "lactase_exon.head()"
   ]
  },
  {
   "cell_type": "code",
   "execution_count": 229,
   "metadata": {},
   "outputs": [],
   "source": [
    "lactase_gene = read_dnafile(\"lactase_gene.txt\")"
   ]
  },
  {
   "cell_type": "markdown",
   "metadata": {},
   "source": [
    "For simplicity’s sake, we shall consider mRNA as the concatenation of exons, although in reality, additional base pairs are added to each end. Having the lactase gene as a string and the exon regions as a list of (start, end) tuples, it is straightforward to extract the regions as substrings, replace T by U, and add all the substrings together:"
   ]
  },
  {
   "cell_type": "code",
   "execution_count": 251,
   "metadata": {},
   "outputs": [],
   "source": [
    "def create_mRNA(gene, exon_regions):\n",
    "    mrna = ''\n",
    "    for i, (start, end) in exon_regions.iterrows():\n",
    "        mrna += gene[start:end].replace('T','U')\n",
    "    return mrna"
   ]
  },
  {
   "cell_type": "code",
   "execution_count": 253,
   "metadata": {},
   "outputs": [],
   "source": [
    "mrna_lactase = create_mRNA(lactase_gene,lactase_exon)"
   ]
  },
  {
   "cell_type": "code",
   "execution_count": 255,
   "metadata": {},
   "outputs": [
    {
     "data": {
      "text/plain": [
       "'GUUCCUAGAAAAUGGAGCUGUCUUGGCAUGUAGUCUUUAUUGCCCUGCUA'"
      ]
     },
     "execution_count": 255,
     "metadata": {},
     "output_type": "execute_result"
    }
   ],
   "source": [
    "mrna_lactase[:50]"
   ]
  },
  {
   "cell_type": "markdown",
   "metadata": {},
   "source": [
    "To create the protein, we replace the triplets of the mRNA strings by the corresponding 1-letter name as specified in the `genetic_code.tsv` file."
   ]
  },
  {
   "cell_type": "code",
   "execution_count": 273,
   "metadata": {},
   "outputs": [],
   "source": [
    "def create_protein(mrna, genetic_code):\n",
    "    # create dictionary\n",
    "    dd = genetic_code[[\"Triplet\",\"AA-code\"]].set_index(\"Triplet\").squeeze().to_dict()\n",
    "    protein = ''\n",
    "    for i in range(len(mrna)//3):\n",
    "        start = i * 3\n",
    "        end = start + 3\n",
    "        protein += dd[mrna[start:end]]\n",
    "    return protein"
   ]
  },
  {
   "cell_type": "code",
   "execution_count": 287,
   "metadata": {},
   "outputs": [],
   "source": [
    "lactase_prot = create_protein(mrna_lactase,genetic_code)"
   ]
  },
  {
   "cell_type": "code",
   "execution_count": 291,
   "metadata": {},
   "outputs": [
    {
     "data": {
      "text/plain": [
       "'VPRKWSCLGMXSLLPCXVFHAGGQTGSLIEISFPPLVLXPMTCCTTXVVSWETRVLTLXQGTKTCMFVTSHCPLSCQNTSAVSMPVRSPIIRYFCHGHSSSQQEAPRIQTRKQCSATGDSSRPSRLHGFSPWSSCTTRPSLPAPSGEPKPLLTSSPTMPHSPSTPSGTXLGSGSPSVTWRKXSRSFPTRNQERHNSRPSVMPTEKPMRFTTKAMLFRAENSLLSCELKISRSSCXNHPYLRLPRTRSISSLLICLMNAKMRQVCGRSXVNCRPLSQKXKFSSSTXNSQTAPPPXRTQPVCSSAFLKPXIKTKCSPLGLILMSFXVVHQVPRKACLVLXLAAWPFSLTSSRTTRPRTPLLPLPIRESGKHLPISPGRKGMPSCRILSLKASSGVPPQEPLTWKEAGPRVGEGXASGIHAGPXTPLRAKRRWRWPATVTTRXPLTSPCFAASGLRCTSSPSPGPGSSPWGTGAAPASQALPTTTSXLTGYRMRASSPWPRCSTGTCLRPCRIMVDGRMRAWWMPSWTMRPSASPHLGTVXSCGXPSMSRGXXATQAMAPASTLPASLTQEWPLLRWLTWSSRLMPELGTTTTAIIAHSSRGTWALCXTQTGQNPCLQRGLRTXEPLSASCTSCWAGLHTPSLWMETTQPPXGPRSNRXTDSAPILWLNSPSSQRQRSSSXKALLIFWVCRITPPASSATPHKTPASLAMIPLEASPNTXTMCGPRPHPLGFVWCPGGXGGCCSLYPWNTQEEKFQYTLPGMACPXGKVKISLMIPXEXTTSINISMRCSRLSRKTLWMFVPTLLVPSLMASKALLVTASGLACTTSTSATAASQGLPGNLPTFSLASXKRTVSSPRGQKDCYHLIQXTSPPKSEPSLFHLRCPPRLKSFGKSSPANPSSKEICSTTGRFGMTFCGACPLPLIRLKARGMPMAKAPASGITLPTHQGAMXKTMPLETSPVTAITSWMPIXICSELXRXRPTASLSPGLGFSQLGETALSTVMGLIITTGXSMAWWQATSFPWXHCSIGTCPRPSRISEAGRILPXLTCLTATQTFVSRPLVIESSFGXLLMSPCTWHGXVMAQGNFPQGXRTQAGHHIGXPTPSSKPMPESITRTMRNTGRSRRGSSRXASVHTGQSPSHQGSPEMWKPLTECCSSPWAGLLTPFLETETILTPXSGKWGTGVNCSTXPPPACQASLRKRRGSSGRRPTSSASTRTTPESCSTKHPGXTHPPTKTTRRWLRRRTLRGLPRQXTELRPGGREGCXTGSRKSMVTSPFTSPKTEWGXPIRTRRILIGYFTTKPTSMRLXKPTGSMVXTFEGMSPGLXWTTLSGXMATRSSLDCTMLISTTRTGLAQQEPPPGTTQRSLPTTACHWPGRMSFCTDGFLRASSGVQLLLHIRLKVRGEQMAKDSAFGTRFLTHHXGLRTMPLETWPVTVITRLLRIWSPCRTWACPTTVFPSPGLASSLMEPPGTSMKRAXTTTXGSSIHCWPPASSPRXPFTTGTYHRRSKMXEAGRMRPSCSGLRSMQMCSSRGWETRXSFGSRXMSPLSLLTRAMATEQQLQESPIGLALPPTLLATIXXRLMLRPGICTTMCTAPVKVAXFPSPSAVTGLNPEIPLTRRMWRQPGDMFSSWEAGLHILFSRMEITMRXXRRGSVTGAWLQASTSLGCQNLQRVRRGGSTAPMTFLGSITTPLSSPTTSTMPLPSLLLMQTEELLPSQIARGQTLAPSGXRXRLLASGGSXTGXRRNTMTLQFMSQRMECPSGKKQTSMTLQGSTTFGLTSMRPSKLCRTRWTFEDTQFGVRWTILSGPQAFQRDLVCILXTTVTLLCQGSPKHQRSSTPLWSDAMASLTPLQGLTLVSTSQMLDPPSAPXDRRRCSSWGXCSAPQKHRQLCTFSFLLCFLESVAWHFCHTSTASALSKGKHNEANRNXARCLHSDELPPQVLXSRPSFFIYVYRPPNTLGSXTLLILDFSIKSCCTVRDDFNLEXFRLAEXNGNISILLQYQSSFGHLRSKXLLRKRVDTGLVGLXTTXLNLTGLFXVSELLRVVKGAKTVKILPIRRNQLHCIDCNIISCPSASSPXLHILCFPENKNSRLSF'"
      ]
     },
     "execution_count": 291,
     "metadata": {},
     "output_type": "execute_result"
    }
   ],
   "source": [
    "lactase_prot"
   ]
  },
  {
   "cell_type": "markdown",
   "metadata": {},
   "source": [
    "Unfortunately, this first try to simulate the translation process is incorrect. The problem is that the translation always begins with the amino acid Methionine, code AUG, and ends when one of the stop codons is met. We must thus check for the correct start and stop criteria. A fix is"
   ]
  },
  {
   "cell_type": "code",
   "execution_count": 288,
   "metadata": {},
   "outputs": [],
   "source": [
    "def create_protein_fixed(mrna, genetic_code):\n",
    "    # create dictionary\n",
    "    dd = genetic_code[[\"Triplet\",\"AA-code\"]].set_index(\"Triplet\").squeeze().to_dict()\n",
    "    protein_fixed = ''\n",
    "    trans_start_pos = mrna.find('AUG')\n",
    "    for i in range(len(mrna[trans_start_pos:])//3):\n",
    "        start = trans_start_pos + i*3\n",
    "        end = start + 3\n",
    "        amino = dd[mrna[start:end]]\n",
    "        if amino == 'X':\n",
    "            break\n",
    "        protein_fixed += amino\n",
    "    return protein_fixed"
   ]
  },
  {
   "cell_type": "code",
   "execution_count": 289,
   "metadata": {},
   "outputs": [],
   "source": [
    "lactase_prot2 = create_protein_fixed(mrna_lactase,genetic_code)"
   ]
  },
  {
   "cell_type": "code",
   "execution_count": 290,
   "metadata": {},
   "outputs": [
    {
     "data": {
      "text/plain": [
       "'MELSWHVVFIALLSFSCWGSDWESDRNFISTAGPLTNDLLHNLSGLLGDQSSNFVAGDKDMYVCHQPLPTFLPEYFSSLHASQITHYKVFLSWAQLLPAGSTQNPDEKTVQCYRRLLKALKTARLQPMVILHHQTLPASTLRRTEAFADLFADYATFAFHSFGDLVGIWFTFSDLEEVIKELPHQESRASQLQTLSDAHRKAYEIYHESYAFQGGKLSVVLRAEDIPELLLEPPISALAQDTVDFLSLDLSYECQNEASLRQKLSKLQTIEPKVKVFIFNLKLPDCPSTMKNPASLLFSLFEAINKDQVLTIGFDINEFLSCSSSSKKSMSCSLTGSLALQPDQQQDHETTDSSPASAYQRIWEAFANQSRAERDAFLQDTFPEGFLWGASTGAFNVEGGWAEGGRGVSIWDPRRPLNTTEGQATLEVASDSYHKVASDVALLCGLRAQVYKFSISWSRIFPMGHGSSPSLPGVAYYNKLIDRLQDAGIEPMATLFHWDLPQALQDHGGWQNESVVDAFLDYAAFCFSTFGDRVKLWVTFHEPWVMSYAGYGTGQHPPGISDPGVASFKVAHLVLKAHARTWHHYNSHHRPQQQGHVGIVLNSDWAEPLSPERPEDLRASERFLHFMLGWFAHPVFVDGDYPATLRTQIQQMNRQCSHPVAQLPEFTEAEKQLLKGSADFLGLSHYTSRLISNAPQNTCIPSYDTIGGFSQHVNHVWPQTSSSWIRVVPWGIRRLLQFVSLEYTRGKVPIYLAGNGMPIGESENLFDDSLRVDYFNQYINEVLKAIKEDSVDVRSYIARSLIDGFEGPSGYSQRFGLHHVNFSDSSKSRTPRKSAYFFTSIIEKNGFLTKGAKRLLPPNTVNLPSKVRAFTFPSEVPSKAKVVWEKFSSQPKFERDLFYHGTFRDDFLWGVSSSAYQIEGAWDADGKGPSIWDNFTHTPGSNVKDNATGDIACDSYHQLDADLNMLRALKVKAYRFSISWSRIFPTGRNSSINSHGVDYYNRLINGLVASNIFPMVTLFHWDLPQALQDIGGWENPALIDLFDSYADFCFQTFGDRVKFWMTFNEPMYLAWLGYGSGEFPPGVKDPGWAPYRIAHAVIKAHARVYHTYDEKYRQEQKGVISLSLSTHWAEPKSPGVPRDVEAADRMLQFSLGWFAHPIFRNGDYPDTMKWKVGNRSELQHLATSRLPSFTEEEKRFIRATADVFCLNTYYSRIVQHKTPRLNPPSYEDDQEMAEEEDPSWPSTAMNRAAPWGTRRLLNWIKEEYGDIPIYITENGVGLTNPNTEDTDRIFYHKTYINEALKAYRLDGIDLRGYVAWSLMDNFEWLNGYTVKFGLYHVDFNNTNRPRTARASARYYTEVITNNGMPLAREDEFLYGRFPEGFIWSAASAAYQIEGAWRADGKGLSIWDTFSHTPLRVENDAIGDVACDSYHKIAEDLVTLQNLGVSHYRFSISWSRILPDGTTRYINEAGLNYYVRLIDTLLAASIQPQVTIYHWDLPQTLQDVGGWENETIVQRFKEYADVLFQRLGDKVKFWITLNEPFVIAYQGYGYGTAAPGVSNRPGTAPYIVGHNLIKAHAEAWHLYNDVYRASQGGVISITISSDWAEPRDPSNQEDVEAARRYVQFMGGWFAHPIFKNGDYNEVMKTRIRDRSLAAGLNKSRLPEFTESEKRRINGTYDFFGFNHYTTVLAYNLNYATAISSFDADRGVASIADRSWPDSGSFWLKMTPFGFRRILNWLKEEYNDPPIYVTENGVSQREETDLNDTARIYYLRTYINEALKAVQDKVDLRGYTVWSAMDNFEWATGFSERFGLHFVNYSDPSLPRIPKASAKFYASVVRCNGFPDPATGPHACLHQPDAGPTISPVRQEEVQFLGLMLGTTEAQTALYVLFSLVLLGVCGLAFLSYKYCKRSKQGKTQRSQQELSPVSSF'"
      ]
     },
     "execution_count": 290,
     "metadata": {},
     "output_type": "execute_result"
    }
   ],
   "source": [
    "lactase_prot2"
   ]
  },
  {
   "cell_type": "markdown",
   "metadata": {},
   "source": [
    "## Random Mutation of Genes\n",
    "\n",
    "A simple model: This is easily modeled by replacing the letter in a randomly chosen position of the DNA by a randomly chosen letter from the alphabet A, C, G, and T. Python’s random module can be used to generate random numbers. Selecting a random position means generating a random index in the DNA string, and the function random.randint(a, b) generates random integers between a and b (both included). Generating a random letter is easiest done by having a list of the actual letters and using random.choice(list) to pick an arbitrary element from list. A function for replacing the letter in a randomly selected position (index) by a random letter among A, C, G, and T is most straightforwardly implemented by converting the DNA string to a list of letters, since changing a character in a Python string is impossible without constructing a new string. However, an element in a list can be changed in-place:"
   ]
  },
  {
   "cell_type": "code",
   "execution_count": 296,
   "metadata": {},
   "outputs": [
    {
     "data": {
      "text/plain": [
       "'A'"
      ]
     },
     "execution_count": 296,
     "metadata": {},
     "output_type": "execute_result"
    }
   ],
   "source": [
    "lactase_gene[10]"
   ]
  },
  {
   "cell_type": "code",
   "execution_count": 301,
   "metadata": {},
   "outputs": [
    {
     "data": {
      "text/plain": [
       "'A'"
      ]
     },
     "execution_count": 301,
     "metadata": {},
     "output_type": "execute_result"
    }
   ],
   "source": [
    "random.choice(list(\"ATCG\"))"
   ]
  },
  {
   "cell_type": "code",
   "execution_count": 308,
   "metadata": {},
   "outputs": [],
   "source": [
    "import random\n",
    "def mutate_v1(dna):\n",
    "    dna_list = list(dna)\n",
    "    mutation_site = random.randint(0, len(dna_list) - 1)\n",
    "    dna_list[mutation_site] = random.choice(list('ATCG'))\n",
    "    return ''.join(dna_list)"
   ]
  },
  {
   "cell_type": "code",
   "execution_count": 314,
   "metadata": {},
   "outputs": [
    {
     "data": {
      "text/plain": [
       "'TTTTACG'"
      ]
     },
     "execution_count": 314,
     "metadata": {},
     "output_type": "execute_result"
    }
   ],
   "source": [
    "mutate_v1(\"ATTTACG\")"
   ]
  },
  {
   "cell_type": "code",
   "execution_count": 334,
   "metadata": {},
   "outputs": [],
   "source": [
    "i2c = {0: 'A', 1: 'C', 2: 'G', 3: 'T'}\n",
    "\n",
    "def mutate_v2(dna, N):\n",
    "    dna = np.asarray(dna, dtype='c')  # array of characters\n",
    "    mutation_sites = np.random.randint(0, len(dna) - 1, size=N)\n",
    "    # Must draw bases as integers\n",
    "    new_bases_i = np.random.randint(0, 3, size=N)\n",
    "    # Translate integers to characters\n",
    "    new_bases_c = np.zeros(N, dtype='c')\n",
    "    for i in i2c:\n",
    "        new_bases_c[new_bases_i == i] = i2c[i]\n",
    "    dna[mutation_sites] = new_bases_c\n",
    "    return \"\".join(dna.astype(\"str\").tolist())"
   ]
  },
  {
   "cell_type": "code",
   "execution_count": 339,
   "metadata": {},
   "outputs": [
    {
     "data": {
      "text/plain": [
       "'CTTCCTAGAAACTGGAGCTGTCTTGGCATGTAGTCCTTATTGCCCTGCTAAGTTTTTCATGCTGGGGGGCACACTGGGAGTCTGATAGAAATTTCATTTCCACCGCTGGTCCTCAAACCAATGACTTCCCGCACAACCAGAATGGTGTACTGCGAGACCAAAGTTATAACATTGTAGCAGCGGCCGAAGACATGTATGTTTGTCACCAACCACTGCCCAATTTCCTGCCAGAATACTTCAGCAGTGTCCATGCCAGTCAGATCACCCATTATACGGTATTTCTGTCATGAGCACAGCTCCTCCCAGCAGGAAGGACCCAGAATCCAGCCGAGACAAAAGTGCAGTGCTAGCGGCGAGTCCTCAACGCCCTCAAGACTGCACGGCTTCAGCCCATGGTCATCCTAGACCACCAGACCCTCCCTGCCAGCACGCTCCGGAGAAGCGAAGCCTTTGCTGACCTCTTCGCCGACTATGCCACATTCACCTTACACTCCTTCGGG'"
      ]
     },
     "execution_count": 339,
     "metadata": {},
     "output_type": "execute_result"
    }
   ],
   "source": [
    "mutate_v2(lactase_gene[:500],50)"
   ]
  }
 ],
 "metadata": {
  "kernelspec": {
   "display_name": "Python 3",
   "language": "python",
   "name": "python3"
  },
  "language_info": {
   "codemirror_mode": {
    "name": "ipython",
    "version": 3
   },
   "file_extension": ".py",
   "mimetype": "text/x-python",
   "name": "python",
   "nbconvert_exporter": "python",
   "pygments_lexer": "ipython3",
   "version": "3.6.7"
  }
 },
 "nbformat": 4,
 "nbformat_minor": 2
}
