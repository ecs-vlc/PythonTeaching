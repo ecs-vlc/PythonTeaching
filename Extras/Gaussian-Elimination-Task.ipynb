{
 "cells": [
  {
   "cell_type": "markdown",
   "metadata": {},
   "source": [
    "## Gaussian Elimination\n",
    "\n",
    "In linear algebra, *Gaussian Elimination* (AKA *row reduction*) is an algorithm for solving **linear systems** of equations $Ax=b$. This method can be used to find the *rank* of a square matrix, calculate the *determinant* and calculate the *inverse* of an invertible square matrix. For example:\n",
    "\n",
    "$$\n",
    "\\begin{array}{lcl} \n",
    "    9x + 3y + 4z & = & 7 \\\\\n",
    "    4x + 3y + 4z & = & 8 \\\\\n",
    "    x + y + z & = & 3 \n",
    "\\end{array}\n",
    "$$\n",
    "\n",
    "can be arranged as:\n",
    "\n",
    "$$\n",
    "\\mathbf{A}=\\left[\\begin{array}{ccc|c}\n",
    "9 & 3 & 4 \\\\\n",
    "4 & 3 & 4\\\\\n",
    "1 & 1 & 1\n",
    "\\end{array}\\right], \\qquad \n",
    "\\mathbf{x} = \\left[\\begin{array}{ccc|c}\n",
    "x \\\\ y \\\\ z\n",
    "\\end{array}\\right], \\qquad\n",
    "\\mathbf{b}=\\left[\\begin{array}{ccc|c}\n",
    "7 \\\\ 8 \\\\ 3\n",
    "\\end{array}\\right]\n",
    "$$\n",
    "\n",
    "To perform row-reduction, one uses a sequence of **elementary row operations** to modify the matrix until the matrix is in upper-triangular form. There are 3 primary operations:\n",
    "1. Swapping two rows\n",
    "2. Multiplying a row by a non-zero number\n",
    "3. Adding a multiple of one row to another row\n",
    "\n",
    "e.g: For example consider the matrix\n",
    "\n",
    "$$\n",
    "\\left[\\begin{array}{ccc|c}\n",
    "9 & 3 & 4 & 7 \\\\\n",
    "4 & 3 & 4 & 8 \\\\\n",
    "1 & 1 & 1 & 3\n",
    "\\end{array}\\right] \n",
    "$$\n",
    "\n",
    "We could begin by swapping the first and third rows, which gives:\n",
    "\n",
    "$$\n",
    "\\left[\\begin{array}{ccc|c}\n",
    "1 & 1 & 1 & 3 \\\\\n",
    "4 & 3 & 4 & 8 \\\\\n",
    "9 & 3 & 4 & 7 \\\\\n",
    "\\end{array}\\right]\n",
    "$$\n",
    "\n",
    "Next, subtracting 9 times the first row from the third gives:\n",
    "\n",
    "$$\n",
    "\\left[\\begin{array}{ccc|c}\n",
    "1 & 1 & 1 & 3 \\\\\n",
    "4 & 3 & 4 & 8 \\\\\n",
    "0 & -6 & -5 & -20 \\\\\n",
    "\\end{array}\\right]\n",
    "$$\n",
    "\n",
    "Subtracting 4 times the first row from the second gives:\n",
    "\n",
    "$$\n",
    "\\left[\\begin{array}{ccc|c}\n",
    "1 & 1 & 1 & 3 \\\\\n",
    "0 & -1 & 0 & -4 \\\\\n",
    "0 & -6 & -5 & -20 \\\\\n",
    "\\end{array}\\right]\n",
    "$$\n",
    "\n",
    "Finally, adding -6 times the second row from the third gives:\n",
    "\n",
    "$$\n",
    "\\left[\\begin{array}{ccc|c}\n",
    "1 & 1 & 1 & 3 \\\\\n",
    "0 & -1 & 0 & -4 \\\\\n",
    "0 & 0 & -5 & 4 \\\\\n",
    "\\end{array}\\right]\n",
    "$$\n",
    "\n",
    "The final matrix is referred to as *Echelon form*. Note that *Gaussian Elimination* is applied to matrix $A$ and the output vector $b$ simultaenously. Once the matrix is in the final state, we can use another method such as *backward substitution* to solve the linear system trivially.\n",
    "\n",
    "Here we solve the equation of the $k$th row for $x_k$, then substitute back into the equation of the $(k-1)$st row to obtain a solution for $x_{k-1}$, etc., as:\n",
    "\n",
    "$$\n",
    "x_i=\\frac{1}{a_{ii}'}\\left(b_i' - \\sum_{j=i+1}^k a_{ij}'x_j\\right)\n",
    "$$"
   ]
  },
  {
   "cell_type": "code",
   "execution_count": 1,
   "metadata": {},
   "outputs": [],
   "source": [
    "import numpy as np\n",
    "A = np.array([[9, 3, 4], [4, 3, 4], [1, 1, 1]], dtype=np.float64)\n",
    "b = np.array([7, 8, 3], dtype=np.float64)"
   ]
  },
  {
   "cell_type": "markdown",
   "metadata": {},
   "source": [
    "### Step 1.\n",
    "\n",
    "It is important to join together $A$ and $b$ at the start of the process: $A + b=A^{*}$"
   ]
  },
  {
   "cell_type": "code",
   "execution_count": 4,
   "metadata": {},
   "outputs": [
    {
     "data": {
      "text/plain": [
       "array([[9., 3., 4., 7.],\n",
       "       [4., 3., 4., 8.],\n",
       "       [1., 1., 1., 3.]])"
      ]
     },
     "execution_count": 4,
     "metadata": {},
     "output_type": "execute_result"
    }
   ],
   "source": [
    "n = len(b)\n",
    "aug = np.hstack((A, b.reshape(n,1)))\n",
    "aug"
   ]
  },
  {
   "cell_type": "markdown",
   "metadata": {},
   "source": [
    "### Step 2.\n",
    "\n",
    "As we can see this joins together $A$ and $b$ into one matrix, ready for elimination. Now we need to loop over the rows, and find the one with the highest *magnitude*, if the current row isn't the maximum, then *swap the rows* until the one with the highest magnitude is closer to the top of the matrix."
   ]
  },
  {
   "cell_type": "code",
   "execution_count": 5,
   "metadata": {},
   "outputs": [
    {
     "data": {
      "text/plain": [
       "0"
      ]
     },
     "execution_count": 5,
     "metadata": {},
     "output_type": "execute_result"
    }
   ],
   "source": [
    "max_row = np.argmax(aug[:,0])\n",
    "max_row"
   ]
  },
  {
   "cell_type": "markdown",
   "metadata": {},
   "source": [
    "### Step 3. Pivoting\n",
    "\n",
    "If max_row is not 0 (i.e not the top column) then we swap the argmax row with the top one:"
   ]
  },
  {
   "cell_type": "code",
   "execution_count": 6,
   "metadata": {},
   "outputs": [],
   "source": [
    "if (max_row):\n",
    "    tmp = np.copy(aug[0,:])\n",
    "    aug[0,:] = np.copy(aug[max_row,:])\n",
    "    aug[max_row,:] = tmp"
   ]
  },
  {
   "cell_type": "code",
   "execution_count": 7,
   "metadata": {},
   "outputs": [
    {
     "data": {
      "text/plain": [
       "array([[9., 3., 4., 7.],\n",
       "       [4., 3., 4., 8.],\n",
       "       [1., 1., 1., 3.]])"
      ]
     },
     "execution_count": 7,
     "metadata": {},
     "output_type": "execute_result"
    }
   ],
   "source": [
    "aug"
   ]
  },
  {
   "cell_type": "markdown",
   "metadata": {},
   "source": [
    "### Step 4.\n",
    "\n",
    "So we have pivoted the top row with the bottom row. Now we want to iterate over all of the rows below our current one (0), and remove the value at the left-most side of the matrix, then scale by the current row:\n",
    "\n",
    "$$\n",
    "A^{*}_j = A^{*}_j - \\frac{A^{*}_{ji}}{A^{*}_{ii}} A^{*}_i\n",
    "$$"
   ]
  },
  {
   "cell_type": "code",
   "execution_count": 8,
   "metadata": {},
   "outputs": [
    {
     "name": "stdout",
     "output_type": "stream",
     "text": [
      "j:0, [[9. 3. 4. 7.]\n",
      " [4. 3. 4. 8.]\n",
      " [1. 1. 1. 3.]] \n",
      " \n",
      "\n",
      "j:1, [[9.         3.         4.         7.        ]\n",
      " [0.         1.66666667 2.22222222 4.88888889]\n",
      " [1.         1.         1.         3.        ]] \n",
      " \n",
      "\n",
      "j:2, [[9.         3.         4.         7.        ]\n",
      " [0.         1.66666667 2.22222222 4.88888889]\n",
      " [0.         0.66666667 0.55555556 2.22222222]] \n",
      " \n",
      "\n"
     ]
    }
   ],
   "source": [
    "print(\"j:{}, {} \\n \\n\".format(0,aug))\n",
    "for j in range(1, n):\n",
    "    aug[j,:] = aug[j,:] - (aug[j,0] / aug[0, 0]) * aug[0, :]\n",
    "    print(\"j:{}, {} \\n \\n\".format(j,aug))"
   ]
  },
  {
   "cell_type": "markdown",
   "metadata": {},
   "source": [
    "What we've managed to do is eliminate two of the lower-left hand side terms, making them zero and inducing triangularity. This needs to be repeated for all $i$.\n",
    "\n",
    "## Tasks\n",
    "\n",
    "### Task 1.\n",
    "\n",
    "Write the algorithm `gaussian_elimination()` which accepts $A$ and $b$, and returns the reduced matrix $A^{*}$ and reduced vector $b^{*}$. Use the example at the beginning of this section as input to see if you get the same output. **Note: you shouldn't!**"
   ]
  },
  {
   "cell_type": "code",
   "execution_count": null,
   "metadata": {},
   "outputs": [],
   "source": [
    "# your codes here\n",
    "def gaussian_elimination(A, b):\n",
    "    \"\"\"\n",
    "    Simple Gaussian Elimination algorithm with pivoting, using direct methods.\n",
    "    Solves linear system Ax = b, assuming well-conditioned square matrix A.\n",
    "    \n",
    "    Parameters\n",
    "    ----------\n",
    "    A : matrix\n",
    "        Square matrix, size n x n.\n",
    "    b : vector\n",
    "        RHS vector, size n (must conform with A).\n",
    "\n",
    "    Returns\n",
    "    -------\n",
    "    x : vector\n",
    "        unknown coefficients, size n\n",
    "    \"\"\"\n",
    "    # Store size of system\n",
    "    n = len(b)\n",
    "    assert(np.all(A.shape == (n, n)))\n",
    "    \n",
    "    # Form augmented matrix\n",
    "    aug = np.hstack((A, b.reshape(n,1)));\n",
    "    \n",
    "    # Loop over rows\n",
    "    for i in range(n):\n",
    "        # Find the row with largest magnitude, and then swap the rows.\n",
    "        max_row = np.argmax(aug[i:, i])\n",
    "        \n",
    "        if (max_row): # Only swap rows if the maximum is not this row. \\\n",
    "                      # NOTE: the max_row is counted relative to i, so max_row = 0 => row i.\n",
    "            tmp               = np.copy(aug[i, :])\n",
    "            aug[i, :]         = np.copy(aug[i+max_row, :])\n",
    "            aug[i+max_row, :] = np.copy(tmp)\n",
    "        \n",
    "        # Loop over rows below i\n",
    "        for j in range(i+1, n):\n",
    "            aug[j, :] -= (aug[j, i] / aug[i, i] * aug[i, :])\n",
    "    \n",
    "    # Return the separated, reduced, matrix and right hand side vector.\n",
    "    return (aug[:,:-1], aug[:, -1])\n",
    "\n",
    "A = np.array([[9, 3, 4], [4, 3, 4], [1, 1, 1]], dtype=np.float64)\n",
    "b = np.array([7, 8, 3], dtype=np.float64)\n",
    "Ast, bst = gaussian_elimination(A,b)\n",
    "Ast, bst"
   ]
  },
  {
   "cell_type": "markdown",
   "metadata": {},
   "source": [
    "### Task 2.\n",
    "\n",
    "*Backward substitution* can be performed on an upper-triangular matrix $A^{*}$ with known outputs $b^{*}$ to discover the unknown weights $\\bf x^{*}$. This is achieved by iterately going up the matrix, substituting known $\\bf x^{*}$ values at the previous step into matrix $A^{*}$ and calculating new $\\bf x^{*}$. You should expect $x=-1/5$, $y=4$ and $z=-4/5$, within $\\bf x^{*}$.\n",
    "\n",
    "Write the `backward_substitution()` algorithm that determines $x$, $y$, and $z$ within $\\bf x$."
   ]
  },
  {
   "cell_type": "code",
   "execution_count": null,
   "metadata": {},
   "outputs": [],
   "source": [
    "# your codes here\n",
    "def backward_substitution(Astar, bstar):\n",
    "    \"\"\"\n",
    "    A* = reduced upper-triangular form\n",
    "    b* = reduced vector\n",
    "    \n",
    "    Starts at bottom of matrix and works way up.\n",
    "    \"\"\"\n",
    "    n,p = Astar.shape\n",
    "    xstar = np.empty(p)\n",
    "    \n",
    "    xstar[-1] = bstar[-1] / Astar[-1,-1]\n",
    "    for i in range(n-2, -1,-1):\n",
    "        \"\"\"\n",
    "        print(\"i: %d\" % i)\n",
    "        print(\"x: %s\" % xstar[i+1:])\n",
    "        print(\"b: %s\" % bstar[i])\n",
    "        print(\"A: %s,%s\" % (Astar[i,i+1:], Astar[i,i]))\n",
    "        \"\"\"\n",
    "        xstar[i] = (bstar[i] - np.dot(xstar[i+1:], Astar[i,i+1:])) / Astar[i,i]\n",
    "    return xstar\n",
    "\n",
    "backward_substitution(Ast, bst)"
   ]
  }
 ],
 "metadata": {
  "kernelspec": {
   "display_name": "Python 3",
   "language": "python",
   "name": "python3"
  },
  "language_info": {
   "codemirror_mode": {
    "name": "ipython",
    "version": 3
   },
   "file_extension": ".py",
   "mimetype": "text/x-python",
   "name": "python",
   "nbconvert_exporter": "python",
   "pygments_lexer": "ipython3",
   "version": "3.6.6"
  }
 },
 "nbformat": 4,
 "nbformat_minor": 2
}
