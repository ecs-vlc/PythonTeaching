{
 "cells": [
  {
   "cell_type": "markdown",
   "metadata": {},
   "source": [
    "# 6. Further Pandas Examples 2\n",
    "\n",
    "This notebook will involve no direct teaching - instead we are going to attempt to re-arrange a messy and complex dataset(s). Don't worry if you are not able to complete them all within the time of the workshop - they are meant to stretch your abilities, and gain some useful Pandas and Networkx experience.\n",
    "\n",
    "In this notebook we'll focus on some serious data-wrangling of genetic data into something that can be used for input into a machine learning model."
   ]
  },
  {
   "cell_type": "code",
   "execution_count": null,
   "metadata": {
    "collapsed": true
   },
   "outputs": [],
   "source": [
    "import pandas as pd\n",
    "from IPython.display import Image"
   ]
  },
  {
   "cell_type": "markdown",
   "metadata": {},
   "source": [
    "# Tasks\n",
    "\n",
    "## mRNA sequences\n",
    "\n",
    "Messenger RNA (mRNA) is a large family of RNA molecules that convey genetic information from DNA to the ribosome, where they specify the amino acid sequence of the protein products of gene expression. RNA polymerase transcribes primary transcript mRNA (known as pre-mRNA) into processed, mature mRNA. This mature mRNA is then translated into a polymer of amino acids: a protein, as summarized in the central dogma of molecular biology. Each mRNA is transcribed from a **gene**, which then undergoes translation into a sequence of *amino acids*.\n",
    "\n",
    "### Transcription\n",
    "\n",
    "The gene in question is copied using RNA polymerase into a strand of *messenger RNA* (mRNA). The mRNA strand is **complementary** to the DNA strand, meaning the opposing base is copied. Bases match as follows:\n",
    "\n",
    "$$\n",
    "A \\to T \\\\\n",
    "T \\to A \\\\\n",
    "C \\to G \\\\\n",
    "G \\to C\n",
    "$$\n",
    "\n",
    "however in mRNA, $T$ is not used, rather $U$ standing for uracil.\n",
    "\n",
    "### Translation\n",
    "\n",
    "The mRNA sequence is *translated* into an amino acid sequence. **Codon Triplets** of the mRNA sequence code form a **single amino acid**, so for example $GCA \\to A$, as in $A$ for the amino acid *alanine*. See the image below for the full codon table."
   ]
  },
  {
   "cell_type": "code",
   "execution_count": null,
   "metadata": {
    "collapsed": true
   },
   "outputs": [],
   "source": [
    "Image(\"amino copy.jpg\")"
   ]
  },
  {
   "cell_type": "markdown",
   "metadata": {},
   "source": [
    "Here we will be working with an RNA-centric dataset in *gene_sequences.csv*, which contains the following:\n",
    "- *Primary Accession:* Unique tag for each mRNA sequence, by NCBI\n",
    "- *Description*\n",
    "- *mRNA sequence *: the sequence of characters (in DNA format, i.e thyme==uracil)\n",
    "- *Num Exons* : the number of exons that exist in the mRNA sequence\n",
    "- *Num STS* : the number of sequence-tagged sites, these are unique regions in the entire human genome\n",
    "- *Num Misc Features* : features described as miscallenous to the RNA structure\n",
    "- *Num Regulatory* : regulation regions identified in the mRNA\n",
    "- *Num PolyA* : polyadenylated tail regions signify regulation and play a role in mRNA maintenance\n",
    "- *CDS range*: identifies the coding region\n",
    "- *Num Regions* : the number of significant regions identified in the amino-acid product\n",
    "- *Num Sites* : identified protein active sites in amino acid\n",
    "- *Prot Mol Weight* : estimated protein molecular weight\n",
    "\n",
    "### Task 1.\n",
    "\n",
    "Import *gene_sequences.csv*. Use Primary-Accession as the index."
   ]
  },
  {
   "cell_type": "code",
   "execution_count": null,
   "metadata": {
    "collapsed": true
   },
   "outputs": [],
   "source": [
    "# your codes here"
   ]
  },
  {
   "cell_type": "markdown",
   "metadata": {},
   "source": [
    "### Task 2.\n",
    "\n",
    "Plot the correlation matrix. The pairwise Pearson correlation between two variables $x$ and $y$ is:\n",
    "\n",
    "$$\n",
    "P(x,y)=\\frac{\\sum_{i=1}^{n} (x_i-\\bar x)(y_i-\\bar y)}{\\sqrt{\\sum_{i=1}^n (x_i-\\bar x)^2} \\sqrt{\\sum_{i=1}^n(y_i-\\bar y)^2}}\n",
    "$$\n",
    "\n",
    "where $\\bar x$ is the mean of $x$, $\\bar y$ is the mean of $y$.\n",
    "\n",
    "Do any correlations surprise you?"
   ]
  },
  {
   "cell_type": "code",
   "execution_count": null,
   "metadata": {
    "collapsed": true
   },
   "outputs": [],
   "source": [
    "# your codes here"
   ]
  },
  {
   "cell_type": "markdown",
   "metadata": {},
   "source": [
    "### Task 3.\n",
    "\n",
    "Extract the **coding sequence** and **amino acid sequence** from the coding region. Remember that each coding sequence *must* begin with $AUG$ for methionine. You can do this using the mRNA sequence with the coding sequence (CDS) ranges provided. Ensure to translate each triplet to appropriate amino acid."
   ]
  },
  {
   "cell_type": "code",
   "execution_count": null,
   "metadata": {
    "collapsed": true
   },
   "outputs": [],
   "source": [
    "# your codes here"
   ]
  },
  {
   "cell_type": "markdown",
   "metadata": {},
   "source": [
    "### Task 4.\n",
    "\n",
    "Let's extract extra features from our data. of particular interest would be\n",
    "* The frequency of each amino acid\n",
    "* The number of exons\n",
    "* The average length of each exon\n",
    "* The proportion of GC content in the coding region\n",
    "* The prioritisation of codons\n",
    "\n",
    "We can estimate the prioritisation of codons by calculating the **usage bias**, otherwise known as the *Codon Adaptation Index* (CAI). CAI measures the deviation of a given protein coding gene sequence with respect to a reference set of genes. This suggests that genes with a large CAI are selected for to have higher expression than those with lowly-selected codons.\n",
    "\n",
    "$$\n",
    "\\text{CAI}=\\left(\\prod_{i=1}^L w_i\\right)^\\frac{1}{L}\n",
    "$$\n",
    "\n",
    "where $L$ refers to the gene length in terms of codons. For each amino acid, the weight of each of it's codons in CAI, is computed from the reference sequence set (in this case the whole dataset given), as the ratio between the observed frequency of codon $f_i$ and the frequency of the most frequent synonymous codon $f_j$ for that amino acid:\n",
    "\n",
    "$$\n",
    "w_i = \\frac{f_i}{\\max(f_j)}, \\qquad i,j \\in [\\text{synonymous codons}]\n",
    "$$"
   ]
  },
  {
   "cell_type": "code",
   "execution_count": null,
   "metadata": {
    "collapsed": true
   },
   "outputs": [],
   "source": [
    "# your codes here"
   ]
  },
  {
   "cell_type": "markdown",
   "metadata": {
    "collapsed": true
   },
   "source": [
    "### Task 5.\n",
    "\n",
    "We extract some extra textual data about the gene from it's description label. Simplify the description by removing the species. Extract the gene name abbrievation, which transcript variant it is.\n",
    "\n",
    "In **content analysis**, less frequent words often provide meaning/context to a sentence than repetitive, connective words such as (and, of, is, the, but) etc. Use the least-frequent word provided for each gene in it's description, once you've removed repetitive parts such as variant, gene abbrievations, connective words and random numbers, and extract this as a feature. "
   ]
  },
  {
   "cell_type": "code",
   "execution_count": null,
   "metadata": {
    "collapsed": true
   },
   "outputs": [],
   "source": [
    "# your codes here"
   ]
  }
 ],
 "metadata": {
  "kernelspec": {
   "display_name": "Python 3",
   "language": "python",
   "name": "python3"
  },
  "language_info": {
   "codemirror_mode": {
    "name": "ipython",
    "version": 3
   },
   "file_extension": ".py",
   "mimetype": "text/x-python",
   "name": "python",
   "nbconvert_exporter": "python",
   "pygments_lexer": "ipython3",
   "version": "3.6.3"
  }
 },
 "nbformat": 4,
 "nbformat_minor": 2
}
