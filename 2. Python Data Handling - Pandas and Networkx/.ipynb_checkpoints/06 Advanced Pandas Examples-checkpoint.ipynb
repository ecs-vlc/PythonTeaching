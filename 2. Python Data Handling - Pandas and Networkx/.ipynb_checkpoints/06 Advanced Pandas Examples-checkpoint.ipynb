{
 "cells": [
  {
   "cell_type": "markdown",
   "metadata": {},
   "source": [
    "# 6. Advanced Pandas Examples\n",
    "\n",
    "This notebook will involve no direct teaching - instead we are going to attempt to re-arrange a messy and complex dataset(s). Don't worry if you are not able to complete them all within the time of the workshop - they are meant to stretch your abilities, and gain some useful Pandas and Networkx experience."
   ]
  },
  {
   "cell_type": "code",
   "execution_count": null,
   "metadata": {
    "collapsed": true
   },
   "outputs": [],
   "source": [
    "import numpy as np\n",
    "import pandas as pd\n",
    "import networkx as nx\n",
    "import matplotlib.pyplot as plt\n",
    "%matplotlib inline"
   ]
  },
  {
   "cell_type": "markdown",
   "metadata": {},
   "source": [
    "# Tasks\n",
    "\n",
    "## Game of Thrones\n",
    "\n",
    "*Game of Thrones* is a fantasy drama adaptation of *George R. R. Martin's* fantasy novel set *A Song of Ice and Fire*. Set in the fictional continents of Westeros and Essos, *Game of Thrones* has several plot lines and a large ensemble cast but centers on three primary story arcs:\n",
    "* **The Iron Throne**: Follows a web of alliances and conflicts among the dynastic noble families of Westeros vying to claim the throne or fighting for independence from the throne. \n",
    "* **Last Descendant of the realm's deposed ruling dynasty**: Daenearys Targaryen, exiled to Essos, and plotting a return to the throne.\n",
    "* **The Nights Watch**: A brotherhood charged with defending the realm against the ancient threats of the fierce peoples and legendary creatures that lie far north in the wilderness, and the impending winter that threatens the realm."
   ]
  },
  {
   "cell_type": "code",
   "execution_count": null,
   "metadata": {},
   "outputs": [],
   "source": [
    "from IPython.display import Image\n",
    "Image(\"GoT.jpg\")"
   ]
  },
  {
   "cell_type": "markdown",
   "metadata": {},
   "source": [
    "The \"battles\" dataset records the number of battles in a lengthy war known later as **The War of the Five Kings** following the untimely death of *King Robert Baratheon*, Lord of the Seven Kings and whom sat on the Iron Throne, located in King's Landing.\n",
    "\n",
    "The \"character-predictions\" dataset records every known character in Game of Thrones and can be used for machine-learning purposes to predict which characters may remain alive in the future.\n",
    "\n",
    "It is aptly named because there were *5 Kings* involved in the war (+1 if you include the Wildling King):\n",
    "* Joffrey Baratheon/(Lannister)\n",
    "* Robb Stark\n",
    "* Stannis Baratheon\n",
    "* Renly Baratheon\n",
    "* Balon Greyjoy\n",
    "\n",
    "Joffrey Baratheon succeeded his father, Robert Baratheon to the Iron Throne, however his legitimacy was questioned when rumours circulated that he was actually spawned of incest between his mother, Cersei Lannister and her brother, Ser Jaime Lannister. This questioning, in addition to the capture of *Tyrion Lannister*, son of the Lord of Casterly Rock and Warden of the West, *Tywin Lannister*; led to the execution in King's Landing of *Lord Eddard Stark*, Warden of the North and Lord of Winterfell, and as a response his son, Robb Stark declared himself King in The North and declared war on the Iron Throne. \n",
    "\n",
    "Meanwhile, also hearing of the incest rumours from the capital, Robert's two brothers, *Stannis Baratheon* and *Renly Baratheon*, both independently declared themselves rightful rulers of the Seven Kingdoms, and declared war on the Iron Throne. Whilst Stannis was the older brother of the two, Renly made a powerful ally in the Tyrells when he subsequently married *Margaery Tyrell*, daughter of the Lord of Highgarden and Warden of the South, *Lord Mace Tyrell*; securing a large army to siege the capital. Unfortunately, Renly was assassinated by his older brother.\n",
    "\n",
    "As Robb Stark called his bannermen to march south, Balon Greyjoy took advantage of this and declared war on the Seven Kingdoms, pillaging and claiming territory in the North while Robb with the bulk of the Northmen were in the Riverlands. Balon's son, Theon Greyjoy, captured the fortress of Winterfell."
   ]
  },
  {
   "cell_type": "code",
   "execution_count": null,
   "metadata": {},
   "outputs": [],
   "source": [
    "Image(\"got_map.png\")"
   ]
  },
  {
   "cell_type": "markdown",
   "metadata": {},
   "source": [
    "### Task 1.\n",
    "\n",
    "Import the *battles.xlsx* dataset, where rows record each battle. Remove the *location* column.\n",
    "\n",
    "Plot the pie charts of the number of battles per battle-type, region, and year."
   ]
  },
  {
   "cell_type": "code",
   "execution_count": null,
   "metadata": {},
   "outputs": [],
   "source": [
    "# your codes here"
   ]
  },
  {
   "cell_type": "markdown",
   "metadata": {},
   "source": [
    "### Task 2.\n",
    "\n",
    "Determine which Attacking King/Defending King has the largest army. This can be estimated by taking the mean average size of force for each battle. Do this in one line of code."
   ]
  },
  {
   "cell_type": "code",
   "execution_count": null,
   "metadata": {},
   "outputs": [],
   "source": [
    "# your codes here"
   ]
  },
  {
   "cell_type": "markdown",
   "metadata": {},
   "source": [
    "### Task 3.\n",
    "\n",
    "Separate out all of the attacking and defending commanders into separate columns, much like the attacker_1, ..., attacker_4 etc. Separate out all of the attackers and defenders by similar method. Drop rows where there is no attacking and/or defending king, or where the outcome of the battle is not provided, as this is essential information. Strip away any possible whitespace on the left or right of any of the resulting attacker/defender names or commander names."
   ]
  },
  {
   "cell_type": "code",
   "execution_count": null,
   "metadata": {},
   "outputs": [],
   "source": [
    "# your codes here"
   ]
  },
  {
   "cell_type": "markdown",
   "metadata": {},
   "source": [
    "### Task 4.\n",
    "\n",
    "**Create a new dataset**, where rows represent commanders. We can determine from this dataset which king they serve, their name, house, allegiance, captures and deaths they are associated to, median size of armies they've fought in, preferred type of battle and the number of victories and defeats they've been a part of in the War of the Five Kings."
   ]
  },
  {
   "cell_type": "code",
   "execution_count": null,
   "metadata": {
    "collapsed": true
   },
   "outputs": [],
   "source": [
    "# your codes here"
   ]
  },
  {
   "cell_type": "markdown",
   "metadata": {},
   "source": [
    "### Task 5.\n",
    "\n",
    "Import *character-predictions.xlsx*, which contains every known character in Game of Thrones, and some basic family information such as mother, father, which book they appear in, age, sex, and their estimated popularity with viewers.\n",
    "\n",
    "Create an interaction network around the **Targaryen dynasty**, i.e anyone part of House Targaryen. Highlight Targaryens that are alive differently from those who are dead. Plot this as a spring layout, and remove nodes with no connections. This can be done using the isolates() iterator to extract the names, then using remove_nodes_from()."
   ]
  },
  {
   "cell_type": "code",
   "execution_count": null,
   "metadata": {
    "collapsed": true
   },
   "outputs": [],
   "source": [
    "# your codes here"
   ]
  }
 ],
 "metadata": {
  "kernelspec": {
   "display_name": "Python 3",
   "language": "python",
   "name": "python3"
  },
  "language_info": {
   "codemirror_mode": {
    "name": "ipython",
    "version": 3
   },
   "file_extension": ".py",
   "mimetype": "text/x-python",
   "name": "python",
   "nbconvert_exporter": "python",
   "pygments_lexer": "ipython3",
   "version": "3.6.3"
  }
 },
 "nbformat": 4,
 "nbformat_minor": 2
}
