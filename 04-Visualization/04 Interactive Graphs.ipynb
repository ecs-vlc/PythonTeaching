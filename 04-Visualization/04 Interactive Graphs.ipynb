{
 "cells": [
  {
   "cell_type": "markdown",
   "metadata": {
    "collapsed": true
   },
   "source": [
    "# 4. Interactive Graphs\n",
    "\n",
    "We've explored a number of different packages and methods for plotting data, either straight using Matplotlib, or using plotting directly with a dataframe object (such as Seaborn or Pandas.plotting).\n",
    "\n",
    "One of the significant ways we can improve our graphs is by enabling **interaction** with them, which we can do in a number of ways:\n",
    "- provide **zoom** functionality to zoom in on a region in the graph\n",
    "- **hover** over tools/functionality\n",
    "- Changing **axes** interactively to update the graph\n",
    "- Changing colours, sizes of elements etc."
   ]
  },
  {
   "cell_type": "code",
   "execution_count": 1,
   "metadata": {
    "collapsed": true
   },
   "outputs": [],
   "source": [
    "import matplotlib.pyplot as plt\n",
    "%matplotlib inline"
   ]
  },
  {
   "cell_type": "markdown",
   "metadata": {},
   "source": [
    "## Bokeh\n",
    "\n",
    "Bokeh is an interactive visualization library that targets modern web browsers for presentation. It is good for:\n",
    "\n",
    "* Interactive visualization in modern browsers\n",
    "* Standalone HTML documents, or server-backed apps\n",
    "* Expressive and versatile graphics\n",
    "* Large, dynamic or streaming data\n",
    "* Easy usage from python (or Scala, or R, or...)\n",
    "\n",
    "And most importantly:\n",
    "\n",
    "## <center><i>NO JAVASCRIPT REQUIRED</i></center>\n",
    "\n",
    "The goal of Bokeh is to provide elegant, concise construction of novel graphics in the style of D3.js, from the comfort of high level languages such as Python, and to extend this capability with high-performance interactivity over very large or streaming datasets. Bokeh can help anyone who would like to quickly and easily create interactive plots, dashboards, and data applications.\n",
    "\n",
    "Bokeh gives developers considerable power over *every* aspect of their plot; far more so than Matplotlib, however this does make it rather verbose to code in.\n",
    "\n",
    "### Imports and Setup\n",
    "\n",
    "When using the `bokeh.plotting` interface, there are a few common imports:\n",
    "- Use the `figure` function to create new plot objects.\n",
    "- Call the functions `output_file` or `output_notebook` to tell Bokeh how to display or save output.\n",
    "- Execute `show` and `save` to display or save plots/layouts."
   ]
  },
  {
   "cell_type": "code",
   "execution_count": 2,
   "metadata": {},
   "outputs": [
    {
     "data": {
      "text/html": [
       "\n",
       "    <div class=\"bk-root\">\n",
       "        <a href=\"https://bokeh.pydata.org\" target=\"_blank\" class=\"bk-logo bk-logo-small bk-logo-notebook\"></a>\n",
       "        <span id=\"c756467e-ba9d-4ccf-b0d2-9c3d4e61d6cd\">Loading BokehJS ...</span>\n",
       "    </div>"
      ]
     },
     "metadata": {},
     "output_type": "display_data"
    },
    {
     "data": {
      "application/javascript": [
       "\n",
       "(function(root) {\n",
       "  function now() {\n",
       "    return new Date();\n",
       "  }\n",
       "\n",
       "  var force = true;\n",
       "\n",
       "  if (typeof (root._bokeh_onload_callbacks) === \"undefined\" || force === true) {\n",
       "    root._bokeh_onload_callbacks = [];\n",
       "    root._bokeh_is_loading = undefined;\n",
       "  }\n",
       "\n",
       "  var JS_MIME_TYPE = 'application/javascript';\n",
       "  var HTML_MIME_TYPE = 'text/html';\n",
       "  var EXEC_MIME_TYPE = 'application/vnd.bokehjs_exec.v0+json';\n",
       "  var CLASS_NAME = 'output_bokeh rendered_html';\n",
       "\n",
       "  /**\n",
       "   * Render data to the DOM node\n",
       "   */\n",
       "  function render(props, node) {\n",
       "    var script = document.createElement(\"script\");\n",
       "    node.appendChild(script);\n",
       "  }\n",
       "\n",
       "  /**\n",
       "   * Handle when an output is cleared or removed\n",
       "   */\n",
       "  function handleClearOutput(event, handle) {\n",
       "    var cell = handle.cell;\n",
       "\n",
       "    var id = cell.output_area._bokeh_element_id;\n",
       "    var server_id = cell.output_area._bokeh_server_id;\n",
       "    // Clean up Bokeh references\n",
       "    if (id !== undefined) {\n",
       "      Bokeh.index[id].model.document.clear();\n",
       "      delete Bokeh.index[id];\n",
       "    }\n",
       "\n",
       "    if (server_id !== undefined) {\n",
       "      // Clean up Bokeh references\n",
       "      var cmd = \"from bokeh.io.state import curstate; print(curstate().uuid_to_server['\" + server_id + \"'].get_sessions()[0].document.roots[0]._id)\";\n",
       "      cell.notebook.kernel.execute(cmd, {\n",
       "        iopub: {\n",
       "          output: function(msg) {\n",
       "            var element_id = msg.content.text.trim();\n",
       "            Bokeh.index[element_id].model.document.clear();\n",
       "            delete Bokeh.index[element_id];\n",
       "          }\n",
       "        }\n",
       "      });\n",
       "      // Destroy server and session\n",
       "      var cmd = \"import bokeh.io.notebook as ion; ion.destroy_server('\" + server_id + \"')\";\n",
       "      cell.notebook.kernel.execute(cmd);\n",
       "    }\n",
       "  }\n",
       "\n",
       "  /**\n",
       "   * Handle when a new output is added\n",
       "   */\n",
       "  function handleAddOutput(event, handle) {\n",
       "    var output_area = handle.output_area;\n",
       "    var output = handle.output;\n",
       "\n",
       "    // limit handleAddOutput to display_data with EXEC_MIME_TYPE content only\n",
       "    if ((output.output_type != \"display_data\") || (!output.data.hasOwnProperty(EXEC_MIME_TYPE))) {\n",
       "      return\n",
       "    }\n",
       "\n",
       "    var toinsert = output_area.element.find(\".\" + CLASS_NAME.split(' ')[0]);\n",
       "\n",
       "    if (output.metadata[EXEC_MIME_TYPE][\"id\"] !== undefined) {\n",
       "      toinsert[0].firstChild.textContent = output.data[JS_MIME_TYPE];\n",
       "      // store reference to embed id on output_area\n",
       "      output_area._bokeh_element_id = output.metadata[EXEC_MIME_TYPE][\"id\"];\n",
       "    }\n",
       "    if (output.metadata[EXEC_MIME_TYPE][\"server_id\"] !== undefined) {\n",
       "      var bk_div = document.createElement(\"div\");\n",
       "      bk_div.innerHTML = output.data[HTML_MIME_TYPE];\n",
       "      var script_attrs = bk_div.children[0].attributes;\n",
       "      for (var i = 0; i < script_attrs.length; i++) {\n",
       "        toinsert[0].firstChild.setAttribute(script_attrs[i].name, script_attrs[i].value);\n",
       "      }\n",
       "      // store reference to server id on output_area\n",
       "      output_area._bokeh_server_id = output.metadata[EXEC_MIME_TYPE][\"server_id\"];\n",
       "    }\n",
       "  }\n",
       "\n",
       "  function register_renderer(events, OutputArea) {\n",
       "\n",
       "    function append_mime(data, metadata, element) {\n",
       "      // create a DOM node to render to\n",
       "      var toinsert = this.create_output_subarea(\n",
       "        metadata,\n",
       "        CLASS_NAME,\n",
       "        EXEC_MIME_TYPE\n",
       "      );\n",
       "      this.keyboard_manager.register_events(toinsert);\n",
       "      // Render to node\n",
       "      var props = {data: data, metadata: metadata[EXEC_MIME_TYPE]};\n",
       "      render(props, toinsert[0]);\n",
       "      element.append(toinsert);\n",
       "      return toinsert\n",
       "    }\n",
       "\n",
       "    /* Handle when an output is cleared or removed */\n",
       "    events.on('clear_output.CodeCell', handleClearOutput);\n",
       "    events.on('delete.Cell', handleClearOutput);\n",
       "\n",
       "    /* Handle when a new output is added */\n",
       "    events.on('output_added.OutputArea', handleAddOutput);\n",
       "\n",
       "    /**\n",
       "     * Register the mime type and append_mime function with output_area\n",
       "     */\n",
       "    OutputArea.prototype.register_mime_type(EXEC_MIME_TYPE, append_mime, {\n",
       "      /* Is output safe? */\n",
       "      safe: true,\n",
       "      /* Index of renderer in `output_area.display_order` */\n",
       "      index: 0\n",
       "    });\n",
       "  }\n",
       "\n",
       "  // register the mime type if in Jupyter Notebook environment and previously unregistered\n",
       "  if (root.Jupyter !== undefined) {\n",
       "    var events = require('base/js/events');\n",
       "    var OutputArea = require('notebook/js/outputarea').OutputArea;\n",
       "\n",
       "    if (OutputArea.prototype.mime_types().indexOf(EXEC_MIME_TYPE) == -1) {\n",
       "      register_renderer(events, OutputArea);\n",
       "    }\n",
       "  }\n",
       "\n",
       "  \n",
       "  if (typeof (root._bokeh_timeout) === \"undefined\" || force === true) {\n",
       "    root._bokeh_timeout = Date.now() + 5000;\n",
       "    root._bokeh_failed_load = false;\n",
       "  }\n",
       "\n",
       "  var NB_LOAD_WARNING = {'data': {'text/html':\n",
       "     \"<div style='background-color: #fdd'>\\n\"+\n",
       "     \"<p>\\n\"+\n",
       "     \"BokehJS does not appear to have successfully loaded. If loading BokehJS from CDN, this \\n\"+\n",
       "     \"may be due to a slow or bad network connection. Possible fixes:\\n\"+\n",
       "     \"</p>\\n\"+\n",
       "     \"<ul>\\n\"+\n",
       "     \"<li>re-rerun `output_notebook()` to attempt to load from CDN again, or</li>\\n\"+\n",
       "     \"<li>use INLINE resources instead, as so:</li>\\n\"+\n",
       "     \"</ul>\\n\"+\n",
       "     \"<code>\\n\"+\n",
       "     \"from bokeh.resources import INLINE\\n\"+\n",
       "     \"output_notebook(resources=INLINE)\\n\"+\n",
       "     \"</code>\\n\"+\n",
       "     \"</div>\"}};\n",
       "\n",
       "  function display_loaded() {\n",
       "    var el = document.getElementById(\"c756467e-ba9d-4ccf-b0d2-9c3d4e61d6cd\");\n",
       "    if (el != null) {\n",
       "      el.textContent = \"BokehJS is loading...\";\n",
       "    }\n",
       "    if (root.Bokeh !== undefined) {\n",
       "      if (el != null) {\n",
       "        el.textContent = \"BokehJS \" + root.Bokeh.version + \" successfully loaded.\";\n",
       "      }\n",
       "    } else if (Date.now() < root._bokeh_timeout) {\n",
       "      setTimeout(display_loaded, 100)\n",
       "    }\n",
       "  }\n",
       "\n",
       "\n",
       "  function run_callbacks() {\n",
       "    try {\n",
       "      root._bokeh_onload_callbacks.forEach(function(callback) { callback() });\n",
       "    }\n",
       "    finally {\n",
       "      delete root._bokeh_onload_callbacks\n",
       "    }\n",
       "    console.info(\"Bokeh: all callbacks have finished\");\n",
       "  }\n",
       "\n",
       "  function load_libs(js_urls, callback) {\n",
       "    root._bokeh_onload_callbacks.push(callback);\n",
       "    if (root._bokeh_is_loading > 0) {\n",
       "      console.log(\"Bokeh: BokehJS is being loaded, scheduling callback at\", now());\n",
       "      return null;\n",
       "    }\n",
       "    if (js_urls == null || js_urls.length === 0) {\n",
       "      run_callbacks();\n",
       "      return null;\n",
       "    }\n",
       "    console.log(\"Bokeh: BokehJS not loaded, scheduling load and callback at\", now());\n",
       "    root._bokeh_is_loading = js_urls.length;\n",
       "    for (var i = 0; i < js_urls.length; i++) {\n",
       "      var url = js_urls[i];\n",
       "      var s = document.createElement('script');\n",
       "      s.src = url;\n",
       "      s.async = false;\n",
       "      s.onreadystatechange = s.onload = function() {\n",
       "        root._bokeh_is_loading--;\n",
       "        if (root._bokeh_is_loading === 0) {\n",
       "          console.log(\"Bokeh: all BokehJS libraries loaded\");\n",
       "          run_callbacks()\n",
       "        }\n",
       "      };\n",
       "      s.onerror = function() {\n",
       "        console.warn(\"failed to load library \" + url);\n",
       "      };\n",
       "      console.log(\"Bokeh: injecting script tag for BokehJS library: \", url);\n",
       "      document.getElementsByTagName(\"head\")[0].appendChild(s);\n",
       "    }\n",
       "  };var element = document.getElementById(\"c756467e-ba9d-4ccf-b0d2-9c3d4e61d6cd\");\n",
       "  if (element == null) {\n",
       "    console.log(\"Bokeh: ERROR: autoload.js configured with elementid 'c756467e-ba9d-4ccf-b0d2-9c3d4e61d6cd' but no matching script tag was found. \")\n",
       "    return false;\n",
       "  }\n",
       "\n",
       "  var js_urls = [\"https://cdn.pydata.org/bokeh/release/bokeh-0.12.13.min.js\", \"https://cdn.pydata.org/bokeh/release/bokeh-widgets-0.12.13.min.js\", \"https://cdn.pydata.org/bokeh/release/bokeh-tables-0.12.13.min.js\", \"https://cdn.pydata.org/bokeh/release/bokeh-gl-0.12.13.min.js\"];\n",
       "\n",
       "  var inline_js = [\n",
       "    function(Bokeh) {\n",
       "      Bokeh.set_log_level(\"info\");\n",
       "    },\n",
       "    \n",
       "    function(Bokeh) {\n",
       "      \n",
       "    },\n",
       "    function(Bokeh) {\n",
       "      console.log(\"Bokeh: injecting CSS: https://cdn.pydata.org/bokeh/release/bokeh-0.12.13.min.css\");\n",
       "      Bokeh.embed.inject_css(\"https://cdn.pydata.org/bokeh/release/bokeh-0.12.13.min.css\");\n",
       "      console.log(\"Bokeh: injecting CSS: https://cdn.pydata.org/bokeh/release/bokeh-widgets-0.12.13.min.css\");\n",
       "      Bokeh.embed.inject_css(\"https://cdn.pydata.org/bokeh/release/bokeh-widgets-0.12.13.min.css\");\n",
       "      console.log(\"Bokeh: injecting CSS: https://cdn.pydata.org/bokeh/release/bokeh-tables-0.12.13.min.css\");\n",
       "      Bokeh.embed.inject_css(\"https://cdn.pydata.org/bokeh/release/bokeh-tables-0.12.13.min.css\");\n",
       "    }\n",
       "  ];\n",
       "\n",
       "  function run_inline_js() {\n",
       "    \n",
       "    if ((root.Bokeh !== undefined) || (force === true)) {\n",
       "      for (var i = 0; i < inline_js.length; i++) {\n",
       "        inline_js[i].call(root, root.Bokeh);\n",
       "      }if (force === true) {\n",
       "        display_loaded();\n",
       "      }} else if (Date.now() < root._bokeh_timeout) {\n",
       "      setTimeout(run_inline_js, 100);\n",
       "    } else if (!root._bokeh_failed_load) {\n",
       "      console.log(\"Bokeh: BokehJS failed to load within specified timeout.\");\n",
       "      root._bokeh_failed_load = true;\n",
       "    } else if (force !== true) {\n",
       "      var cell = $(document.getElementById(\"c756467e-ba9d-4ccf-b0d2-9c3d4e61d6cd\")).parents('.cell').data().cell;\n",
       "      cell.output_area.append_execute_result(NB_LOAD_WARNING)\n",
       "    }\n",
       "\n",
       "  }\n",
       "\n",
       "  if (root._bokeh_is_loading === 0) {\n",
       "    console.log(\"Bokeh: BokehJS loaded, going straight to plotting\");\n",
       "    run_inline_js();\n",
       "  } else {\n",
       "    load_libs(js_urls, function() {\n",
       "      console.log(\"Bokeh: BokehJS plotting callback run at\", now());\n",
       "      run_inline_js();\n",
       "    });\n",
       "  }\n",
       "}(window));"
      ],
      "application/vnd.bokehjs_load.v0+json": "\n(function(root) {\n  function now() {\n    return new Date();\n  }\n\n  var force = true;\n\n  if (typeof (root._bokeh_onload_callbacks) === \"undefined\" || force === true) {\n    root._bokeh_onload_callbacks = [];\n    root._bokeh_is_loading = undefined;\n  }\n\n  \n\n  \n  if (typeof (root._bokeh_timeout) === \"undefined\" || force === true) {\n    root._bokeh_timeout = Date.now() + 5000;\n    root._bokeh_failed_load = false;\n  }\n\n  var NB_LOAD_WARNING = {'data': {'text/html':\n     \"<div style='background-color: #fdd'>\\n\"+\n     \"<p>\\n\"+\n     \"BokehJS does not appear to have successfully loaded. If loading BokehJS from CDN, this \\n\"+\n     \"may be due to a slow or bad network connection. Possible fixes:\\n\"+\n     \"</p>\\n\"+\n     \"<ul>\\n\"+\n     \"<li>re-rerun `output_notebook()` to attempt to load from CDN again, or</li>\\n\"+\n     \"<li>use INLINE resources instead, as so:</li>\\n\"+\n     \"</ul>\\n\"+\n     \"<code>\\n\"+\n     \"from bokeh.resources import INLINE\\n\"+\n     \"output_notebook(resources=INLINE)\\n\"+\n     \"</code>\\n\"+\n     \"</div>\"}};\n\n  function display_loaded() {\n    var el = document.getElementById(\"c756467e-ba9d-4ccf-b0d2-9c3d4e61d6cd\");\n    if (el != null) {\n      el.textContent = \"BokehJS is loading...\";\n    }\n    if (root.Bokeh !== undefined) {\n      if (el != null) {\n        el.textContent = \"BokehJS \" + root.Bokeh.version + \" successfully loaded.\";\n      }\n    } else if (Date.now() < root._bokeh_timeout) {\n      setTimeout(display_loaded, 100)\n    }\n  }\n\n\n  function run_callbacks() {\n    try {\n      root._bokeh_onload_callbacks.forEach(function(callback) { callback() });\n    }\n    finally {\n      delete root._bokeh_onload_callbacks\n    }\n    console.info(\"Bokeh: all callbacks have finished\");\n  }\n\n  function load_libs(js_urls, callback) {\n    root._bokeh_onload_callbacks.push(callback);\n    if (root._bokeh_is_loading > 0) {\n      console.log(\"Bokeh: BokehJS is being loaded, scheduling callback at\", now());\n      return null;\n    }\n    if (js_urls == null || js_urls.length === 0) {\n      run_callbacks();\n      return null;\n    }\n    console.log(\"Bokeh: BokehJS not loaded, scheduling load and callback at\", now());\n    root._bokeh_is_loading = js_urls.length;\n    for (var i = 0; i < js_urls.length; i++) {\n      var url = js_urls[i];\n      var s = document.createElement('script');\n      s.src = url;\n      s.async = false;\n      s.onreadystatechange = s.onload = function() {\n        root._bokeh_is_loading--;\n        if (root._bokeh_is_loading === 0) {\n          console.log(\"Bokeh: all BokehJS libraries loaded\");\n          run_callbacks()\n        }\n      };\n      s.onerror = function() {\n        console.warn(\"failed to load library \" + url);\n      };\n      console.log(\"Bokeh: injecting script tag for BokehJS library: \", url);\n      document.getElementsByTagName(\"head\")[0].appendChild(s);\n    }\n  };var element = document.getElementById(\"c756467e-ba9d-4ccf-b0d2-9c3d4e61d6cd\");\n  if (element == null) {\n    console.log(\"Bokeh: ERROR: autoload.js configured with elementid 'c756467e-ba9d-4ccf-b0d2-9c3d4e61d6cd' but no matching script tag was found. \")\n    return false;\n  }\n\n  var js_urls = [\"https://cdn.pydata.org/bokeh/release/bokeh-0.12.13.min.js\", \"https://cdn.pydata.org/bokeh/release/bokeh-widgets-0.12.13.min.js\", \"https://cdn.pydata.org/bokeh/release/bokeh-tables-0.12.13.min.js\", \"https://cdn.pydata.org/bokeh/release/bokeh-gl-0.12.13.min.js\"];\n\n  var inline_js = [\n    function(Bokeh) {\n      Bokeh.set_log_level(\"info\");\n    },\n    \n    function(Bokeh) {\n      \n    },\n    function(Bokeh) {\n      console.log(\"Bokeh: injecting CSS: https://cdn.pydata.org/bokeh/release/bokeh-0.12.13.min.css\");\n      Bokeh.embed.inject_css(\"https://cdn.pydata.org/bokeh/release/bokeh-0.12.13.min.css\");\n      console.log(\"Bokeh: injecting CSS: https://cdn.pydata.org/bokeh/release/bokeh-widgets-0.12.13.min.css\");\n      Bokeh.embed.inject_css(\"https://cdn.pydata.org/bokeh/release/bokeh-widgets-0.12.13.min.css\");\n      console.log(\"Bokeh: injecting CSS: https://cdn.pydata.org/bokeh/release/bokeh-tables-0.12.13.min.css\");\n      Bokeh.embed.inject_css(\"https://cdn.pydata.org/bokeh/release/bokeh-tables-0.12.13.min.css\");\n    }\n  ];\n\n  function run_inline_js() {\n    \n    if ((root.Bokeh !== undefined) || (force === true)) {\n      for (var i = 0; i < inline_js.length; i++) {\n        inline_js[i].call(root, root.Bokeh);\n      }if (force === true) {\n        display_loaded();\n      }} else if (Date.now() < root._bokeh_timeout) {\n      setTimeout(run_inline_js, 100);\n    } else if (!root._bokeh_failed_load) {\n      console.log(\"Bokeh: BokehJS failed to load within specified timeout.\");\n      root._bokeh_failed_load = true;\n    } else if (force !== true) {\n      var cell = $(document.getElementById(\"c756467e-ba9d-4ccf-b0d2-9c3d4e61d6cd\")).parents('.cell').data().cell;\n      cell.output_area.append_execute_result(NB_LOAD_WARNING)\n    }\n\n  }\n\n  if (root._bokeh_is_loading === 0) {\n    console.log(\"Bokeh: BokehJS loaded, going straight to plotting\");\n    run_inline_js();\n  } else {\n    load_libs(js_urls, function() {\n      console.log(\"Bokeh: BokehJS plotting callback run at\", now());\n      run_inline_js();\n    });\n  }\n}(window));"
     },
     "metadata": {},
     "output_type": "display_data"
    }
   ],
   "source": [
    "from bokeh.io import output_notebook, show\n",
    "from bokeh.plotting import figure\n",
    "output_notebook()"
   ]
  },
  {
   "cell_type": "markdown",
   "metadata": {},
   "source": [
    "### Basic Plots\n",
    "\n",
    "Here we will show a basic scatter plot, it is great to see that interactive ability comes with even the most basic Bokeh plots, such as zooming, panning etc. We can even do things like changing the *radius* of the circles rather than just the *size*."
   ]
  },
  {
   "cell_type": "code",
   "execution_count": 3,
   "metadata": {},
   "outputs": [
    {
     "data": {
      "text/html": [
       "\n",
       "<div class=\"bk-root\">\n",
       "    <div class=\"bk-plotdiv\" id=\"d74d3376-6e70-4df3-9bce-b5b3878f595c\"></div>\n",
       "</div>"
      ]
     },
     "metadata": {},
     "output_type": "display_data"
    },
    {
     "data": {
      "application/javascript": [
       "(function(root) {\n",
       "  function embed_document(root) {\n",
       "    \n",
       "  var docs_json = {\"024a1c16-2861-48d3-b72e-6ffd4927272e\":{\"roots\":{\"references\":[{\"attributes\":{},\"id\":\"a343e3be-eefc-40a5-82b9-902f78e1b60e\",\"type\":\"BasicTicker\"},{\"attributes\":{\"dimension\":1,\"plot\":{\"id\":\"20550555-90ad-4b6f-bce5-c605b95dcf68\",\"subtype\":\"Figure\",\"type\":\"Plot\"},\"ticker\":{\"id\":\"a343e3be-eefc-40a5-82b9-902f78e1b60e\",\"type\":\"BasicTicker\"}},\"id\":\"d9e12ac5-98e2-43f7-b4fa-1f253ee80b2c\",\"type\":\"Grid\"},{\"attributes\":{\"bottom_units\":\"screen\",\"fill_alpha\":{\"value\":0.5},\"fill_color\":{\"value\":\"lightgrey\"},\"left_units\":\"screen\",\"level\":\"overlay\",\"line_alpha\":{\"value\":1.0},\"line_color\":{\"value\":\"black\"},\"line_dash\":[4,4],\"line_width\":{\"value\":2},\"plot\":null,\"render_mode\":\"css\",\"right_units\":\"screen\",\"top_units\":\"screen\"},\"id\":\"78085bb9-c24f-431d-9749-5f6a6cb05711\",\"type\":\"BoxAnnotation\"},{\"attributes\":{},\"id\":\"bd63e33b-dda8-490f-a73d-9b8c4031d426\",\"type\":\"BasicTickFormatter\"},{\"attributes\":{\"below\":[{\"id\":\"f738560c-55fa-4459-973b-3ef910c83a3c\",\"type\":\"LinearAxis\"}],\"left\":[{\"id\":\"04b2d445-8339-4414-9d12-485879032b6d\",\"type\":\"LinearAxis\"}],\"plot_height\":300,\"plot_width\":400,\"renderers\":[{\"id\":\"f738560c-55fa-4459-973b-3ef910c83a3c\",\"type\":\"LinearAxis\"},{\"id\":\"481854aa-cb74-4658-b614-d197b9dc0947\",\"type\":\"Grid\"},{\"id\":\"04b2d445-8339-4414-9d12-485879032b6d\",\"type\":\"LinearAxis\"},{\"id\":\"d9e12ac5-98e2-43f7-b4fa-1f253ee80b2c\",\"type\":\"Grid\"},{\"id\":\"78085bb9-c24f-431d-9749-5f6a6cb05711\",\"type\":\"BoxAnnotation\"},{\"id\":\"9c98f282-a940-4340-89bc-d40e39b974a7\",\"type\":\"GlyphRenderer\"}],\"title\":{\"id\":\"183040f4-7779-4ba7-bc15-7b65cb259bc5\",\"type\":\"Title\"},\"toolbar\":{\"id\":\"5f4eccbe-1e77-4cac-a982-4a775593fc20\",\"type\":\"Toolbar\"},\"x_range\":{\"id\":\"28ffbd9c-ebd4-4a0d-bc4f-e31e585d1fe8\",\"type\":\"DataRange1d\"},\"x_scale\":{\"id\":\"d527b039-a196-48c9-a7c2-df2ef7577b4a\",\"type\":\"LinearScale\"},\"y_range\":{\"id\":\"955cc332-f714-4311-b111-1a14c7593172\",\"type\":\"DataRange1d\"},\"y_scale\":{\"id\":\"d5109f1a-a10c-466b-a18b-11590c6c5d0d\",\"type\":\"LinearScale\"}},\"id\":\"20550555-90ad-4b6f-bce5-c605b95dcf68\",\"subtype\":\"Figure\",\"type\":\"Plot\"},{\"attributes\":{\"data_source\":{\"id\":\"f61e51cc-f160-46f1-a8e9-74f1787a341c\",\"type\":\"ColumnDataSource\"},\"glyph\":{\"id\":\"49ecf410-8e21-4437-8cab-40a13df44d99\",\"type\":\"Circle\"},\"hover_glyph\":null,\"muted_glyph\":null,\"nonselection_glyph\":{\"id\":\"a13d9221-f591-43f4-8dae-bd8017a839fb\",\"type\":\"Circle\"},\"selection_glyph\":null,\"view\":{\"id\":\"0b8b51e6-0010-4b43-b7af-524b7bc21309\",\"type\":\"CDSView\"}},\"id\":\"9c98f282-a940-4340-89bc-d40e39b974a7\",\"type\":\"GlyphRenderer\"},{\"attributes\":{\"source\":{\"id\":\"f61e51cc-f160-46f1-a8e9-74f1787a341c\",\"type\":\"ColumnDataSource\"}},\"id\":\"0b8b51e6-0010-4b43-b7af-524b7bc21309\",\"type\":\"CDSView\"},{\"attributes\":{},\"id\":\"4ba4e98d-27b1-40b8-9643-ff2fef3a34bd\",\"type\":\"PanTool\"},{\"attributes\":{\"callback\":null,\"column_names\":[\"x\",\"y\"],\"data\":{\"x\":[1,2,3,4,5],\"y\":[6,7,2,4,5]}},\"id\":\"f61e51cc-f160-46f1-a8e9-74f1787a341c\",\"type\":\"ColumnDataSource\"},{\"attributes\":{\"active_drag\":\"auto\",\"active_inspect\":\"auto\",\"active_scroll\":\"auto\",\"active_tap\":\"auto\",\"tools\":[{\"id\":\"4ba4e98d-27b1-40b8-9643-ff2fef3a34bd\",\"type\":\"PanTool\"},{\"id\":\"29d39712-90f0-4225-ad80-5539c4c12862\",\"type\":\"WheelZoomTool\"},{\"id\":\"35d8d7db-d61b-444b-b01e-87346ed82896\",\"type\":\"BoxZoomTool\"},{\"id\":\"684a6724-15a3-479c-834d-7a7bd8d01188\",\"type\":\"SaveTool\"},{\"id\":\"83128eef-ee30-4852-8f21-46be188c1a8c\",\"type\":\"ResetTool\"},{\"id\":\"4db4e734-03cc-4338-b812-acd16caac7fe\",\"type\":\"HelpTool\"}]},\"id\":\"5f4eccbe-1e77-4cac-a982-4a775593fc20\",\"type\":\"Toolbar\"},{\"attributes\":{},\"id\":\"29d39712-90f0-4225-ad80-5539c4c12862\",\"type\":\"WheelZoomTool\"},{\"attributes\":{\"callback\":null},\"id\":\"28ffbd9c-ebd4-4a0d-bc4f-e31e585d1fe8\",\"type\":\"DataRange1d\"},{\"attributes\":{\"overlay\":{\"id\":\"78085bb9-c24f-431d-9749-5f6a6cb05711\",\"type\":\"BoxAnnotation\"}},\"id\":\"35d8d7db-d61b-444b-b01e-87346ed82896\",\"type\":\"BoxZoomTool\"},{\"attributes\":{\"fill_alpha\":{\"value\":0.1},\"fill_color\":{\"value\":\"#1f77b4\"},\"line_alpha\":{\"value\":0.1},\"line_color\":{\"value\":\"#1f77b4\"},\"radius\":{\"units\":\"data\",\"value\":0.2},\"size\":{\"units\":\"screen\",\"value\":15},\"x\":{\"field\":\"x\"},\"y\":{\"field\":\"y\"}},\"id\":\"a13d9221-f591-43f4-8dae-bd8017a839fb\",\"type\":\"Circle\"},{\"attributes\":{},\"id\":\"684a6724-15a3-479c-834d-7a7bd8d01188\",\"type\":\"SaveTool\"},{\"attributes\":{\"callback\":null},\"id\":\"955cc332-f714-4311-b111-1a14c7593172\",\"type\":\"DataRange1d\"},{\"attributes\":{},\"id\":\"83128eef-ee30-4852-8f21-46be188c1a8c\",\"type\":\"ResetTool\"},{\"attributes\":{},\"id\":\"d527b039-a196-48c9-a7c2-df2ef7577b4a\",\"type\":\"LinearScale\"},{\"attributes\":{},\"id\":\"4db4e734-03cc-4338-b812-acd16caac7fe\",\"type\":\"HelpTool\"},{\"attributes\":{},\"id\":\"d5109f1a-a10c-466b-a18b-11590c6c5d0d\",\"type\":\"LinearScale\"},{\"attributes\":{},\"id\":\"e0acb216-f6db-47ce-864e-2497c70d40ae\",\"type\":\"BasicTickFormatter\"},{\"attributes\":{\"fill_alpha\":{\"value\":0.5},\"fill_color\":{\"value\":\"orange\"},\"line_color\":{\"value\":\"navy\"},\"radius\":{\"units\":\"data\",\"value\":0.2},\"size\":{\"units\":\"screen\",\"value\":15},\"x\":{\"field\":\"x\"},\"y\":{\"field\":\"y\"}},\"id\":\"49ecf410-8e21-4437-8cab-40a13df44d99\",\"type\":\"Circle\"},{\"attributes\":{\"formatter\":{\"id\":\"bd63e33b-dda8-490f-a73d-9b8c4031d426\",\"type\":\"BasicTickFormatter\"},\"plot\":{\"id\":\"20550555-90ad-4b6f-bce5-c605b95dcf68\",\"subtype\":\"Figure\",\"type\":\"Plot\"},\"ticker\":{\"id\":\"fbdb04df-5327-468e-92fb-c8f766bb044f\",\"type\":\"BasicTicker\"}},\"id\":\"f738560c-55fa-4459-973b-3ef910c83a3c\",\"type\":\"LinearAxis\"},{\"attributes\":{\"plot\":null,\"text\":\"\"},\"id\":\"183040f4-7779-4ba7-bc15-7b65cb259bc5\",\"type\":\"Title\"},{\"attributes\":{},\"id\":\"fbdb04df-5327-468e-92fb-c8f766bb044f\",\"type\":\"BasicTicker\"},{\"attributes\":{\"plot\":{\"id\":\"20550555-90ad-4b6f-bce5-c605b95dcf68\",\"subtype\":\"Figure\",\"type\":\"Plot\"},\"ticker\":{\"id\":\"fbdb04df-5327-468e-92fb-c8f766bb044f\",\"type\":\"BasicTicker\"}},\"id\":\"481854aa-cb74-4658-b614-d197b9dc0947\",\"type\":\"Grid\"},{\"attributes\":{\"formatter\":{\"id\":\"e0acb216-f6db-47ce-864e-2497c70d40ae\",\"type\":\"BasicTickFormatter\"},\"plot\":{\"id\":\"20550555-90ad-4b6f-bce5-c605b95dcf68\",\"subtype\":\"Figure\",\"type\":\"Plot\"},\"ticker\":{\"id\":\"a343e3be-eefc-40a5-82b9-902f78e1b60e\",\"type\":\"BasicTicker\"}},\"id\":\"04b2d445-8339-4414-9d12-485879032b6d\",\"type\":\"LinearAxis\"}],\"root_ids\":[\"20550555-90ad-4b6f-bce5-c605b95dcf68\"]},\"title\":\"Bokeh Application\",\"version\":\"0.12.13\"}};\n",
       "  var render_items = [{\"docid\":\"024a1c16-2861-48d3-b72e-6ffd4927272e\",\"elementid\":\"d74d3376-6e70-4df3-9bce-b5b3878f595c\",\"modelid\":\"20550555-90ad-4b6f-bce5-c605b95dcf68\"}];\n",
       "  root.Bokeh.embed.embed_items_notebook(docs_json, render_items);\n",
       "\n",
       "  }\n",
       "  if (root.Bokeh !== undefined) {\n",
       "    embed_document(root);\n",
       "  } else {\n",
       "    var attempts = 0;\n",
       "    var timer = setInterval(function(root) {\n",
       "      if (root.Bokeh !== undefined) {\n",
       "        embed_document(root);\n",
       "        clearInterval(timer);\n",
       "      }\n",
       "      attempts++;\n",
       "      if (attempts > 100) {\n",
       "        console.log(\"Bokeh: ERROR: Unable to run BokehJS code because BokehJS library is missing\")\n",
       "        clearInterval(timer);\n",
       "      }\n",
       "    }, 10, root)\n",
       "  }\n",
       "})(window);"
      ],
      "application/vnd.bokehjs_exec.v0+json": ""
     },
     "metadata": {
      "application/vnd.bokehjs_exec.v0+json": {
       "id": "20550555-90ad-4b6f-bce5-c605b95dcf68"
      }
     },
     "output_type": "display_data"
    }
   ],
   "source": [
    "p = figure(plot_width=400, plot_height=300)\n",
    "p.circle([1,2,3,4,5], [6,7,2,4,5], size=15, line_color=\"navy\", fill_color='orange', fill_alpha=.5, radius=.2)\n",
    "show(p)"
   ]
  },
  {
   "cell_type": "markdown",
   "metadata": {},
   "source": [
    "In general, all of a glyph's properties can be vectorized in this fashion.\n",
    "\n",
    "</table><p>There are many marker types available in Bokeh, here a sampling of them:</p>\n",
    "<table class=\"hlist\" style=\"float:left\"><tr><td><ul>\n",
    "<li><a href=\"http://bokeh.pydata.org/en/latest/docs/reference/plotting.html#bokeh.plotting.Figure.asterisk\" title=\"bokeh.plotting.Figure.asterisk\"><code class=\"xref py py-func docutils literal\"><span class=\"pre\">asterisk()</span></code></a></li>\n",
    "<li><a href=\"http://bokeh.pydata.org/en/latest/docs/reference/plotting.html#bokeh.plotting.Figure.circle\" title=\"bokeh.plotting.Figure.circle\"><code class=\"xref py py-func docutils literal\"><span class=\"pre\">circle()</span></code></a></li>\n",
    "<li><a href=\"http://bokeh.pydata.org/en/latest/docs/reference/plotting.html#bokeh.plotting.Figure.circle_cross\" title=\"bokeh.plotting.Figure.circle_cross\"><code class=\"xref py py-func docutils literal\"><span class=\"pre\">circle_cross()</span></code></a></li>\n",
    "<li><a href=\"http://bokeh.pydata.org/en/latest/docs/reference/plotting.html#bokeh.plotting.Figure.circle_x\" title=\"bokeh.plotting.Figure.circle_x\"><code class=\"xref py py-func docutils literal\"><span class=\"pre\">circle_x()</span></code></a></li>\n",
    "<li><a href=\"http://bokeh.pydata.org/en/latest/docs/reference/plotting.html#bokeh.plotting.Figure.cross\" title=\"bokeh.plotting.Figure.cross\"><code class=\"xref py py-func docutils literal\"><span class=\"pre\">cross()</span></code></a></li>\n",
    "</ul>\n",
    "</td><td><ul>\n",
    "<li><a href=\"http://bokeh.pydata.org/en/latest/docs/reference/plotting.html#bokeh.plotting.Figure.diamond\" title=\"bokeh.plotting.Figure.diamond\"><code class=\"xref py py-func docutils literal\"><span class=\"pre\">diamond()</span></code></a></li>\n",
    "<li><a href=\"http://bokeh.pydata.org/en/latest/docs/reference/plotting.html#bokeh.plotting.Figure.diamond_cross\" title=\"bokeh.plotting.Figure.diamond_cross\"><code class=\"xref py py-func docutils literal\"><span class=\"pre\">diamond_cross()</span></code></a></li>\n",
    "<li><a href=\"http://bokeh.pydata.org/en/latest/docs/reference/plotting.html#bokeh.plotting.Figure.inverted_triangle\" title=\"bokeh.plotting.Figure.inverted_triangle\"><code class=\"xref py py-func docutils literal\"><span class=\"pre\">inverted_triangle()</span></code></a></li>\n",
    "<li><a href=\"http://bokeh.pydata.org/en/latest/docs/reference/plotting.html#bokeh.plotting.Figure.square\" title=\"bokeh.plotting.Figure.square\"><code class=\"xref py py-func docutils literal\"><span class=\"pre\">square()</span></code></a></li>\n",
    "</ul>\n",
    "</td><td><ul>\n",
    "<li><a href=\"http://bokeh.pydata.org/en/latest/docs/reference/plotting.html#bokeh.plotting.Figure.square_cross\" title=\"bokeh.plotting.Figure.square_cross\"><code class=\"xref py py-func docutils literal\"><span class=\"pre\">square_cross()</span></code></a></li>\n",
    "<li><a href=\"http://bokeh.pydata.org/en/latest/docs/reference/plotting.html#bokeh.plotting.Figure.square_x\" title=\"bokeh.plotting.Figure.square_x\"><code class=\"xref py py-func docutils literal\"><span class=\"pre\">square_x()</span></code></a></li>\n",
    "<li><a href=\"http://bokeh.pydata.org/en/latest/docs/reference/plotting.html#bokeh.plotting.Figure.triangle\" title=\"bokeh.plotting.Figure.triangle\"><code class=\"xref py py-func docutils literal\"><span class=\"pre\">triangle()</span></code></a></li>\n",
    "<li><a href=\"http://bokeh.pydata.org/en/latest/docs/reference/plotting.html#bokeh.plotting.Figure.x\" title=\"bokeh.plotting.Figure.x\"><code class=\"xref py py-func docutils literal\"><span class=\"pre\">x()</span></code></a></li>\n",
    "</ul>\n",
    "</td></tr></table>"
   ]
  },
  {
   "cell_type": "code",
   "execution_count": 4,
   "metadata": {},
   "outputs": [
    {
     "data": {
      "text/html": [
       "\n",
       "<div class=\"bk-root\">\n",
       "    <div class=\"bk-plotdiv\" id=\"e47ce3b2-0772-480b-a816-c7e86a4b3939\"></div>\n",
       "</div>"
      ]
     },
     "metadata": {},
     "output_type": "display_data"
    },
    {
     "data": {
      "application/javascript": [
       "(function(root) {\n",
       "  function embed_document(root) {\n",
       "    \n",
       "  var docs_json = {\"63aa7c5d-bcba-4000-8c7b-b64608599137\":{\"roots\":{\"references\":[{\"attributes\":{\"active_drag\":\"auto\",\"active_inspect\":\"auto\",\"active_scroll\":\"auto\",\"active_tap\":\"auto\",\"tools\":[{\"id\":\"05f7855a-f474-4cc8-a446-f10816462319\",\"type\":\"PanTool\"},{\"id\":\"295adf63-13f1-4197-9ca0-b7f619fe39f9\",\"type\":\"WheelZoomTool\"},{\"id\":\"ab99e05d-30d9-4e10-913e-650e6f4d4d72\",\"type\":\"BoxZoomTool\"},{\"id\":\"3003ac26-e580-414c-86d4-e357010c610d\",\"type\":\"SaveTool\"},{\"id\":\"1e9ed7a4-8397-495a-967f-eb76ac96f940\",\"type\":\"ResetTool\"},{\"id\":\"711e7b27-79f6-4f9e-af0b-1816e512b833\",\"type\":\"HelpTool\"}]},\"id\":\"85602311-9aa9-4f56-8279-752814f5f239\",\"type\":\"Toolbar\"},{\"attributes\":{},\"id\":\"a511a6b2-bdf6-4943-bfb1-4586340373c6\",\"type\":\"LinearScale\"},{\"attributes\":{\"overlay\":{\"id\":\"252f10ba-b3f9-46e2-86b6-466e7ea99729\",\"type\":\"BoxAnnotation\"}},\"id\":\"ab99e05d-30d9-4e10-913e-650e6f4d4d72\",\"type\":\"BoxZoomTool\"},{\"attributes\":{\"callback\":null},\"id\":\"afcd27fd-6a93-4b7d-b15d-cf046b1c1de1\",\"type\":\"DataRange1d\"},{\"attributes\":{},\"id\":\"05f7855a-f474-4cc8-a446-f10816462319\",\"type\":\"PanTool\"},{\"attributes\":{},\"id\":\"34742e49-6776-43b0-9514-68254b44ea60\",\"type\":\"LinearScale\"},{\"attributes\":{},\"id\":\"295adf63-13f1-4197-9ca0-b7f619fe39f9\",\"type\":\"WheelZoomTool\"},{\"attributes\":{\"callback\":null},\"id\":\"26db9ff9-2353-4b09-b5c1-d4ff3cd79bbd\",\"type\":\"DataRange1d\"},{\"attributes\":{},\"id\":\"dc21023f-ffc8-429b-a609-1bce8390607b\",\"type\":\"BasicTickFormatter\"},{\"attributes\":{\"plot\":null,\"text\":\"My Line Plot\"},\"id\":\"32bc2188-3b7f-4f79-8834-4f62877853d5\",\"type\":\"Title\"},{\"attributes\":{\"bottom_units\":\"screen\",\"fill_alpha\":{\"value\":0.5},\"fill_color\":{\"value\":\"lightgrey\"},\"left_units\":\"screen\",\"level\":\"overlay\",\"line_alpha\":{\"value\":1.0},\"line_color\":{\"value\":\"black\"},\"line_dash\":[4,4],\"line_width\":{\"value\":2},\"plot\":null,\"render_mode\":\"css\",\"right_units\":\"screen\",\"top_units\":\"screen\"},\"id\":\"252f10ba-b3f9-46e2-86b6-466e7ea99729\",\"type\":\"BoxAnnotation\"},{\"attributes\":{\"formatter\":{\"id\":\"dc21023f-ffc8-429b-a609-1bce8390607b\",\"type\":\"BasicTickFormatter\"},\"plot\":{\"id\":\"aefcccc7-b169-4c39-a345-b9489daa4357\",\"subtype\":\"Figure\",\"type\":\"Plot\"},\"ticker\":{\"id\":\"8e7b8e40-a849-4e48-8563-5b0b0f06eb00\",\"type\":\"BasicTicker\"}},\"id\":\"9a9538a3-b610-4cfd-8f62-eda8c465aee8\",\"type\":\"LinearAxis\"},{\"attributes\":{\"data_source\":{\"id\":\"e218bdf9-0c6f-4c6f-9470-f4763e5c2a85\",\"type\":\"ColumnDataSource\"},\"glyph\":{\"id\":\"685ff883-8229-439d-89fc-5b6566040888\",\"type\":\"Line\"},\"hover_glyph\":null,\"muted_glyph\":null,\"nonselection_glyph\":{\"id\":\"aa30774e-f4aa-4fb8-864e-303b3f188012\",\"type\":\"Line\"},\"selection_glyph\":null,\"view\":{\"id\":\"a3cccc92-f758-4f25-9c76-fa9f2c272135\",\"type\":\"CDSView\"}},\"id\":\"66f12af8-e7ba-4fbf-aec5-542b8cc521a5\",\"type\":\"GlyphRenderer\"},{\"attributes\":{},\"id\":\"8e7b8e40-a849-4e48-8563-5b0b0f06eb00\",\"type\":\"BasicTicker\"},{\"attributes\":{\"dimension\":1,\"plot\":{\"id\":\"aefcccc7-b169-4c39-a345-b9489daa4357\",\"subtype\":\"Figure\",\"type\":\"Plot\"},\"ticker\":{\"id\":\"8e7b8e40-a849-4e48-8563-5b0b0f06eb00\",\"type\":\"BasicTicker\"}},\"id\":\"fee25a3d-0484-413b-9d33-79a236b688aa\",\"type\":\"Grid\"},{\"attributes\":{},\"id\":\"a7b01138-6c68-412b-9bd9-2e4357c73ee2\",\"type\":\"BasicTickFormatter\"},{\"attributes\":{},\"id\":\"1159f8d7-a351-4741-87a7-458f25c6ce54\",\"type\":\"BasicTicker\"},{\"attributes\":{\"formatter\":{\"id\":\"a7b01138-6c68-412b-9bd9-2e4357c73ee2\",\"type\":\"BasicTickFormatter\"},\"plot\":{\"id\":\"aefcccc7-b169-4c39-a345-b9489daa4357\",\"subtype\":\"Figure\",\"type\":\"Plot\"},\"ticker\":{\"id\":\"1159f8d7-a351-4741-87a7-458f25c6ce54\",\"type\":\"BasicTicker\"}},\"id\":\"83638b78-3fb0-4096-b0c1-444b35e2fca2\",\"type\":\"LinearAxis\"},{\"attributes\":{\"plot\":{\"id\":\"aefcccc7-b169-4c39-a345-b9489daa4357\",\"subtype\":\"Figure\",\"type\":\"Plot\"},\"ticker\":{\"id\":\"1159f8d7-a351-4741-87a7-458f25c6ce54\",\"type\":\"BasicTicker\"}},\"id\":\"397a54f6-5d4c-423c-899a-bff96a5feea1\",\"type\":\"Grid\"},{\"attributes\":{\"source\":{\"id\":\"e218bdf9-0c6f-4c6f-9470-f4763e5c2a85\",\"type\":\"ColumnDataSource\"}},\"id\":\"a3cccc92-f758-4f25-9c76-fa9f2c272135\",\"type\":\"CDSView\"},{\"attributes\":{},\"id\":\"3003ac26-e580-414c-86d4-e357010c610d\",\"type\":\"SaveTool\"},{\"attributes\":{\"line_alpha\":0.1,\"line_color\":\"#1f77b4\",\"line_width\":2,\"x\":{\"field\":\"x\"},\"y\":{\"field\":\"y\"}},\"id\":\"aa30774e-f4aa-4fb8-864e-303b3f188012\",\"type\":\"Line\"},{\"attributes\":{\"line_color\":\"#1f77b4\",\"line_width\":2,\"x\":{\"field\":\"x\"},\"y\":{\"field\":\"y\"}},\"id\":\"685ff883-8229-439d-89fc-5b6566040888\",\"type\":\"Line\"},{\"attributes\":{\"below\":[{\"id\":\"83638b78-3fb0-4096-b0c1-444b35e2fca2\",\"type\":\"LinearAxis\"}],\"left\":[{\"id\":\"9a9538a3-b610-4cfd-8f62-eda8c465aee8\",\"type\":\"LinearAxis\"}],\"plot_height\":300,\"plot_width\":400,\"renderers\":[{\"id\":\"83638b78-3fb0-4096-b0c1-444b35e2fca2\",\"type\":\"LinearAxis\"},{\"id\":\"397a54f6-5d4c-423c-899a-bff96a5feea1\",\"type\":\"Grid\"},{\"id\":\"9a9538a3-b610-4cfd-8f62-eda8c465aee8\",\"type\":\"LinearAxis\"},{\"id\":\"fee25a3d-0484-413b-9d33-79a236b688aa\",\"type\":\"Grid\"},{\"id\":\"252f10ba-b3f9-46e2-86b6-466e7ea99729\",\"type\":\"BoxAnnotation\"},{\"id\":\"66f12af8-e7ba-4fbf-aec5-542b8cc521a5\",\"type\":\"GlyphRenderer\"}],\"title\":{\"id\":\"32bc2188-3b7f-4f79-8834-4f62877853d5\",\"type\":\"Title\"},\"toolbar\":{\"id\":\"85602311-9aa9-4f56-8279-752814f5f239\",\"type\":\"Toolbar\"},\"x_range\":{\"id\":\"afcd27fd-6a93-4b7d-b15d-cf046b1c1de1\",\"type\":\"DataRange1d\"},\"x_scale\":{\"id\":\"a511a6b2-bdf6-4943-bfb1-4586340373c6\",\"type\":\"LinearScale\"},\"y_range\":{\"id\":\"26db9ff9-2353-4b09-b5c1-d4ff3cd79bbd\",\"type\":\"DataRange1d\"},\"y_scale\":{\"id\":\"34742e49-6776-43b0-9514-68254b44ea60\",\"type\":\"LinearScale\"}},\"id\":\"aefcccc7-b169-4c39-a345-b9489daa4357\",\"subtype\":\"Figure\",\"type\":\"Plot\"},{\"attributes\":{},\"id\":\"1e9ed7a4-8397-495a-967f-eb76ac96f940\",\"type\":\"ResetTool\"},{\"attributes\":{\"callback\":null,\"column_names\":[\"x\",\"y\"],\"data\":{\"x\":[1,2,3,4,5],\"y\":[6,7,2,4,5]}},\"id\":\"e218bdf9-0c6f-4c6f-9470-f4763e5c2a85\",\"type\":\"ColumnDataSource\"},{\"attributes\":{},\"id\":\"711e7b27-79f6-4f9e-af0b-1816e512b833\",\"type\":\"HelpTool\"}],\"root_ids\":[\"aefcccc7-b169-4c39-a345-b9489daa4357\"]},\"title\":\"Bokeh Application\",\"version\":\"0.12.13\"}};\n",
       "  var render_items = [{\"docid\":\"63aa7c5d-bcba-4000-8c7b-b64608599137\",\"elementid\":\"e47ce3b2-0772-480b-a816-c7e86a4b3939\",\"modelid\":\"aefcccc7-b169-4c39-a345-b9489daa4357\"}];\n",
       "  root.Bokeh.embed.embed_items_notebook(docs_json, render_items);\n",
       "\n",
       "  }\n",
       "  if (root.Bokeh !== undefined) {\n",
       "    embed_document(root);\n",
       "  } else {\n",
       "    var attempts = 0;\n",
       "    var timer = setInterval(function(root) {\n",
       "      if (root.Bokeh !== undefined) {\n",
       "        embed_document(root);\n",
       "        clearInterval(timer);\n",
       "      }\n",
       "      attempts++;\n",
       "      if (attempts > 100) {\n",
       "        console.log(\"Bokeh: ERROR: Unable to run BokehJS code because BokehJS library is missing\")\n",
       "        clearInterval(timer);\n",
       "      }\n",
       "    }, 10, root)\n",
       "  }\n",
       "})(window);"
      ],
      "application/vnd.bokehjs_exec.v0+json": ""
     },
     "metadata": {
      "application/vnd.bokehjs_exec.v0+json": {
       "id": "aefcccc7-b169-4c39-a345-b9489daa4357"
      }
     },
     "output_type": "display_data"
    }
   ],
   "source": [
    "# create a new plot (with a title) using figure\n",
    "p = figure(plot_width=400, plot_height=300, title=\"My Line Plot\")\n",
    "p.line([1, 2, 3, 4, 5], [6, 7, 2, 4, 5], line_width=2)\n",
    "show(p) # show the results"
   ]
  },
  {
   "cell_type": "markdown",
   "metadata": {},
   "source": [
    "### Images\n",
    "\n",
    "We can use `image_rgba` to display raw RGBA data like a heatmap:"
   ]
  },
  {
   "cell_type": "code",
   "execution_count": 5,
   "metadata": {},
   "outputs": [
    {
     "data": {
      "text/html": [
       "\n",
       "<div class=\"bk-root\">\n",
       "    <div class=\"bk-plotdiv\" id=\"f6389ec3-3e5c-4c4f-8735-94b9fb99d9d6\"></div>\n",
       "</div>"
      ]
     },
     "metadata": {},
     "output_type": "display_data"
    },
    {
     "data": {
      "application/javascript": [
       "(function(root) {\n",
       "  function embed_document(root) {\n",
       "    \n",
       "  var docs_json = {\"604e6461-da78-4209-a889-87ac52c043f8\":{\"roots\":{\"references\":[{\"attributes\":{},\"id\":\"d59730a0-99a1-492c-8470-3a831ba63523\",\"type\":\"PanTool\"},{\"attributes\":{},\"id\":\"98fb9999-ffa0-4b80-9d4f-8ca703a1bece\",\"type\":\"BasicTicker\"},{\"attributes\":{\"bottom_units\":\"screen\",\"fill_alpha\":{\"value\":0.5},\"fill_color\":{\"value\":\"lightgrey\"},\"left_units\":\"screen\",\"level\":\"overlay\",\"line_alpha\":{\"value\":1.0},\"line_color\":{\"value\":\"black\"},\"line_dash\":[4,4],\"line_width\":{\"value\":2},\"plot\":null,\"render_mode\":\"css\",\"right_units\":\"screen\",\"top_units\":\"screen\"},\"id\":\"70020552-f0cd-425b-9765-dec7f46fa041\",\"type\":\"BoxAnnotation\"},{\"attributes\":{},\"id\":\"8867861b-b725-4872-8432-e999ef8d925d\",\"type\":\"BasicTicker\"},{\"attributes\":{\"dh\":{\"field\":\"dh\",\"units\":\"data\"},\"dw\":{\"field\":\"dw\",\"units\":\"data\"},\"image\":{\"field\":\"image\"},\"x\":{\"field\":\"x\"},\"y\":{\"field\":\"y\"}},\"id\":\"e57e2848-a52b-461f-b04f-20eee922dccb\",\"type\":\"ImageRGBA\"},{\"attributes\":{\"formatter\":{\"id\":\"d1fa9132-e889-4bd0-a36f-672b9ea04ab4\",\"type\":\"BasicTickFormatter\"},\"plot\":{\"id\":\"d68c7b54-9c2e-41c1-b56e-7d2ce873eead\",\"subtype\":\"Figure\",\"type\":\"Plot\"},\"ticker\":{\"id\":\"8867861b-b725-4872-8432-e999ef8d925d\",\"type\":\"BasicTicker\"}},\"id\":\"27fac260-672c-459c-90ba-ff8171e6da1e\",\"type\":\"LinearAxis\"},{\"attributes\":{\"callback\":null,\"end\":10},\"id\":\"3ce19f7c-5c57-4d6c-94e3-f9cb2961671a\",\"type\":\"Range1d\"},{\"attributes\":{\"dimension\":1,\"plot\":{\"id\":\"d68c7b54-9c2e-41c1-b56e-7d2ce873eead\",\"subtype\":\"Figure\",\"type\":\"Plot\"},\"ticker\":{\"id\":\"8867861b-b725-4872-8432-e999ef8d925d\",\"type\":\"BasicTicker\"}},\"id\":\"00484121-d750-4346-b6f6-1c2b6411ea27\",\"type\":\"Grid\"},{\"attributes\":{\"plot\":null,\"text\":\"\"},\"id\":\"9b66cdab-8753-4eab-be87-98d866922f94\",\"type\":\"Title\"},{\"attributes\":{\"formatter\":{\"id\":\"481336e8-fbe5-4d0d-b55d-a63733e1c43e\",\"type\":\"BasicTickFormatter\"},\"plot\":{\"id\":\"d68c7b54-9c2e-41c1-b56e-7d2ce873eead\",\"subtype\":\"Figure\",\"type\":\"Plot\"},\"ticker\":{\"id\":\"98fb9999-ffa0-4b80-9d4f-8ca703a1bece\",\"type\":\"BasicTicker\"}},\"id\":\"a2802930-37d3-4c3c-a620-a6ff44d977b0\",\"type\":\"LinearAxis\"},{\"attributes\":{\"dh\":{\"field\":\"dh\",\"units\":\"data\"},\"dw\":{\"field\":\"dw\",\"units\":\"data\"},\"image\":{\"field\":\"image\"},\"x\":{\"field\":\"x\"},\"y\":{\"field\":\"y\"}},\"id\":\"a3174b79-905d-44cf-9ac6-94309f3b7f46\",\"type\":\"ImageRGBA\"},{\"attributes\":{\"plot\":{\"id\":\"d68c7b54-9c2e-41c1-b56e-7d2ce873eead\",\"subtype\":\"Figure\",\"type\":\"Plot\"},\"ticker\":{\"id\":\"98fb9999-ffa0-4b80-9d4f-8ca703a1bece\",\"type\":\"BasicTicker\"}},\"id\":\"bd4d5a71-7483-45e4-a7f7-14ecd9d20c00\",\"type\":\"Grid\"},{\"attributes\":{\"source\":{\"id\":\"a09ef316-2450-4e18-85ce-75b8fcd63ce8\",\"type\":\"ColumnDataSource\"}},\"id\":\"94751a9e-8d29-49b2-996c-9bcd876bb55d\",\"type\":\"CDSView\"},{\"attributes\":{},\"id\":\"d1fa9132-e889-4bd0-a36f-672b9ea04ab4\",\"type\":\"BasicTickFormatter\"},{\"attributes\":{},\"id\":\"21e9dbf9-9b28-48e2-a157-bfba1a294acf\",\"type\":\"LinearScale\"},{\"attributes\":{},\"id\":\"5a48069e-08fb-4a61-bf35-3eaa6e5360d9\",\"type\":\"SaveTool\"},{\"attributes\":{\"callback\":null,\"end\":10},\"id\":\"56cb372f-686b-45c0-912f-af2cda67b711\",\"type\":\"Range1d\"},{\"attributes\":{\"active_drag\":\"auto\",\"active_inspect\":\"auto\",\"active_scroll\":\"auto\",\"active_tap\":\"auto\",\"tools\":[{\"id\":\"d59730a0-99a1-492c-8470-3a831ba63523\",\"type\":\"PanTool\"},{\"id\":\"c7509ad1-eb7c-4973-bb85-f0a523e7d95a\",\"type\":\"WheelZoomTool\"},{\"id\":\"4cc6be5d-a224-41ca-84b4-0eb275b09e05\",\"type\":\"BoxZoomTool\"},{\"id\":\"5a48069e-08fb-4a61-bf35-3eaa6e5360d9\",\"type\":\"SaveTool\"},{\"id\":\"b677f67e-1a78-47c1-bfe7-475d86695879\",\"type\":\"ResetTool\"},{\"id\":\"e64b53a7-48f5-4bad-9624-c1b3a641918b\",\"type\":\"HelpTool\"}]},\"id\":\"1d7ea590-50aa-43de-9110-e3315208459c\",\"type\":\"Toolbar\"},{\"attributes\":{\"overlay\":{\"id\":\"70020552-f0cd-425b-9765-dec7f46fa041\",\"type\":\"BoxAnnotation\"}},\"id\":\"4cc6be5d-a224-41ca-84b4-0eb275b09e05\",\"type\":\"BoxZoomTool\"},{\"attributes\":{\"below\":[{\"id\":\"a2802930-37d3-4c3c-a620-a6ff44d977b0\",\"type\":\"LinearAxis\"}],\"left\":[{\"id\":\"27fac260-672c-459c-90ba-ff8171e6da1e\",\"type\":\"LinearAxis\"}],\"plot_height\":300,\"renderers\":[{\"id\":\"a2802930-37d3-4c3c-a620-a6ff44d977b0\",\"type\":\"LinearAxis\"},{\"id\":\"bd4d5a71-7483-45e4-a7f7-14ecd9d20c00\",\"type\":\"Grid\"},{\"id\":\"27fac260-672c-459c-90ba-ff8171e6da1e\",\"type\":\"LinearAxis\"},{\"id\":\"00484121-d750-4346-b6f6-1c2b6411ea27\",\"type\":\"Grid\"},{\"id\":\"70020552-f0cd-425b-9765-dec7f46fa041\",\"type\":\"BoxAnnotation\"},{\"id\":\"f2c3ad0e-1ed0-4ec0-8ad0-e03f40d3017f\",\"type\":\"GlyphRenderer\"}],\"title\":{\"id\":\"9b66cdab-8753-4eab-be87-98d866922f94\",\"type\":\"Title\"},\"toolbar\":{\"id\":\"1d7ea590-50aa-43de-9110-e3315208459c\",\"type\":\"Toolbar\"},\"x_range\":{\"id\":\"56cb372f-686b-45c0-912f-af2cda67b711\",\"type\":\"Range1d\"},\"x_scale\":{\"id\":\"38da04a7-5e5f-40ae-b4d2-e6207f26c085\",\"type\":\"LinearScale\"},\"y_range\":{\"id\":\"3ce19f7c-5c57-4d6c-94e3-f9cb2961671a\",\"type\":\"Range1d\"},\"y_scale\":{\"id\":\"21e9dbf9-9b28-48e2-a157-bfba1a294acf\",\"type\":\"LinearScale\"}},\"id\":\"d68c7b54-9c2e-41c1-b56e-7d2ce873eead\",\"subtype\":\"Figure\",\"type\":\"Plot\"},{\"attributes\":{},\"id\":\"38da04a7-5e5f-40ae-b4d2-e6207f26c085\",\"type\":\"LinearScale\"},{\"attributes\":{},\"id\":\"e64b53a7-48f5-4bad-9624-c1b3a641918b\",\"type\":\"HelpTool\"},{\"attributes\":{},\"id\":\"b677f67e-1a78-47c1-bfe7-475d86695879\",\"type\":\"ResetTool\"},{\"attributes\":{},\"id\":\"c7509ad1-eb7c-4973-bb85-f0a523e7d95a\",\"type\":\"WheelZoomTool\"},{\"attributes\":{},\"id\":\"481336e8-fbe5-4d0d-b55d-a63733e1c43e\",\"type\":\"BasicTickFormatter\"},{\"attributes\":{\"callback\":null,\"column_names\":[\"image\",\"x\",\"y\",\"dw\",\"dh\"],\"data\":{\"dh\":[10],\"dw\":[10],\"image\":[{\"__ndarray__\":\"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\",\"dtype\":\"int32\",\"shape\":[20,20]}],\"x\":[0],\"y\":[0]}},\"id\":\"a09ef316-2450-4e18-85ce-75b8fcd63ce8\",\"type\":\"ColumnDataSource\"},{\"attributes\":{\"data_source\":{\"id\":\"a09ef316-2450-4e18-85ce-75b8fcd63ce8\",\"type\":\"ColumnDataSource\"},\"glyph\":{\"id\":\"a3174b79-905d-44cf-9ac6-94309f3b7f46\",\"type\":\"ImageRGBA\"},\"hover_glyph\":null,\"muted_glyph\":null,\"nonselection_glyph\":{\"id\":\"e57e2848-a52b-461f-b04f-20eee922dccb\",\"type\":\"ImageRGBA\"},\"selection_glyph\":null,\"view\":{\"id\":\"94751a9e-8d29-49b2-996c-9bcd876bb55d\",\"type\":\"CDSView\"}},\"id\":\"f2c3ad0e-1ed0-4ec0-8ad0-e03f40d3017f\",\"type\":\"GlyphRenderer\"}],\"root_ids\":[\"d68c7b54-9c2e-41c1-b56e-7d2ce873eead\"]},\"title\":\"Bokeh Application\",\"version\":\"0.12.13\"}};\n",
       "  var render_items = [{\"docid\":\"604e6461-da78-4209-a889-87ac52c043f8\",\"elementid\":\"f6389ec3-3e5c-4c4f-8735-94b9fb99d9d6\",\"modelid\":\"d68c7b54-9c2e-41c1-b56e-7d2ce873eead\"}];\n",
       "  root.Bokeh.embed.embed_items_notebook(docs_json, render_items);\n",
       "\n",
       "  }\n",
       "  if (root.Bokeh !== undefined) {\n",
       "    embed_document(root);\n",
       "  } else {\n",
       "    var attempts = 0;\n",
       "    var timer = setInterval(function(root) {\n",
       "      if (root.Bokeh !== undefined) {\n",
       "        embed_document(root);\n",
       "        clearInterval(timer);\n",
       "      }\n",
       "      attempts++;\n",
       "      if (attempts > 100) {\n",
       "        console.log(\"Bokeh: ERROR: Unable to run BokehJS code because BokehJS library is missing\")\n",
       "        clearInterval(timer);\n",
       "      }\n",
       "    }, 10, root)\n",
       "  }\n",
       "})(window);"
      ],
      "application/vnd.bokehjs_exec.v0+json": ""
     },
     "metadata": {
      "application/vnd.bokehjs_exec.v0+json": {
       "id": "d68c7b54-9c2e-41c1-b56e-7d2ce873eead"
      }
     },
     "output_type": "display_data"
    }
   ],
   "source": [
    "import numpy as np\n",
    "from numba import jit\n",
    "\n",
    "@jit\n",
    "def calculate_pixels(img, N):\n",
    "    for i in range(N):\n",
    "        for j in range(N):\n",
    "            img[i,j,0] = int(i/N*255)\n",
    "            img[i,j,2] = int(j/N*255)\n",
    "    return img\n",
    "\n",
    "\n",
    "N = 20\n",
    "img = np.empty((N,N), dtype=np.int32)\n",
    "view = img.view(dtype=np.uint8).reshape(N,N,4)\n",
    "view[:,:,1] = 158\n",
    "view[:,:,3] = 255\n",
    "view = calculate_pixels(view, N)\n",
    "\n",
    "p = figure(x_range=[0,10], y_range=[0,10], plot_height=300)\n",
    "p.image_rgba(image=[img], x=[0], y=[0], dw=[10], dh=[10])\n",
    "show(p)"
   ]
  },
  {
   "cell_type": "code",
   "execution_count": null,
   "metadata": {
    "collapsed": true
   },
   "outputs": [],
   "source": []
  }
 ],
 "metadata": {
  "kernelspec": {
   "display_name": "Python 3",
   "language": "python",
   "name": "python3"
  },
  "language_info": {
   "codemirror_mode": {
    "name": "ipython",
    "version": 3
   },
   "file_extension": ".py",
   "mimetype": "text/x-python",
   "name": "python",
   "nbconvert_exporter": "python",
   "pygments_lexer": "ipython3",
   "version": "3.6.3"
  }
 },
 "nbformat": 4,
 "nbformat_minor": 2
}
