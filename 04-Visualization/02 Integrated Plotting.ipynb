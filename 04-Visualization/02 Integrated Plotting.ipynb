{
 "cells": [
  {
   "cell_type": "markdown",
   "metadata": {
    "collapsed": true
   },
   "source": [
    "# 2. Integrated Plotting\n",
    "\n",
    "We've shown some plotting methods using Matplotlib. Matplotlib is a low-level library that enables versatile output, but now we are going to look at some high-level plotting library methods:\n",
    "\n",
    "- Pandas.plotting\n",
    "- Seaborn\n",
    "\n",
    "Both *Pandas.plotting* and *Seaborn* work directly with relational tables (such as Pandas) to automatically set axis labels etc."
   ]
  },
  {
   "cell_type": "code",
   "execution_count": null,
   "metadata": {
    "collapsed": true
   },
   "outputs": [],
   "source": [
    "import matplotlib.pyplot as plt\n",
    "import numpy as np\n",
    "import pandas as pd\n",
    "%matplotlib inline"
   ]
  },
  {
   "cell_type": "markdown",
   "metadata": {},
   "source": [
    "## Pandas.plotting\n",
    "\n",
    "Pandas associates itself with Matplotlib directly through the .plot() pointer. Thus we can plot data directly from a Dataframe using the appropriate column names:"
   ]
  },
  {
   "cell_type": "code",
   "execution_count": null,
   "metadata": {},
   "outputs": [],
   "source": [
    "var = pd.DataFrame({'normal': np.random.normal(size=100),\n",
    "                    'gamma': np.random.gamma(1, size=100),\n",
    "                    'poisson': np.random.poisson(size=100)})\n",
    "var.cumsum(0).plot()"
   ]
  },
  {
   "cell_type": "markdown",
   "metadata": {},
   "source": [
    "Here we can see that each column is being plotted by *default* as a line."
   ]
  },
  {
   "cell_type": "code",
   "execution_count": null,
   "metadata": {},
   "outputs": [],
   "source": [
    "var.cumsum(0).plot(subplots=True, grid=True)"
   ]
  },
  {
   "cell_type": "markdown",
   "metadata": {},
   "source": [
    "We may want to have some series displayed on the secondary y-axis, which can allow for greater detail and less empty space:"
   ]
  },
  {
   "cell_type": "code",
   "execution_count": null,
   "metadata": {},
   "outputs": [],
   "source": [
    "var.cumsum(0).plot(secondary_y=\"normal\", grid=True)"
   ]
  },
  {
   "cell_type": "markdown",
   "metadata": {},
   "source": [
    "Let's use an example from one of our relational tables: Titanic."
   ]
  },
  {
   "cell_type": "code",
   "execution_count": null,
   "metadata": {
    "collapsed": true
   },
   "outputs": [],
   "source": [
    "titanic = pd.read_excel(\"../2. Python Data Handling - Pandas and Networkx/titanic.xlsx\")"
   ]
  },
  {
   "cell_type": "markdown",
   "metadata": {},
   "source": [
    "Here we use .groupby() to sum all the passengers by 1st...3rd class. This then forms a series which is directly plotted using .bar() extension."
   ]
  },
  {
   "cell_type": "code",
   "execution_count": null,
   "metadata": {},
   "outputs": [],
   "source": [
    "titanic.groupby(\"Pclass\").Survived.sum().plot.bar()"
   ]
  },
  {
   "cell_type": "code",
   "execution_count": null,
   "metadata": {},
   "outputs": [],
   "source": [
    "titanic.groupby([\"Sex\",\"Pclass\"]).Survived.sum().plot.barh()"
   ]
  },
  {
   "cell_type": "markdown",
   "metadata": {},
   "source": [
    "Here we use **crosstab** to add up individuals by *class* and *sex* whether they survived."
   ]
  },
  {
   "cell_type": "code",
   "execution_count": null,
   "metadata": {},
   "outputs": [],
   "source": [
    "death_counts = pd.crosstab([titanic.Pclass, titanic.Sex], titanic.Survived.astype(bool))\n",
    "death_counts.plot.bar(stacked=True, color=['black','gold'], grid=True)"
   ]
  },
  {
   "cell_type": "markdown",
   "metadata": {},
   "source": [
    "Here we scale by the total per group to calculate the *proportion* of individuals per group."
   ]
  },
  {
   "cell_type": "code",
   "execution_count": null,
   "metadata": {},
   "outputs": [],
   "source": [
    "death_counts.div(death_counts.sum(1).astype(float), 0).plot.barh(stacked=True, color=['black','gold'], grid=True)"
   ]
  },
  {
   "cell_type": "code",
   "execution_count": null,
   "metadata": {},
   "outputs": [],
   "source": [
    "titanic.Fare.hist(bins=20)"
   ]
  },
  {
   "cell_type": "code",
   "execution_count": null,
   "metadata": {
    "collapsed": true
   },
   "outputs": [],
   "source": [
    "from scipy.stats import kurtosis\n",
    "# create optimum bins.\n",
    "doanes = lambda data: int(1 + np.log(len(data)) + np.log(1 + kurtosis(data) * (len(data) / 6.) ** 0.5))"
   ]
  },
  {
   "cell_type": "markdown",
   "metadata": {},
   "source": [
    "We can create a raw *fig* and *axes* object using Matplotlib and then reference the *ax* object in the Pandas Dataframe:"
   ]
  },
  {
   "cell_type": "code",
   "execution_count": null,
   "metadata": {},
   "outputs": [],
   "source": [
    "fig,ax=plt.subplots()\n",
    "# we normalise the distribution to match the KDE.\n",
    "titanic.Fare.hist(bins=doanes(titanic.Fare.dropna()), ax=ax, normed=True, color='lightseagreen')\n",
    "titanic.Fare.dropna().plot.kde(xlim=(0,600), style='r--')"
   ]
  },
  {
   "cell_type": "code",
   "execution_count": null,
   "metadata": {},
   "outputs": [],
   "source": [
    "titanic.boxplot(\"Fare\", \"Pclass\", grid=False)"
   ]
  },
  {
   "cell_type": "markdown",
   "metadata": {},
   "source": [
    "For scatterplots, the x and y axis must be specified as columns:"
   ]
  },
  {
   "cell_type": "code",
   "execution_count": null,
   "metadata": {
    "collapsed": true
   },
   "outputs": [],
   "source": [
    "wine = pd.read_table(\"../2. Python Data Handling - Pandas and Networkx/wine.dat\", sep=\"\\s+\")\n",
    "attributes = ['Grape','Alcohol','Malic acid','Ash','Alcalinity of ash','Magnesium','Total phenols',\n",
    "            'Flavanoids','Nonflavanoid phenols','Proanthocyanins','Color intensity','Hue',\n",
    "            'OD280/OD315 of diluted wines','Proline']\n",
    "wine.columns = attributes"
   ]
  },
  {
   "cell_type": "code",
   "execution_count": null,
   "metadata": {},
   "outputs": [],
   "source": [
    "wine.plot.scatter(\"Color intensity\", \"Hue\")"
   ]
  },
  {
   "cell_type": "markdown",
   "metadata": {},
   "source": [
    "We could assign scatter point size using another column:"
   ]
  },
  {
   "cell_type": "code",
   "execution_count": null,
   "metadata": {},
   "outputs": [],
   "source": [
    "wine.plot.scatter(\"Color intensity\", \"Hue\", s=wine.Alcohol*100, alpha=.5)"
   ]
  },
  {
   "cell_type": "code",
   "execution_count": null,
   "metadata": {},
   "outputs": [],
   "source": [
    "wine.plot.scatter(\"Color intensity\", \"Hue\", c=\"Grape\")"
   ]
  },
  {
   "cell_type": "markdown",
   "metadata": {},
   "source": [
    "Pandas provides a convenience method to plot the pairwise scatter plots for all variables concerned, with the diagonal\n",
    "(variance) being a histogram by default or optionally KDE."
   ]
  },
  {
   "cell_type": "code",
   "execution_count": null,
   "metadata": {},
   "outputs": [],
   "source": [
    "_ = pd.scatter_matrix(wine.iloc[:,1:6], figsize=(12,12), diagonal='kde')"
   ]
  },
  {
   "cell_type": "markdown",
   "metadata": {},
   "source": [
    "## Task\n",
    "\n",
    "Using the Titanic dataset, create a KDE estimate plot of the age distributions of survivors and victims."
   ]
  },
  {
   "cell_type": "code",
   "execution_count": null,
   "metadata": {},
   "outputs": [],
   "source": [
    "# your codes here"
   ]
  },
  {
   "cell_type": "markdown",
   "metadata": {},
   "source": [
    "## Advanced Pandas.plotting\n",
    "\n",
    "Here we will consider plotting non-traditional plotting techniques that Pandas can provide:\n",
    "\n",
    "For instance, when we want to visualise a large number of continuous points, say in a timeseries or for a few columns, the parallel_coordinates function is particularly useful:"
   ]
  },
  {
   "cell_type": "code",
   "execution_count": null,
   "metadata": {},
   "outputs": [],
   "source": [
    "from sklearn.datasets import load_iris\n",
    "iris = load_iris()\n",
    "iris_df = pd.concat([pd.DataFrame(iris['data'], columns=iris['feature_names']),\n",
    "           pd.DataFrame(iris['target'], columns=[\"Species\"]).replace(dict(zip([0, 1, 2], iris.target_names)))], axis=1)\n",
    "from pandas.plotting import parallel_coordinates\n",
    "fig = plt.figure(figsize=(10,6))\n",
    "parallel_coordinates(iris_df, \"Species\")"
   ]
  },
  {
   "cell_type": "markdown",
   "metadata": {},
   "source": [
    "Alternatively we can plot them in aggregate by species, using *Andrews curves*, which works similarly to KDE plot:"
   ]
  },
  {
   "cell_type": "code",
   "execution_count": null,
   "metadata": {},
   "outputs": [],
   "source": [
    "from pandas.plotting import andrews_curves\n",
    "fig = plt.figure(figsize=(8,6))\n",
    "andrews_curves(iris_df, \"Species\")"
   ]
  },
  {
   "cell_type": "markdown",
   "metadata": {},
   "source": [
    "*Bootstrapping* is a common practice to visually assess the uncertainty of a statistic, such a mean, median, midrange etc. A random subset of specified size is selected from a data set, the statistic in question is computed for this subset and the process is repeated $n$ times."
   ]
  },
  {
   "cell_type": "code",
   "execution_count": null,
   "metadata": {},
   "outputs": [],
   "source": [
    "data = pd.Series(np.random.randn(10000))\n",
    "from pandas.plotting import bootstrap_plot\n",
    "fig = plt.figure(figsize=(14,8))\n",
    "bootstrap_plot(data, size=100, samples=1000, fig=fig, color='lightseagreen')\n",
    "plt.show()"
   ]
  },
  {
   "cell_type": "markdown",
   "metadata": {},
   "source": [
    "## Seaborn\n",
    "\n",
    "In Python there are many libraries to use for plotting, most of which are built on top of Matplotlib. One of the most commonly used libraries is *Seaborn*.\n",
    "\n",
    "Matplotlib as a package is very powerful, but a relatively **low-level** plotting library that makes very few assumptions about what constitutes good layout by design, but has tonnes of flexibility to allow the user to completely customize the look of the output.\n",
    "\n",
    "Seaborn, on the other hand, makes **high-level** assumptions about good layout and design, which allows users to generate publication-quality visualizations in an automated way."
   ]
  },
  {
   "cell_type": "code",
   "execution_count": null,
   "metadata": {
    "collapsed": true
   },
   "outputs": [],
   "source": [
    "import seaborn as sns\n",
    "sns.set_context(\"notebook\")"
   ]
  },
  {
   "cell_type": "markdown",
   "metadata": {},
   "source": [
    "For instances in Pandas plotting we would:"
   ]
  },
  {
   "cell_type": "code",
   "execution_count": null,
   "metadata": {},
   "outputs": [],
   "source": [
    "normals = pd.Series(np.random.randn(50))\n",
    "normals.cumsum().plot()"
   ]
  },
  {
   "cell_type": "markdown",
   "metadata": {},
   "source": [
    "**Seaborn's** high level interace makes it easy to visually explore data, by iterating through different plot types and layouts. Seaborn can immediately improve existing Matplotlib plots through plot styles:"
   ]
  },
  {
   "cell_type": "code",
   "execution_count": null,
   "metadata": {},
   "outputs": [],
   "source": [
    "sns.set_style(\"whitegrid\")\n",
    "\n",
    "normals.cumsum().plot()"
   ]
  },
  {
   "cell_type": "code",
   "execution_count": null,
   "metadata": {},
   "outputs": [],
   "source": [
    "titanic = pd.read_excel(\"../2. Python Data Handling - Pandas and Networkx/titanic.xlsx\")\n",
    "sns.boxplot(x=\"Pclass\", y=\"Age\", data=titanic, order=['1st class', '2nd class', '3rd class'])"
   ]
  },
  {
   "cell_type": "markdown",
   "metadata": {},
   "source": [
    "We can remove edges with despine():"
   ]
  },
  {
   "cell_type": "code",
   "execution_count": null,
   "metadata": {},
   "outputs": [],
   "source": [
    "sns.boxplot(x=\"Pclass\", y=\"Age\", data=titanic, order=['1st class', '2nd class', '3rd class'])\n",
    "sns.despine()"
   ]
  },
  {
   "cell_type": "markdown",
   "metadata": {},
   "source": [
    "Seaborn also gives us aesthetic paramters to control the *scale* of plot elements. There are 4 defaults:\n",
    "* paper\n",
    "* notebook\n",
    "* talk\n",
    "* poster\n",
    "\n",
    "The default is *notebook*, which is optimized for Jupyter notebooks. We can change the scalign with set_context():"
   ]
  },
  {
   "cell_type": "code",
   "execution_count": null,
   "metadata": {},
   "outputs": [],
   "source": [
    "sns.set_context(\"poster\")\n",
    "sns.boxplot(x=\"Pclass\", y=\"Age\", data=titanic, order=['1st class', '2nd class', '3rd class'])"
   ]
  },
  {
   "cell_type": "markdown",
   "metadata": {},
   "source": [
    "Detailed setting are available in plotting.context:"
   ]
  },
  {
   "cell_type": "code",
   "execution_count": null,
   "metadata": {},
   "outputs": [],
   "source": [
    "sns.plotting_context()"
   ]
  },
  {
   "cell_type": "code",
   "execution_count": null,
   "metadata": {},
   "outputs": [],
   "source": [
    "dfx = pd.DataFrame(np.random.normal(2.0, 1.0, size=(100,2)), columns=['x','y'])\n",
    "fig,ax=plt.subplots(ncols=2, figsize=(12,4))\n",
    "sns.kdeplot(dfx.x, dfx.y, ax=ax[1], shade=True)\n",
    "sns.kdeplot(dfx.x, ax=ax[0])"
   ]
  },
  {
   "cell_type": "code",
   "execution_count": null,
   "metadata": {},
   "outputs": [],
   "source": [
    "sns.distplot(dfx.y)"
   ]
  },
  {
   "cell_type": "markdown",
   "metadata": {},
   "source": [
    "A jointplot will generate a shaded joint KDE, with marginal KDEs for each of the two variables."
   ]
  },
  {
   "cell_type": "code",
   "execution_count": null,
   "metadata": {},
   "outputs": [],
   "source": [
    "with sns.axes_style(\"dark\"):\n",
    "    sns.jointplot(\"x\", \"y\", dfx, kind='kde')"
   ]
  },
  {
   "cell_type": "code",
   "execution_count": null,
   "metadata": {},
   "outputs": [],
   "source": [
    "sns.axes_style()"
   ]
  },
  {
   "cell_type": "markdown",
   "metadata": {},
   "source": [
    "To explore correlations between several continuous variables, *pairplot()* generates pairwise plots with histograms/KDEs on the diagonal, with customizability:"
   ]
  },
  {
   "cell_type": "code",
   "execution_count": null,
   "metadata": {},
   "outputs": [],
   "source": [
    "titanic.Pclass.replace({'1st class': 1, '2nd class': 2, '3rd class': 3}, inplace=True)\n",
    "sns.pairplot(titanic.dropna(), vars=['Age', 'Fare', 'Pclass'], hue='Survived', markers='+', palette=\"muted\")"
   ]
  },
  {
   "cell_type": "markdown",
   "metadata": {},
   "source": [
    "### Plotting Small Multiples on Data-aware Grids\n",
    "\n",
    "Pairplot above is an example of replicating the same visualisation on subsets of a particular dataset. This enables an easy comparison between groups. \n",
    "\n",
    "We can generate plots in Seaborn using *data-aware grids*, provided that the DataFrame is structured appropriately in *long-form*, such that the variables are columns and the observations are rows. One of the tools for this is *FacetGrid*:"
   ]
  },
  {
   "cell_type": "code",
   "execution_count": null,
   "metadata": {},
   "outputs": [],
   "source": [
    "sns.set_context(\"notebook\")\n",
    "sns.FacetGrid(titanic, col=\"Pclass\", row=\"Sex\")"
   ]
  },
  {
   "cell_type": "markdown",
   "metadata": {},
   "source": [
    "You can then assign a third variable to be plotted in each grid cell, according to the plot type passed, for instance a distplot will generate both a histogram and KDE for age, according to sex/class combinations, using color to separate those whom survived or not:"
   ]
  },
  {
   "cell_type": "code",
   "execution_count": null,
   "metadata": {},
   "outputs": [],
   "source": [
    "g = sns.FacetGrid(titanic, col=\"Pclass\", row=\"Sex\", hue=\"Survived\", legend_out=True)\n",
    "g.map(sns.distplot, \"Age\")"
   ]
  },
  {
   "cell_type": "code",
   "execution_count": null,
   "metadata": {
    "collapsed": true
   },
   "outputs": [],
   "source": [
    "cdystonia = pd.read_csv(\"../2. Python Data Handling - Pandas and Networkx/cdystonia.csv\")"
   ]
  },
  {
   "cell_type": "markdown",
   "metadata": {},
   "source": [
    "We can do things like *wrap* long column data if it is in a time series, such as this:"
   ]
  },
  {
   "cell_type": "code",
   "execution_count": null,
   "metadata": {},
   "outputs": [],
   "source": [
    "g = sns.FacetGrid(cdystonia[cdystonia.patient <= 8], col=\"patient\", col_wrap=4)\n",
    "g.map(sns.pointplot, \"week\", \"twstrs\", color=\"0.5\")"
   ]
  },
  {
   "cell_type": "markdown",
   "metadata": {},
   "source": [
    "We can specify the order of column elements with an order=[] set:"
   ]
  },
  {
   "cell_type": "code",
   "execution_count": null,
   "metadata": {},
   "outputs": [],
   "source": [
    "g = sns.FacetGrid(cdystonia, col=\"treat\", col_order=['Placebo',\"5000U\",\"10000U\"])\n",
    "g.map(sns.pointplot, \"week\", \"twstrs\", color=\"r\")"
   ]
  },
  {
   "cell_type": "code",
   "execution_count": null,
   "metadata": {},
   "outputs": [],
   "source": [
    "from scipy.stats import norm\n",
    "sns.set_context(\"notebook\")\n",
    "g = sns.FacetGrid(cdystonia, row='treat', col='week')\n",
    "g.map(sns.distplot, 'twstrs', kde=False, fit=norm)"
   ]
  },
  {
   "cell_type": "code",
   "execution_count": null,
   "metadata": {},
   "outputs": [],
   "source": [
    "g = sns.FacetGrid(cdystonia, col=\"week\", row=\"treat\", hue=\"sex\")\n",
    "g.map(sns.regplot, \"age\", \"twstrs\")"
   ]
  },
  {
   "cell_type": "markdown",
   "metadata": {},
   "source": [
    "We can achieve a similar thing specifically for *categorical variables* using Seaborn' *factorplot* function, where we break our data down into 3 dimensions using $x$, $y$ and $hue$:"
   ]
  },
  {
   "cell_type": "code",
   "execution_count": null,
   "metadata": {},
   "outputs": [],
   "source": [
    "g = sns.factorplot(x=\"Pclass\", y=\"Survived\", hue=\"Sex\", data=titanic, size=6, kind='bar')"
   ]
  },
  {
   "cell_type": "markdown",
   "metadata": {},
   "source": [
    "We can continue to grow the plot by breaking down into higher dimensions using colour, row and column:"
   ]
  },
  {
   "cell_type": "code",
   "execution_count": null,
   "metadata": {},
   "outputs": [],
   "source": [
    "sns.factorplot(x=\"n_siblings\", y=\"Age\", col=\"Pclass\", row=\"Sex\", hue=\"Survived\", data=titanic, kind='bar')"
   ]
  },
  {
   "cell_type": "markdown",
   "metadata": {},
   "source": [
    "Seaborn also happens to make some of the easiest heatmaps (in my opinion):"
   ]
  },
  {
   "cell_type": "code",
   "execution_count": null,
   "metadata": {},
   "outputs": [],
   "source": [
    "fig,ax=plt.subplots(figsize=(4,8))\n",
    "_ = sns.heatmap(cdystonia.pivot_table(index=['patient'], columns=\"week\", values=\"twstrs\"), linewidths=.05, ax=ax)"
   ]
  },
  {
   "cell_type": "markdown",
   "metadata": {},
   "source": [
    "We can discover structures through clustering these values in a *clustermap*:"
   ]
  },
  {
   "cell_type": "code",
   "execution_count": null,
   "metadata": {},
   "outputs": [],
   "source": [
    "g = sns.clustermap(cdystonia.pivot_table(index=['patient'], columns=\"week\", values=\"twstrs\").dropna(), cmap=\"summer\")"
   ]
  }
 ],
 "metadata": {
  "kernelspec": {
   "display_name": "Python 3",
   "language": "python",
   "name": "python3"
  },
  "language_info": {
   "codemirror_mode": {
    "name": "ipython",
    "version": 3
   },
   "file_extension": ".py",
   "mimetype": "text/x-python",
   "name": "python",
   "nbconvert_exporter": "python",
   "pygments_lexer": "ipython3",
   "version": "3.6.3"
  }
 },
 "nbformat": 4,
 "nbformat_minor": 2
}
